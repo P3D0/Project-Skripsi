{
 "cells": [
  {
   "cell_type": "code",
   "execution_count": null,
   "metadata": {
    "colab": {
     "base_uri": "https://localhost:8080/"
    },
    "id": "MnZxdn2yDJxK",
    "outputId": "2d7bb317-ff03-4eae-a628-b6f7d99be134"
   },
   "outputs": [
    {
     "name": "stdout",
     "output_type": "stream",
     "text": [
      "2.8.0\n"
     ]
    }
   ],
   "source": [
    "import tensorflow\n",
    "print(tensorflow.__version__)"
   ]
  },
  {
   "cell_type": "code",
   "execution_count": null,
   "metadata": {
    "colab": {
     "base_uri": "https://localhost:8080/",
     "height": 1000
    },
    "id": "D81lSutuDKBO",
    "outputId": "6deb4bb5-5091-4fb9-894f-f477139203f8"
   },
   "outputs": [
    {
     "name": "stdout",
     "output_type": "stream",
     "text": [
      "Looking in indexes: https://pypi.org/simple, https://us-python.pkg.dev/colab-wheels/public/simple/\n",
      "Collecting tensorflow==2.8.0\n",
      "  Downloading https://us-python.pkg.dev/colab-wheels/public/tensorflow/tensorflow-2.8.0%2Bzzzcolab20220506162203-cp37-cp37m-linux_x86_64.whl\n",
      "\u001b[K     / 668.3 MB 129.3 MB/s\n",
      "\u001b[?25hRequirement already satisfied: keras-preprocessing>=1.1.1 in /usr/local/lib/python3.7/dist-packages (from tensorflow==2.8.0) (1.1.2)\n",
      "Requirement already satisfied: google-pasta>=0.1.1 in /usr/local/lib/python3.7/dist-packages (from tensorflow==2.8.0) (0.2.0)\n",
      "Requirement already satisfied: flatbuffers>=1.12 in /usr/local/lib/python3.7/dist-packages (from tensorflow==2.8.0) (2.0)\n",
      "Requirement already satisfied: opt-einsum>=2.3.2 in /usr/local/lib/python3.7/dist-packages (from tensorflow==2.8.0) (3.3.0)\n",
      "Requirement already satisfied: h5py>=2.9.0 in /usr/local/lib/python3.7/dist-packages (from tensorflow==2.8.0) (3.1.0)\n",
      "Requirement already satisfied: absl-py>=0.4.0 in /usr/local/lib/python3.7/dist-packages (from tensorflow==2.8.0) (1.1.0)\n",
      "Requirement already satisfied: astunparse>=1.6.0 in /usr/local/lib/python3.7/dist-packages (from tensorflow==2.8.0) (1.6.3)\n",
      "Requirement already satisfied: setuptools in /usr/local/lib/python3.7/dist-packages (from tensorflow==2.8.0) (57.4.0)\n",
      "Requirement already satisfied: tensorflow-io-gcs-filesystem>=0.23.1 in /usr/local/lib/python3.7/dist-packages (from tensorflow==2.8.0) (0.26.0)\n",
      "Requirement already satisfied: typing-extensions>=3.6.6 in /usr/local/lib/python3.7/dist-packages (from tensorflow==2.8.0) (4.1.1)\n",
      "Requirement already satisfied: wrapt>=1.11.0 in /usr/local/lib/python3.7/dist-packages (from tensorflow==2.8.0) (1.14.1)\n",
      "Requirement already satisfied: six>=1.12.0 in /usr/local/lib/python3.7/dist-packages (from tensorflow==2.8.0) (1.15.0)\n",
      "Requirement already satisfied: tensorboard<2.9,>=2.8 in /usr/local/lib/python3.7/dist-packages (from tensorflow==2.8.0) (2.8.0)\n",
      "Requirement already satisfied: keras<2.9,>=2.8.0rc0 in /usr/local/lib/python3.7/dist-packages (from tensorflow==2.8.0) (2.8.0)\n",
      "Requirement already satisfied: numpy>=1.20 in /usr/local/lib/python3.7/dist-packages (from tensorflow==2.8.0) (1.21.6)\n",
      "Requirement already satisfied: libclang>=9.0.1 in /usr/local/lib/python3.7/dist-packages (from tensorflow==2.8.0) (14.0.1)\n",
      "Requirement already satisfied: gast>=0.2.1 in /usr/local/lib/python3.7/dist-packages (from tensorflow==2.8.0) (0.5.3)\n",
      "Collecting tf-estimator-nightly==2.8.0.dev2021122109\n",
      "  Downloading tf_estimator_nightly-2.8.0.dev2021122109-py2.py3-none-any.whl (462 kB)\n",
      "\u001b[K     |████████████████████████████████| 462 kB 4.8 MB/s \n",
      "\u001b[?25hRequirement already satisfied: protobuf>=3.9.2 in /usr/local/lib/python3.7/dist-packages (from tensorflow==2.8.0) (3.17.3)\n",
      "Requirement already satisfied: grpcio<2.0,>=1.24.3 in /usr/local/lib/python3.7/dist-packages (from tensorflow==2.8.0) (1.46.3)\n",
      "Requirement already satisfied: termcolor>=1.1.0 in /usr/local/lib/python3.7/dist-packages (from tensorflow==2.8.0) (1.1.0)\n",
      "Requirement already satisfied: wheel<1.0,>=0.23.0 in /usr/local/lib/python3.7/dist-packages (from astunparse>=1.6.0->tensorflow==2.8.0) (0.37.1)\n",
      "Requirement already satisfied: cached-property in /usr/local/lib/python3.7/dist-packages (from h5py>=2.9.0->tensorflow==2.8.0) (1.5.2)\n",
      "Requirement already satisfied: tensorboard-plugin-wit>=1.6.0 in /usr/local/lib/python3.7/dist-packages (from tensorboard<2.9,>=2.8->tensorflow==2.8.0) (1.8.1)\n",
      "Requirement already satisfied: markdown>=2.6.8 in /usr/local/lib/python3.7/dist-packages (from tensorboard<2.9,>=2.8->tensorflow==2.8.0) (3.3.7)\n",
      "Requirement already satisfied: requests<3,>=2.21.0 in /usr/local/lib/python3.7/dist-packages (from tensorboard<2.9,>=2.8->tensorflow==2.8.0) (2.23.0)\n",
      "Requirement already satisfied: tensorboard-data-server<0.7.0,>=0.6.0 in /usr/local/lib/python3.7/dist-packages (from tensorboard<2.9,>=2.8->tensorflow==2.8.0) (0.6.1)\n",
      "Requirement already satisfied: google-auth-oauthlib<0.5,>=0.4.1 in /usr/local/lib/python3.7/dist-packages (from tensorboard<2.9,>=2.8->tensorflow==2.8.0) (0.4.6)\n",
      "Requirement already satisfied: google-auth<3,>=1.6.3 in /usr/local/lib/python3.7/dist-packages (from tensorboard<2.9,>=2.8->tensorflow==2.8.0) (1.35.0)\n",
      "Requirement already satisfied: werkzeug>=0.11.15 in /usr/local/lib/python3.7/dist-packages (from tensorboard<2.9,>=2.8->tensorflow==2.8.0) (1.0.1)\n",
      "Requirement already satisfied: pyasn1-modules>=0.2.1 in /usr/local/lib/python3.7/dist-packages (from google-auth<3,>=1.6.3->tensorboard<2.9,>=2.8->tensorflow==2.8.0) (0.2.8)\n",
      "Requirement already satisfied: rsa<5,>=3.1.4 in /usr/local/lib/python3.7/dist-packages (from google-auth<3,>=1.6.3->tensorboard<2.9,>=2.8->tensorflow==2.8.0) (4.8)\n",
      "Requirement already satisfied: cachetools<5.0,>=2.0.0 in /usr/local/lib/python3.7/dist-packages (from google-auth<3,>=1.6.3->tensorboard<2.9,>=2.8->tensorflow==2.8.0) (4.2.4)\n",
      "Requirement already satisfied: requests-oauthlib>=0.7.0 in /usr/local/lib/python3.7/dist-packages (from google-auth-oauthlib<0.5,>=0.4.1->tensorboard<2.9,>=2.8->tensorflow==2.8.0) (1.3.1)\n",
      "Requirement already satisfied: importlib-metadata>=4.4 in /usr/local/lib/python3.7/dist-packages (from markdown>=2.6.8->tensorboard<2.9,>=2.8->tensorflow==2.8.0) (4.11.4)\n",
      "Requirement already satisfied: zipp>=0.5 in /usr/local/lib/python3.7/dist-packages (from importlib-metadata>=4.4->markdown>=2.6.8->tensorboard<2.9,>=2.8->tensorflow==2.8.0) (3.8.0)\n",
      "Requirement already satisfied: pyasn1<0.5.0,>=0.4.6 in /usr/local/lib/python3.7/dist-packages (from pyasn1-modules>=0.2.1->google-auth<3,>=1.6.3->tensorboard<2.9,>=2.8->tensorflow==2.8.0) (0.4.8)\n",
      "Requirement already satisfied: urllib3!=1.25.0,!=1.25.1,<1.26,>=1.21.1 in /usr/local/lib/python3.7/dist-packages (from requests<3,>=2.21.0->tensorboard<2.9,>=2.8->tensorflow==2.8.0) (1.24.3)\n",
      "Requirement already satisfied: chardet<4,>=3.0.2 in /usr/local/lib/python3.7/dist-packages (from requests<3,>=2.21.0->tensorboard<2.9,>=2.8->tensorflow==2.8.0) (3.0.4)\n",
      "Requirement already satisfied: idna<3,>=2.5 in /usr/local/lib/python3.7/dist-packages (from requests<3,>=2.21.0->tensorboard<2.9,>=2.8->tensorflow==2.8.0) (2.10)\n",
      "Requirement already satisfied: certifi>=2017.4.17 in /usr/local/lib/python3.7/dist-packages (from requests<3,>=2.21.0->tensorboard<2.9,>=2.8->tensorflow==2.8.0) (2022.6.15)\n",
      "Requirement already satisfied: oauthlib>=3.0.0 in /usr/local/lib/python3.7/dist-packages (from requests-oauthlib>=0.7.0->google-auth-oauthlib<0.5,>=0.4.1->tensorboard<2.9,>=2.8->tensorflow==2.8.0) (3.2.0)\n",
      "Installing collected packages: tf-estimator-nightly, tensorflow\n",
      "  Attempting uninstall: tensorflow\n",
      "    Found existing installation: tensorflow 2.8.2+zzzcolab20220527125636\n",
      "    Uninstalling tensorflow-2.8.2+zzzcolab20220527125636:\n",
      "      Successfully uninstalled tensorflow-2.8.2+zzzcolab20220527125636\n",
      "Successfully installed tensorflow-2.8.0+zzzcolab20220506162203 tf-estimator-nightly-2.8.0.dev2021122109\n"
     ]
    },
    {
     "data": {
      "application/vnd.colab-display-data+json": {
       "pip_warning": {
        "packages": [
         "tensorflow"
        ]
       }
      }
     },
     "metadata": {},
     "output_type": "display_data"
    }
   ],
   "source": [
    "!pip install tensorflow==2.8.0"
   ]
  },
  {
   "cell_type": "code",
   "execution_count": null,
   "metadata": {
    "colab": {
     "base_uri": "https://localhost:8080/"
    },
    "id": "HHLvCmCZDRs1",
    "outputId": "d1a2bee4-7a28-4a3d-dcea-592a4d237cda"
   },
   "outputs": [
    {
     "name": "stdout",
     "output_type": "stream",
     "text": [
      "2.8.2\n"
     ]
    }
   ],
   "source": [
    "import tensorflow\n",
    "print(tensorflow.__version__)"
   ]
  },
  {
   "cell_type": "code",
   "execution_count": null,
   "metadata": {
    "colab": {
     "base_uri": "https://localhost:8080/",
     "height": 206
    },
    "id": "QJo4MCu3DVwU",
    "outputId": "40762bcc-f531-4051-b8fa-3d14cc6edd51"
   },
   "outputs": [
    {
     "data": {
      "text/html": [
       "\n",
       "  <div id=\"df-86f19408-212d-4107-b799-671a0e0e8c03\">\n",
       "    <div class=\"colab-df-container\">\n",
       "      <div>\n",
       "<style scoped>\n",
       "    .dataframe tbody tr th:only-of-type {\n",
       "        vertical-align: middle;\n",
       "    }\n",
       "\n",
       "    .dataframe tbody tr th {\n",
       "        vertical-align: top;\n",
       "    }\n",
       "\n",
       "    .dataframe thead th {\n",
       "        text-align: right;\n",
       "    }\n",
       "</style>\n",
       "<table border=\"1\" class=\"dataframe\">\n",
       "  <thead>\n",
       "    <tr style=\"text-align: right;\">\n",
       "      <th></th>\n",
       "      <th>Remove_noise</th>\n",
       "      <th>sentimen</th>\n",
       "      <th>sentimen_negatif</th>\n",
       "      <th>sentimen_netral</th>\n",
       "      <th>sentimen_positif</th>\n",
       "    </tr>\n",
       "  </thead>\n",
       "  <tbody>\n",
       "    <tr>\n",
       "      <th>0</th>\n",
       "      <td>jadi gampang konsultasi dari rumah</td>\n",
       "      <td>positif</td>\n",
       "      <td>0</td>\n",
       "      <td>0</td>\n",
       "      <td>1</td>\n",
       "    </tr>\n",
       "    <tr>\n",
       "      <th>1</th>\n",
       "      <td>aplikasi cacat download kartu kendali tidak bi...</td>\n",
       "      <td>negatif</td>\n",
       "      <td>1</td>\n",
       "      <td>0</td>\n",
       "      <td>0</td>\n",
       "    </tr>\n",
       "    <tr>\n",
       "      <th>2</th>\n",
       "      <td>salut dengan tetap menjaga kualitas pelayanany...</td>\n",
       "      <td>netral</td>\n",
       "      <td>0</td>\n",
       "      <td>1</td>\n",
       "      <td>0</td>\n",
       "    </tr>\n",
       "    <tr>\n",
       "      <th>3</th>\n",
       "      <td>mudah dan terpercaya</td>\n",
       "      <td>positif</td>\n",
       "      <td>0</td>\n",
       "      <td>0</td>\n",
       "      <td>1</td>\n",
       "    </tr>\n",
       "    <tr>\n",
       "      <th>4</th>\n",
       "      <td>mudah dan sangat membantu terimakasih</td>\n",
       "      <td>positif</td>\n",
       "      <td>0</td>\n",
       "      <td>0</td>\n",
       "      <td>1</td>\n",
       "    </tr>\n",
       "  </tbody>\n",
       "</table>\n",
       "</div>\n",
       "      <button class=\"colab-df-convert\" onclick=\"convertToInteractive('df-86f19408-212d-4107-b799-671a0e0e8c03')\"\n",
       "              title=\"Convert this dataframe to an interactive table.\"\n",
       "              style=\"display:none;\">\n",
       "        \n",
       "  <svg xmlns=\"http://www.w3.org/2000/svg\" height=\"24px\"viewBox=\"0 0 24 24\"\n",
       "       width=\"24px\">\n",
       "    <path d=\"M0 0h24v24H0V0z\" fill=\"none\"/>\n",
       "    <path d=\"M18.56 5.44l.94 2.06.94-2.06 2.06-.94-2.06-.94-.94-2.06-.94 2.06-2.06.94zm-11 1L8.5 8.5l.94-2.06 2.06-.94-2.06-.94L8.5 2.5l-.94 2.06-2.06.94zm10 10l.94 2.06.94-2.06 2.06-.94-2.06-.94-.94-2.06-.94 2.06-2.06.94z\"/><path d=\"M17.41 7.96l-1.37-1.37c-.4-.4-.92-.59-1.43-.59-.52 0-1.04.2-1.43.59L10.3 9.45l-7.72 7.72c-.78.78-.78 2.05 0 2.83L4 21.41c.39.39.9.59 1.41.59.51 0 1.02-.2 1.41-.59l7.78-7.78 2.81-2.81c.8-.78.8-2.07 0-2.86zM5.41 20L4 18.59l7.72-7.72 1.47 1.35L5.41 20z\"/>\n",
       "  </svg>\n",
       "      </button>\n",
       "      \n",
       "  <style>\n",
       "    .colab-df-container {\n",
       "      display:flex;\n",
       "      flex-wrap:wrap;\n",
       "      gap: 12px;\n",
       "    }\n",
       "\n",
       "    .colab-df-convert {\n",
       "      background-color: #E8F0FE;\n",
       "      border: none;\n",
       "      border-radius: 50%;\n",
       "      cursor: pointer;\n",
       "      display: none;\n",
       "      fill: #1967D2;\n",
       "      height: 32px;\n",
       "      padding: 0 0 0 0;\n",
       "      width: 32px;\n",
       "    }\n",
       "\n",
       "    .colab-df-convert:hover {\n",
       "      background-color: #E2EBFA;\n",
       "      box-shadow: 0px 1px 2px rgba(60, 64, 67, 0.3), 0px 1px 3px 1px rgba(60, 64, 67, 0.15);\n",
       "      fill: #174EA6;\n",
       "    }\n",
       "\n",
       "    [theme=dark] .colab-df-convert {\n",
       "      background-color: #3B4455;\n",
       "      fill: #D2E3FC;\n",
       "    }\n",
       "\n",
       "    [theme=dark] .colab-df-convert:hover {\n",
       "      background-color: #434B5C;\n",
       "      box-shadow: 0px 1px 3px 1px rgba(0, 0, 0, 0.15);\n",
       "      filter: drop-shadow(0px 1px 2px rgba(0, 0, 0, 0.3));\n",
       "      fill: #FFFFFF;\n",
       "    }\n",
       "  </style>\n",
       "\n",
       "      <script>\n",
       "        const buttonEl =\n",
       "          document.querySelector('#df-86f19408-212d-4107-b799-671a0e0e8c03 button.colab-df-convert');\n",
       "        buttonEl.style.display =\n",
       "          google.colab.kernel.accessAllowed ? 'block' : 'none';\n",
       "\n",
       "        async function convertToInteractive(key) {\n",
       "          const element = document.querySelector('#df-86f19408-212d-4107-b799-671a0e0e8c03');\n",
       "          const dataTable =\n",
       "            await google.colab.kernel.invokeFunction('convertToInteractive',\n",
       "                                                     [key], {});\n",
       "          if (!dataTable) return;\n",
       "\n",
       "          const docLinkHtml = 'Like what you see? Visit the ' +\n",
       "            '<a target=\"_blank\" href=https://colab.research.google.com/notebooks/data_table.ipynb>data table notebook</a>'\n",
       "            + ' to learn more about interactive tables.';\n",
       "          element.innerHTML = '';\n",
       "          dataTable['output_type'] = 'display_data';\n",
       "          await google.colab.output.renderOutput(dataTable, element);\n",
       "          const docLink = document.createElement('div');\n",
       "          docLink.innerHTML = docLinkHtml;\n",
       "          element.appendChild(docLink);\n",
       "        }\n",
       "      </script>\n",
       "    </div>\n",
       "  </div>\n",
       "  "
      ],
      "text/plain": [
       "                                        Remove_noise sentimen  \\\n",
       "0                 jadi gampang konsultasi dari rumah  positif   \n",
       "1  aplikasi cacat download kartu kendali tidak bi...  negatif   \n",
       "2  salut dengan tetap menjaga kualitas pelayanany...   netral   \n",
       "3                               mudah dan terpercaya  positif   \n",
       "4              mudah dan sangat membantu terimakasih  positif   \n",
       "\n",
       "   sentimen_negatif  sentimen_netral  sentimen_positif  \n",
       "0                 0                0                 1  \n",
       "1                 1                0                 0  \n",
       "2                 0                1                 0  \n",
       "3                 0                0                 1  \n",
       "4                 0                0                 1  "
      ]
     },
     "execution_count": 53,
     "metadata": {},
     "output_type": "execute_result"
    }
   ],
   "source": [
    "import pandas as pd\n",
    "\n",
    "df1 = pd.read_csv('TinggalTrain2.csv')\n",
    "df1.head()"
   ]
  },
  {
   "cell_type": "code",
   "execution_count": null,
   "metadata": {
    "id": "Dd4Z4gNyDbh_"
   },
   "outputs": [],
   "source": [
    "count_class_0, count_class_1, count_class_2 = df1.sentimen.value_counts()\n",
    "\n",
    "df_class_0 = df1[df1['sentimen'] == 'positif']\n",
    "df_class_1 = df1[df1['sentimen'] == 'negatif']\n",
    "df_class_2 = df1[df1['sentimen'] == 'netral']"
   ]
  },
  {
   "cell_type": "code",
   "execution_count": null,
   "metadata": {
    "colab": {
     "base_uri": "https://localhost:8080/"
    },
    "id": "fefEotSyDieT",
    "outputId": "e9d0e64f-e433-4bca-c670-062119f84987"
   },
   "outputs": [
    {
     "data": {
      "text/plain": [
       "(11387, 4502, 3334)"
      ]
     },
     "execution_count": 55,
     "metadata": {},
     "output_type": "execute_result"
    }
   ],
   "source": [
    "count_class_0, count_class_1, count_class_2"
   ]
  },
  {
   "cell_type": "code",
   "execution_count": null,
   "metadata": {
    "colab": {
     "base_uri": "https://localhost:8080/"
    },
    "id": "TXHEUbMZEBnw",
    "outputId": "f92a9a3b-7dec-4119-b1fc-d733089261af"
   },
   "outputs": [
    {
     "data": {
      "text/plain": [
       "(11387, 5)"
      ]
     },
     "execution_count": 56,
     "metadata": {},
     "output_type": "execute_result"
    }
   ],
   "source": [
    "df_class_0.shape"
   ]
  },
  {
   "cell_type": "code",
   "execution_count": null,
   "metadata": {
    "colab": {
     "base_uri": "https://localhost:8080/"
    },
    "id": "G58ATIjlEEb6",
    "outputId": "ddde46b1-7b2a-4aee-ffc5-c5262841ff74"
   },
   "outputs": [
    {
     "data": {
      "text/plain": [
       "(4502, 5)"
      ]
     },
     "execution_count": 57,
     "metadata": {},
     "output_type": "execute_result"
    }
   ],
   "source": [
    "df_class_1.shape"
   ]
  },
  {
   "cell_type": "code",
   "execution_count": null,
   "metadata": {
    "colab": {
     "base_uri": "https://localhost:8080/"
    },
    "id": "ZSfcmZqbEFZA",
    "outputId": "c7a64eaf-6c90-4791-b4a9-593439e167b5"
   },
   "outputs": [
    {
     "data": {
      "text/plain": [
       "(3334, 5)"
      ]
     },
     "execution_count": 58,
     "metadata": {},
     "output_type": "execute_result"
    }
   ],
   "source": [
    "df_class_2.shape"
   ]
  },
  {
   "cell_type": "code",
   "execution_count": null,
   "metadata": {
    "id": "UjnH5kxqEGQ0"
   },
   "outputs": [],
   "source": [
    "df_class0_under = df_class_0.sample(count_class_2)\n",
    "df_class1_under = df_class_1.sample(count_class_2)"
   ]
  },
  {
   "cell_type": "code",
   "execution_count": null,
   "metadata": {
    "colab": {
     "base_uri": "https://localhost:8080/"
    },
    "id": "oMH5WwB2EHSt",
    "outputId": "067194fc-1abf-4b85-eb9a-2c9853917563"
   },
   "outputs": [
    {
     "data": {
      "text/plain": [
       "(3334, 5)"
      ]
     },
     "execution_count": 60,
     "metadata": {},
     "output_type": "execute_result"
    }
   ],
   "source": [
    "df_class1_under.shape"
   ]
  },
  {
   "cell_type": "code",
   "execution_count": null,
   "metadata": {
    "colab": {
     "base_uri": "https://localhost:8080/"
    },
    "id": "xHbq2KyqEIW_",
    "outputId": "a3ed0f29-91f4-4765-b1a6-797187d763f4"
   },
   "outputs": [
    {
     "name": "stdout",
     "output_type": "stream",
     "text": [
      "Random under-sampling\n",
      "positif    3334\n",
      "negatif    3334\n",
      "netral     3334\n",
      "Name: sentimen, dtype: int64\n"
     ]
    }
   ],
   "source": [
    "df_baru = pd.concat([df_class0_under,df_class1_under,df_class_2], axis = 0)\n",
    "print('Random under-sampling')\n",
    "print(df_baru.sentimen.value_counts())"
   ]
  },
  {
   "cell_type": "code",
   "execution_count": null,
   "metadata": {
    "colab": {
     "base_uri": "https://localhost:8080/"
    },
    "id": "YOdtouX8EJOV",
    "outputId": "0a39a9d8-30a3-4010-8429-3c2d8541bd75"
   },
   "outputs": [
    {
     "data": {
      "text/plain": [
       "(10002, 5)"
      ]
     },
     "execution_count": 62,
     "metadata": {},
     "output_type": "execute_result"
    }
   ],
   "source": [
    "df_baru.shape"
   ]
  },
  {
   "cell_type": "code",
   "execution_count": null,
   "metadata": {
    "colab": {
     "base_uri": "https://localhost:8080/",
     "height": 206
    },
    "id": "wd3P41BMEKhn",
    "outputId": "6c48c96c-1e4f-4628-de02-1eea167a8de1"
   },
   "outputs": [
    {
     "data": {
      "text/html": [
       "\n",
       "  <div id=\"df-709c0f6b-8b8d-45c8-8a73-1b73752480cc\">\n",
       "    <div class=\"colab-df-container\">\n",
       "      <div>\n",
       "<style scoped>\n",
       "    .dataframe tbody tr th:only-of-type {\n",
       "        vertical-align: middle;\n",
       "    }\n",
       "\n",
       "    .dataframe tbody tr th {\n",
       "        vertical-align: top;\n",
       "    }\n",
       "\n",
       "    .dataframe thead th {\n",
       "        text-align: right;\n",
       "    }\n",
       "</style>\n",
       "<table border=\"1\" class=\"dataframe\">\n",
       "  <thead>\n",
       "    <tr style=\"text-align: right;\">\n",
       "      <th></th>\n",
       "      <th>Remove_noise</th>\n",
       "      <th>sentimen</th>\n",
       "      <th>sentimen_negatif</th>\n",
       "      <th>sentimen_netral</th>\n",
       "      <th>sentimen_positif</th>\n",
       "    </tr>\n",
       "  </thead>\n",
       "  <tbody>\n",
       "    <tr>\n",
       "      <th>3344</th>\n",
       "      <td>dokternya baik dan ramah informasi jelas dan d...</td>\n",
       "      <td>positif</td>\n",
       "      <td>0</td>\n",
       "      <td>0</td>\n",
       "      <td>1</td>\n",
       "    </tr>\n",
       "    <tr>\n",
       "      <th>4744</th>\n",
       "      <td>mantap super cepat pengiriman semoga obatnya j...</td>\n",
       "      <td>positif</td>\n",
       "      <td>0</td>\n",
       "      <td>0</td>\n",
       "      <td>1</td>\n",
       "    </tr>\n",
       "    <tr>\n",
       "      <th>17457</th>\n",
       "      <td>aplikasinya menyenangkan sekali dokternya rama...</td>\n",
       "      <td>positif</td>\n",
       "      <td>0</td>\n",
       "      <td>0</td>\n",
       "      <td>1</td>\n",
       "    </tr>\n",
       "    <tr>\n",
       "      <th>15493</th>\n",
       "      <td>berterimakasih sekali sama halodoc beli obat m...</td>\n",
       "      <td>positif</td>\n",
       "      <td>0</td>\n",
       "      <td>0</td>\n",
       "      <td>1</td>\n",
       "    </tr>\n",
       "    <tr>\n",
       "      <th>19102</th>\n",
       "      <td>terima kasih halo doc sangat membantu sekali t...</td>\n",
       "      <td>positif</td>\n",
       "      <td>0</td>\n",
       "      <td>0</td>\n",
       "      <td>1</td>\n",
       "    </tr>\n",
       "  </tbody>\n",
       "</table>\n",
       "</div>\n",
       "      <button class=\"colab-df-convert\" onclick=\"convertToInteractive('df-709c0f6b-8b8d-45c8-8a73-1b73752480cc')\"\n",
       "              title=\"Convert this dataframe to an interactive table.\"\n",
       "              style=\"display:none;\">\n",
       "        \n",
       "  <svg xmlns=\"http://www.w3.org/2000/svg\" height=\"24px\"viewBox=\"0 0 24 24\"\n",
       "       width=\"24px\">\n",
       "    <path d=\"M0 0h24v24H0V0z\" fill=\"none\"/>\n",
       "    <path d=\"M18.56 5.44l.94 2.06.94-2.06 2.06-.94-2.06-.94-.94-2.06-.94 2.06-2.06.94zm-11 1L8.5 8.5l.94-2.06 2.06-.94-2.06-.94L8.5 2.5l-.94 2.06-2.06.94zm10 10l.94 2.06.94-2.06 2.06-.94-2.06-.94-.94-2.06-.94 2.06-2.06.94z\"/><path d=\"M17.41 7.96l-1.37-1.37c-.4-.4-.92-.59-1.43-.59-.52 0-1.04.2-1.43.59L10.3 9.45l-7.72 7.72c-.78.78-.78 2.05 0 2.83L4 21.41c.39.39.9.59 1.41.59.51 0 1.02-.2 1.41-.59l7.78-7.78 2.81-2.81c.8-.78.8-2.07 0-2.86zM5.41 20L4 18.59l7.72-7.72 1.47 1.35L5.41 20z\"/>\n",
       "  </svg>\n",
       "      </button>\n",
       "      \n",
       "  <style>\n",
       "    .colab-df-container {\n",
       "      display:flex;\n",
       "      flex-wrap:wrap;\n",
       "      gap: 12px;\n",
       "    }\n",
       "\n",
       "    .colab-df-convert {\n",
       "      background-color: #E8F0FE;\n",
       "      border: none;\n",
       "      border-radius: 50%;\n",
       "      cursor: pointer;\n",
       "      display: none;\n",
       "      fill: #1967D2;\n",
       "      height: 32px;\n",
       "      padding: 0 0 0 0;\n",
       "      width: 32px;\n",
       "    }\n",
       "\n",
       "    .colab-df-convert:hover {\n",
       "      background-color: #E2EBFA;\n",
       "      box-shadow: 0px 1px 2px rgba(60, 64, 67, 0.3), 0px 1px 3px 1px rgba(60, 64, 67, 0.15);\n",
       "      fill: #174EA6;\n",
       "    }\n",
       "\n",
       "    [theme=dark] .colab-df-convert {\n",
       "      background-color: #3B4455;\n",
       "      fill: #D2E3FC;\n",
       "    }\n",
       "\n",
       "    [theme=dark] .colab-df-convert:hover {\n",
       "      background-color: #434B5C;\n",
       "      box-shadow: 0px 1px 3px 1px rgba(0, 0, 0, 0.15);\n",
       "      filter: drop-shadow(0px 1px 2px rgba(0, 0, 0, 0.3));\n",
       "      fill: #FFFFFF;\n",
       "    }\n",
       "  </style>\n",
       "\n",
       "      <script>\n",
       "        const buttonEl =\n",
       "          document.querySelector('#df-709c0f6b-8b8d-45c8-8a73-1b73752480cc button.colab-df-convert');\n",
       "        buttonEl.style.display =\n",
       "          google.colab.kernel.accessAllowed ? 'block' : 'none';\n",
       "\n",
       "        async function convertToInteractive(key) {\n",
       "          const element = document.querySelector('#df-709c0f6b-8b8d-45c8-8a73-1b73752480cc');\n",
       "          const dataTable =\n",
       "            await google.colab.kernel.invokeFunction('convertToInteractive',\n",
       "                                                     [key], {});\n",
       "          if (!dataTable) return;\n",
       "\n",
       "          const docLinkHtml = 'Like what you see? Visit the ' +\n",
       "            '<a target=\"_blank\" href=https://colab.research.google.com/notebooks/data_table.ipynb>data table notebook</a>'\n",
       "            + ' to learn more about interactive tables.';\n",
       "          element.innerHTML = '';\n",
       "          dataTable['output_type'] = 'display_data';\n",
       "          await google.colab.output.renderOutput(dataTable, element);\n",
       "          const docLink = document.createElement('div');\n",
       "          docLink.innerHTML = docLinkHtml;\n",
       "          element.appendChild(docLink);\n",
       "        }\n",
       "      </script>\n",
       "    </div>\n",
       "  </div>\n",
       "  "
      ],
      "text/plain": [
       "                                            Remove_noise sentimen  \\\n",
       "3344   dokternya baik dan ramah informasi jelas dan d...  positif   \n",
       "4744   mantap super cepat pengiriman semoga obatnya j...  positif   \n",
       "17457  aplikasinya menyenangkan sekali dokternya rama...  positif   \n",
       "15493  berterimakasih sekali sama halodoc beli obat m...  positif   \n",
       "19102  terima kasih halo doc sangat membantu sekali t...  positif   \n",
       "\n",
       "       sentimen_negatif  sentimen_netral  sentimen_positif  \n",
       "3344                  0                0                 1  \n",
       "4744                  0                0                 1  \n",
       "17457                 0                0                 1  \n",
       "15493                 0                0                 1  \n",
       "19102                 0                0                 1  "
      ]
     },
     "execution_count": 63,
     "metadata": {},
     "output_type": "execute_result"
    }
   ],
   "source": [
    "df_baru.head()"
   ]
  },
  {
   "cell_type": "code",
   "execution_count": null,
   "metadata": {
    "id": "a-KDRhLtELUB"
   },
   "outputs": [],
   "source": [
    "sentimen = df_baru['Remove_noise'].values\n",
    "label = df_baru[['sentimen_negatif', 'sentimen_netral',\n",
    "       'sentimen_positif']].values"
   ]
  },
  {
   "cell_type": "code",
   "execution_count": null,
   "metadata": {
    "id": "XfBvi490EMdl"
   },
   "outputs": [],
   "source": [
    "# Membagi data menjadi 90% data train dan 10% data test\n",
    "from sklearn.model_selection import train_test_split\n",
    "x_train, x_test, y_train, y_test = train_test_split(sentimen, label, test_size=0.1)"
   ]
  },
  {
   "cell_type": "code",
   "execution_count": null,
   "metadata": {
    "id": "b6YkocwDENdM"
   },
   "outputs": [],
   "source": [
    "from tensorflow.keras.preprocessing.text import Tokenizer # Mengimport tokenizer untuk preprocessing kata-kata\n",
    "from tensorflow.keras.preprocessing.sequence import pad_sequences # Mengimport pad_sequences untuk preprocessing kata\n",
    "\n",
    "# Memasukkan fungsi tokenizer yang didalamnya terdapat parameter untuk menyimpan 6500 kata yang sering muncul\n",
    "tokenizer = Tokenizer(num_words=6500, oov_token='<OOV>')\n",
    "tokenizer.fit_on_texts(x_train) \n",
    "tokenizer.fit_on_texts(x_test)\n",
    "\n",
    "# Mengubah token jadi sequence \n",
    "sekuens_latih = tokenizer.texts_to_sequences(x_train)\n",
    "sekuens_test = tokenizer.texts_to_sequences(x_test)\n",
    "\n",
    "# Menggunakan padding agar sequence menjadi sama panjang\n",
    "padded_latih = pad_sequences(sekuens_latih) \n",
    "padded_test = pad_sequences(sekuens_test)"
   ]
  },
  {
   "cell_type": "code",
   "execution_count": null,
   "metadata": {
    "colab": {
     "base_uri": "https://localhost:8080/"
    },
    "id": "JkqKtC7dEQKE",
    "outputId": "4095b186-37a9-4187-d047-e1971e57de69"
   },
   "outputs": [
    {
     "name": "stdout",
     "output_type": "stream",
     "text": [
      "{'<OOV>': 1, 'sangat': 2, 'dan': 3, 'yang': 4, 'saya': 5, 'tidak': 6, 'membantu': 7, 'aplikasi': 8, 'dokter': 9, 'ini': 10, 'di': 11, 'bisa': 12, 'halodoc': 13, 'dengan': 14, 'untuk': 15, 'obat': 16, 'cepat': 17, 'sekali': 18, 'kasih': 19, 'ada': 20, 'dokternya': 21, 'tapi': 22, 'sudah': 23, 'konsultasi': 24, 'bagus': 25, 'terima': 26, 'ke': 27, 'juga': 28, 'ramah': 29, 'banget': 30, 'dari': 31, 'lagi': 32, 'sakit': 33, 'baik': 34, 'rumah': 35, 'terimakasih': 36, 'karena': 37, 'apa': 38, 'langsung': 39, 'harus': 40, 'kalau': 41, 'respon': 42, 'jadi': 43, 'saja': 44, 'kita': 45, 'sat': 46, 'lebih': 47, 'buat': 48, 'chat': 49, 'perlu': 50, 'sama': 51, 'mudah': 52, 'banyak': 53, 'pakai': 54, 'seperti': 55, 'terus': 56, 'kesehatan': 57, 'semoga': 58, 'pelayanan': 59, 'bermanfat': 60, 'selalu': 61, 'sampai': 62, 'lama': 63, 'dalam': 64, 'beli': 65, 'waktu': 66, 'cukup': 67, 'semua': 68, 'belum': 69, 'dapat': 70, 'tanpa': 71, 'resep': 72, 'baru': 73, 'konsul': 74, 'bayar': 75, 'pandemi': 76, 'hanya': 77, 'aplikasinya': 78, 'puas': 79, 'orang': 80, 'suka': 81, 'keluar': 82, 'atau': 83, 'itu': 84, 'cuma': 85, 'sekarang': 86, 'jauh': 87, 'terbantu': 88, 'keluhan': 89, 'kali': 90, 'apotik': 91, 'alhamdulilah': 92, 'apalagi': 93, 'padahal': 94, 'masih': 95, 'pertama': 96, 'tolong': 97, 'obatnya': 98, 'bahkan': 99, 'pembayaran': 100, 'gratis': 101, 'sukses': 102, 'dulu': 103, 'memuaskan': 104, 'jelas': 105, 'disat': 106, 'pasien': 107, 'memberikan': 108, 'kenapa': 109, 'masalah': 110, 'ketika': 111, 'hari': 112, 'uang': 113, 'benar': 114, 'pengiriman': 115, 'pesan': 116, 'apotek': 117, 'saran': 118, 'butuh': 119, 'sedang': 120, 'anak': 121, 'apk': 122, 'mantap': 123, 'solusi': 124, 'keren': 125, 'coba': 126, 'datang': 127, 'adanya': 128, 'saldo': 129, 'penjelasan': 130, 'pelayananya': 131, 'gopay': 132, 'kurang': 133, 'tahu': 134, 'penyakit': 135, 'pada': 136, 'sesuai': 137, 'antri': 138, 'tanya': 139, 'ribet': 140, 'mengunakan': 141, 'driver': 142, 'bagi': 143, 'lain': 144, 'malam': 145, 'susah': 146, 'kondisi': 147, 'setelah': 148, 'download': 149, 'memudahkan': 150, 'layanan': 151, 'jangan': 152, 'fast': 153, 'halo': 154, 'responya': 155, 'masuk': 156, 'kirim': 157, 'spesialis': 158, 'bintang': 159, 'nomor': 160, 'harga': 161, 'secara': 162, 'bagaimana': 163, 'berkonsultasi': 164, 'bertanya': 165, 'god': 166, 'mohon': 167, 'punya': 168, 'tepat': 169, 'begini': 170, 'online': 171, 'jika': 172, 'kecewa': 173, 'mungkin': 174, 'covid': 175, 'para': 176, 'tingal': 177, 'pertanyan': 178, 'masa': 179, 'mencari': 180, 'informasi': 181, 'doc': 182, 'ingin': 183, 'atas': 184, 'pesanan': 185, 'akan': 186, 'cari': 187, 'aku': 188, 'detail': 189, 'nungu': 190, 'tangap': 191, 'biaya': 192, 'repot': 193, 'tempat': 194, 'mempermudah': 195, 'gojek': 196, 'tiba': 197, 'pergi': 198, 'ternyata': 199, 'memang': 200, 'klinik': 201, 'kami': 202, 'jawaban': 203, 'lewat': 204, 'begitu': 205, 'agak': 206, 'fre': 207, 'menungu': 208, 'tingkatkan': 209, 'pokoknya': 210, 'terlalu': 211, 'berguna': 212, 'setiap': 213, 'sendiri': 214, 'trimakasih': 215, 'menit': 216, 'oleh': 217, 'tersedia': 218, 'praktis': 219, 'merasa': 220, 'sedikit': 221, 'cara': 222, 'bingung': 223, 'sya': 224, 'mahal': 225, 'tetap': 226, 'terutama': 227, 'fitur': 228, 'berobat': 229, 'tentang': 230, 'diberikan': 231, 'agar': 232, 'luar': 233, 'sibuk': 234, 'sehat': 235, 'melalui': 236, 'beberapa': 237, 'biasa': 238, 'penjelasanya': 239, 'keadan': 240, 'telepon': 241, 'sesi': 242, 'terdekat': 243, 'barang': 244, 'memberi': 245, 'menjawab': 246, 'namun': 247, 'tetapi': 248, 'mana': 249, 'minta': 250, 'instal': 251, 'makin': 252, 'mendapatkan': 253, 'ongkos': 254, 'semakin': 255, 'jawab': 256, 'senang': 257, 'lumayan': 258, 'order': 259, 'cocok': 260, 'awal': 261, 'darurat': 262, 'proses': 263, 'lengkap': 264, 'balas': 265, 'dimana': 266, 'pihak': 267, 'urgent': 268, 'terbaik': 269, 'dong': 270, 'bukan': 271, 'tengah': 272, 'lokasi': 273, 'hal': 274, 'habis': 275, 'pembelian': 276, 'sayang': 277, 'sistem': 278, 'pernah': 279, 'mengantri': 280, 'pesen': 281, 'refund': 282, 'takut': 283, 'serta': 284, 'dikirim': 285, 'gagal': 286, 'walaupun': 287, 'membeli': 288, 'alamat': 289, 'sering': 290, 'kembali': 291, 'rekomendasi': 292, 'buka': 293, 'biar': 294, 'kadang': 295, 'metode': 296, 'disini': 297, 'satu': 298, 'kedepanya': 299, 'daftar': 300, 'oke': 301, 'ok': 302, 'salah': 303, 'kode': 304, 'antar': 305, 'sehinga': 306, 'kalian': 307, 'maf': 308, 'membutuhkan': 309, 'dana': 310, 'murah': 311, 'klik': 312, 'gampang': 313, 'mengecewakan': 314, 'keluarga': 315, 'recomended': 316, 'email': 317, 'membuat': 318, 'pemesanan': 319, 'kapan': 320, 'responsif': 321, 'pilihan': 322, 'diantar': 323, 'konsultasinya': 324, 'selesai': 325, 'ibu': 326, 'masyarakat': 327, 'enak': 328, 'pengalaman': 329, 'indonesia': 330, 'umum': 331, 'kerja': 332, 'dirumah': 333, 'asuransi': 334, 'periksa': 335, 'bikin': 336, 'kerumah': 337, 'best': 338, 'terjangkau': 339, 'katanya': 340, 'nyaman': 341, 'kota': 342, 'diperbaiki': 343, 'lambat': 344, 'cek': 345, 'cancel': 346, 'tungu': 347, 'hp': 348, 'hasil': 349, 'waktunya': 350, 'transaksi': 351, 'hati': 352, 'digunakan': 353, 'segera': 354, 'tadi': 355, 'top': 356, 'kepada': 357, 'eror': 358, 'sulit': 359, 'berbayar': 360, 'kosong': 361, 'melakukan': 362, 'daerah': 363, 'pembayaranya': 364, 'aman': 365, 'praktek': 366, 'kemana': 367, 'pula': 368, 'update': 369, 'akhirnya': 370, 'dikasih': 371, 'the': 372, 'kamu': 373, 'nyesel': 374, 'mengerti': 375, 'masukan': 376, 'isi': 377, 'paling': 378, 'selama': 379, 'alami': 380, 'tambah': 381, 'pasti': 382, 'sembuh': 383, 'sebelum': 384, 'hilang': 385, 'lbh': 386, 'simple': 387, 'ditingkatkan': 388, 'bantuan': 389, 'suruh': 390, 'lancar': 391, 'maju': 392, 'parah': 393, 'muncul': 394, 'sempat': 395, 'ngebantu': 396, 'lalu': 397, 'verifikasi': 398, 'sabar': 399, 'pilih': 400, 'vaksin': 401, 'akurat': 402, 'ulang': 403, 'berpengalaman': 404, 'balik': 405, 'nga': 406, 'dimengerti': 407, 'janji': 408, 'menjadi': 409, 'tersebut': 410, 'gunakan': 411, 'tangapan': 412, 'jawabanya': 413, 'singkat': 414, 'menurut': 415, 'penguna': 416, 'solusinya': 417, 'tanggal': 418, 'kaya': 419, 'konfirmasi': 420, 'soalnya': 421, 'apapun': 422, 'berikan': 423, 'membatu': 424, 'stok': 425, 'customer': 426, 'amin': 427, 'apl': 428, 'menjelaskan': 429, 'pribadi': 430, 'kartu': 431, 'walau': 432, 'sms': 433, 'dikala': 434, 'sebagai': 435, 'diberi': 436, 'lihat': 437, 'semuanya': 438, 'teman': 439, 'awalnya': 440, 'buruk': 441, 'mencoba': 442, 'pengantaran': 443, 'profesional': 444, 'berhasil': 445, 'jalan': 446, 'mengenai': 447, 'yah': 448, 'otomatis': 449, 'dibatalkan': 450, 'super': 451, 'kayak': 452, 'harusnya': 453, 'kasian': 454, 'smoga': 455, 'berkali': 456, 'supaya': 457, 'dibutuhkan': 458, 'nanti': 459, 'up': 460, 'penanganan': 461, 'dijawab': 462, 'dia': 463, 'telah': 464, 'bilang': 465, 'sini': 466, 'uninstal': 467, 'amat': 468, 'sngat': 469, 'menanyakan': 470, 'rekening': 471, 'lainya': 472, 'apakah': 473, 'drivernya': 474, 'medis': 475, 'anda': 476, 'thank': 477, 'ditambah': 478, 'merespon': 479, 'melayani': 480, 'harganya': 481, 'kluar': 482, 'bulan': 483, 'tutup': 484, 'sementara': 485, 'hemat': 486, 'jadwal': 487, 'beri': 488, 'cash': 489, 'berbeda': 490, 'ditengah': 491, 'ketemu': 492, 'situasi': 493, 'dekat': 494, 'nama': 495, 'login': 496, 'you': 497, 'telpon': 498, 'kapanpun': 499, 'ganti': 500, 'dimasa': 501, 'kasihan': 502, 'gejala': 503, 'disuruh': 504, 'terhubung': 505, 'data': 506, 'bank': 507, 'krna': 508, 'nyoba': 509, 'beda': 510, 'komunikatif': 511, 'panik': 512, 'orderan': 513, 'kebutuhan': 514, 'sebelah': 515, 'meskipun': 516, 'masukkan': 517, 'payah': 518, 'jasa': 519, 'kecil': 520, 'berkembang': 521, 'jarak': 522, 'sejauh': 523, 'tangal': 524, 'sedangkan': 525, 'tetep': 526, 'obatan': 527, 'dikembalikan': 528, 'mengetahui': 529, 'sunguh': 530, 'buru': 531, 'penting': 532, 'minum': 533, 'selain': 534, 'sayangnya': 535, 'muka': 536, 'hubungi': 537, 'terkadang': 538, 'resepnya': 539, 'aneh': 540, 'antrian': 541, 'sebelumnya': 542, 'segala': 543, 'dilakukan': 544, 'rasa': 545, 'informatif': 546, 'ngk': 547, 'dipahami': 548, 'hasilnya': 549, 'alasan': 550, 'komplain': 551, 'salam': 552, 'halodok': 553, 'jelek': 554, 'service': 555, 'ragu': 556, 'tunai': 557, 'kendala': 558, 'layananya': 559, 'awam': 560, 'tua': 561, 'perbaiki': 562, 'fasilitas': 563, 'bila': 564, 'efisien': 565, 'chatnya': 566, 'kesulitan': 567, 'terpotong': 568, 'cal': 569, 'adalah': 570, 'apotiknya': 571, 'akun': 572, 'diterima': 573, 'tes': 574, 'terlebih': 575, 'siap': 576, 'keterangan': 577, 'maupun': 578, 'bantu': 579, 'kemarin': 580, 'sopan': 581, 'slow': 582, 'promo': 583, 'direspon': 584, 'debit': 585, 'memilih': 586, 'pokonya': 587, 'memungkinkan': 588, 'toko': 589, 'wabah': 590, 'kira': 591, 'terpercaya': 592, 'menghubungi': 593, 'pembatalan': 594, 'menu': 595, 'seharusnya': 596, 'kedokter': 597, 'boleh': 598, 'so': 599, 'seneng': 600, 'butuhkan': 601, 'berkat': 602, 'mendapat': 603, 'terbatas': 604, 'status': 605, 'batalkan': 606, 'ambil': 607, 'rasakan': 608, 'dua': 609, 'besar': 610, 'pagi': 611, 'untung': 612, 'tg': 613, 'males': 614, 'puskesmas': 615, 'simpel': 616, 'memiliki': 617, 'lanjut': 618, 'hebat': 619, 'menemukan': 620, 'mantul': 621, 'berapa': 622, 'terimaksih': 623, 'memakai': 624, 'berbagai': 625, 'pahami': 626, 'alah': 627, 'soal': 628, 'posisi': 629, 'komunikasi': 630, 'lngsung': 631, 'kedua': 632, 'diresepkan': 633, 'bngt': 634, 'pcr': 635, 'tenang': 636, 'sumpah': 637, 'rapid': 638, 'mendesak': 639, 'ahli': 640, 'mulai': 641, 'paham': 642, 'bahasa': 643, 'bayi': 644, 'tulisan': 645, 'biasanya': 646, 'mesti': 647, 'iklan': 648, 'mereka': 649, 'terkirim': 650, 'tanyakan': 651, 'pengambilan': 652, 'menangani': 653, 'berkurang': 654, 'hampir': 655, 'go': 656, 'membalas': 657, 'gogle': 658, 'terkait': 659, 'malas': 660, 'dimanapun': 661, 'jawabnya': 662, 'khawatir': 663, 'balasan': 664, 'memesan': 665, 'ditempat': 666, 'gojeknya': 667, 'saranya': 668, 'kena': 669, 'opsi': 670, 'tim': 671, 'kepotong': 672, 'seputar': 673, 'thankyou': 674, 'pengirimanya': 675, 'mengatasi': 676, 'apan': 677, 'menyenangkan': 678, 'hapus': 679, 'dihubungi': 680, 'harap': 681, 'digital': 682, 'pengembalian': 683, 'test': 684, 'tahun': 685, 'menangapi': 686, 'menghemat': 687, 'belanja': 688, 'melulu': 689, 'makasi': 690, 'panjang': 691, 'mudahan': 692, 'guna': 693, 'kredit': 694, 'daripada': 695, 'kualitas': 696, 'rugi': 697, 'ringan': 698, 'tubuh': 699, 'pokok': 700, 'transfer': 701, 'foto': 702, 'produk': 703, 'riwayat': 704, 'kedepan': 705, 'wilayah': 706, 'walet': 707, 'kala': 708, 'otp': 709, 'khususnya': 710, 'buang': 711, 'recomend': 712, 'mengurangi': 713, 'kebetulan': 714, 'macam': 715, 'dibeli': 716, 'mampu': 717, 'tatap': 718, 'mengalami': 719, 'dompet': 720, 'meski': 721, 'bicara': 722, 'jarang': 723, 'kata': 724, 'ngobrol': 725, 'dngan': 726, 'ahlinya': 727, 'direkomendasikan': 728, 'paket': 729, 'masing': 730, 'swab': 731, 'pertahankan': 732, 'kurir': 733, 'nomer': 734, 'koneksi': 735, 'ribu': 736, 'tiap': 737, 'akhir': 738, 'to': 739, 'diri': 740, 'jadinya': 741, 'nyampe': 742, 'bertemu': 743, 'teratasi': 744, 'donk': 745, 'dibantu': 746, 'mbantu': 747, 'tujuan': 748, 'derita': 749, 'isoman': 750, 'semangat': 751, 'berkomunikasi': 752, 'gada': 753, 'rekomended': 754, 'stock': 755, 'respond': 756, 'kemudian': 757, 'pertolongan': 758, 'diminta': 759, 'dialami': 760, 'arahan': 761, 'tertera': 762, 'rating': 763, 'bekerja': 764, 'bantuanya': 765, 'kembalikan': 766, 'loading': 767, 'diskon': 768, 'tenaga': 769, 'vitamin': 770, 'mager': 771, 'badan': 772, 'berat': 773, 'dilayani': 774, 'sebenarnya': 775, 'lelah': 776, 'pulsa': 777, 'akses': 778, 'sperti': 779, 'efektif': 780, 'demam': 781, 'bakal': 782, 'tertulis': 783, 'apoteknya': 784, 'upload': 785, 'menyediakan': 786, 'user': 787, 'muter': 788, 'muda': 789, 'bebas': 790, 'terasa': 791, 'kulit': 792, 'mingu': 793, 'ketersedian': 794, 'bnget': 795, 'berada': 796, 'jaringan': 797, 'terlanjur': 798, 'rekanan': 799, 'link': 800, 'bagian': 801, 'sekedar': 802, 'wajib': 803, 'dibuka': 804, 'diaplikasi': 805, 'sambil': 806, 'kak': 807, 'sebaiknya': 808, 'map': 809, 'diagnosa': 810, 'jujur': 811, 'hidup': 812, 'dipesan': 813, 'terjadi': 814, 'gila': 815, 'it': 816, 'seluruh': 817, 'estimasi': 818, 'tebus': 819, 'sakitnya': 820, 'tentu': 821, 'bukanya': 822, 'sinyal': 823, 'virus': 824, 'artikel': 825, 'mati': 826, 'baiknya': 827, 'setidaknya': 828, 'rekomendasikan': 829, 'kerjasama': 830, 'dicari': 831, 'kesini': 832, 'tertentu': 833, 'menerima': 834, 'video': 835, 'mandiri': 836, 'far': 837, 'ataupun': 838, 'tingi': 839, 'ditambahkan': 840, 'tindakan': 841, 'suami': 842, 'rama': 843, 'kasi': 844, 'aktif': 845, 'corona': 846, 'juli': 847, 'berubah': 848, 'psikolog': 849, 'percaya': 850, 'apabila': 851, 'berjalan': 852, 'genting': 853, 'very': 854, 'abang': 855, 'gercep': 856, 'dahulu': 857, 'sekitar': 858, 'pengobatan': 859, 'kandungan': 860, 'respons': 861, 'intinya': 862, 'entah': 863, 'terimakasi': 864, 'bca': 865, 'jaya': 866, 'menolong': 867, 'bertele': 868, 'kuota': 869, 'gigi': 870, 'terburu': 871, 'tangapanya': 872, 'berjam': 873, 'dunia': 874, 'lab': 875, 'sepertinya': 876, 'trimaksih': 877, 'padat': 878, 'by': 879, 'internet': 880, 'namanya': 881, 'love': 882, 'bawa': 883, 'bnyak': 884, 'mitra': 885, 'pengunan': 886, 'makan': 887, 'rekomen': 888, 'asli': 889, 'mengambil': 890, 'pemeriksan': 891, 'konsulnya': 892, 'merugikan': 893, 'spesialisnya': 894, 'admin': 895, 'sejam': 896, 'surat': 897, 'setengah': 898, 'hewan': 899, 'perbanyak': 900, 'antara': 901, 'virtual': 902, 'durasi': 903, 'on': 904, 'penipuan': 905, 'penipu': 906, 'dokterny': 907, 'pelangan': 908, 'jenis': 909, 'pencarian': 910, 'al': 911, 'pikir': 912, 'specialis': 913, 'terhadap': 914, 'pencet': 915, 'percakapan': 916, 'prosesnya': 917, 'main': 918, 'tidur': 919, 'serasa': 920, 'mengisi': 921, 'tertolong': 922, 'menjaga': 923, 'lakukan': 924, 'untk': 925, 'tarik': 926, 'lega': 927, 'membayar': 928, 'sigap': 929, 'mendadak': 930, 'doktr': 931, 'tarif': 932, 'konsumen': 933, 'sebentar': 934, 'percuma': 935, 'pay': 936, 'maksimal': 937, 'dibuat': 938, 'mengakhiri': 939, 'notifikasi': 940, 'duduk': 941, 'tangapi': 942, 'ngomong': 943, 'informasinya': 944, 'selamat': 945, 'voucher': 946, 'permasalahan': 947, 'manfat': 948, 'barusan': 949, 'memerlukan': 950, 'sia': 951, 'uangnya': 952, 'urusan': 953, 'hitam': 954, 'semingu': 955, 'kalinya': 956, 'kemudahan': 957, 'hinga': 958, 'siapa': 959, 'bpjs': 960, 'antigen': 961, 'diapotik': 962, 'sehari': 963, 'sepihak': 964, 'tentunya': 965, 'berarti': 966, 'zaman': 967, 'gambar': 968, 'sejak': 969, 'berakhir': 970, 'jaman': 971, 'dicoba': 972, 'tambahin': 973, 'dicancel': 974, 'manjur': 975, 'tuhan': 976, 'overal': 977, 'rinci': 978, 'lupa': 979, 'catatan': 980, 'caranya': 981, 'cemas': 982, 'alfamart': 983, 'helpful': 984, 'mendownload': 985, 'sendirian': 986, 'lgsung': 987, 'pandemic': 988, 'vaksinasi': 989, 'response': 990, 'menarik': 991, 'perbaikan': 992, 'ganguan': 993, 'ovo': 994, 'diperlukan': 995, 'bersama': 996, 'pasienya': 997, 'mata': 998, 'melihat': 999, 'termasuk': 1000, 'beneran': 1001, 'seorang': 1002, 'inginkan': 1003, 'dipake': 1004, 'now': 1005, 'petunjuk': 1006, 'and': 1007, 'sangt': 1008, 'gunain': 1009, 'bersyukur': 1010, 'tele': 1011, 'barangnya': 1012, 'ulasan': 1013, 'ksih': 1014, 'tindak': 1015, 'chating': 1016, 'docter': 1017, 'terpaksa': 1018, 'berulang': 1019, 'saldonya': 1020, 'minim': 1021, 'bidang': 1022, 'dipakai': 1023, 'sarankan': 1024, 'bukti': 1025, 'pemilihan': 1026, 'disarankan': 1027, 'perihal': 1028, 'hehehe': 1029, 'selanjutnya': 1030, 'sl': 1031, 'kirain': 1032, 'merasakan': 1033, 'khusus': 1034, 'musim': 1035, 'batuk': 1036, 'bertatap': 1037, 'kejelasan': 1038, 'friendly': 1039, 'era': 1040, 'sistemnya': 1041, 'pemerintah': 1042, 'bersangkutan': 1043, 'acuh': 1044, 'depanya': 1045, 'meminta': 1046, 'beliau': 1047, 'keluhanya': 1048, 'atm': 1049, 'helodoc': 1050, 'infonya': 1051, 'this': 1052, 'berlaku': 1053, 'detik': 1054, 'notif': 1055, 'baca': 1056, 'akal': 1057, 'jaga': 1058, 'ikut': 1059, 'docternya': 1060, 'apnya': 1061, 'selebihnya': 1062, 'ojol': 1063, 'team': 1064, 'aplikasih': 1065, 'enga': 1066, 'kebanyakan': 1067, 'diperbanyak': 1068, 'niat': 1069, 'berharap': 1070, 'sampaikan': 1071, 'jakarta': 1072, 'terakhir': 1073, 'depan': 1074, 'skr': 1075, 'kalangan': 1076, 'kontrol': 1077, 'gara': 1078, 'penuh': 1079, 'diluar': 1080, 'bidangnya': 1081, 'apknya': 1082, 'malu': 1083, 'libur': 1084, 'pusing': 1085, 'balesnya': 1086, 'diandalkan': 1087, 'bu': 1088, 'alangkah': 1089, 'berterima': 1090, 'milih': 1091, 'manfatnya': 1092, 'capek': 1093, 'tolak': 1094, 'isolasi': 1095, 'nah': 1096, 'ayo': 1097, 'hub': 1098, 'ujungnya': 1099, 'rata': 1100, 'sekalian': 1101, 'siang': 1102, 'sana': 1103, 'tersambung': 1104, 'was': 1105, 'kantor': 1106, 'iseng': 1107, 'sharing': 1108, 'emergency': 1109, 'biayanya': 1110, 'indomaret': 1111, 'rutin': 1112, 'misal': 1113, 'lbih': 1114, 'program': 1115, 'bapak': 1116, 'gosend': 1117, 'berbicara': 1118, 'sampah': 1119, 'giliran': 1120, 'hamil': 1121, 'sekian': 1122, 'input': 1123, 'kejauhan': 1124, 'tambahan': 1125, 'layani': 1126, 'kosultasi': 1127, 'nemu': 1128, 'auto': 1129, 'klu': 1130, 'hujan': 1131, 'konsultan': 1132, 'dikit': 1133, 'mempersulit': 1134, 'baby': 1135, 'kesana': 1136, 'lahir': 1137, 'face': 1138, 'dibalas': 1139, 'terimah': 1140, 'berterimakasih': 1141, 'live': 1142, 'tips': 1143, 'kekurangan': 1144, 'mlm': 1145, 'bertangung': 1146, 'bahwa': 1147, 'subuh': 1148, 'menenangkan': 1149, 'bad': 1150, 'robot': 1151, 'area': 1152, 'laporan': 1153, 'pengantaranya': 1154, 'siapapun': 1155, 'serba': 1156, 'rujukan': 1157, 'panas': 1158, 'membntu': 1159, 'bgus': 1160, 'center': 1161, 'petugas': 1162, 'mengirim': 1163, 'kurirnya': 1164, 'kualitasnya': 1165, 'kesalahan': 1166, 'pengirim': 1167, 'ckup': 1168, 'permudah': 1169, 'kos': 1170, 'alhasil': 1171, 'diderita': 1172, 'konsult': 1173, 'tracking': 1174, 'kesel': 1175, 'menyelesaikan': 1176, 'pencerahan': 1177, 'racikan': 1178, 'drop': 1179, 'utama': 1180, 'sebagainya': 1181, 'terkesan': 1182, 'mobile': 1183, 'alasanya': 1184, 'mengantar': 1185, 'curahan': 1186, 'pelayan': 1187, 'dokterx': 1188, 'smpai': 1189, 'emak': 1190, 'mengangu': 1191, 'keperluan': 1192, 'menawarkan': 1193, 'cht': 1194, 'diagnosis': 1195, 'silahkan': 1196, 'ajukan': 1197, 'betul': 1198, 'detil': 1199, 'teliti': 1200, 'tetanga': 1201, 'ktp': 1202, 'resepkan': 1203, 'menambah': 1204, 'mendukung': 1205, 'statusnya': 1206, 'kemenkes': 1207, 'manual': 1208, 'kembangkan': 1209, 'macet': 1210, 'dibayar': 1211, 'pemesan': 1212, 'keterbatasan': 1213, 'mempunyai': 1214, 'dikarenakan': 1215, 'maka': 1216, 'pukul': 1217, 'make': 1218, 'sedih': 1219, 'kekhawatiran': 1220, 'apalgi': 1221, 'terjawab': 1222, 'tambahkan': 1223, 'kemasan': 1224, 'bintangnya': 1225, 'nyambung': 1226, 'pendaftaran': 1227, 'dianjurkan': 1228, 'batalin': 1229, 'perpanjang': 1230, 'kambuh': 1231, 'berkompeten': 1232, 'ful': 1233, 'mendaftar': 1234, 'salut': 1235, 'trnyata': 1236, 'time': 1237, 'menyesal': 1238, 'pandemik': 1239, 'titik': 1240, 'istirahat': 1241, 'kosan': 1242, 'sprt': 1243, 'blom': 1244, 'ongkirnya': 1245, 'sewaktu': 1246, 'haldoc': 1247, 'duluan': 1248, 'holodoc': 1249, 'donwload': 1250, 'kebingungan': 1251, 'kebaikan': 1252, 'card': 1253, 'review': 1254, 'berkah': 1255, 'masukanya': 1256, 'jelaskan': 1257, 'boking': 1258, 'check': 1259, 'lima': 1260, 'tertawa': 1261, 'ditangani': 1262, 'farmasi': 1263, 'sebenernya': 1264, 'orng': 1265, 'fisik': 1266, 'bles': 1267, 'jangkauan': 1268, 'alternatif': 1269, 'slu': 1270, 'pemberitahuan': 1271, 'desa': 1272, 'penasaran': 1273, 'kebantu': 1274, 'diproses': 1275, 'pulang': 1276, 'unt': 1277, 'membatalkan': 1278, 'kecepatan': 1279, 'pastinya': 1280, 'but': 1281, 'bayarnya': 1282, 'request': 1283, 'menghubungkan': 1284, 'banking': 1285, 'kehamilan': 1286, 'dipermudah': 1287, 'ayah': 1288, 'ujung': 1289, 'bekerjasama': 1290, 'nambah': 1291, 'terkendala': 1292, 'merekomendasikan': 1293, 'memasukan': 1294, 'beban': 1295, 'bandung': 1296, 'bergabung': 1297, 'bertugas': 1298, 'ajak': 1299, 'terdaftar': 1300, 'berkualitas': 1301, 'langkah': 1302, 'naik': 1303, 'batas': 1304, 'dianter': 1305, 'total': 1306, 'bri': 1307, 'laki': 1308, 'pengetahuan': 1309, 'ditanyakan': 1310, 'perluas': 1311, 'kaget': 1312, 'keluhkan': 1313, 'kesibukan': 1314, 'kuat': 1315, 'makanya': 1316, 'terkena': 1317, 'dibidangnya': 1318, 'teknologi': 1319, 'ketik': 1320, 'nyatanya': 1321, 'kapok': 1322, 'telfon': 1323, 'demi': 1324, 'c': 1325, 'kaki': 1326, 'nyeri': 1327, 'minimal': 1328, 'sangan': 1329, 'lokasinya': 1330, 'keseluruhan': 1331, 'suatu': 1332, 'dini': 1333, 'balasnya': 1334, 'profil': 1335, 'penilaian': 1336, 'maps': 1337, 'beres': 1338, 'tulisanya': 1339, 'ditangapi': 1340, 'knapa': 1341, 'servicenya': 1342, 'surabaya': 1343, 'kabar': 1344, 'gausah': 1345, 'gunanya': 1346, 'terimkasih': 1347, 'kesembuhan': 1348, 'pendemi': 1349, 'ready': 1350, 'disampaikan': 1351, 'apointment': 1352, 'hangus': 1353, 'trimakasi': 1354, 'mengantarkan': 1355, 'bergerak': 1356, 'meningkatkan': 1357, 'server': 1358, 'potong': 1359, 'mksih': 1360, 'tipu': 1361, 'balikin': 1362, 'ngetik': 1363, 'ditebus': 1364, 'mengingat': 1365, 'dkter': 1366, 'berhenti': 1367, 'gtu': 1368, 'cangih': 1369, 'dibikin': 1370, 'seberapa': 1371, 'memahami': 1372, 'rasanya': 1373, 'serius': 1374, 'meringankan': 1375, 'ditemukan': 1376, 'acount': 1377, 'end': 1378, 'jaraknya': 1379, 'lekas': 1380, 'apoteker': 1381, 'flu': 1382, 'berfaedah': 1383, 'topup': 1384, 'diambil': 1385, 'mental': 1386, 'available': 1387, 'sebulan': 1388, 'tanga': 1389, 'pemberian': 1390, 'keliling': 1391, 'juni': 1392, 'tingkat': 1393, 'modern': 1394, 'hadeh': 1395, 'ofline': 1396, 'misalnya': 1397, 'sore': 1398, 'bolak': 1399, 'over': 1400, 'ilmu': 1401, 'dosis': 1402, 'dikembangkan': 1403, 'tangan': 1404, 'ampun': 1405, 'saudara': 1406, 'pengunanya': 1407, 'brapa': 1408, 'penyakitnya': 1409, 'bner': 1410, 'ditelpon': 1411, 'is': 1412, 'strip': 1413, 'tb': 1414, 'minimarket': 1415, 'memakan': 1416, 'welcome': 1417, 'fleksibel': 1418, 'real': 1419, 'semenjak': 1420, 'batal': 1421, 'dktr': 1422, 'th': 1423, 'sangatlah': 1424, 'perjalanan': 1425, 'pak': 1426, 'diminum': 1427, 'ide': 1428, 'ngirim': 1429, 'wifi': 1430, 'terperinci': 1431, 'disesuaikan': 1432, 'tampa': 1433, 'diperluas': 1434, 'aga': 1435, 'watching': 1436, 'jelasin': 1437, 'ditungu': 1438, 'dadakan': 1439, 'kampung': 1440, 'developer': 1441, 'faskes': 1442, 'mikir': 1443, 'diakhiri': 1444, 'for': 1445, 'tempatnya': 1446, 'tiga': 1447, 'mengobati': 1448, 'pelit': 1449, 'sesuatu': 1450, 'diajak': 1451, 'solutif': 1452, 'seterusnya': 1453, 'membaca': 1454, 'tablet': 1455, 'rezeki': 1456, 'akhiri': 1457, 'dibatasi': 1458, 'pemakaian': 1459, 'kepanikan': 1460, 'masyalah': 1461, 'antibiotik': 1462, 'edukasi': 1463, 'pertanyanya': 1464, 'penangananya': 1465, 'dijelaskan': 1466, 'taunya': 1467, 'terputus': 1468, 'per': 1469, 'bermasalah': 1470, 'membingungkan': 1471, 'berani': 1472, 'diperpanjang': 1473, 'msih': 1474, 'galak': 1475, 'ditanya': 1476, 'tombol': 1477, 'nelpon': 1478, 'diperbaharui': 1479, 'dicarikan': 1480, 'bawah': 1481, 'dibanding': 1482, 'dibales': 1483, 'kiriman': 1484, 'cantik': 1485, 'positif': 1486, 'segi': 1487, 'sasaran': 1488, 'plus': 1489, 'kehabisan': 1490, 'markotop': 1491, 'gratisnya': 1492, 'dipilih': 1493, 'banyakin': 1494, 'system': 1495, 'anjuran': 1496, 'dipercepat': 1497, 'like': 1498, 'ketempat': 1499, 'dihalodoc': 1500, 'kejadian': 1501, 'fiturnya': 1502, 'ma': 1503, 'sesinya': 1504, 'kanan': 1505, 'tdak': 1506, 'potongan': 1507, 'kasus': 1508, 'telemedicine': 1509, 'verivikasi': 1510, 'tangung': 1511, 'mg': 1512, 'hrga': 1513, 'buruan': 1514, 'manapun': 1515, 'doktenya': 1516, 'mahasiswa': 1517, 'alamatnya': 1518, 'sdah': 1519, 'terdesak': 1520, 'kodenya': 1521, 'dirumahaja': 1522, 'kontak': 1523, 'poli': 1524, 'darah': 1525, 'warga': 1526, 'terpencil': 1527, 'sudh': 1528, 'dicek': 1529, 'koperatif': 1530, 'kantong': 1531, 'kah': 1532, 'terjamin': 1533, 'location': 1534, 'log': 1535, 'rp': 1536, 'jt': 1537, 'folow': 1538, 'menengah': 1539, 'kost': 1540, 'scrol': 1541, 'gatal': 1542, 'dikenakan': 1543, 'bangat': 1544, 'obatny': 1545, 'didaerah': 1546, 'kepala': 1547, 'ditutup': 1548, 'farma': 1549, 'kedokteran': 1550, 'penolong': 1551, 'kolom': 1552, 'specialist': 1553, 'jumlah': 1554, 'didapat': 1555, 'sebuah': 1556, 'masalahnya': 1557, 'antre': 1558, 'dibalikin': 1559, 'dengn': 1560, 'se': 1561, 'terlambat': 1562, 'first': 1563, 'pengantar': 1564, 'donlod': 1565, 'usia': 1566, 'mengunjungi': 1567, 'registrasi': 1568, 'ditulis': 1569, 'didalamnya': 1570, 'berkunjung': 1571, 'justru': 1572, 'perlukan': 1573, 'pertnyan': 1574, 'adakan': 1575, 'menyukai': 1576, 'hadapi': 1577, 'meningkat': 1578, 'packing': 1579, 'ditolak': 1580, 'anaku': 1581, 'of': 1582, 'dak': 1583, 'perkembangan': 1584, 'ngerasa': 1585, 'sertifikat': 1586, 'rapi': 1587, 'dibaca': 1588, 'perhatian': 1589, 'temukan': 1590, 'berbelit': 1591, 'mendetail': 1592, 'mendengarkan': 1593, 'psikiater': 1594, 'memecahkan': 1595, 'jek': 1596, 'tf': 1597, 'cerita': 1598, 'luas': 1599, 'hai': 1600, 'harapan': 1601, 'lanjuti': 1602, 'edit': 1603, 'search': 1604, 'langanan': 1605, 'menghadapi': 1606, 'kakak': 1607, 'berasa': 1608, 'bot': 1609, 'skit': 1610, 'dapetnya': 1611, 'tengkyu': 1612, 'meluangkan': 1613, 'easy': 1614, 'nunguin': 1615, 'menentukan': 1616, 'secepatnya': 1617, 'abal': 1618, 'mengatas': 1619, 'aplkasi': 1620, 'rewel': 1621, 'asalamualaikum': 1622, 'delivery': 1623, 'membaik': 1624, 'csnya': 1625, 'inovasi': 1626, 'keteranganya': 1627, 'busy': 1628, 'dikonfirmasi': 1629, 'kayaknya': 1630, 'kelamin': 1631, 'or': 1632, 'pusat': 1633, 'alat': 1634, 'budget': 1635, 'dirasakan': 1636, 'disana': 1637, 'turun': 1638, 'normal': 1639, 'januari': 1640, 'ubah': 1641, 'disituasi': 1642, 'untungnya': 1643, 'terdapat': 1644, 'bug': 1645, 'ditarik': 1646, 'meresponya': 1647, 'sekaligus': 1648, 'umur': 1649, 'rapih': 1650, 'susu': 1651, 'bagusnya': 1652, 'terlibat': 1653, 'lanjutkan': 1654, 'diresepin': 1655, 'relatif': 1656, 'penyebab': 1657, 'engak': 1658, 'promonya': 1659, 'filter': 1660, 'trimkasih': 1661, 'alhmdulilah': 1662, 'obatpun': 1663, 'bekasi': 1664, 'standby': 1665, 'serupa': 1666, 'terbuka': 1667, 'diperhatikan': 1668, 'nebus': 1669, 'nyata': 1670, 'malahan': 1671, 'dowload': 1672, 'mentang': 1673, 'rakyat': 1674, 'negeri': 1675, 'negara': 1676, 'kunjung': 1677, 'tahap': 1678, 'berikutnya': 1679, 'berlama': 1680, 'lemes': 1681, 'menyusahkan': 1682, 'mudahn': 1683, 'jerawat': 1684, 'ekonomi': 1685, 'mengapa': 1686, 'mis': 1687, 'pilihanya': 1688, 'pekerja': 1689, 'rendah': 1690, 'fedback': 1691, 'chet': 1692, 'out': 1693, 'tekan': 1694, 'sembarangan': 1695, 'smakin': 1696, 'kimia': 1697, 'kucing': 1698, 'ajah': 1699, 'kacau': 1700, 'alfa': 1701, 'seluler': 1702, 'sampainya': 1703, 'payment': 1704, 'mendiagnosa': 1705, 'da': 1706, 'ternama': 1707, 'andalkan': 1708, 'pkoknya': 1709, 'alodoc': 1710, 'dikota': 1711, 'mapsnya': 1712, 'mencegah': 1713, 'masak': 1714, 'bareng': 1715, 'menyembuhkan': 1716, 'yak': 1717, 'juta': 1718, 'berangkat': 1719, 'diupdate': 1720, 'bangsa': 1721, 'memudah': 1722, 'luarbiasa': 1723, 'generik': 1724, 'conect': 1725, 'emosi': 1726, 'unistal': 1727, 'menbantu': 1728, 'pin': 1729, 'sja': 1730, 'dikenal': 1731, 'plis': 1732, 'drg': 1733, 'dapatkan': 1734, 'menghabiskan': 1735, 'second': 1736, 'opinion': 1737, 'timur': 1738, 'gizi': 1739, 'ktnya': 1740, 'contoh': 1741, 'tnya': 1742, 'referensi': 1743, 'unduh': 1744, 'mengikuti': 1745, 'santun': 1746, 'pdahal': 1747, 'dipencet': 1748, 'sedia': 1749, 'konsultasikan': 1750, 'manusia': 1751, 'perhatikan': 1752, 'sesak': 1753, 'menyarankan': 1754, 'penyedia': 1755, 'please': 1756, 'mesage': 1757, 'nyawa': 1758, 'yaitu': 1759, 'sederhana': 1760, 'much': 1761, 'ditingal': 1762, 'tampilan': 1763, 'gede': 1764, 'at': 1765, 'gx': 1766, 'kelaman': 1767, 'balesan': 1768, 'menguntungkan': 1769, 'berlanganan': 1770, 'sejenis': 1771, 'sehingga': 1772, 'aduh': 1773, 'indomart': 1774, 'pda': 1775, 'disitu': 1776, 'advice': 1777, 'lgs': 1778, 'jatuh': 1779, 'versi': 1780, 'sebagian': 1781, 'meresepkan': 1782, 'nilai': 1783, 'gerak': 1784, 'refresh': 1785, 'kesehatanya': 1786, 'kta': 1787, 'partner': 1788, 'diangkat': 1789, 'pnya': 1790, 'keranjang': 1791, 'mengunakanya': 1792, 'diagnosanya': 1793, 'costumer': 1794, 'bogor': 1795, 'dpat': 1796, 'sebab': 1797, 'kesan': 1798, 'kurangnya': 1799, 'bedanya': 1800, 'namakan': 1801, 'rek': 1802, 'inovatif': 1803, 'yakin': 1804, 'seseorang': 1805, 'nyangka': 1806, 'besok': 1807, 'bilangnya': 1808, 'dananya': 1809, 'tht': 1810, 'hadir': 1811, 'bangun': 1812, 'membelikan': 1813, 'bohong': 1814, 'rumit': 1815, 'gajelas': 1816, 'menyampaikan': 1817, 'kemari': 1818, 'leluasa': 1819, 'alergi': 1820, 'susahnya': 1821, 'pekerjan': 1822, 'orangnya': 1823, 'quick': 1824, 'kelar': 1825, 'layar': 1826, 'tergantung': 1827, 'stabil': 1828, 'duitnya': 1829, 'bnar': 1830, 'terapi': 1831, 'halodokter': 1832, 'dtng': 1833, 'haduh': 1834, 'diarahkan': 1835, 'ruang': 1836, 'masya': 1837, 'peduli': 1838, 'diklik': 1839, 'sampek': 1840, 'mode': 1841, 'merepotkan': 1842, 'mengatakan': 1843, 'kinerja': 1844, 'angota': 1845, 'santai': 1846, 'membuka': 1847, 'tadinya': 1848, 'angkat': 1849, 'kirimnya': 1850, 'dijamin': 1851, 'anaknya': 1852, 'doktet': 1853, 'diakses': 1854, 'rebahan': 1855, 'dimudahkan': 1856, 'way': 1857, 'merawat': 1858, 'praktik': 1859, 'shope': 1860, 'ketakutan': 1861, 'bersahabat': 1862, 'balasanya': 1863, 'dikonsumsi': 1864, 'heheh': 1865, 'dibatalin': 1866, 'menciptakan': 1867, 'gratisan': 1868, 'sediakan': 1869, 'komplit': 1870, 'perbaikin': 1871, 'transaksinya': 1872, 'lebar': 1873, 'gomed': 1874, 'pcs': 1875, 'great': 1876, 'anjurkan': 1877, 'siaga': 1878, 'terkonfirmasi': 1879, 'rada': 1880, 'menghargai': 1881, 'dikasi': 1882, 'interaktif': 1883, 'kecemasan': 1884, 'satunya': 1885, 'hm': 1886, 'mkasih': 1887, 'charge': 1888, 'dilihat': 1889, 'pelosok': 1890, 'nyangkut': 1891, 'rugikan': 1892, 'sebesar': 1893, 'dbd': 1894, 'jangka': 1895, 'jempol': 1896, 'alesan': 1897, 'penyembuhan': 1898, 'handphone': 1899, 'pikiran': 1900, 'salep': 1901, 'memutuskan': 1902, 'amanah': 1903, 'sich': 1904, 'ngeselin': 1905, 'tipe': 1906, 'menginstal': 1907, 'apliaksi': 1908, 'mual': 1909, 'kdg': 1910, 'care': 1911, 'kiri': 1912, 'adik': 1913, 'disediakan': 1914, 'kesanya': 1915, 'bodoh': 1916, 'efesien': 1917, 'clear': 1918, 'box': 1919, 'wajar': 1920, 'larut': 1921, 'dinginkan': 1922, 'mengeluarkan': 1923, 'mendengar': 1924, 'persedian': 1925, 'spesialist': 1926, 'kawatir': 1927, 'sebagus': 1928, 'bosen': 1929, 'nanyain': 1930, 'stoknya': 1931, 'youtube': 1932, 'tulis': 1933, 'hitungan': 1934, 'telaten': 1935, 'brpa': 1936, 'daftarnya': 1937, 'complain': 1938, 'halodocnya': 1939, 'seringkali': 1940, 'bocor': 1941, 'dijangkau': 1942, 'notifnya': 1943, 'diberitahu': 1944, 'debet': 1945, 'refundnya': 1946, 'pengemasan': 1947, 'lngsng': 1948, 'lsng': 1949, 'grab': 1950, 'domisili': 1951, 'poko': 1952, 'mnjawab': 1953, 'pertamakali': 1954, 'cpet': 1955, 'dibandingkan': 1956, 'maksudnya': 1957, 'anterin': 1958, 'dsni': 1959, 'apsnya': 1960, 'menunjukan': 1961, 'kepuasan': 1962, 'dsat': 1963, 'kini': 1964, 'kabupaten': 1965, 'alias': 1966, 'gp': 1967, 'mengatasinya': 1968, 'berhubungan': 1969, 'prakteknya': 1970, 'asal': 1971, 'media': 1972, 'tuntas': 1973, 'berusaha': 1974, 'janjian': 1975, 'terpisah': 1976, 'reguler': 1977, 'waduh': 1978, 'ditampilkan': 1979, 'hadirnya': 1980, 'perkotan': 1981, 'skrang': 1982, 'nyesal': 1983, 'diulang': 1984, 'swt': 1985, 'penambahan': 1986, 'bercerita': 1987, 'layanin': 1988, 'cuaca': 1989, 'arahkan': 1990, 'kpan': 1991, 'jawa': 1992, 'arahanya': 1993, 'ditentukan': 1994, 'obatx': 1995, 'gopaynya': 1996, 'copy': 1997, 'cover': 1998, 'asuransinya': 1999, 'konsiltasi': 2000, 'mutasi': 2001, 'pilek': 2002, 'modal': 2003, 'membuang': 2004, 'rawan': 2005, 'useful': 2006, 'bnr': 2007, 'amazing': 2008, 'amal': 2009, 'dibawa': 2010, 'kmna': 2011, 'bertambah': 2012, 'unk': 2013, 'my': 2014, 'form': 2015, 'not': 2016, 'bye': 2017, 'realtime': 2018, 'perubahan': 2019, 'terpakai': 2020, 'perut': 2021, 'krg': 2022, 'sekalipun': 2023, 'penjahat': 2024, 'donload': 2025, 'va': 2026, 'og': 2027, 'menyebalkan': 2028, 'kesempatan': 2029, 'efisiensi': 2030, 'sah': 2031, 'smp': 2032, 'memastikan': 2033, 'terselesaikan': 2034, 'dibilang': 2035, 'semalam': 2036, 'humble': 2037, 'luang': 2038, 'msalah': 2039, 'kesusahan': 2040, 'pelayanya': 2041, 'kesah': 2042, 'mas': 2043, 'tolonglah': 2044, 'diketik': 2045, 'ac': 2046, 'huhu': 2047, 'beserta': 2048, 'dalamnya': 2049, 'perdana': 2050, 'kebawah': 2051, 'jwbn': 2052, 'ktika': 2053, 'chatingan': 2054, 'lari': 2055, 'ucapkan': 2056, 'fungsi': 2057, 'kgk': 2058, 'pastikan': 2059, 'kalender': 2060, 'penyampaian': 2061, 'tangerang': 2062, 'nunjukin': 2063, 'mengulang': 2064, 'memulai': 2065, 'setidak': 2066, 'berniat': 2067, 'mpermudah': 2068, 'mama': 2069, 'pembeli': 2070, 'naikin': 2071, 'rizki': 2072, 'mengharuskan': 2073, 'sisanya': 2074, 'ojek': 2075, 'lgsng': 2076, 'dipertahankan': 2077, 'anjing': 2078, 'lulusan': 2079, 'stay': 2080, 'prlu': 2081, 'halodock': 2082, 'krmh': 2083, 'qta': 2084, 'manfatkan': 2085, 'mengecek': 2086, 'pahala': 2087, 'jadwalnya': 2088, 'alodokter': 2089, 'aplikasiny': 2090, 'diare': 2091, 'kmn': 2092, 'trimah': 2093, 'tri': 2094, 'bengkak': 2095, 'ojolnya': 2096, 'gud': 2097, 'pola': 2098, 'moga': 2099, 'kekuranganya': 2100, 'langsng': 2101, 'mengeluh': 2102, 'dikirimkan': 2103, 'terbaru': 2104, 'kemahalan': 2105, 'close': 2106, 'juara': 2107, 'sombong': 2108, 'disekitar': 2109, 'motivasi': 2110, 'terlayani': 2111, 'diorder': 2112, 'mens': 2113, 'trimksh': 2114, 'haruskan': 2115, 'ordernya': 2116, 'handal': 2117, 'dengar': 2118, 'direfund': 2119, 'datangnya': 2120, 'didukung': 2121, 'mumpuni': 2122, 'mempercepat': 2123, 'tahan': 2124, 'menurun': 2125, 'sekarat': 2126, 'nganter': 2127, 'nomornya': 2128, 'kendaran': 2129, 'dijaman': 2130, 'kaku': 2131, 'asam': 2132, 'cimahi': 2133, 'nyaranin': 2134, 'spesial': 2135, 'barokah': 2136, 'dichat': 2137, 'kesekian': 2138, 'exp': 2139, 'bismilah': 2140, 'mambantu': 2141, 'merantau': 2142, 'drmh': 2143, 'gaes': 2144, 'temu': 2145, 'berinteraksi': 2146, 'menelepon': 2147, 'mbntu': 2148, 'utuk': 2149, 'jeda': 2150, 'delay': 2151, 'berlalu': 2152, 'enjoy': 2153, 'semudah': 2154, 'iklanya': 2155, 'nonton': 2156, 'tamah': 2157, 'fahami': 2158, 'mengatasnamakan': 2159, 'skg': 2160, 'comerce': 2161, 'prakter': 2162, 'apalikasi': 2163, 'option': 2164, 'hilangkan': 2165, 'tidk': 2166, 'diantarkan': 2167, 'seandainya': 2168, 'sisi': 2169, 'gimna': 2170, 'mengkonsultasikan': 2171, 'ngeluh': 2172, 'selisih': 2173, 'didownload': 2174, 'sekolah': 2175, 'memikirkan': 2176, 'berhubung': 2177, 'kalaupun': 2178, 'menjalani': 2179, 'penyelamat': 2180, 'sekeluarga': 2181, 'ekonomis': 2182, 'dikondisi': 2183, 'tbtb': 2184, 'hapy': 2185, 'respone': 2186, 'nyampenya': 2187, 'non': 2188, 'sarana': 2189, 'aktual': 2190, 'adain': 2191, 'remaja': 2192, 'kli': 2193, 'kluhan': 2194, 'bahaya': 2195, 'pesananya': 2196, 'fastrespon': 2197, 'tolol': 2198, 'sidoarjo': 2199, 'batasi': 2200, 'psb': 2201, 'lh': 2202, 'gaperlu': 2203, 'sosmed': 2204, 'urgen': 2205, 'mengurus': 2206, 'kerabat': 2207, 'urusanya': 2208, 'operasi': 2209, 'mebantu': 2210, 'karyawan': 2211, 'instan': 2212, 'mngkin': 2213, 'reapon': 2214, 'dikeadan': 2215, 'barakalah': 2216, 'century': 2217, 'lugas': 2218, 'parahnya': 2219, 'with': 2220, 'kyak': 2221, 'rantau': 2222, 'bgitu': 2223, 'desember': 2224, 'tertarik': 2225, 'bermutu': 2226, 'perawatan': 2227, 'ditipu': 2228, 'teruntuk': 2229, 'melayang': 2230, 'detai': 2231, 'gni': 2232, 'mengarahkan': 2233, 'disertai': 2234, 'depok': 2235, 'servis': 2236, 'miskin': 2237, 'rekan': 2238, 'minusnya': 2239, 'durasinya': 2240, 'balita': 2241, 'menghindari': 2242, 'layak': 2243, 'butuhnya': 2244, 'mesan': 2245, 'berdasarkan': 2246, 'rekom': 2247, 'henti': 2248, 'atur': 2249, 'mini': 2250, 'market': 2251, 'set': 2252, 'dokternyapun': 2253, 'bgtu': 2254, 'percoban': 2255, 'permintan': 2256, 'dikonsultasikan': 2257, 'history': 2258, 'lacak': 2259, 'kenpa': 2260, 'alianz': 2261, 'sayangkan': 2262, 'pesanya': 2263, 'sukak': 2264, 'nerima': 2265, 'berhalangan': 2266, 'konsumsi': 2267, 'berhati': 2268, 'shop': 2269, 'contohnya': 2270, 'tag': 2271, 'its': 2272, 'kegalauan': 2273, 'upgrade': 2274, 'berapapun': 2275, 'traveling': 2276, 'diselesaikan': 2277, 'huhuhu': 2278, 'list': 2279, 'aplk': 2280, 'kmi': 2281, 'rmah': 2282, 'bni': 2283, 'hri': 2284, 'nulis': 2285, 'fokus': 2286, 'tny': 2287, 'botol': 2288, 'buktinya': 2289, 'suplemen': 2290, 'case': 2291, 'na': 2292, 'bijak': 2293, 'membawa': 2294, 'playstore': 2295, 'kirimkan': 2296, 'rom': 2297, 'diadakan': 2298, 'berhari': 2299, 'dihilangkan': 2300, 'teramat': 2301, 'sebaik': 2302, 'sblmnya': 2303, 'respont': 2304, 'menurutku': 2305, 'maslah': 2306, 'mesen': 2307, 'perasan': 2308, 'diajukan': 2309, 'perusahan': 2310, 'ng': 2311, 'kerjan': 2312, 'okelah': 2313, 'degan': 2314, 'mbanking': 2315, 'meng': 2316, 'respin': 2317, 'senilai': 2318, 'lengkapi': 2319, 'whatsap': 2320, 'bosan': 2321, 'cantumin': 2322, 'toh': 2323, 'penangulangan': 2324, 'keluh': 2325, 'nawarin': 2326, 'paru': 2327, 'bang': 2328, 'help': 2329, 'nyobain': 2330, 'spesifik': 2331, 'med': 2332, 'ungah': 2333, 'pengarahan': 2334, 'hadeuh': 2335, 'masi': 2336, 'dilengkapi': 2337, 'kertas': 2338, 'lansung': 2339, 'manis': 2340, 'standar': 2341, 'istri': 2342, 'melacak': 2343, 'operator': 2344, 'tingkatin': 2345, 'najwa': 2346, 'kenyatanya': 2347, 'dijalankan': 2348, 'konsuktasi': 2349, 'performa': 2350, 'plastik': 2351, 'tersesat': 2352, 'andalan': 2353, 'bangus': 2354, 'menyesuaikan': 2355, 'sela': 2356, 'kawan': 2357, 'meyakinkan': 2358, 'komen': 2359, 'artinya': 2360, 'lebaran': 2361, 'diganti': 2362, 'segitu': 2363, 'tv': 2364, 'dibayarkan': 2365, 'promosi': 2366, 'mencarikan': 2367, 'dipotong': 2368, 'cust': 2369, 'penjelasnya': 2370, 'evaluasi': 2371, 'pantau': 2372, 'jabodetabek': 2373, 'ibadah': 2374, 'memperoleh': 2375, 'menebus': 2376, 'halodic': 2377, 'gofod': 2378, 'investigasi': 2379, 'penderita': 2380, 'kupon': 2381, 'sengaja': 2382, 'selesaikan': 2383, 'adminya': 2384, 'home': 2385, 'cuz': 2386, 'tingalnya': 2387, 'vc': 2388, 'banding': 2389, 'ditindak': 2390, 'dengam': 2391, 'dikejar': 2392, 'telefon': 2393, 'lampung': 2394, 'lapor': 2395, 'mencobanya': 2396, 'date': 2397, 'memberkati': 2398, 'ntah': 2399, 'maklum': 2400, 'hargai': 2401, 'jiwa': 2402, 'secepat': 2403, 'pelacakan': 2404, 'terbukti': 2405, 'limit': 2406, 'nik': 2407, 'radang': 2408, 'ngabisin': 2409, 'menipu': 2410, 'irt': 2411, 'menjual': 2412, 'umumnya': 2413, 'pemesananya': 2414, 'disi': 2415, 'mantan': 2416, 'temui': 2417, 'adany': 2418, 'syuka': 2419, 'deskripsi': 2420, 'dikira': 2421, 'aloh': 2422, 'ingris': 2423, 'dsa': 2424, 'seakan': 2425, 'sepenuhnya': 2426, 'mengucapkan': 2427, 'pemula': 2428, 'menghilangkan': 2429, 'komplen': 2430, 'lebh': 2431, 'tanks': 2432, 'engk': 2433, 'lanjutan': 2434, 'kiranya': 2435, 'belakang': 2436, 'invoice': 2437, 'takutnya': 2438, 'down': 2439, 'rumahsakit': 2440, 'ekspedisi': 2441, 'seharga': 2442, 'onlen': 2443, 'rubah': 2444, 'tercover': 2445, 'orderanya': 2446, 'asalan': 2447, 'mag': 2448, 'konsisten': 2449, 'duper': 2450, 'gb': 2451, 'thnks': 2452, 'asma': 2453, 'alaikum': 2454, 'doktor': 2455, 'puaslah': 2456, 'flek': 2457, 'ber': 2458, 'aplgi': 2459, 'dirasa': 2460, 'lampirkan': 2461, 'pembuat': 2462, 'patut': 2463, 'mengatur': 2464, 'pokokny': 2465, 'lamanya': 2466, 'kemungkinan': 2467, 'menuju': 2468, 'nyarinya': 2469, 'galau': 2470, 'putih': 2471, 'menitan': 2472, 'trlebih': 2473, 'perbarui': 2474, 'sbnrnya': 2475, 'suru': 2476, 'menyerang': 2477, 'kabur': 2478, 'urat': 2479, 'suda': 2480, 'nganterin': 2481, 'keinget': 2482, 'kelanjutanya': 2483, 'pnyakit': 2484, 'diperjelas': 2485, 'experience': 2486, 'kliniknya': 2487, 'milenial': 2488, 'aplilasi': 2489, 'sblum': 2490, 'haladoc': 2491, 'panadol': 2492, 'angin': 2493, 'melengkapi': 2494, 'vitur': 2495, 'harapanya': 2496, 'dsini': 2497, 'drive': 2498, 'marah': 2499, 'psikologis': 2500, 'ngelag': 2501, 'tertangani': 2502, 'vocer': 2503, 'bayangin': 2504, 'mengetik': 2505, 'detailnya': 2506, 'credit': 2507, 'kya': 2508, 'verifikasinya': 2509, 'dirmh': 2510, 'ush': 2511, 'sagat': 2512, 'smkin': 2513, 'keinginan': 2514, 'tkt': 2515, 'rekomend': 2516, 'gangu': 2517, 'nongol': 2518, 'wlpn': 2519, 'pemberitahuanya': 2520, 'star': 2521, 'beresiko': 2522, 'paten': 2523, 'terimahkasih': 2524, 'puji': 2525, 'kecelakan': 2526, 'jwabnya': 2527, 'waspada': 2528, 'sambung': 2529, 'seram': 2530, 'gps': 2531, 'menyapa': 2532, 'nantinya': 2533, 'bok': 2534, 'reminder': 2535, 'didapatkan': 2536, 'agustus': 2537, 'sanga': 2538, 'terpikirkan': 2539, 'tangani': 2540, 'hrg': 2541, 'terlihat': 2542, 'diawal': 2543, 'basa': 2544, 'basi': 2545, 'merespons': 2546, 'sempurna': 2547, 'merk': 2548, 'rate': 2549, 'yabg': 2550, 'telinga': 2551, 'diharapkan': 2552, 'terbang': 2553, 'terpapar': 2554, 'tkut': 2555, 'kecuali': 2556, 'ingat': 2557, 'tksh': 2558, 'menikmati': 2559, 'memuaskn': 2560, 'memperluas': 2561, 'kepepet': 2562, 'tidaknya': 2563, 'cobain': 2564, 'kehidupan': 2565, 'geser': 2566, 'nyarin': 2567, 'jualan': 2568, 'kenal': 2569, 'memeriksakan': 2570, 'itupun': 2571, 'doktrnya': 2572, 'rumh': 2573, 'mu': 2574, 'ditelfon': 2575, 'diatasi': 2576, 'mengaku': 2577, 'snagat': 2578, 'ketemuan': 2579, 'ngecek': 2580, 'trmakasih': 2581, 'pol': 2582, 'gerai': 2583, 'nominal': 2584, 'ampe': 2585, 'share': 2586, 'nada': 2587, 'sekalu': 2588, 'senaknya': 2589, 'ketikan': 2590, 'asik': 2591, 'tegang': 2592, 'diapotek': 2593, 'semacam': 2594, 'kering': 2595, 'bersaing': 2596, 'dokterpun': 2597, 'belit': 2598, 'terbaca': 2599, 'tabu': 2600, 'saling': 2601, 'dangat': 2602, 'disayangkan': 2603, 'lombok': 2604, 'melalu': 2605, 'banyaknya': 2606, 'apanya': 2607, 'efek': 2608, 'niatnya': 2609, 'panic': 2610, 'april': 2611, 'muhamad': 2612, 'insyalah': 2613, 'slot': 2614, 'diubah': 2615, 'bawel': 2616, 'pickup': 2617, 'ngehubungin': 2618, 'us': 2619, 'berkati': 2620, 'kesehat': 2621, 'ketahuan': 2622, 'melanda': 2623, 'tegas': 2624, 'terhambat': 2625, 'dibidang': 2626, 'nasehat': 2627, 'unik': 2628, 'disentuh': 2629, 'belajar': 2630, 'lenyap': 2631, 'bali': 2632, 'krtu': 2633, 'tep': 2634, 'banya': 2635, 'smuanya': 2636, 'dijual': 2637, 'jantung': 2638, 'paste': 2639, 'percepat': 2640, 'dlam': 2641, 'respony': 2642, 'padahl': 2643, 'perawat': 2644, 'batasan': 2645, 'menerus': 2646, 'ajib': 2647, 'privasi': 2648, 'shopepay': 2649, 'rumahnya': 2650, 'antivirus': 2651, 'personal': 2652, 'berfungsi': 2653, 'semestinya': 2654, 'hbs': 2655, 'ahirnya': 2656, 'back': 2657, 'berinovasi': 2658, 'seumur': 2659, 'ngelayani': 2660, 'nyusahin': 2661, 'sepele': 2662, 'rasain': 2663, 'kelanjutan': 2664, 'apalah': 2665, 'pelajar': 2666, 'puasa': 2667, 'dripada': 2668, 'inovan': 2669, 'konek': 2670, 'ketarik': 2671, 'konsultasipun': 2672, 'oh': 2673, 'perkenalkan': 2674, 'mendaftarkan': 2675, 'spya': 2676, 'kunjungan': 2677, 'gresik': 2678, 'dimalam': 2679, 'harinya': 2680, 'pengoperasianya': 2681, 'kembangin': 2682, 'crash': 2683, 'keuntungan': 2684, 'het': 2685, 'praktiknya': 2686, 'skarang': 2687, 'paylater': 2688, 'pembayarn': 2689, 'kesakitan': 2690, 'menjalankan': 2691, 'selang': 2692, 'pasif': 2693, 'sanagt': 2694, 'bangt': 2695, 'trimksih': 2696, 'reservasi': 2697, 'cuan': 2698, 'temanhidupsehat': 2699, 'life': 2700, 'antisipasi': 2701, 'sodara': 2702, 'mnta': 2703, 'dihadapi': 2704, 'hrsnya': 2705, 'jual': 2706, 'bulanan': 2707, 'dirugikan': 2708, 'kerjanya': 2709, 'ter': 2710, 'diskonya': 2711, 'menjangkau': 2712, 'kenakan': 2713, 'berlebihan': 2714, 'stres': 2715, 'dokt': 2716, 'menahan': 2717, 'medicilin': 2718, 'usul': 2719, 'menyimpulkan': 2720, 'report': 2721, 'digit': 2722, 'pedesan': 2723, 'pintar': 2724, 'penganteran': 2725, 'maksud': 2726, 'pulau': 2727, 'digratiskan': 2728, 'besoknya': 2729, 'rujuk': 2730, 'late': 2731, 'tarifnya': 2732, 'dipaksa': 2733, 'perantauan': 2734, 'pungut': 2735, 'mereda': 2736, 'dgan': 2737, 'terimksih': 2738, 'responsive': 2739, 'reaksi': 2740, 'masuknya': 2741, 'enaknya': 2742, 'jwaban': 2743, 'padhal': 2744, 'minus': 2745, 'onlinenya': 2746, 'ketiga': 2747, 'dokumen': 2748, 'fit': 2749, 'perbedan': 2750, 'beragam': 2751, 'pkok': 2752, 'kompeten': 2753, 'lamban': 2754, 'sadar': 2755, 'putuskan': 2756, 'tercancel': 2757, 'kabarnya': 2758, 'isa': 2759, 'feature': 2760, 'shot': 2761, 'udahan': 2762, 'terang': 2763, 'pertma': 2764, 'klok': 2765, 'kadaluarsa': 2766, 'kebuka': 2767, 'ditindaklanjuti': 2768, 'terkoneksi': 2769, 'pling': 2770, 'abangnya': 2771, 'atu': 2772, 'ramai': 2773, 'aplikasihnya': 2774, 'seharus': 2775, 'berlanjut': 2776, 'pengisian': 2777, 'penyebabnya': 2778, 'memanfatkan': 2779, 'kritis': 2780, 'izin': 2781, 'prima': 2782, 'tanda': 2783, 'dibls': 2784, 'motor': 2785, 'dibenerin': 2786, 'complaint': 2787, 'dtang': 2788, 'berkala': 2789, 'wilayahnya': 2790, 'kelengkapan': 2791, 'berkaitan': 2792, 'ratingnya': 2793, 'segel': 2794, 'consultasi': 2795, 'utarakan': 2796, 'selaku': 2797, 'kediri': 2798, 'cencel': 2799, 'kategori': 2800, 'mbak': 2801, 'akunya': 2802, 'jenisnya': 2803, 'halodox': 2804, 'kronologi': 2805, 'gadget': 2806, 'menakut': 2807, 'nakuti': 2808, 'penurun': 2809, 'beranda': 2810, 'apalg': 2811, 'penerbangan': 2812, 'senin': 2813, 'kesedot': 2814, 'dasar': 2815, 'tuju': 2816, 'petugasnya': 2817, 'lumayanlah': 2818, 'chek': 2819, 'pingin': 2820, 'hancur': 2821, 'bangke': 2822, 'luka': 2823, 'rina': 2824, 'terbilang': 2825, 'buk': 2826, 'ri': 2827, 'okay': 2828, 'busuk': 2829, 'g': 2830, 'dipercaya': 2831, 'sekalinya': 2832, 'insya': 2833, 'bangsat': 2834, 'kordinasi': 2835, 'instansi': 2836, 'semisal': 2837, 'nungunya': 2838, 'diperbarui': 2839, 'pkm': 2840, 'file': 2841, 'pembelianya': 2842, 'inget': 2843, 'mendatangi': 2844, 'merupakan': 2845, 'bungkus': 2846, 'seolah': 2847, 'segalanya': 2848, 'perjanjian': 2849, 'struk': 2850, 'jamnya': 2851, 'menganalisa': 2852, 'cangung': 2853, 'recomen': 2854, 'bayaran': 2855, 'disc': 2856, 'pengecekan': 2857, 'tokonya': 2858, 'btuh': 2859, 'perantau': 2860, 'ratusan': 2861, 'menambahkan': 2862, 'lipat': 2863, 'kerjasamanya': 2864, 'ceritanya': 2865, 'keputusan': 2866, 'apain': 2867, 'skip': 2868, 'klien': 2869, 'ta': 2870, 'web': 2871, 'jangkauanya': 2872, 'diwaktu': 2873, 'makanan': 2874, 'ngejelasin': 2875, 'nolak': 2876, 'lindungi': 2877, 'interface': 2878, 'kebuang': 2879, 'jangkau': 2880, 'kep': 2881, 'obtnya': 2882, 'terharu': 2883, 'ketepatan': 2884, 'tlong': 2885, 'pangilan': 2886, 'suara': 2887, 'doa': 2888, 'nyuruh': 2889, 'disambungkan': 2890, 'dipungut': 2891, 'maunya': 2892, 'dicantumkan': 2893, 'wekend': 2894, 'nanda': 2895, 'menyangkut': 2896, 'kuku': 2897, 'masker': 2898, 'kemajuan': 2899, 'makai': 2900, 'biarpun': 2901, 'pengembangan': 2902, 'beruntung': 2903, 'pakenya': 2904, 'cinta': 2905, 'brmanfat': 2906, 'asing': 2907, 'menganti': 2908, 'keberadan': 2909, 'taiwan': 2910, 'thnk': 2911, 'freze': 2912, 'rupanya': 2913, 'dipersulit': 2914, 'hotel': 2915, 'psikolognya': 2916, 'pembelajaran': 2917, 'cenderung': 2918, 'kapal': 2919, 'sifatnya': 2920, 'tersampaikan': 2921, 'maaf': 2922, 'me': 2923, 'direkomendasi': 2924, 'saranin': 2925, 'histori': 2926, 'selamanya': 2927, 'berlangsung': 2928, 'gratiskan': 2929, 'kotak': 2930, 'gojeg': 2931, 'pernh': 2932, 'dibuatkan': 2933, 'peliharan': 2934, 'bidan': 2935, 'kepercayan': 2936, 'om': 2937, 'sebenrnya': 2938, 'usahakan': 2939, 'segini': 2940, 'aplikasix': 2941, 'konsutasi': 2942, 'diam': 2943, 'hadiah': 2944, 'belinya': 2945, 'gabung': 2946, 'hehehehe': 2947, 'penyelesaian': 2948, 'send': 2949, 'berkomentar': 2950, 'meminimalisir': 2951, 'berharga': 2952, 'smuah': 2953, 'stand': 2954, 'terintegrasi': 2955, 'dimintai': 2956, 'pemakai': 2957, 'pengemudi': 2958, 'gawat': 2959, 'pendidikan': 2960, 'stngh': 2961, 'reinstal': 2962, 'tengorokan': 2963, 'restart': 2964, 'kejar': 2965, 'rusak': 2966, 'yag': 2967, 'halaman': 2968, 'spog': 2969, 'mengirimkan': 2970, 'ditelp': 2971, 'te': 2972, 'heran': 2973, 'kasoh': 2974, 'thanx': 2975, 'bkin': 2976, 'mngnakan': 2977, 'menjawabnya': 2978, 'numcard': 2979, 'ongkosnya': 2980, 'hdwatson': 2981, 'sejumlah': 2982, 'brgnya': 2983, 'terambil': 2984, 'memotong': 2985, 'obatn': 2986, 'fu': 2987, 'acetone': 2988, 'ngebalin': 2989, 'sepi': 2990, 'keberatan': 2991, 'oia': 2992, 'transportasi': 2993, 'mnjelaskan': 2994, 'klaim': 2995, 'perketat': 2996, 'alkes': 2997, 'janjinya': 2998, 'sukamto': 2999, 'berbahasa': 3000, 'simi': 3001, 'mutar': 3002, 'himbauan': 3003, 'kesibukanya': 3004, 'ungkapin': 3005, 'benarbenar': 3006, 'etika': 3007, 'rekomendid': 3008, 'terjaga': 3009, 'buntu': 3010, 'paracetamol': 3011, 'estimasinya': 3012, 'kemanusian': 3013, 'dimusim': 3014, 'vit': 3015, 'muntah': 3016, 'layaknya': 3017, 'otot': 3018, 'persendian': 3019, 'perna': 3020, 'hipertensi': 3021, 'nan': 3022, 'yv': 3023, 'sinkron': 3024, 'cekout': 3025, 'mirip': 3026, 'dewa': 3027, 'ori': 3028, 'barokalohu': 3029, 'disertakan': 3030, 'unlimited': 3031, 'mengaktifkan': 3032, 'didesa': 3033, 'plat': 3034, 'failed': 3035, 'brilian': 3036, 'kegelisahan': 3037, 'gas': 3038, 'agr': 3039, 'promil': 3040, 'menunya': 3041, 'kerumunan': 3042, 'lokal': 3043, 'claim': 3044, 'dear': 3045, 'pegawai': 3046, 'perluasan': 3047, 'samping': 3048, 'apklikasi': 3049, 'blokir': 3050, 'urus': 3051, 'diketahui': 3052, 'fasien': 3053, 'sedetail': 3054, 'ia': 3055, 'layan': 3056, 'sialan': 3057, 'msukan': 3058, 'handpone': 3059, 'digitalisasi': 3060, 'pasyen': 3061, 'interaksi': 3062, 'bayangkan': 3063, 'asyik': 3064, 'dinstal': 3065, 'click': 3066, 'ramahramah': 3067, 'tlpon': 3068, 'menjelaskanya': 3069, 'beraktifitas': 3070, 'kususnya': 3071, 'jlas': 3072, 'penyedian': 3073, 'menyusui': 3074, 'ningalin': 3075, 'peningkatan': 3076, 'ditambahin': 3077, 'saranku': 3078, 'get': 3079, 'contact': 3080, 'ringkas': 3081, 'mervi': 3082, 'chandra': 3083, 'pertimbangkan': 3084, 'dikeluhkan': 3085, 'mark': 3086, 'asu': 3087, 'apus': 3088, 'aturan': 3089, 'posisinya': 3090, 'gegabah': 3091, 'aplikasikan': 3092, 'diet': 3093, 'antrean': 3094, 'tergolong': 3095, 'cashles': 3096, 'berjaga': 3097, 'peta': 3098, 'diperbaikin': 3099, 'line': 3100, 'jelasnya': 3101, 'nurul': 3102, 'djwb': 3103, 'browsing': 3104, 'arus': 3105, 'tulang': 3106, 'kesempurnan': 3107, 'milik': 3108, 'sejenisnya': 3109, 'mematikan': 3110, 'cart': 3111, 'un': 3112, 'menyempatkan': 3113, 'tergesa': 3114, 'gesa': 3115, 'sebanding': 3116, 'nyaris': 3117, 'terdebet': 3118, 'godluck': 3119, 'meningalkan': 3120, 'sekrg': 3121, 'weh': 3122, 'manja': 3123, 'memantau': 3124, 'scren': 3125, 'menceritakan': 3126, 'hem': 3127, 'donasikan': 3128, 'jumlahnya': 3129, 'menilai': 3130, 'pop': 3131, 'sebel': 3132, 'konfirm': 3133, 'bahagia': 3134, 'ditingkat': 3135, 'nol': 3136, 'terpecaya': 3137, 'b': 3138, 'ideal': 3139, 'hak': 3140, 'menemui': 3141, 'diperiksa': 3142, 'nt': 3143, 'medisnya': 3144, 'game': 3145, 'disamping': 3146, 'brobat': 3147, 'sangay': 3148, 'persatu': 3149, 'keberkahan': 3150, 'diharuskan': 3151, 'tampilkan': 3152, 'delete': 3153, 'akh': 3154, 'raib': 3155, 'hang': 3156, 'infeksi': 3157, 'dingin': 3158, 'panasnya': 3159, 'kesal': 3160, 'jl': 3161, 'hatur': 3162, 'pindah': 3163, 'sesuka': 3164, 'cuti': 3165, 'barat': 3166, 'mamih': 3167, 'rezpon': 3168, 'khusunya': 3169, 'wawasan': 3170, 'downloadnya': 3171, 'anehnya': 3172, 'bekas': 3173, 'langka': 3174, 'tagihan': 3175, 'raya': 3176, 'skitar': 3177, 'kuatir': 3178, 'dalm': 3179, 'langsubg': 3180, 'kerumahsakit': 3181, 'tranfer': 3182, 'gogling': 3183, 'jne': 3184, 'sepanjang': 3185, 'dilancarkan': 3186, 'postingan': 3187, 'kelas': 3188, 'pemalu': 3189, 'slowrespon': 3190, 'random': 3191, 'pertahan': 3192, 'jaringanya': 3193, 'cancelan': 3194, 'gadungan': 3195, 'membutuh': 3196, 'pkek': 3197, 'made': 3198, 'bhkan': 3199, 'jk': 3200, 'dibawah': 3201, 'ekspektasi': 3202, 'pelayananx': 3203, 'sebenar': 3204, 'jembatan': 3205, 'membimbing': 3206, 'cus': 3207, 'lma': 3208, 'pedalaman': 3209, 'arahin': 3210, 'konsulatasi': 3211, 'trms': 3212, 'terhindar': 3213, 'tertular': 3214, 'embel': 3215, 'nginstal': 3216, 'arum': 3217, 'pelangi': 3218, 'okeh': 3219, 'datengnya': 3220, 'menjelekan': 3221, 'kepastian': 3222, 'seadanya': 3223, 'melawan': 3224, 'mengandalkan': 3225, 'jan': 3226, 'feb': 3227, 'njir': 3228, 'ketolong': 3229, 'sndri': 3230, 'sldo': 3231, 'refound': 3232, 'nanyak': 3233, 'chatinganya': 3234, 'lope': 3235, 'nangung': 3236, 'cantumkan': 3237, 'tremenza': 3238, 'dk': 3239, 'memberika': 3240, 'terhitung': 3241, 'pe': 3242, 'darimana': 3243, 'aplikas': 3244, 'pendapat': 3245, 'hape': 3246, 'dibawakan': 3247, 'dijam': 3248, 'warahmatulahi': 3249, 'lengkapnya': 3250, 'menyehatkan': 3251, 'aktifitas': 3252, 'walopun': 3253, 'respinya': 3254, 'perintah': 3255, 'pemakaianya': 3256, 'ngantar': 3257, 'banged': 3258, 'hei': 3259, 'membangun': 3260, 'visa': 3261, 'termurah': 3262, 'seminguan': 3263, 'hubungin': 3264, 'dm': 3265, 'keponakan': 3266, 'ata': 3267, 'ayolah': 3268, 'slowresp': 3269, 'jumat': 3270, 'dibohongi': 3271, 'uh': 3272, 'bertumpuk': 3273, 'smart': 3274, 'sign': 3275, 'tingalin': 3276, 'dkternya': 3277, 'dinformasikan': 3278, 'sampel': 3279, 'reschedule': 3280, 'hubungkan': 3281, 'sang': 3282, 'mengedukasi': 3283, 'datangi': 3284, 'membabtu': 3285, 'dkasih': 3286, 'opo': 3287, 'hidung': 3288, 'bertarif': 3289, 'tahunya': 3290, 'telapak': 3291, 'tumit': 3292, 'tdr': 3293, 'cepetan': 3294, 'komentar': 3295, 'prihal': 3296, 'siapin': 3297, 'tlng': 3298, 'karenakan': 3299, 'meriksa': 3300, 'ngerasain': 3301, 'ditmpat': 3302, 'jatim': 3303, 'harua': 3304, 'kesokan': 3305, 'spg': 3306, 'even': 3307, 'jarum': 3308, 'berisiko': 3309, 'original': 3310, 'sinyalnya': 3311, 'menguasai': 3312, 'judes': 3313, 'mitos': 3314, 'jadikan': 3315, 'negri': 3316, 'responsip': 3317, 'kurg': 3318, 'mersa': 3319, 'haram': 3320, 'artis': 3321, 'kelakuan': 3322, 'fikir': 3323, 'tugas': 3324, 'terhalang': 3325, 'carinya': 3326, 'ketingalan': 3327, 'upnya': 3328, 'nangapin': 3329, 'didaftarkan': 3330, 'kasir': 3331, 'memuat': 3332, 'faq': 3333, 'asuh': 3334, 'stlah': 3335, 'bis': 3336, 'dijanjikan': 3337, 'padahalkan': 3338, 'disebabkan': 3339, 'ket': 3340, 'stanby': 3341, 'doktermya': 3342, 'syariah': 3343, 'kelihatanya': 3344, 'yanh': 3345, 'tigkatkan': 3346, 'haloc': 3347, 'kalu': 3348, 'rw': 3349, 'undangan': 3350, 'pesenya': 3351, 'membalasnya': 3352, 'ats': 3353, 'halal': 3354, 'menyita': 3355, 'keliru': 3356, 'timbul': 3357, 'dagang': 3358, 'kebenaranya': 3359, 'optimal': 3360, 'dipermainkan': 3361, 'heheheh': 3362, 'dokernya': 3363, 'dipasaran': 3364, 'mesin': 3365, 'wil': 3366, 'sgot': 3367, 'sgpt': 3368, 'lan': 3369, 'keresahan': 3370, 'kejang': 3371, 'naikan': 3372, 'manjawab': 3373, 'bandingkan': 3374, 'bersifat': 3375, 'pasaran': 3376, 'jombang': 3377, 'insyaloh': 3378, 'memadai': 3379, 'ceklis': 3380, 'kuwatir': 3381, 'kelihatan': 3382, 'deman': 3383, 'misalkan': 3384, 'sgat': 3385, 'maksimalkan': 3386, 'halangan': 3387, 'pengingat': 3388, 'menutup': 3389, 'fatal': 3390, 'bget': 3391, 'kdpny': 3392, 'tab': 3393, 'doank': 3394, 'terduga': 3395, 'mdhan': 3396, 'gambaran': 3397, 'skedar': 3398, 'kolesterol': 3399, 'penentuan': 3400, 'membantuku': 3401, 'menyikapi': 3402, 'permaslahan': 3403, 'geratis': 3404, 'blsnya': 3405, 'rekananya': 3406, 'pengaduan': 3407, 'jwban': 3408, 'responsnya': 3409, 'sekitaran': 3410, 'inj': 3411, 'perkiran': 3412, 'memperhatikan': 3413, 'meningal': 3414, 'edukatif': 3415, 'kunjungi': 3416, 'ikuti': 3417, 'akibatnya': 3418, 'buatan': 3419, 'ramh': 3420, 'ijin': 3421, 'kamera': 3422, 'cekatan': 3423, 'pengembang': 3424, 'anthony': 3425, 'wibawa': 3426, 'cewek': 3427, 'belikan': 3428, 'hebatnya': 3429, 'terusan': 3430, 'agk': 3431, 'autodebet': 3432, 'ega': 3433, 'astari': 3434, 'perlindungan': 3435, 'kekirim': 3436, 'motong': 3437, 'indikasi': 3438, 'dikotak': 3439, 'direvisi': 3440, 'alamt': 3441, 'memangnya': 3442, 'mncari': 3443, 'mkanan': 3444, 'diunduh': 3445, 'trdekat': 3446, 'dibatas': 3447, 'tambahi': 3448, 'terwujud': 3449, 'gengaman': 3450, 'mamak': 3451, 'smntara': 3452, 'sedekah': 3453, 'ngejelasinya': 3454, 'gamblang': 3455, 'bahasanya': 3456, 'pelaporan': 3457, 'ludes': 3458, 'seperi': 3459, 'drumah': 3460, 'berdarah': 3461, 'save': 3462, 'dicerna': 3463, 'konseling': 3464, 'terkirimnya': 3465, 'juan': 3466, 'kebaca': 3467, 'dikirimnya': 3468, 'sunguhan': 3469, 'awesome': 3470, 'menerbitkan': 3471, 'receipt': 3472, 'noted': 3473, 'berjaya': 3474, 'performanya': 3475, 'berbenah': 3476, 'tntang': 3477, 'responsible': 3478, 'disuka': 3479, 'aplg': 3480, 'ginjal': 3481, 'diberhentikan': 3482, 'laporkan': 3483, 'blz': 3484, 'pangil': 3485, 'pencegahan': 3486, 'mutu': 3487, 'helpdesk': 3488, 'dimohon': 3489, 'viva': 3490, 'lanjutanya': 3491, 'tangkap': 3492, 'dpet': 3493, 'sdkit': 3494, 'malah': 3495, 'nmbah': 3496, 'esok': 3497, 'curvit': 3498, 'prabayar': 3499, 'duwit': 3500, 'slowres': 3501, 'drh': 3502, 'langsg': 3503, 'dokterku': 3504, 'tlf': 3505, 'terkontrol': 3506, 'cobak': 3507, 'peringatan': 3508, 'khalid': 3509, 'dokterya': 3510, 'riwayatnya': 3511, 'krja': 3512, 'ketujuan': 3513, 'andai': 3514, 'membanti': 3515, 'men': 3516, 'syang': 3517, 'komunikasinya': 3518, 'masukn': 3519, 'bensin': 3520, 'terdeteksi': 3521, 'note': 3522, 'brang': 3523, 'ngerespon': 3524, 'fotokan': 3525, 'faham': 3526, 'jayapura': 3527, 'tmpat': 3528, 'psikologi': 3529, 'kebijakan': 3530, 'responx': 3531, 'dokte': 3532, 'dioperasikan': 3533, 'menjadikan': 3534, 'sejelas': 3535, 'dipertimbangkan': 3536, 'obrolan': 3537, 'dituju': 3538, 'diresep': 3539, 'perbaikanya': 3540, 'new': 3541, 'pdhak': 3542, 'swasta': 3543, 'koyo': 3544, 'kondusif': 3545, 'terdampak': 3546, 'tersisa': 3547, 'duitan': 3548, 'seumpama': 3549, 'simpang': 3550, 'situ': 3551, 'penerima': 3552, 'vildi': 3553, 'mengontrol': 3554, 'kalimantan': 3555, 'bumi': 3556, 'katakan': 3557, 'dimasukan': 3558, 'blok': 3559, 'patokan': 3560, 'ary': 3561, 'koneksinya': 3562, 'mengancel': 3563, 'bakar': 3564, 'furi': 3565, 'semahal': 3566, 'bunyi': 3567, 'bulak': 3568, 'untu': 3569, 'hold': 3570, 'downlod': 3571, 'btul': 3572, 'dikatakan': 3573, 'php': 3574, 'dibenahi': 3575, 'menyambungkan': 3576, 'buanget': 3577, 'kejelsan': 3578, 'karana': 3579, 'aulya': 3580, 'namum': 3581, 'intensif': 3582, 'putus': 3583, 'tertutup': 3584, 'sumber': 3585, 'mainya': 3586, 'sampenya': 3587, 'alpikasi': 3588, 'berdedikasi': 3589, 'loket': 3590, 'jagan': 3591, 'introvert': 3592, 'sial': 3593, 'dipelosok': 3594, 'we': 3595, 'pengertian': 3596, 'menangapinya': 3597, 'mengutarakan': 3598, 'pengembalianya': 3599, 'jelasinya': 3600, 'gataunya': 3601, 'pt': 3602, 'pembatasan': 3603, 'mendarat': 3604, 'manajemen': 3605, 'projek': 3606, 'dijalan': 3607, 'persentase': 3608, 'terpenuhi': 3609, 'angap': 3610, 'semula': 3611, 'menang': 3612, 'brtanya': 3613, 'meminum': 3614, 'dimatikan': 3615, 'alodok': 3616, 'sepuasnya': 3617, 'nyampai': 3618, 'fungsinya': 3619, 'merubah': 3620, 'viny': 3621, 'mengigil': 3622, 'mengusulkan': 3623, 'dikembalin': 3624, 'dengarkan': 3625, 'stars': 3626, 'serangan': 3627, 'hewanya': 3628, 'sosial': 3629, 'diupgrade': 3630, 'aplication': 3631, 'memdapatkan': 3632, 'money': 3633, 'cv': 3634, 'olah': 3635, 'persulit': 3636, 'recoment': 3637, 'syukur': 3638, 'impresion': 3639, 'social': 3640, 'distancing': 3641, 'semarang': 3642, 'doker': 3643, 'pencipta': 3644, 'kenyatan': 3645, 'lapangan': 3646, 'paketnya': 3647, 'ngobrolnya': 3648, 'dipilihkan': 3649, 'isinya': 3650, 'direspons': 3651, 'tertukar': 3652, 'wajah': 3653, 'berjuang': 3654, 'many': 3655, 'jls': 3656, 'dimaklumi': 3657, 'mohin': 3658, 'fix': 3659, 'mengantung': 3660, 'keamanan': 3661, 'komputer': 3662, 'terisi': 3663, 'astaga': 3664, 'hasan': 3665, 'nurhayati': 3666, 'tunggu': 3667, 'ketagihan': 3668, 'pantang': 3669, 'sesuaikan': 3670, 'bagusan': 3671, 'jalur': 3672, 'alihkan': 3673, 'bego': 3674, 'dikantor': 3675, 'instalasi': 3676, 'nysel': 3677, 'kang': 3678, 'yt': 3679, 'lunas': 3680, 'ek': 3681, 'x': 3682, 'dikternya': 3683, 'fan': 3684, 'tabungan': 3685, 'cat': 3686, 'halamanya': 3687, 'sehebat': 3688, 'utara': 3689, 'pemotongan': 3690, 'nomot': 3691, 'perjelas': 3692, 'pertanyanku': 3693, 'bermafat': 3694, 'maklumi': 3695, 'pembuatan': 3696, 'disetiap': 3697, 'bandar': 3698, 'janjikan': 3699, 'mengenali': 3700, 'iming': 3701, 'mail': 3702, 'kumat': 3703, 'melelahkan': 3704, 'dimasukin': 3705, 'dikembangin': 3706, 'mantaplah': 3707, 'dompetnya': 3708, 'utamanya': 3709, 'makenya': 3710, 'mengubah': 3711, 'menderita': 3712, 'arinda': 3713, 'tifak': 3714, 'mudh': 3715, 'bugnya': 3716, 'ceritakan': 3717, 'pungung': 3718, 'may': 3719, 'sebanyak': 3720, 'selagi': 3721, 'ogahan': 3722, 'keramahan': 3723, 'bdw': 3724, 'lambung': 3725, 'menyayangkan': 3726, 'bgi': 3727, 'pembayatan': 3728, 'ditunjukan': 3729, 'patner': 3730, 'murahkan': 3731, 'rekomondasikan': 3732, 'sukai': 3733, 'major': 3734, 'develop': 3735, 'kilat': 3736, 'pending': 3737, 'atasi': 3738, 'terimankasih': 3739, 'ditunjuk': 3740, 'tl': 3741, 'disuru': 3742, 'faksin': 3743, 'text': 3744, 'big': 3745, 'intuk': 3746, 'menanganinya': 3747, 'pesankan': 3748, 'consultation': 3749, 'berkonsuktasi': 3750, 'ngeluarin': 3751, 'penyampaianya': 3752, 'proud': 3753, 'doktwr': 3754, 'outlet': 3755, 'dimenu': 3756, 'feny': 3757, 'menghakimi': 3758, 'pencairan': 3759, 'telpn': 3760, 'thks': 3761, 'ig': 3762, 'lewan': 3763, 'berkolsultasi': 3764, 'memangkas': 3765, 'sam': 3766, 'pembyran': 3767, 'tercinta': 3768, 'dmana': 3769, 'buah': 3770, 'spesialisasi': 3771, 'diriwayat': 3772, 'track': 3773, 'gapernah': 3774, 'ngntri': 3775, 'msti': 3776, 'msuk': 3777, 'pmbayaran': 3778, 'sekiranya': 3779, 'asi': 3780, 'dipesankan': 3781, 'bima': 3782, 'yalah': 3783, 'ketidak': 3784, 'sure': 3785, 'haldok': 3786, 'lag': 3787, 'letak': 3788, 'bisanya': 3789, 'rawat': 3790, 'mengidap': 3791, 'pengarahanya': 3792, 'solution': 3793, 'malaysia': 3794, 'memberitahukan': 3795, 'kondultasi': 3796, 'kolomnya': 3797, 'memgatasi': 3798, 'papa': 3799, 'tergabung': 3800, 'keuangan': 3801, 'acept': 3802, 'menulis': 3803, 'berkhasiat': 3804, 'diceritain': 3805, 'resah': 3806, 'semacamnya': 3807, 'ngecewain': 3808, 'bermodalkan': 3809, 'maksa': 3810, 'paksa': 3811, 'penarikan': 3812, 'richard': 3813, 'samsudin': 3814, 'infokan': 3815, 'store': 3816, 'cetak': 3817, 'basic': 3818, 'alhadulilah': 3819, 'batu': 3820, 'ampuh': 3821, 'terjngkau': 3822, 'memaksa': 3823, 'mempelajari': 3824, 'asalamu': 3825, 'olahraga': 3826, 'sue': 3827, 'sekrng': 3828, 'maksimum': 3829, 'nyadar': 3830, 'air': 3831, 'pertangung': 3832, 'smentara': 3833, 'alhamdlh': 3834, 'kalkulator': 3835, 'menangis': 3836, 'hitung': 3837, 'mudahnya': 3838, 'menyuruh': 3839, 'bntang': 3840, 'servernya': 3841, 'hana': 3842, 'baek': 3843, 'nafasnya': 3844, 'administrasi': 3845, 'gais': 3846, 'tepotong': 3847, 'dinaikin': 3848, 'siapkan': 3849, 'menentu': 3850, 'maret': 3851, 'sekrang': 3852, 'pick': 3853, 'biru': 3854, 'procold': 3855, 'insto': 3856, 'penjelasany': 3857, 'dihubungkan': 3858, 'format': 3859, 'mekanisme': 3860, 'suasana': 3861, 'diatur': 3862, 'pengobatanya': 3863, 'menghormati': 3864, 'padalah': 3865, 'pemeratan': 3866, 'dikirm': 3867, 'hadi': 3868, 'lemah': 3869, 'mal': 3870, 'watson': 3871, 'diaknosa': 3872, 'mempertahankan': 3873, 'isu': 3874, 'ladang': 3875, 'sokter': 3876, 'polip': 3877, 'tega': 3878, 'memfasilitasi': 3879, 'terua': 3880, 'kaum': 3881, 'serv': 3882, 'resikonya': 3883, 'aplikai': 3884, 'mencerahkan': 3885, 'reset': 3886, 'ecek': 3887, 'kebayang': 3888, 'melindungi': 3889, 'benerin': 3890, 'pulih': 3891, 'haid': 3892, 'resepin': 3893, 'oktober': 3894, 'dinfo': 3895, 'putri': 3896, 'dipesen': 3897, 'ae': 3898, 'pengirimanx': 3899, 'naluri': 3900, 'fitriyasa': 3901, 'berlebih': 3902, 'omeprazole': 3903, 'tergangu': 3904, 'sisa': 3905, 'pergunakan': 3906, 'nampak': 3907, 'bacan': 3908, 'rajin': 3909, 'sudahi': 3910, 'shinga': 3911, 'diatas': 3912, 'gmail': 3913, 'rupiah': 3914, 'rapidnya': 3915, 'aktifkan': 3916, 'tersegel': 3917, 'disni': 3918, 'pemahaman': 3919, 'dukungan': 3920, 'orgtua': 3921, 'akut': 3922, 'sanagat': 3923, 'nadya': 3924, 'sayng': 3925, 'gemes': 3926, 'samanya': 3927, 'komplek': 3928, 'berkata': 3929, 'apoinment': 3930, 'bodong': 3931, 'stuck': 3932, 'kepake': 3933, 'ditlp': 3934, 'trauma': 3935, 'giginya': 3936, 'barunya': 3937, 'tumbuh': 3938, 'sertai': 3939, 'mnjwb': 3940, 'vertifikasi': 3941, 'sebutkan': 3942, 'gog': 3943, 'memaksakan': 3944, 'akting': 3945, 'bes': 3946, 'tetima': 3947, 'karina': 3948, 'bertuliskan': 3949, 'jawabn': 3950, 'pejuang': 3951, 'packaging': 3952, 'menyeluruh': 3953, 'selektif': 3954, 'turunin': 3955, 'sembarang': 3956, 'terproses': 3957, 'pengenya': 3958, 'mkn': 3959, 'membatasi': 3960, 'memasang': 3961, 'melainkan': 3962, 'open': 3963, 'krena': 3964, 'bermnfat': 3965, 'demikian': 3966, 'sdngkan': 3967, 'perkembanganya': 3968, 'dus': 3969, 'todak': 3970, 'bencana': 3971, 'smpet': 3972, 'tiduran': 3973, 'ketahui': 3974, 'mncoba': 3975, 'diseluruh': 3976, 'jaksel': 3977, 'irna': 3978, 'berpergian': 3979, 'when': 3980, 'brunei': 3981, 'menyulitkan': 3982, 'samsung': 3983, 'formal': 3984, 'bantuin': 3985, 'gra': 3986, 'menuliskan': 3987, 'bulanya': 3988, 'dwngan': 3989, 'mengajukan': 3990, 'gbsa': 3991, 'diresepi': 3992, 'drefund': 3993, 'dowlod': 3994, 'nich': 3995, 'bintik': 3996, 'bersih': 3997, 'pakainya': 3998, 'tentuin': 3999, 'cumn': 4000, 'wktunya': 4001, 'persoalan': 4002, 'dugan': 4003, 'mkin': 4004, 'wel': 4005, 'tk': 4006, 'nyampaikan': 4007, 'menyelamatkan': 4008, 'scra': 4009, 'trmksih': 4010, 'tepatnya': 4011, 'masalh': 4012, 'nmn': 4013, 'menagih': 4014, 'diperoleh': 4015, 'nha': 4016, 'materi': 4017, 'mengcancel': 4018, 'bepergian': 4019, 'heidy': 4020, 'cerdas': 4021, 'penawaran': 4022, 'jawabany': 4023, 'mendekatkan': 4024, 'nti': 4025, 'rancabentang': 4026, 'samgat': 4027, 'bacanya': 4028, 'ruam': 4029, 'coment': 4030, 'jumpa': 4031, 'sensi': 4032, 'disetujui': 4033, 'bermacam': 4034, 'dampak': 4035, 'penularan': 4036, 'terimaksh': 4037, 'ribuan': 4038, 'hy': 4039, 'kesayangan': 4040, 'takjub': 4041, 'benahi': 4042, 'merespkan': 4043, 'bertahun': 4044, 'dimintanya': 4045, 'berfikir': 4046, 'orangtua': 4047, 'doctor': 4048, 'diracik': 4049, 'melaksanakan': 4050, 'marketingnya': 4051, 'jitu': 4052, 'bahan': 4053, 'adan': 4054, 'carikan': 4055, 'belakangan': 4056, 'bayarkan': 4057, 'laen': 4058, 'direct': 4059, 'sales': 4060, 'habisin': 4061, 'kehilangan': 4062, 'pinter': 4063, 'mandi': 4064, 'joint': 4065, 'felicia': 4066, 'koment': 4067, 'take': 4068, 'bagai': 4069, 'faktor': 4070, 'tertahankan': 4071, 'akurasikan': 4072, 'bersetubuh': 4073, 'diberkati': 4074, 'lock': 4075, 'jng': 4076, 'konsultsi': 4077, 'disajikan': 4078, 'wory': 4079, 'mendingan': 4080, 'penangan': 4081, 'terbalas': 4082, 'perfoma': 4083, 'biarkan': 4084, 'agus': 4085, 'duid': 4086, 'syukurlah': 4087, 'februari': 4088, 'dptnya': 4089, 'cept': 4090, 'gbu': 4091, 'ceklist': 4092, 'diabetes': 4093, 'nganternya': 4094, 'berkesan': 4095, 'disalah': 4096, 'gang': 4097, 'kelurahan': 4098, 'kebagian': 4099, 'carla': 4100, 'pecah': 4101, 'kegunanya': 4102, 'photo': 4103, 'dialihkan': 4104, 'drever': 4105, 'customernya': 4106, 'berpengaruh': 4107, 'klinya': 4108, 'konaulnya': 4109, 'omongan': 4110, 'mekasih': 4111, 'vocher': 4112, 'bapa': 4113, 'matikan': 4114, 'keamanya': 4115, 'terbaiknya': 4116, 'tertama': 4117, 'ortua': 4118, 'dikampung': 4119, 'inpo': 4120, 'kwatir': 4121, 'diaktifkan': 4122, 'bertenaga': 4123, 'always': 4124, 'satisfied': 4125, '½jam': 4126, 'prostat': 4127, 'pantas': 4128, 'wasalamu': 4129, 'doktornya': 4130, 'tanyanya': 4131, 'sesatai': 4132, 'ram': 4133, 'telkomsel': 4134, 'diwajah': 4135, 'teks': 4136, 'atay': 4137, 'chatan': 4138, 'bangking': 4139, 'setengh': 4140, 'almat': 4141, 'bawh': 4142, 'resiko': 4143, 'daya': 4144, 'mùngkin': 4145, 'mebntu': 4146, 'diksih': 4147, 'blak': 4148, 'aslinya': 4149, 'konsulpun': 4150, 'ngilangin': 4151, 'iritasi': 4152, 'minyak': 4153, 'kelapa': 4154, 'bn': 4155, 'jasanya': 4156, 'ajar': 4157, 'paseinya': 4158, 'aflikasinya': 4159, 'ikhlaskan': 4160, 'pandemu': 4161, 'membalasa': 4162, 'hilangin': 4163, 'chatanbya': 4164, 'helpfuly': 4165, 'smartphone': 4166, 'mapnya': 4167, 'cating': 4168, 'gerbangnya': 4169, 'sanmol': 4170, 'kayu': 4171, 'caplang': 4172, 'nyelametin': 4173, 'brkonsultasi': 4174, 'trhubung': 4175, 'cacing': 4176, 'vonis': 4177, 'saraf': 4178, 'noropatek': 4179, 'deabet': 4180, 'driji': 4181, 'setruk': 4182, 'sebela': 4183, 'penglihatan': 4184, 'buram': 4185, 'profelin': 4186, 'analsik': 4187, 'kolestrol': 4188, 'aspilet': 4189, 'metformen': 4190, 'diresponya': 4191, 'operatornya': 4192, 'jatihandap': 4193, 'cicaheum': 4194, 'anternya': 4195, 'nyrocos': 4196, 'isnya': 4197, 'simbiosismutualisme': 4198, 'deliveri': 4199, 'bernafas': 4200, 'bisakah': 4201, 'ngetiknya': 4202, 'pengirimanpun': 4203, 'acon': 4204, 'transfernya': 4205, 'perlengkap': 4206, 'indo': 4207, 'bia': 4208, 'subhanalah': 4209, 'langsing': 4210, 'tibatiba': 4211, 'jazakumulohu': 4212, 'khoiron': 4213, 'fiykum': 4214, 'oder': 4215, 'membedakan': 4216, 'karakteristik': 4217, 'sepuluh': 4218, 'intuitif': 4219, 'kasihnya': 4220, 'mengaktif': 4221, 'telvon': 4222, 'rifund': 4223, 'disempurnakan': 4224, 'nopolnya': 4225, 'trobosan': 4226, 'ramaha': 4227, 'liburpun': 4228, 'cuba': 4229, 'mgingtkan': 4230, 'deteksi': 4231, 'sjk': 4232, 'nengenai': 4233, 'halkdoc': 4234, 'tersesidia': 4235, 'mndesak': 4236, 'dekstop': 4237, 'mengenal': 4238, 'sebaikmya': 4239, 'drivenya': 4240, 'letakan': 4241, 'grar': 4242, 'mempersiapkan': 4243, 'dialfa': 4244, 'dilingkungan': 4245, 'sertakan': 4246, 'produknya': 4247, 'janua': 4248, 'terhormat': 4249, 'inactive': 4250, 'dinact': 4251, 'penunjang': 4252, 'kadek': 4253, 'wejangan': 4254, 'mnyudutkan': 4255, 'diskonsp': 4256, 'zp': 4257, 'velutin': 4258, 'inhealer': 4259, 'terkreditkan': 4260, 'melapor': 4261, 'sekatang': 4262, 'regard': 4263, 'kuliahnya': 4264, 'oemasukan': 4265, 'nyapun': 4266, 'bimbingan': 4267, 'bnyaknya': 4268, 'jwabn': 4269, 'mengobatinya': 4270, 'berbuah': 4271, 'kuponya': 4272, 'parktis': 4273, 'resef': 4274, 'fonis': 4275, 'draftnya': 4276, 'berbincang': 4277, 'ngantrinya': 4278, 'anytime': 4279, 'nyesuain': 4280, 'capk': 4281, 'ongks': 4282, 'transport': 4283, 'beruntun': 4284, 'mempasilitasi': 4285, 'menjelas': 4286, 'ditail': 4287, 'mantunya': 4288, 'ndk': 4289, 'pasca': 4290, 'ngelacak': 4291, 'jejak': 4292, 'conclusion': 4293, 'dojter': 4294, 'krj': 4295, 'suksma': 4296, 'handle': 4297, 'thanka': 4298, 'kcil': 4299, 'ngedapet': 4300, 'membigunkan': 4301, 'pagilan': 4302, 'sekalin': 4303, 'tolon': 4304, 'ehehehe': 4305, 'kelegan': 4306, 'aplicable': 4307, 'mengembangkan': 4308, 'mengakses': 4309, 'pengaruh': 4310, 'arah': 4311, 'marketing': 4312, 'melayaninya': 4313, 'payanan': 4314, 'actualnya': 4315, 'ditelepon': 4316, 'ditakutkan': 4317, 'ketegasan': 4318, 'aksesnya': 4319, 'mimpi': 4320, 'dibuatnya': 4321, 'semngat': 4322, 'baikbaik': 4323, 'ngaco': 4324, 'diperbharui': 4325, 'biya': 4326, 'bait': 4327, 'persis': 4328, 'skaiy': 4329, 'blang': 4330, 'benr': 4331, 'infornasinya': 4332, 'kalaug': 4333, 'penyakin': 4334, 'diselesain': 4335, 'ngegantung': 4336, 'pengecualian': 4337, 'creating': 4338, 'sibuknya': 4339, 'pasal': 4340, 'kgopay': 4341, 'serbaguna': 4342, 'prepesi': 4343, 'manula': 4344, 'berpartisipasi': 4345, 'ges': 4346, 'pulak': 4347, 'tros': 4348, 'efisirn': 4349, 'kejadinya': 4350, 'adiku': 4351, 'norek': 4352, 'database': 4353, 'perli': 4354, 'mengantre': 4355, 'berjumpa': 4356, 'panduan': 4357, 'melenceng': 4358, 'sesunguhnya': 4359, 'keterlaluan': 4360, 'abisin': 4361, 'berjangka': 4362, 'kluaraga': 4363, 'aplksnya': 4364, 'konds': 4365, 'pmbelian': 4366, 'sktr': 4367, 'didpt': 4368, 'mantapa': 4369, 'matur': 4370, 'sembah': 4371, 'nuwun': 4372, 'kakarta': 4373, 'maumere': 4374, 'diulasa': 4375, 'diani': 4376, 'ayu': 4377, 'rezki': 4378, 'cadangan': 4379, 'informativ': 4380, 'tempuh': 4381, 'kesalahn': 4382, 'lutanyl': 4383, 'ngasihnya': 4384, 'bisolvon': 4385, 'kegunan': 4386, 'mencoreng': 4387, 'hbngi': 4388, 'mksi': 4389, 'setalah': 4390, 'disemua': 4391, 'mengetahu': 4392, 'pencgobatanya': 4393, 'ditawarin': 4394, 'amoun': 4395, 'seprti': 4396, 'djawab': 4397, 'memjawab': 4398, 'temenya': 4399, 'sendi': 4400, 'istilah': 4401, 'jgan': 4402, 'makadari': 4403, 'ketuka': 4404, 'ngeblank': 4405, 'kilinik': 4406, 'napas': 4407, 'dewasa': 4408, 'donwloand': 4409, 'askamex': 4410, 'triomin': 4411, 'bersedia': 4412, 'yidak': 4413, 'tingaktin': 4414, 'chetnya': 4415, 'berkuranh': 4416, 'nelen': 4417, 'disembuh': 4418, 'txkan': 4419, 'dikarnakan': 4420, 'stidaknya': 4421, 'tidakan': 4422, 'imformasi': 4423, 'mreka': 4424, 'dalurat': 4425, 'mendekati': 4426, 'indomaretnya': 4427, 'terakomodir': 4428, 'helodok': 4429, 'empati': 4430, 'jago': 4431, 'menjelasnya': 4432, 'sbagai': 4433, 'dokternga': 4434, 'raman': 4435, 'kinerjanya': 4436, 'kurangi': 4437, 'tramsaksi': 4438, 'ujan': 4439, 'kagum': 4440, 'drpada': 4441, 'smngat': 4442, 'kalah': 4443, 'mslah': 4444, 'jwab': 4445, 'donasi': 4446, 'deskriptif': 4447, 'dokternta': 4448, 'mempermuda': 4449, 'exsis': 4450, 'alhmdhulilah': 4451, 'trbuka': 4452, 'lmayan': 4453, 'nyamn': 4454, 'tbt': 4455, 'ngelayanin': 4456, 'vaksi': 4457, 'sultasi': 4458, 'gomart': 4459, 'donlowd': 4460, 'season': 4461, 'paksakan': 4462, 'pinalti': 4463, 'pembatalanya': 4464, 'downlaod': 4465, 'updated': 4466, 'materialistis': 4467, 'yar': 4468, 'bahas': 4469, 'ngalor': 4470, 'ngidul': 4471, 'rsi': 4472, 'muhamadiyah': 4473, 'singkil': 4474, 'tegal': 4475, 'smntra': 4476, 'penjlsn': 4477, 'terimksh': 4478, 'disarakan': 4479, 'semnjqk': 4480, 'wlw': 4481, 'maksh': 4482, 'rapot': 4483, 'oeduli': 4484, 'kesehatn': 4485, 'solutip': 4486, 'bagaimna': 4487, 'hqrga': 4488, 'oka': 4489, 'dokternyajuga': 4490, 'masyalh': 4491, 'tabarakaloh': 4492, 'transparan': 4493, 'sekadar': 4494, 'risih': 4495, 'ditelfonin': 4496, 'mantapl': 4497, 'menelpon': 4498, 'pemaksan': 4499, 'pertangunganjawabnya': 4500, 'kerahasian': 4501, 'beramnafat': 4502, 'membnatu': 4503, 'sangta': 4504, 'lidya': 4505, 'daei': 4506, 'ngeclose': 4507, 'diklan': 4508, 'kupang': 4509, 'prkatis': 4510, 'pnjlasan': 4511, 'ksluruhan': 4512, 'mndwlod': 4513, 'kdokteran': 4514, 'memerluka': 4515, 'ml': 4516, 'pubg': 4517, 'berpatisipasi': 4518, 'gratisanya': 4519, 'tnyakan': 4520, 'beliaunya': 4521, 'beanfat': 4522, 'gapunya': 4523, 'et': 4524, 'cetera': 4525, 'fertigo': 4526, 'cetingan': 4527, 'terpecah': 4528, 'az': 4529, 'kebagi': 4530, 'profesionalnya': 4531, 'danbyg': 4532, 'recemended': 4533, 'tip': 4534, 'memegang': 4535, 'bayarlah': 4536, 'sekolahnya': 4537, 'leboh': 4538, 'menjelskan': 4539, 'pertanan': 4540, 'asalamuaikum': 4541, 'wr': 4542, 'wb': 4543, 'wiwi': 4544, 'saputri': 4545, 'makasar': 4546, 'sehiga': 4547, 'jrn': 4548, 'sblumnya': 4549, 'mjleskan': 4550, 'mberikn': 4551, 'mtikan': 4552, 'brterima': 4553, 'rela': 4554, 'keluasan': 4555, 'ngescrol': 4556, 'terpampang': 4557, 'tangep': 4558, 'ginih': 4559, 'hrh': 4560, 'tgng': 4561, 'jamur': 4562, 'malamnya': 4563, 'paginya': 4564, 'kulitnya': 4565, 'saking': 4566, 'mengefaluasi': 4567, 'clarisa': 4568, 'wiryadi': 4569, 'py': 4570, 'alamatx': 4571, 'rasional': 4572, 'respect': 4573, 'berpikiran': 4574, 'kerjsama': 4575, 'nasihat': 4576, 'nmun': 4577, 'zalim': 4578, 'negatifnya': 4579, 'tetaptertarik': 4580, 'berturut': 4581, 'signal': 4582, 'consultasinya': 4583, 'tanganin': 4584, 'palah': 4585, 'ytb': 4586, 'sikecil': 4587, 'permulan': 4588, 'ngu': 4589, 'tercepat': 4590, 'pkny': 4591, 'grtis': 4592, 'obatanya': 4593, 'jawqban': 4594, 'chatx': 4595, 'dokternx': 4596, 'menjaeab': 4597, 'adem': 4598, 'lancarkan': 4599, 'uki': 4600, 'pereda': 4601, 'verivikasinya': 4602, 'gmh': 4603, 'serdang': 4604, 'jemput': 4605, 'remajakan': 4606, 'double': 4607, 'cost': 4608, 'uray': 4609, 'rouly': 4610, 'azhars': 4611, 'aparat': 4612, 'terserah': 4613, 'mongo': 4614, 'mengawatirkan': 4615, 'skoter': 4616, 'ditampil': 4617, 'dilayar': 4618, 'disesuikan': 4619, 'terekam': 4620, 'articlenya': 4621, 'article': 4622, 'sengat': 4623, 'hangarnya': 4624, 'inhealth': 4625, 'ditanganinya': 4626, 'keputus': 4627, 'anyway': 4628, 'dibutuhkanya': 4629, 'kebangan': 4630, 'terbiasa': 4631, 'corvid': 4632, 'menhgunakan': 4633, 'mberi': 4634, 'ugd': 4635, 'mostly': 4636, 'kru': 4637, 'berbintang': 4638, 'dinegri': 4639, 'konsutai': 4640, 'adahalo': 4641, 'bisabayar': 4642, 'keseluruh': 4643, 'gabalik': 4644, 'swabnya': 4645, 'setahu': 4646, 'responyaboun': 4647, 'mintain': 4648, 'kosongkan': 4649, 'belanjanya': 4650, 'max': 4651, 'cibis': 4652, 'keberangkatan': 4653, 'lambarnya': 4654, 'langkanya': 4655, 'halidoc': 4656, 'lainyaeh': 4657, 'untukalian': 4658, 'depresi': 4659, 'kerumitan': 4660, 'iktikad': 4661, 'luncurkan': 4662, 'cory': 4663, 'khathren': 4664, 'mengekspektasikan': 4665, 'djwab': 4666, 'ternya': 4667, 'ferifikasinya': 4668, 'betuk': 4669, 'trselesaikan': 4670, 'wktnya': 4671, 'mesenge': 4672, 'cheat': 4673, 'bermanfatnya': 4674, 'cairkan': 4675, 'peng': 4676, 'mngalami': 4677, 'hsilnya': 4678, 'hrganya': 4679, 'memperjelas': 4680, 'fakir': 4681, 'visit': 4682, 'fabiola': 4683, 'vani': 4684, 'jamin': 4685, 'jazakalah': 4686, 'khayr': 4687, 'whoever': 4688, 'absolutely': 4689, 'kemarenan': 4690, 'seperempat': 4691, 'selau': 4692, 'syarat': 4693, 'donglowd': 4694, 'sb': 4695, 'perekonomian': 4696, 'maklumin': 4697, 'sebenarx': 4698, 'khususx': 4699, 'sayangx': 4700, 'kedepanx': 4701, 'diminati': 4702, 'trackernya': 4703, 'searching': 4704, 'datail': 4705, 'ekg': 4706, 'irama': 4707, 'detak': 4708, 'xixi': 4709, 'berinisiatif': 4710, 'aplikask': 4711, 'disekeliling': 4712, 'keklinik': 4713, 'berkreasi': 4714, 'segampang': 4715, 'menjangkaunya': 4716, 'konektivitas': 4717, 'hatus': 4718, 'antarkan': 4719, 'menunghu': 4720, 'aplokasi': 4721, 'ribek': 4722, 'hpkj': 4723, 'sengaknya': 4724, 'cemana': 4725, 'keluyuran': 4726, 'semu': 4727, 'ngiklanin': 4728, 'malesin': 4729, 'leat': 4730, 'kesepakatan': 4731, 'mempersingkat': 4732, 'kyknya': 4733, 'berkerjakeras': 4734, 'dibarisan': 4735, 'bumiku': 4736, 'regards': 4737, 'menyiptakan': 4738, 'ansuransi': 4739, 'ty': 4740, 'matin': 4741, 'teryata': 4742, 'kabari': 4743, 'dlunya': 4744, 'resept': 4745, 'diambilkan': 4746, 'calcel': 4747, 'berbayarpun': 4748, 'berkurng': 4749, 'kosltasi': 4750, 'gliran': 4751, 'kosul': 4752, 'terjangkaj': 4753, 'nominalnya': 4754, 'dbeli': 4755, 'rhinos': 4756, 'memperbaharui': 4757, 'dintanyakan': 4758, 'ilmiah': 4759, 'marketplace': 4760, 'terkenal': 4761, 'spti': 4762, 'sh': 4763, 'tokop': 4764, 'laris': 4765, 'mematok': 4766, 'mempertingi': 4767, 'taraf': 4768, 'keselamatan': 4769, 'debitcard': 4770, 'dibelakang': 4771, 'hack': 4772, 'disadap': 4773, 'jahat': 4774, 'seketika': 4775, 'dimunculkan': 4776, 'frans': 4777, 'jeremy': 4778, 'mnm': 4779, 'bobo': 4780, 'begadang': 4781, 'skitnya': 4782, 'wabarakatu': 4783, 'denganya': 4784, 'khatrina': 4785, 'otentikasi': 4786, 'bangey': 4787, 'inovasinya': 4788, 'ikhlas': 4789, 'jariah': 4790, 'aspar': 4791, 'rafiq': 4792, 'masanger': 4793, 'operasional': 4794, 'amlodipine': 4795, 'candesartan': 4796, 'nasabah': 4797, 'berkedok': 4798, 'ati': 4799, 'aroma': 4800, 'coi': 4801, 'health': 4802, 'mnurutku': 4803, 'pegal': 4804, 'bwrguna': 4805, 'mendiagnosanya': 4806, 'mom': 4807, 'newby': 4808, 'lanjutnya': 4809, 'priksain': 4810, 'redund': 4811, 'intisari': 4812, 'pintu': 4813, 'dikunci': 4814, 'ternyta': 4815, 'model': 4816, 'overload': 4817, 'kehandle': 4818, 'diginin': 4819, 'maluin': 4820, 'blablabla': 4821, 'ikhlasin': 4822, 'mintai': 4823, 'terkaitlah': 4824, 'menjdi': 4825, 'reply': 4826, 'nantik': 4827, 'nyolot': 4828, 'ngajak': 4829, 'berantem': 4830, 'gegara': 4831, 'pelacak': 4832, 'withdrawl': 4833, 'sekalih': 4834, 'base': 4835, 'pulihkan': 4836, 'exsisting': 4837, 'keracunan': 4838, 'sembuhkan': 4839, 'fed': 4840, 'platform': 4841, 'curhatku': 4842, 'serinya': 4843, 'mnrut': 4844, 'penyakitan': 4845, 'prodia': 4846, 'trkait': 4847, 'shng': 4848, 'dhlu': 4849, 'reaponya': 4850, 'ikhtiyar': 4851, 'menyulitakan': 4852, 'dam': 4853, 'sejisnya': 4854, 'beristrahat': 4855, 'terkapar': 4856, 'sepert': 4857, 'boring': 4858, 'kirimin': 4859, 'mbuat': 4860, 'sosok': 4861, 'device': 4862, 'bgitulun': 4863, 'amazed': 4864, 'satified': 4865, 'pangkal': 4866, 'diperantauan': 4867, 'evasari': 4868, 'dikonfirm': 4869, 'ingatkan': 4870, 'perobatan': 4871, 'nyut': 4872, 'septa': 4873, 'meliya': 4874, 'rahmi': 4875, 'douwnload': 4876, 'tasa': 4877, 'pnh': 4878, 'langeng': 4879, 'dandung': 4880, 'bawono': 4881, 'dibalik': 4882, 'diberkahi': 4883, 'kebahagian': 4884, 'mendwonload': 4885, 'stuasi': 4886, 'sekarng': 4887, 'chsting': 4888, 'mungkib': 4889, 'kelucikan': 4890, 'seles': 4891, 'tis': 4892, 'senila': 4893, 'rekomendsi': 4894, 'mengunanakan': 4895, 'silanhkan': 4896, 'merebak': 4897, 'jateng': 4898, 'menilainya': 4899, 'fod': 4900, 'junction': 4901, 'tiru': 4902, 'pisah': 4903, 'kebersihan': 4904, 'tertusuk': 4905, 'sndrian': 4906, 'semaput': 4907, 'kurangin': 4908, 'nutup': 4909, 'ngata': 4910, 'ngatain': 4911, 'pecat': 4912, 'panduanya': 4913, 'yey': 4914, 'eko': 4915, 'santoso': 4916, 'kram': 4917, 'rasax': 4918, 'melisa': 4919, 'mencekam': 4920, 'setempat': 4921, 'tehnologi': 4922, 'nunaknunuk': 4923, 'tunarungu': 4924, 'vs': 4925, 'refrensi': 4926, 'knowledge': 4927, 'pemabayaranya': 4928, 'vhalo': 4929, 'amit': 4930, 'ikalan': 4931, 'ndonlot': 4932, 'amyar': 4933, 'pembayara': 4934, 'ngembalin': 4935, 'heung': 4936, 'ngebingungin': 4937, 'diconfirm': 4938, 'tengkiu': 4939, 'dipastikan': 4940, 'dibalkan': 4941, 'nlpn': 4942, 'batalain': 4943, 'lumyn': 4944, 'seputr': 4945, 'keshatan': 4946, 'bersngktan': 4947, 'hrusnya': 4948, 'penjlsan': 4949, 'prtnyan': 4950, 'kecwa': 4951, 'diabaikan': 4952, 'serupiah': 4953, 'nafkahin': 4954, 'putar': 4955, 'kecewe': 4956, 'merefund': 4957, 'mengembalikan': 4958, 'kontl': 4959, 'gaguna': 4960, 'bgts': 4961, 'msa': 4962, 'mngunakn': 4963, 'mngenai': 4964, 'permasalahn': 4965, 'aplikatif': 4966, 'mbanti': 4967, 'imitasi': 4968, 'ditemani': 4969, 'nakutin': 4970, 'boby': 4971, 'merakyat': 4972, 'folowup': 4973, 'skarng': 4974, 'bersemangat': 4975, 'hariku': 4976, 'redirect': 4977, 'berpaling': 4978, 'audit': 4979, 'uploud': 4980, 'perempuan': 4981, 'sesegera': 4982, 'brkembang': 4983, 'kedaerah': 4984, 'pakarnya': 4985, 'baghs': 4986, 'terkafang': 4987, 'berkmbang': 4988, 'sangatbantu': 4989, 'rekomdasi': 4990, 'gils': 4991, 'dipertimbabgkan': 4992, 'dituliskan': 4993, 'syukron': 4994, 'sejelasnya': 4995, 'tidsk': 4996, 'peraturan': 4997, 'perundang': 4998, 'mnrt': 4999, 'kasusnya': 5000, 'berpotensi': 5001, 'disalahngunakan': 5002, 'baguslah': 5003, 'yuven': 5004, 'nulisnya': 5005, 'sekenanya': 5006, 'keras': 5007, 'diemail': 5008, 'skeluarga': 5009, 'trimaksh': 5010, 'diberlakukan': 5011, 'bersaman': 5012, 'tertingi': 5013, 'ina': 5014, 'berlokasi': 5015, 'yuni': 5016, 'rutinan': 5017, 'tangalan': 5018, 'semen': 5019, 'dinput': 5020, 'meremehkan': 5021, 'tangungjawab': 5022, 'faktanya': 5023, 'tngjwab': 5024, 'prepaid': 5025, 'niaga': 5026, 'toleransi': 5027, 'difahami': 5028, 'inventori': 5029, 'sekelas': 5030, 'berkendara': 5031, 'berdiam': 5032, 'jenius': 5033, 'omg': 5034, 'whoah': 5035, 'pencari': 5036, 'keberadanya': 5037, 'frendi': 5038, 'sesolutif': 5039, 'legit': 5040, 'sikolog': 5041, 'nikmat': 5042, 'dustakan': 5043, 'actively': 5044, 'friends': 5045, 'statement': 5046, 'temulawak': 5047, 'hanphone': 5048, 'overated': 5049, 'suntuk': 5050, 'berbantu': 5051, 'hayang': 5052, 'bermangfat': 5053, 'bernasib': 5054, 'kasar': 5055, 'trgantung': 5056, 'jualnya': 5057, 'diramahin': 5058, 'konsulatsi': 5059, 'kedpn': 5060, 'grabpay': 5061, 'kompatibel': 5062, 'angat': 5063, 'adax': 5064, 'klrg': 5065, 'inputnya': 5066, 'menghilang': 5067, 'copot': 5068, 'denga': 5069, 'diputuskan': 5070, 'esoknya': 5071, 'diatar': 5072, 'nebu': 5073, 'berpnglmn': 5074, 'sepet': 5075, 'mempermainkan': 5076, 'mencakup': 5077, 'penyembuhanya': 5078, 'umbar': 5079, 'mojokerto': 5080, 'dibelikan': 5081, 'dikasir': 5082, 'ngabantu': 5083, 'mdh': 5084, 'kondisinya': 5085, 'fina': 5086, 'revisi': 5087, 'betapa': 5088, 'mika': 5089, 'pemghasilan': 5090, 'nakes': 5091, 'disalahgunain': 5092, 'hafal': 5093, 'kondiai': 5094, 'berbanding': 5095, 'alumni': 5096, 'pkir': 5097, 'cba': 5098, 'tryta': 5099, 'baguslach': 5100, 'apoitment': 5101, 'jadwalkan': 5102, 'refun': 5103, 'maling': 5104, 'dibahas': 5105, 'terbuat': 5106, 'tempo': 5107, 'syukurnya': 5108, 'ngangur': 5109, 'membayangkan': 5110, 'terakhirnya': 5111, 'tampil': 5112, 'diarea': 5113, 'beberpa': 5114, 'dibayangkan': 5115, 'haludoc': 5116, 'sahabat': 5117, 'berkeluh': 5118, 'point': 5119, 'consult': 5120, 'dlh': 5121, 'dukung': 5122, 'kedok': 5123, 'mengatanamakan': 5124, 'mengeklik': 5125, 'tautan': 5126, 'terimakaih': 5127, 'ngobatin': 5128, 'wlau': 5129, 'komunikatkf': 5130, 'ketenangan': 5131, 'kadar': 5132, 'konkrit': 5133, 'konfirmasinya': 5134, 'domter': 5135, 'cukuk': 5136, 'catat': 5137, 'menempuh': 5138, 'dcari': 5139, 'wise': 5140, 'dirver': 5141, 'ater': 5142, 'mengapresiasi': 5143, 'memuasakan': 5144, 'nyuekin': 5145, 'sbar': 5146, 'komfirmasinya': 5147, 'mengabungkan': 5148, 'urgenst': 5149, 'wakty': 5150, 'kpnsultasi': 5151, 'banyk': 5152, 'nusa': 5153, 'ucpak': 5154, 'kesahatan': 5155, 'sptnya': 5156, 'terbuang': 5157, 'bengong': 5158, 'ngapa': 5159, 'ditujuan': 5160, 'dijadikan': 5161, 'meghindari': 5162, 'self': 5163, 'diagnosed': 5164, 'mempan': 5165, 'kurleb': 5166, 'andaikan': 5167, 'amu': 5168, 'purnama': 5169, 'kebanti': 5170, 'alamin': 5171, 'blakang': 5172, 'mantengin': 5173, 'mailinga': 5174, 'permainkan': 5175, 'oto': 5176, 'tanujaya': 5177, 'bayarin': 5178, 'nunjuk': 5179, 'brimo': 5180, 'dikenbalikan': 5181, 'mengadakan': 5182, 'pngaturan': 5183, 'cut': 5184, 'sesuatunya': 5185, 'selali': 5186, 'unutk': 5187, 'dseluruh': 5188, 'diomelin': 5189, 'sirup': 5190, 'djp': 5191, 'ortunya': 5192, 'krisis': 5193, 'mnyukai': 5194, 'surya': 5195, 'enteng': 5196, 'berkas': 5197, 'florencia': 5198, 'servulus': 5199, 'widhio': 5200, 'leksono': 5201, 'bimbinganya': 5202, 'duka': 5203, 'keping': 5204, 'ctm': 5205, 'caea': 5206, 'dosisnya': 5207, 'mntp': 5208, 'resp': 5209, 'plih': 5210, 'mna': 5211, 'telemarketing': 5212, 'nelp': 5213, 'tersirat': 5214, 'ngedoain': 5215, 'mumer': 5216, 'telemarketingnya': 5217, 'rese': 5218, 'halus': 5219, 'dipaksakan': 5220, 'dwnload': 5221, 'tingl': 5222, 'mulainya': 5223, 'mageran': 5224, 'varian': 5225, 'bid': 5226, 'develpoer': 5227, 'number': 5228, 'pencerahanya': 5229, 'mengunakn': 5230, 'trbantu': 5231, 'receh': 5232, 'semagat': 5233, 'bermamfat': 5234, 'merikan': 5235, 'pengirman': 5236, 'krema': 5237, 'sidah': 5238, 'berpakali': 5239, 'keatas': 5240, 'keanak': 5241, 'disukai': 5242, 'recomnded': 5243, 'trjangkau': 5244, 'sesaui': 5245, 'britahukan': 5246, 'screan': 5247, 'aunguh': 5248, 'ornag': 5249, 'trprcaya': 5250, 'dokyernya': 5251, 'poin': 5252, 'inti': 5253, 'mh': 5254, 'nk': 5255, 'covis': 5256, 'sift': 5257, 'doketnya': 5258, 'memberitahu': 5259, 'somsed': 5260, 'bntu': 5261, 'slain': 5262, 'karti': 5263, 'berbobot': 5264, 'fat': 5265, 'keliatanya': 5266, 'pencuri': 5267, 'bodo': 5268, 'aplikasai': 5269, 'nemuin': 5270, 'ngatasi': 5271, 'lampiran': 5272, 'pdf': 5273, 'fedbacknya': 5274, 'nembusin': 5275, 'turuti': 5276, 'skrmg': 5277, 'dompen': 5278, 'kas': 5279, 'digogle': 5280, 'ponemik': 5281, 'seorg': 5282, 'jdinya': 5283, 'spesialisasinya': 5284, 'symptoms': 5285, 'cantum': 5286, 'diruamah': 5287, 'mbener': 5288, 'saviour': 5289, 'cum': 5290, 'pengalan': 5291, 'dibagian': 5292, 'apasusahnya': 5293, 'screnshot': 5294, 'roni': 5295, 'aldiano': 5296, 'hight': 5297, 'clas': 5298, 'tkh': 5299, 'mesages': 5300, 'kedokternya': 5301, 'tangab': 5302, 'counterpain': 5303, 'excited': 5304, 'trhadap': 5305, 'games': 5306, 'everything': 5307, 'jagoan': 5308, 'nglebihin': 5309, 'dha': 5310, 'reimbursement': 5311, 'minmin': 5312, 'konsultasiku': 5313, 'sembuhnya': 5314, 'walapun': 5315, 'mengkoreksi': 5316, 'dikemudian': 5317, 'membamtu': 5318, 'kegemukan': 5319, 'gemuk': 5320, 'penimbunan': 5321, 'ilegal': 5322, 'oknum': 5323, 'curang': 5324, 'bisul': 5325, 'kempes': 5326, 'baku': 5327, 'nur': 5328, 'dimanjakan': 5329, 'diulas': 5330, 'igd': 5331, 'seperlunya': 5332, 'pengangkatan': 5333, 'tumornya': 5334, 'kencing': 5335, 'gumpalan': 5336, 'pekerjanya': 5337, 'sukarelawan': 5338, 'downloas': 5339, 'hpus': 5340, 'bahkn': 5341, 'seumpamanya': 5342, 'beriboenjelasan': 5343, 'konsutlatis': 5344, 'rincian': 5345, 'fotokopi': 5346, 'terlampir': 5347, 'wanita': 5348, 'pantesan': 5349, 'ngrubah': 5350, 'ruwet': 5351, 'kerumh': 5352, 'disinkronkan': 5353, 'menginstalnya': 5354, 'desknya': 5355, 'kontrakan': 5356, 'pingsan': 5357, 'agatha': 5358, 'ariyanti': 5359, 'belin': 5360, 'komplin': 5361, 'udahlah': 5362, 'barisan': 5363, 'kesaldo': 5364, 'korupsi': 5365, 'brubah': 5366, 'rekoment': 5367, 'stimuno': 5368, 'peneriman': 5369, 'mendownloadnya': 5370, 'website': 5371, 'petanyanya': 5372, 'birokrasi': 5373, 'riweh': 5374, 'kelinik': 5375, 'terarah': 5376, 'sianjing': 5377, 'rsnya': 5378, 'prantara': 5379, 'sok': 5380, 'initu': 5381, 'pret': 5382, 'dibicarakan': 5383, 'perum': 5384, 'ciputat': 5385, 'kasiam': 5386, 'senuawa': 5387, 'copas': 5388, 'salahkan': 5389, 'pandainya': 5390, 'berkeluaga': 5391, 'jancok': 5392, 'downlodnya': 5393, 'ajg': 5394, 'melimpah': 5395, 'ngaceng': 5396, 'penagan': 5397, 'cobid': 5398, 'datangpun': 5399, 'alikasinya': 5400, 'menepiskan': 5401, 'panikan': 5402, 'katalog': 5403, 'dimurahin': 5404, 'menitnya': 5405, 'deng': 5406, 'hanifah': 5407, 'yuliani': 5408, 'obgyn': 5409, 'formulir': 5410, 'force': 5411, 'stoper': 5412, 'konsultasiya': 5413, 'permpuanya': 5414, 'canti': 5415, 'terimakasoh': 5416, 'menindak': 5417, 'tapinya': 5418, 'sampiakan': 5419, 'membentu': 5420, 'worth': 5421, 'domnya': 5422, 'dsmping': 5423, 'istrhat': 5424, 'gpa': 5425, 'dtgnya': 5426, 'naruh': 5427, 'hendak': 5428, 'beraktivitas': 5429, 'nte': 5430, 'stroke': 5431, 'berbau': 5432, 'termaksih': 5433, 'observatif': 5434, 'terimakakaih': 5435, 'kardus': 5436, 'cashback': 5437, 'meresponi': 5438, 'tingakatkan': 5439, 'notenya': 5440, 'teruskan': 5441, 'terbaiks': 5442, 'njawabnya': 5443, 'memuasjan': 5444, 'ahir': 5445, 'dukses': 5446, 'dianterinya': 5447, 'eheheh': 5448, 'biso': 5449, 'sinkronkan': 5450, 'pmakaian': 5451, 'yuhu': 5452, 'emailsaya': 5453, 'mewabah': 5454, 'respek': 5455, 'dokterbudah': 5456, 'digengaman': 5457, 'use': 5458, 'doktek': 5459, 'recomendasi': 5460, 'punten': 5461, 'disebut': 5462, 'sodakoh': 5463, 'berati': 5464, 'ines': 5465, 'indirani': 5466, 'mrasa': 5467, 'tpat': 5468, 'wkatu': 5469, 'membumi': 5470, 'kedan': 5471, 'keluham': 5472, 'selvim': 5473, 'crome': 5474, 'membagi': 5475, 'dipasang': 5476, 'beter': 5477, 'betangung': 5478, 'mengklik': 5479, 'seauai': 5480, 'banyakan': 5481, 'ajasih': 5482, 'pemalang': 5483, 'efesiensi': 5484, 'ubat': 5485, 'pemberi': 5486, 'kon': 5487, 'bijaksana': 5488, 'kamis': 5489, 'gatis': 5490, 'kemasukan': 5491, 'istrinya': 5492, 'reaervasi': 5493, 'gojekersnya': 5494, 'sipasien': 5495, 'ditingktkan': 5496, 'cusy': 5497, 'hidayah': 5498, 'active': 5499, 'saldonudh': 5500, 'ngunduh': 5501, 'pengantr': 5502, 'elektronik': 5503, 'anjuranya': 5504, 'acara': 5505, 'ceo': 5506, 'asurasi': 5507, 'setinganya': 5508, 'apkilasi': 5509, 'wni': 5510, 'waru': 5511, 'kasihlah': 5512, 'gausa': 5513, 'semejak': 5514, 'rt': 5515, 'tetjawad': 5516, 'tinggal': 5517, 'penyampain': 5518, 'sandra': 5519, 'hadehw': 5520, 'kenaikan': 5521, 'otak': 5522, 'seharian': 5523, 'terukur': 5524, 'pecinta': 5525, 'vet': 5526, 'donlowad': 5527, 'jy': 5528, 'merekomendasika': 5529, 'kerbat': 5530, 'diskonan': 5531, 'alarm': 5532, 'bagat': 5533, 'keluahan': 5534, 'alternative': 5535, 'difarmasi': 5536, 'menrecomend': 5537, 'sangatsangatmembantu': 5538, 'mintavresep': 5539, 'stefiany': 5540, 'empat': 5541, 'agen': 5542, 'integrasi': 5543, 'mengurusi': 5544, 'terhebat': 5545, 'ngemil': 5546, 'wakili': 5547, 'sedunia': 5548, 'titip': 5549, 'fharenheit': 5550, 'berusan': 5551, 'etikat': 5552, 'ngembalikan': 5553, 'undang': 5554, 'pemikiran': 5555, 'berfaidah': 5556, 'one': 5557, 'memesanya': 5558, 'jobs': 5559, 'mestinya': 5560, 'kelimpahan': 5561, 'rahmat': 5562, 'chatrom': 5563, 'halodoctemanpasienyangbaik': 5564, 'lengkpi': 5565, 'mlengkpi': 5566, 'penyiapan': 5567, 'iringi': 5568, 'menampung': 5569, 'suai': 5570, 'alamatku': 5571, 'bubar': 5572, 'pmbyaran': 5573, 'bekum': 5574, 'sdgkan': 5575, 'keapotek': 5576, 'apresias': 5577, 'akademis': 5578, 'ekpektasi': 5579, 'pandai': 5580, 'hoaxs': 5581, 'pendukungnya': 5582, 'rontgen': 5583, 'hendera': 5584, 'coustemer': 5585, 'langsong': 5586, 'delevery': 5587, 'andalanku': 5588, 'istal': 5589, 'ditf': 5590, 'sangata': 5591, 'privacy': 5592, 'syekali': 5593, 'kepelosok': 5594, 'dkota': 5595, 'frindly': 5596, 'juragan': 5597, 'harti': 5598, 'andre': 5599, 'kurniawan': 5600, 'rekomendasin': 5601, 'persib': 5602, 'jatohnya': 5603, 'keterangane': 5604, 'mnjamin': 5605, 'imunboster': 5606, 'diborong': 5607, 'nyet': 5608, 'sipenanam': 5609, 'negeriku': 5610, 'menjengkelkan': 5611, 'renovasi': 5612, 'pandémi': 5613, 'mengaplikasikanya': 5614, 'penyelengara': 5615, 'dibiarkan': 5616, 'mendengaran': 5617, 'menangung': 5618, 'bram': 5619, 'badai': 5620, 'kovid': 5621, 'minùm': 5622, 'lang': 5623, 'sung': 5624, 'tama': 5625, 'parkir': 5626, 'keungulanya': 5627, 'orangyang': 5628, 'gpnya': 5629, 'penangana': 5630, 'rekomondasi': 5631, 'slah': 5632, 'cancer': 5633, 'puter': 5634, 'dibukak': 5635, 'net': 5636, 'terikasih': 5637, 'setuju': 5638, 'terdiri': 5639, 'kutambahi': 5640, 'aplik': 5641, 'ekspetasi': 5642, 'transofix': 5643, 'november': 5644, 'gabsa': 5645, 'ganyesel': 5646, 'teromakasih': 5647, 'mencukupi': 5648, 'terbayar': 5649, 'kmbali': 5650, 'undian': 5651, 'kamar': 5652, 'logis': 5653, 'trun': 5654, 'kompalin': 5655, 'bla': 5656, 'percayain': 5657, 'menjalanakan': 5658, 'rutinitasnya': 5659, 'universitas': 5660, 'dihub': 5661, 'merta': 5662, 'senior': 5663, 'kredibel': 5664, 'memberdayakan': 5665, 'didlm': 5666, 'sgla': 5667, 'adadapun': 5668, 'agnes': 5669, 'angun': 5670, 'leren': 5671, 'lebutuhan': 5672, 'untum': 5673, 'progtam': 5674, 'khwatir': 5675, 'berkomusikasi': 5676, 'ditiadakan': 5677, 'ferdinandus': 5678, 'mengajal': 5679, 'sedit': 5680, 'melayanu': 5681, 'bohongi': 5682, 'tidam': 5683, 'keramahanya': 5684, 'stengah': 5685, 'pngirimanya': 5686, 'ditingkatnya': 5687, 'idul': 5688, 'fitri': 5689, 'terdebit': 5690, 'mengenangi': 5691, 'harian': 5692, 'pertimbangan': 5693, 'octofiad': 5694, 'badanya': 5695, 'kepalanya': 5696, 'ovopay': 5697, 'menginput': 5698, 'cermat': 5699, 'sg': 5700, 'clara': 5701, 'sdb': 5702, 'diakhir': 5703, 'manfatnye': 5704, 'sbab': 5705, 'kedepanye': 5706, 'dibebaskan': 5707, 'fivien': 5708, 'pademi': 5709, 'haodoc': 5710, 'terhandal': 5711, 'conecting': 5712, 'betulkan': 5713, 'camkan': 5714, 'dijaga': 5715, 'mamah': 5716, 'parenting': 5717, 'menebarkan': 5718, 'obatblnya': 5719, 'senengnya': 5720, 'only': 5721, 'using': 5722, 'mndptkan': 5723, 'meriang': 5724, 'berhubunham': 5725, 'demgam': 5726, 'imi': 5727, 'uwe': 5728, 'kga': 5729, 'kompetensinya': 5730, 'dtambah': 5731, 'pbayaran': 5732, 'both': 5733, 'ketransfer': 5734, 'oeang': 5735, 'superb': 5736, 'puaswalupun': 5737, 'membanty': 5738, 'masuo': 5739, 'bantual': 5740, 'internist': 5741, 'teope': 5742, 'cocokan': 5743, 'sungkan': 5744, 'tipes': 5745, 'pemulihan': 5746, 'gemana': 5747, 'terpesona': 5748, 'ditangung': 5749, 'nyambungnya': 5750, 'nota': 5751, 'dinaikan': 5752, 'dajak': 5753, 'baim': 5754, 'meliht': 5755, 'terdwkat': 5756, 'apun': 5757, 'mnydiakan': 5758, 'majunya': 5759, 'loadingnya': 5760, 'muternya': 5761, 'rumus': 5762, 'matimatika': 5763, 'angrek': 5764, 'malang': 5765, 'china': 5766, 'rongsokan': 5767, 'pngetahuan': 5768, 'kelancaran': 5769, 'diusahakan': 5770, 'ksian': 5771, 'vera': 5772, 'narasumbernya': 5773, 'apalagisuka': 5774, 'angka': 5775, 'blacklist': 5776, 'mubgkin': 5777, 'terbatu': 5778, 'kesigapan': 5779, 'openminded': 5780, 'kakinya': 5781, 'eksim': 5782, 'basah': 5783, 'sudirman': 5784, 'pelancong': 5785, 'cukuplah': 5786, 'keterkaitan': 5787, 'diperintahkan': 5788, 'ridho': 5789, 'analisa': 5790, 'jebret': 5791, 'rininta': 5792, 'lumited': 5793, 'worted': 5794, 'belm': 5795, 'papua': 5796, 'amelia': 5797, 'gaya': 5798, 'diragukan': 5799, 'ditindaklanjutin': 5800, 'seoerti': 5801, 'ucaokn': 5802, 'hargany': 5803, 'pricey': 5804, 'arafah': 5805, 'centang': 5806, 'puskesmasnya': 5807, 'ngadat': 5808, 'selesain': 5809, 'visi': 5810, 'misinya': 5811, 'terbalaskan': 5812, 'didatangi': 5813, 'wahb': 5814, 'direpon': 5815, 'dikterx': 5816, 'carax': 5817, 'alamak': 5818, 'jawabane': 5819, 'mengejutkan': 5820, 'bayarpun': 5821, 'dwnld': 5822, 'membantj': 5823, 'bestlah': 5824, 'sobat': 5825, 'misquen': 5826, 'jangji': 5827, 'unstal': 5828, 'nyumabang': 5829, 'kebih': 5830, 'akhrny': 5831, 'sanak': 5832, 'mengkomersilkan': 5833, 'dimataku': 5834, 'apah': 5835, 'ditidak': 5836, 'sbuk': 5837, 'lgsunv': 5838, 'replay': 5839, 'penyelesain': 5840, 'pesaing': 5841, 'halodoctor': 5842, 'indryan': 5843, 'herm': 5844, 'penat': 5845, 'pandang': 5846, 'mks': 5847, 'okey': 5848, 'statis': 5849, 'cuy': 5850, 'nyampek': 5851, 'dihalo': 5852, 'tidaj': 5853, 'sedikitnya': 5854, 'cilandak': 5855, 'sunter': 5856, 'kilometer': 5857, 'tanyakam': 5858, 'again': 5859, 'diantarin': 5860, 'easier': 5861, 'reny': 5862, 'wijayanti': 5863, 'dipilihin': 5864, 'selatan': 5865, 'tembus': 5866, 'uwu': 5867, 'gans': 5868, 'dibelain': 5869, 'borosin': 5870, 'sadja': 5871, 'gbisa': 5872, 'djanjikan': 5873, 'korbanya': 5874, 'ngimong': 5875, 'momen': 5876, 'penipunya': 5877, 'bernomor': 5878, 'menginginkan': 5879, 'angita': 5880, 'ceoat': 5881, 'dimkntain': 5882, 'menacari': 5883, 'inginkn': 5884, 'meluncur': 5885, 'belerja': 5886, 'cacat': 5887, 'kendali': 5888, 'cman': 5889, 'sarang': 5890, 'ntb': 5891, 'elemen': 5892, 'tempatku': 5893, 'vcnya': 5894, 'terselip': 5895, 'icon': 5896, 'tik': 5897, 'dimunculin': 5898, 'space': 5899, 'permasalahanku': 5900, 'lsgi': 5901, 'ingrisnya': 5902, 'ramab': 5903, 'djanterin': 5904, 'cakupan': 5905, 'diposting': 5906, 'beritahu': 5907, 'regita': 5908, 'blasanya': 5909, 'gà': 5910, 'lurus': 5911, 'disrh': 5912, 'setahun': 5913, 'dipecat': 5914, 'kick': 5915, 'awawlnya': 5916, 'pcya': 5917, 'jdnya': 5918, 'mejawab': 5919, 'driverny': 5920, 'inginya': 5921, 'lucu': 5922, 'mala': 5923, 'jawabin': 5924, 'prosedur': 5925, 'jalani': 5926, 'berpuluh': 5927, 'sesingkat': 5928, 'perjuangan': 5929, 'aeperti': 5930, 'karya': 5931, 'sygnya': 5932, 'sorong': 5933, 'mempercayai': 5934, 'lamalama': 5935, 'hidupsehatbersama': 5936, 'mempemudah': 5937, 'tercangih': 5938, 'komplainan': 5939, 'hk': 5940, 'colorna': 5941, 'mndiri': 5942, 'pendek': 5943, 'medan': 5944, 'keterengan': 5945, 'heheheheh': 5946, 'diliat': 5947, 'sblh': 5948, 'obatnyapun': 5949, 'lorenza': 5950, 'trsedia': 5951, 'keringanan': 5952, 'tap': 5953, 'iman': 5954, 'ruansa': 5955, 'satyadi': 5956, 'berpegian': 5957, 'tah': 5958, 'jlasan': 5959, 'mengkosultasikan': 5960, 'terberkati': 5961, 'mnurut': 5962, 'makainy': 5963, 'kulsultasi': 5964, 'tercantum': 5965, 'ditugaskan': 5966, 'dikeluarkan': 5967, 'pnik': 5968, 'trmpat': 5969, 'percakapany': 5970, 'kepribadian': 5971, 'asalmualaikum': 5972, 'says': 5973, 'prang': 5974, 'terlentang': 5975, 'l': 5976, 'dironsen': 5977, 'mining': 5978, 'bergerac': 5979, 'leher': 5980, 'napsu': 5981, 'humana': 5982, 'diakhirnya': 5983, 'miliki': 5984, 'sprtiny': 5985, 'responsny': 5986, 'touch': 5987, 'pengataran': 5988, 'ngumpulin': 5989, 'devlop': 5990, 'hasnania': 5991, 'munaf': 5992, 'apabilakita': 5993, 'xyra': 5994, 'invoasinya': 5995, 'fe': 5996, 'packingnya': 5997, 'akbar': 5998, 'kapisa': 5999, 'baharsyah': 6000, 'rizkinya': 6001, 'lindungan': 6002, 'candra': 6003, 'lasomono': 6004, 'adam': 6005, 'mengkorupsi': 6006, 'dimaksimalkan': 6007, 'selanjut': 6008, 'terdownload': 6009, 'plu': 6010, 'teruslah': 6011, 'nilainya': 6012, 'ketunda': 6013, 'thaxs': 6014, 'mengah': 6015, 'madalah': 6016, 'trimsh': 6017, 'bantuany': 6018, 'titiknya': 6019, 'msen': 6020, 'mesenger': 6021, 'duty': 6022, 'mincraft': 6023, 'facebok': 6024, 'pentingnya': 6025, 'ostiocom': 6026, 'telekonsultasi': 6027, 'terguncang': 6028, 'memuskan': 6029, 'rejekinya': 6030, 'meiliki': 6031, 'banks': 6032, 'sesimple': 6033, 'keluan': 6034, 'awalx': 6035, 'keluhakan': 6036, 'rsepkan': 6037, 'umumx': 6038, 'diperjalanan': 6039, 'sehatan': 6040, 'konsltasi': 6041, 'babyku': 6042, 'audio': 6043, 'after': 6044, 'santay': 6045, 'ngejer': 6046, 'setoran': 6047, 'ngespam': 6048, 'cintya': 6049, 'andriani': 6050, 'mempermudahkan': 6051, 'tengtang': 6052, 'rasakn': 6053, 'covit': 6054, 'tetang': 6055, 'seblm': 6056, 'keahlian': 6057, 'diksh': 6058, 'mujarab': 6059, 'suksez': 6060, 'profesioanal': 6061, 'bergaung': 6062, 'mebayar': 6063, 's': 6064, 'record': 6065, 'tindkanya': 6066, 'sertivikatny': 6067, 'dicantumin': 6068, 'pembohongan': 6069, 'publik': 6070, 'judulnya': 6071, 'mendptkan': 6072, 'chintya': 6073, 'monica': 6074, 'mnghubungi': 6075, 'tengan': 6076, 'kemblikan': 6077, 'henri': 6078, 'schedule': 6079, 'apapain': 6080, 'prediksi': 6081, 'diutarakan': 6082, 'peralatan': 6083, 'membelinya': 6084, 'unch': 6085, 'bals': 6086, 'noviani': 6087, 'hipotiroid': 6088, 'novi': 6089, 'doakan': 6090, 'lindunganya': 6091, 'drnya': 6092, 'flores': 6093, 'puskesmaspun': 6094, 'meriah': 6095, 'palingan': 6096, 'skalibuntuk': 6097, 'mobilisasinya': 6098, 'kencang': 6099, 'aporik': 6100, 'hrpn': 6101, 'targetnya': 6102, 'sekaranh': 6103, 'yeay': 6104, 'aktivitas': 6105, 'masyaralat': 6106, 'donwlod': 6107, 'mengayomi': 6108, 'prtama': 6109, 'diandelin': 6110, 'dikurangin': 6111, 'daru': 6112, 'terimakasihdoc': 6113, 'separuh': 6114, 'kpda': 6115, 'sumbernya': 6116, 'kritik': 6117, 'ktemu': 6118, 'that': 6119, 'plz': 6120, 'gaul': 6121, 'pendidikanya': 6122, 'pemecahan': 6123, 'menyenang': 6124, 'seriusan': 6125, 'seya': 6126, 'blanja': 6127, 'indomilk': 6128, 'berapanya': 6129, 'garisnya': 6130, 'ringakasan': 6131, 'memperibut': 6132, 'diterukan': 6133, 'disiplin': 6134, 'receive': 6135, 'performance': 6136, 'antarnya': 6137, 'deras': 6138, 'menyetir': 6139, 'tajamkan': 6140, 'spesifikasi': 6141, 'gigit': 6142, 'halococ': 6143, 'hutang': 6144, 'megang': 6145, 'kucingku': 6146, 'mpun': 6147, 'han': 6148, 'akui': 6149, 'curhatan': 6150, 'viyamin': 6151, 'psikiatris': 6152, 'biyar': 6153, 'pendapatan': 6154, 'penjaminan': 6155, 'biang': 6156, 'memarahi': 6157, 'nabung': 6158, 'dinkes': 6159, 'setor': 6160, 'ngambilnya': 6161, 'halosov': 6162, 'ai': 6163, 'human': 6164, 'limpahkan': 6165, 'dibei': 6166, 'sesali': 6167, 'instagram': 6168, 'seindah': 6169, 'kuotamu': 6170, 'kons': 6171, 'keteran': 6172, 'palsu': 6173, 'pembesaran': 6174, 'defeloper': 6175, 'terkobeksi': 6176, 'tersentuh': 6177, 'dod': 6178, 'trimahkasi': 6179, 'let': 6180, 'inya': 6181, 'minisnya': 6182, 'standbay': 6183, 'paketdata': 6184, 'pemelihara': 6185, 'hormat': 6186, 'yerimakasih': 6187, 'christine': 6188, 'lister': 6189, 'persyaratan': 6190, 'updatean': 6191, 'konsultansi': 6192, 'dimaksud': 6193, 'brkali': 6194, 'perlakuanya': 6195, 'prcma': 6196, 'kebru': 6197, 'prh': 6198, 'utamakan': 6199, 'mkr': 6200, 'bhong': 6201, 'sekai': 6202, 'andwi': 6203, 'direcomend': 6204, 'ralat': 6205, 'meredahkan': 6206, 'diap': 6207, 'taoi': 6208, 'kekecewan': 6209, 'hajya': 6210, 'merek': 6211, 'mengantuk': 6212, 'kesalah': 6213, 'conform': 6214, 'loyal': 6215, 'semampu': 6216, 'checkout': 6217, 'diribetkan': 6218, 'silakan': 6219, 'tnyt': 6220, 'apkasi': 6221, 'gataukan': 6222, 'kerugian': 6223, 'dituker': 6224, 'penyakitmu': 6225, 'perduli': 6226, 'tersambhng': 6227, 'blank': 6228, 'dimulai': 6229, 'nyamanan': 6230, 'itikad': 6231, 'high': 6232, 'price': 6233, 'variasinya': 6234, 'usus': 6235, 'vega': 6236, 'dipuskesmas': 6237, 'beristirahat': 6238, 'lagu': 6239, 'sely': 6240, 'tensi': 6241, 'launching': 6242, 'mengulangi': 6243, 'tingalku': 6244, 'batam': 6245, 'bela': 6246, 'belain': 6247, 'prank': 6248, 'istrigadakhlak': 6249, 'diseting': 6250, 'kinsultasi': 6251, 'berusia': 6252, 'rongsen': 6253, 'nurunin': 6254, 'lembang': 6255, 'repotl': 6256, 'petanyan': 6257, 'variasi': 6258, 'ketentuan': 6259, 'tubuhnya': 6260, 'menanyakn': 6261, 'pkai': 6262, 'taro': 6263, 'otentiknya': 6264, 'ngakunya': 6265, 'sybyakin': 6266, 'julukan': 6267, 'konkret': 6268, 'modul': 6269, 'mon': 6270, 'private': 6271, 'message': 6272, 'berbatas': 6273, 'winwin': 6274, 'wong': 6275, 'mengkomsumsi': 6276, 'bermaslah': 6277, 'lucunya': 6278, 'percakapanya': 6279, 'urungkan': 6280, 'celakanya': 6281, 'dimahalin': 6282, 'totalnyatidak': 6283, 'trackingnya': 6284, 'lompat': 6285, 'ocd': 6286, 'ronsen': 6287, 'disembunyikan': 6288, 'reaponse': 6289, 'sbgai': 6290, 'muslim': 6291, 'mengingatkan': 6292, 'sayasiha': 6293, 'setabil': 6294, 'petunjuknya': 6295, 'lansopadol': 6296, 'jepang': 6297, 'nombok': 6298, 'selega': 6299, 'mlakukan': 6300, 'drugstore': 6301, 'mengagumi': 6302, 'bertongkat': 6303, 'ngikutin': 6304, 'berhadapan': 6305, 'meresfon': 6306, 'datengin': 6307, 'daftarin': 6308, 'cabang': 6309, 'salahn': 6310, 'memperkirakan': 6311, 'sangup': 6312, 'hadirkan': 6313, 'berdasar': 6314, 'pantauan': 6315, 'janet': 6316, 'komperatif': 6317, 'dokternyavjuga': 6318, 'terkendali': 6319, '시간과': 6320, '조언을': 6321, '주셔서': 6322, '감사합니다': 6323, 'dokternyah': 6324, 'shiping': 6325, 'kadih': 6326, 'emailnya': 6327, 'mengharuskanya': 6328, 'melampirkan': 6329, 'lun': 6330, 'ningal': 6331, 'profesionl': 6332, 'dicairkan': 6333, 'viralin': 6334, 'sehatdirumah': 6335, 'berlangansn': 6336, 'sehatdi': 6337, 'cristin': 6338, 'discroling': 6339, 'bergantung': 6340, 'perkebunan': 6341, 'sawit': 6342, 'disebelah': 6343, 'herbal': 6344, 'kemgeran': 6345, 'kuh': 6346, 'gantung': 6347, 'range': 6348, 'sera': 6349, 'meberikan': 6350, 'berkendala': 6351, 'almarhum': 6352, 'kesampaian': 6353, 'english': 6354, 'master': 6355, 'dinikmati': 6356, 'tersebar': 6357, 'memudahkn': 6358, 'tebantu': 6359, 'dedikasi': 6360, 'jalanya': 6361, 'holadoc': 6362, 'kenyang': 6363, 'sanget': 6364, 'pasen': 6365, 'setibanya': 6366, 'diperkebunan': 6367, 'pananganan': 6368, 'perbandingan': 6369, 'penduduk': 6370, 'medical': 6371, 'jurnal': 6372, 'penyintas': 6373, 'termakasih': 6374, 'memberikasn': 6375, 'edukais': 6376, 'ahkiri': 6377, 'apansi': 6378, 'excelence': 6379, 'spesialiasi': 6380, 'setok': 6381, 'maluku': 6382, 'hilnk': 6383, 'knsul': 6384, 'dptkan': 6385, 'persopan': 6386, 'apkikasi': 6387, 'alfiana': 6388, 'penolongan': 6389, 'dipandemi': 6390, 'kesni': 6391, 'dbilang': 6392, 'fine': 6393, 'ngutang': 6394, 'gopaylater': 6395, 'pelayananan': 6396, 'aple': 6397, 'ajaib': 6398, 'hours': 6399, 'percakapn': 6400, 'ngasal': 6401, 'tuh': 6402, 'tuangkan': 6403, 'mem': 6404, 'dibalasnya': 6405, 'dsn': 6406, 'tenkyu': 6407, 'laut': 6408, 'crew': 6409, 'doktenrya': 6410, 'trimaksi': 6411, 'dapan': 6412, 'masok': 6413, 'promosin': 6414, 'banyqk': 6415, 'hnp': 6416, 'menurunkan': 6417, 'sgitu': 6418, 'terobosan': 6419, 'moderen': 6420, 'agvita': 6421, 'mundhisari': 6422, 'sopam': 6423, 'terkawabkan': 6424, 'natalia': 6425, 'macat': 6426, 'madu': 6427, 'vindy': 6428, 'cesariana': 6429, 'mening': 6430, 'ngejawap': 6431, 'kalang': 6432, 'terverifikasi': 6433, 'kegawat': 6434, 'druratan': 6435, 'pengemasanya': 6436, 'ising': 6437, 'babang': 6438, 'apitik': 6439, 'digitalnya': 6440, 'bat': 6441, 'kecilnya': 6442, 'wadah': 6443, 'kbanyakan': 6444, 'dokterbyg': 6445, 'koneksin': 6446, 'nomo': 6447, 'menebak': 6448, 'bmi': 6449, 'miniml': 6450, 'bdan': 6451, 'des': 6452, 'maks': 6453, 'canceled': 6454, 'rapit': 6455, 'kantornya': 6456, 'ditindaklanjut': 6457, 'trust': 6458, 'danmembantu': 6459, 'pembyaran': 6460, 'watu': 6461, 'palikasi': 6462, 'aplikasinyapun': 6463, 'specialisnya': 6464, 'direfresh': 6465, 'terkini': 6466, 'bergkat': 6467, 'txu': 6468, 'bervariasi': 6469, 'perih': 6470, 'minimum': 6471, 'seadnya': 6472, 'aplikais': 6473, 'burik': 6474, 'jwbnya': 6475, 'pesialis': 6476, 'ngasi': 6477, 'ngatur': 6478, 'jdg': 6479, 'pndapat': 6480, 'komsul': 6481, 'permisi': 6482, 'reqwest': 6483, 'tngah': 6484, 'mwnghubungi': 6485, 'berteleh': 6486, 'teleh': 6487, 'sesudah': 6488, 'tenanga': 6489, 'sherly': 6490, 'thendian': 6491, 'elisabet': 6492, 'masukugd': 6493, 'uap': 6494, 'mentingin': 6495, 'serp': 6496, 'dapetin': 6497, 'berpindah': 6498, 'mksdnya': 6499, 'suces': 6500, 'consumen': 6501, 'diharga': 6502, 'kmren': 6503, 'mnjadi': 6504, 'arau': 6505, 'mendowlod': 6506, 'gaji': 6507, 'psoriasis': 6508, 'dilanjutkan': 6509, 'jada': 6510, 'cao': 6511, 'ngulang': 6512, 'brhasil': 6513, 'ngelink': 6514, 'keamananya': 6515, 'rezekinya': 6516, 'clinic': 6517, 'kerenya': 6518, 'blog': 6519, 'diberitahukan': 6520, 'your': 6521, 'servies': 6522, 'singkron': 6523, 'nymbung': 6524, 'sponspor': 6525, 'susunya': 6526, 'negatip': 6527, 'suwami': 6528, 'dihotel': 6529, 'parahita': 6530, 'parahitanya': 6531, 'suntik': 6532, 'bapuk': 6533, 'kezel': 6534, 'konsultasikn': 6535, 'resume': 6536, 'tergangy': 6537, 'puluh': 6538, 'mengatasnamakn': 6539, 'nmer': 6540, 'privasinya': 6541, 'jngan': 6542, 'oengertian': 6543, 'kelauarga': 6544, 'keteranga': 6545, 'tulisny': 6546, 'penebusan': 6547, 'kex': 6548, 'buibuk': 6549, 'majuan': 6550, 'mempernudah': 6551, 'kers': 6552, 'telusuri': 6553, 'terimakasib': 6554, 'halnya': 6555, 'pengakuan': 6556, 'ponselnya': 6557, 'menagapi': 6558, 'dipikir': 6559, 'perekenomian': 6560, 'mintanya': 6561, 'terimasih': 6562, 'duk': 6563, 'discount': 6564, 'oprasional': 6565, 'menselesaikan': 6566, 'pendemik': 6567, 'memenuhi': 6568, 'meluas': 6569, 'silusi': 6570, 'mengha': 6571, 'rapkan': 6572, 'terimaksi': 6573, 'pendaftaranya': 6574, 'direkomend': 6575, 'aya': 6576, 'menjadwalkan': 6577, 'mendiskusikan': 6578, 'sanksi': 6579, 'bawan': 6580, 'pencemas': 6581, 'ceger': 6582, 'tmi': 6583, 'jatibening': 6584, 'banjir': 6585, 'pelayanananya': 6586, 'bertangungjawab': 6587, 'kekeliruan': 6588, 'tetntang': 6589, 'kbnykn': 6590, 'mengungah': 6591, 'wasalam': 6592, 'wagelaseh': 6593, 'derajat': 6594, 'komunkasi': 6595, 'cakep': 6596, 'greget': 6597, 'firtual': 6598, 'segan': 6599, 'peserta': 6600, 'kemampuanlah': 6601, 'vaskin': 6602, 'terurus': 6603, 'kuhub': 6604, 'ngemis': 6605, 'sesuau': 6606, 'nely': 6607, 'semalaman': 6608, 'drugstorenya': 6609, 'ditemuin': 6610, 'sekli': 6611, 'intal': 6612, 'catel': 6613, 'partnernya': 6614, 'ledeng': 6615, 'setiabudi': 6616, 'jauhny': 6617, 'thermometer': 6618, 'terendah': 6619, 'inspiratif': 6620, 'memudahlan': 6621, 'win': 6622, 'contek': 6623, 'thebst': 6624, 'gaksiasia': 6625, 'katnya': 6626, 'didoain': 6627, 'sgala': 6628, 'usahanya': 6629, 'dimudahin': 6630, 'dilancarin': 6631, 'standard': 6632, 'membuwat': 6633, 'memory': 6634, 'pertamakalisaya': 6635, 'redownload': 6636, 'nyalakan': 6637, 'nyalain': 6638, 'psikolgi': 6639, 'sebaginya': 6640, 'akirnya': 6641, 'menemukanya': 6642, 'menyedihkan': 6643, 'redmi': 6644, 'os': 6645, 'updte': 6646, 'slanjut': 6647, 'tersimpan': 6648, 'menertawakan': 6649, 'tersingung': 6650, 'alfamaret': 6651, 'kegagalan': 6652, 'undub': 6653, 'berkerumun': 6654, 'sbelumnya': 6655, 'disela': 6656, 'saki': 6657, 'tokcer': 6658, 'mnerima': 6659, 'onya': 6660, 'pr': 6661, 'mendigitalisasi': 6662, 'melimpahkan': 6663, 'terupdate': 6664, 'khususkan': 6665, 'memperbaiki': 6666, 'stelahnya': 6667, 'sebabnya': 6668, 'nyobak': 6669, 'dirim': 6670, 'sindikat': 6671, 'menyimak': 6672, 'gelisah': 6673, 'ynag': 6674, 'hadika': 6675, 'kmpirmasi': 6676, 'mendpatkan': 6677, 'masalahx': 6678, 'melewati': 6679, 'fungsional': 6680, 'kdepanya': 6681, 'bertmbh': 6682, 'pelanyanan': 6683, 'browser': 6684, 'ngeti': 6685, 'membuntuhkn': 6686, 'fengan': 6687, 'sikap': 6688, 'awalny': 6689, 'diac': 6690, 'hawatir': 6691, 'rutinitas': 6692, 'mewujudkan': 6693, 'timnya': 6694, 'uinya': 6695, 'uxnya': 6696, 'drakmode': 6697, 'sort': 6698, 'halofit': 6699, 'diedit': 6700, 'riwiew': 6701, 'secinta': 6702, 'hidupku': 6703, 'kuning': 6704, 'kuningnya': 6705, 'karat': 6706, 'bau': 6707, 'atasnya': 6708, 'bgaimna': 6709, 'dimn': 6710, 'sinus': 6711, 'gakuat': 6712, 'menyatakan': 6713, 'meneguhkan': 6714, 'halodo': 6715, 'menuduh': 6716, 'dilaporin': 6717, 'kehadiran': 6718, 'trim': 6719, 'kouta': 6720, 'sungkem': 6721, 'ceonya': 6722, 'seputaran': 6723, 'chechout': 6724, 'ngeloading': 6725, 'chart': 6726, 'obag': 6727, 'kaluar': 6728, 'godap': 6729, 'terkai': 6730, 'ditubuh': 6731, 'membantuh': 6732, 'kelewat': 6733, 'komsultasi': 6734, 'ditunda': 6735, 'ned': 6736, 'udan': 6737, 'malemnya': 6738, 'enam': 6739, 'dikomplain': 6740, 'idap': 6741, 'adapun': 6742, 'onli': 6743, 'dites': 6744, 'kelupan': 6745, 'wadidaw': 6746, 'wadiwaw': 6747, 'terapan': 6748, 'bari': 6749, 'uji': 6750, 'panti': 6751, 'playanan': 6752, 'bkan': 6753, 'mlayani': 6754, 'klas': 6755, 'trbaik': 6756, 'gitunya': 6757, 'kedukun': 6758, 'pengorbananya': 6759, 'terbntu': 6760, 'pelayanany': 6761, 'oertanyan': 6762, 'redah': 6763, 'setatus': 6764, 'terbantukan': 6765, 'twmpat': 6766, 'terkusus': 6767, 'ananta': 6768, 'sabarnya': 6769, 'siklus': 6770, 'ifan': 6771, 'rsud': 6772, 'pertifikasinya': 6773, 'qlo': 6774, 'terim': 6775, 'pelayananyg': 6776, 'paje': 6777, 'berkonsultas': 6778, 'dilain': 6779, 'asalkan': 6780, 'kdang': 6781, 'undur': 6782, 'dgr': 6783, 'besarnya': 6784, 'menjebak': 6785, 'intsan': 6786, 'primasari': 6787, 'knsultasi': 6788, 'denger': 6789, 'nyesek': 6790, 'trtutup': 6791, 'gugel': 6792, 'dipahmi': 6793, 'klip': 6794, 'excelent': 6795, 'iki': 6796, 'multivitamin': 6797, 'perantara': 6798, 'simvatatin': 6799, 'ursodeoxycholic': 6800, 'acid': 6801, 'dikasihnya': 6802, 'nawari': 6803, 'peraktis': 6804, 'obtan': 6805, 'pengeluaran': 6806, 'tertekan': 6807, 'plong': 6808, 'endorse': 6809, 'dikeranjang': 6810, 'nyarik': 6811, 'datangin': 6812, 'mari': 6813, 'bambang': 6814, 'dobel': 6815, 'kelengkapanya': 6816, 'selbhnya': 6817, 'diperbyk': 6818, 'terkeren': 6819, 'memuadkan': 6820, 'datangke': 6821, 'pam': 6822, 'memudha': 6823, 'txs': 6824, 'pegang': 6825, 'mskp': 6826, 'dizaman': 6827, 'onkir': 6828, 'mantef': 6829, 'swmbuh': 6830, 'mengendap': 6831, 'asistant': 6832, 'mendapt': 6833, 'blasan': 6834, 'brlalu': 6835, 'pengalamanya': 6836, 'cespleng': 6837, 'batuknya': 6838, 'negaranya': 6839, 'sayank': 6840, 'gaka': 6841, 'rahasia': 6842, 'tertop': 6843, 'pengaruhnya': 6844, 'coverage': 6845, 'kurangkan': 6846, 'konsulx': 6847, 'kup': 6848, 'swsuai': 6849, 'berita': 6850, 'hbungi': 6851, 'chatanya': 6852, 'creditcard': 6853, 'acnt': 6854, 'ktanya': 6855, 'hasilny': 6856, 'dsuruh': 6857, 'efektip': 6858, 'anplikasinya': 6859, 'amirul': 6860, 'man': 6861, 'senoari': 6862, 'january': 6863, 'sukse': 6864, 'sokterna': 6865, 'biat': 6866, 'virasat': 6867, 'glowing': 6868, 'ketipu': 6869, 'sharingnya': 6870, 'berserta': 6871, 'yuli': 6872, 'doketer': 6873, 'membodohi': 6874, 'melegakan': 6875, 'muat': 6876, 'candsartan': 6877, 'lembar': 6878, 'kurn': 6879, 'mendapatkanya': 6880, 'gojekya': 6881, 'hpnya': 6882, 'creator': 6883, 'realy': 6884, 'medicine': 6885, 'dowlowd': 6886, 'mod': 6887, 'erabung': 6888, 'berbahaya': 6889, 'bipang': 6890, 'anj': 6891, 'tangepin': 6892, 'nyelesain': 6893, 'resource': 6894, 'memikili': 6895, 'aplagi': 6896, 'inilah': 6897, 'ditangan': 6898, 'phone': 6899, 'heranya': 6900, 'sejalan': 6901, 'blon': 6902, 'sgr': 6903, 'mena': 6904, 'nyakan': 6905, 'menungunya': 6906, 'closed': 6907, 'tersolusikan': 6908, 'eits': 6909, 'sputar': 6910, 'mahar': 6911, 'ditambahkn': 6912, 'mistake': 6913, 'layananan': 6914, 'fitutnya': 6915, 'rban': 6916, 'finish': 6917, 'konsultasinyadan': 6918, 'termikasih': 6919, 'faizal': 6920, 'bawanong': 6921, 'buasa': 6922, 'terkomunikasi': 6923, 'menghapus': 6924, 'mengerikan': 6925, 'tramsfer': 6926, 'forced': 6927, 'perkampungan': 6928, 'kampungnya': 6929, 'tuliskan': 6930, 'deliver': 6931, 'digagalkan': 6932, 'lack': 6933, 'sangad': 6934, 'menebar': 6935, 'alodokt': 6936, 'sharelok': 6937, 'terditeksi': 6938, 'biysanya': 6939, 'yoga': 6940, 'whidianto': 6941, 'uninst': 6942, 'tangl': 6943, 'meprmdah': 6944, 'merka': 6945, 'ketmpt': 6946, 'sbnarnya': 6947, 'mprsulit': 6948, 'akuratan': 6949, 'tnks': 6950, 'buset': 6951, 'ketimbang': 6952, 'waktuny': 6953, 'klanjutanya': 6954, 'tabyakan': 6955, 'soalmy': 6956, 'gomednya': 6957, 'gosent': 6958, 'astaqfirulah': 6959, 'tng': 6960, 'sring': 6961, 'tempatbpraktik': 6962, 'apapa': 6963, 'perlunya': 6964, 'dsbg': 6965, 'melakukanya': 6966, 'sayah': 6967, 'daptar': 6968, 'nikah': 6969, 'teratur': 6970, 'bersihnya': 6971, 'brti': 6972, 'dihindarkan': 6973, 'diurus': 6974, 'boro': 6975, 'mencabut': 6976, 'mngnai': 6977, 'pencegahanya': 6978, 'rumas': 6979, 'apliaksinya': 6980, 'bagimana': 6981, 'separah': 6982, 'itukah': 6983, 'dihimbau': 6984, 'pemilik': 6985, 'mewabahnya': 6986, 'sayangi': 6987, 'loadspeaker': 6988, 'membantubsekali': 6989, 'bijikin': 6990, 'sepsialis': 6991, 'disiapkan': 6992, 'dahuly': 6993, 'berujung': 6994, 'keahlianya': 6995, 'terpenting': 6996, 'nb': 6997, 'least': 6998, 'bablas': 6999, 'tmksh': 7000, 'refres': 7001, 'dicark': 7002, 'menjeleskan': 7003, 'kern': 7004, 'docternay': 7005, 'nangepin': 7006, 'pandemin': 7007, 'sikaum': 7008, 'hangat': 7009, 'dirumahsaja': 7010, 'progam': 7011, 'dibeberapa': 7012, 'setidaknga': 7013, 'identifikasi': 7014, 'baiq': 7015, 'intim': 7016, 'telemed': 7017, 'mkai': 7018, 'kdpan': 7019, 'pemayaranya': 7020, 'trik': 7021, 'aplikazi': 7022, 'zistem': 7023, 'smntr': 7024, 'wahyu': 7025, 'hasni': 7026, 'ilmi': 7027, 'holisticare': 7028, 'ester': 7029, 'manado': 7030, 'luck': 7031, 'diofline': 7032, 'kejadianya': 7033, 'notification': 7034, 'adriansyah': 7035, 'mbutuhkan': 7036, 'labih': 7037, 'milenials': 7038, 'mambatu': 7039, 'berafiliasi': 7040, 'halofoc': 7041, 'mnungu': 7042, 'menetapkan': 7043, 'recomendid': 7044, 'dgunain': 7045, 'cindy': 7046, 'helping': 7047, 'grgr': 7048, 'konsolatasi': 7049, 'angep': 7050, 'remeh': 7051, 'makn': 7052, 'sbrpa': 7053, 'butuhkn': 7054, 'konsoltasinya': 7055, 'anjim': 7056, 'seterus': 7057, 'langsungnya': 7058, 'alhamdulih': 7059, 'dicap': 7060, 'systemnya': 7061, 'kandunganx': 7062, 'cocoknya': 7063, 'buta': 7064, 'tnaks': 7065, 'rekomemded': 7066, 'penjelesanya': 7067, 'tdinya': 7068, 'bingun': 7069, 'dikalangan': 7070, 'ngbrolnya': 7071, 'diburu': 7072, 'bekerjanya': 7073, 'misalny': 7074, 'beberap': 7075, 'diantaranya': 7076, 'terdengan': 7077, 'dipergunakan': 7078, 'feli': 7079, 'bias': 7080, 'progresnya': 7081, 'tokopun': 7082, 'sameday': 7083, 'deg': 7084, 'semga': 7085, 'bermanfa': 7086, 'urologi': 7087, 'dispensasi': 7088, 'terhubungkan': 7089, 'lagin': 7090, 'petolongan': 7091, 'tgkyu': 7092, 'mengajak': 7093, 'mengobrol': 7094, 'diverifikasi': 7095, 'bergetar': 7096, 'tpln': 7097, 'perhari': 7098, 'buku': 7099, 'ketikanya': 7100, 'bungkusan': 7101, 'sebisa': 7102, 'dibgratiskan': 7103, 'mf': 7104, 'pajangan': 7105, 'kasij': 7106, 'prefesional': 7107, 'ujanan': 7108, 'aisah': 7109, 'negatif': 7110, 'ilfel': 7111, 'narasumber': 7112, 'ulu': 7113, 'nahan': 7114, 'buatlah': 7115, 'udaj': 7116, 'farmakologi': 7117, 'grogi': 7118, 'njagain': 7119, 'sebelas': 7120, 'mesis': 7121, 'apresiatif': 7122, 'doķternya': 7123, 'diabet': 7124, 'mnebus': 7125, 'istrht': 7126, 'detaile': 7127, 'memesankn': 7128, 'jabar': 7129, 'thnkyu': 7130, 'nmerku': 7131, 'oada': 7132, 'selanat': 7133, 'mlem': 7134, 'suamiku': 7135, 'uratnya': 7136, 'decopenak': 7137, 'harienjalankan': 7138, 'puada': 7139, 'syawal': 7140, 'nmor': 7141, 'sekitae': 7142, 'diantet': 7143, 'melayanin': 7144, 'retur': 7145, 'sentuh': 7146, 'pembaruan': 7147, 'postif': 7148, 'laku': 7149, 'pengirimany': 7150, 'olh': 7151, 'klieny': 7152, 'aplause': 7153, 'cache': 7154, 'geratisnya': 7155, 'melayni': 7156, 'xjp': 7157, 'langusng': 7158, 'pitur': 7159, 'aqya': 7160, 'ambilny': 7161, 'dropny': 7162, 'fixs': 7163, 'carin': 7164, 'aplks': 7165, 'dikrnakan': 7166, 'terlbih': 7167, 'diutarakn': 7168, 'tguin': 7169, 'termksh': 7170, 'tindaklanjutnya': 7171, 'tertunda': 7172, 'telemidisin': 7173, 'usut': 7174, 'difolow': 7175, 'nertemu': 7176, 'gapuna': 7177, 'mengerus': 7178, 'langsunv': 7179, 'dicatat': 7180, 'reponya': 7181, 'usianya': 7182, 'gusi': 7183, 'kelaparan': 7184, 'same': 7185, 'day': 7186, 'dowloand': 7187, 'perutnya': 7188, 'mndadak': 7189, 'pembayar': 7190, 'respontif': 7191, 'bestie': 7192, 'degdegan': 7193, 'antrianya': 7194, 'wasting': 7195, 'kegundahan': 7196, 'bagu': 7197, 'kebutuhab': 7198, 'exit': 7199, 'blsx': 7200, 'ngeresponya': 7201, 'pemiarsa': 7202, 'marchely': 7203, 'sharlyn': 7204, 'iriane': 7205, 'lewu': 7206, 'bergakap': 7207, 'tersumbat': 7208, 'kebung': 7209, 'oembayaranya': 7210, 'mar': 7211, 'kotop': 7212, 'sekràng': 7213, 'play': 7214, 'uhuy': 7215, 'such': 7216, 'trash': 7217, 'why': 7218, 'didn': 7219, 'show': 7220, 'result': 7221, 'near': 7222, 'testnya': 7223, 'smsnya': 7224, 'ngaktifin': 7225, 'boros': 7226, 'batrai': 7227, 'jod': 7228, 'pharmacynya': 7229, 'alhmdlilh': 7230, 'kshtan': 7231, 'oengembangan': 7232, 'thdp': 7233, 'tnyata': 7234, 'menegangkan': 7235, 'budiyanto': 7236, 'mars': 7237, 'debora': 7238, 'shinta': 7239, 'tudak': 7240, 'koplak': 7241, 'belasan': 7242, 'udahku': 7243, 'demua': 7244, 'sulawesi': 7245, 'diklaim': 7246, 'pengepakan': 7247, 'setan': 7248, 'bunda': 7249, 'buton': 7250, 'kong': 7251, 'beroperasional': 7252, 'riskan': 7253, 'unsur': 7254, 'kesengajan': 7255, 'mengejek': 7256, 'centre': 7257, 'ditoko': 7258, 'orenz': 7259, 'rentenir': 7260, 'jaminan': 7261, 'implementasi': 7262, 'menganalisis': 7263, 'dokumentasi': 7264, 'berjadual': 7265, 'mancung': 7266, 'jadual': 7267, 'hubungan': 7268, 'prudentialnya': 7269, 'sukes': 7270, 'sepertini': 7271, 'kapansaja': 7272, 'belitung': 7273, 'dipertahan': 7274, 'buwat': 7275, 'kehidup': 7276, 'pan': 7277, 'papun': 7278, 'especialy': 7279, 'dony': 7280, 'firdaus': 7281, 'ht': 7282, 'senggama': 7283, 'gawatdarurat': 7284, 'mudahkan': 7285, 'haus': 7286, 'giniergikan': 7287, 'solisi': 7288, 'sek': 7289, 'laboratorium': 7290, 'jahunya': 7291, 'idomaret': 7292, 'dtmbah': 7293, 'alfamidi': 7294, 'kdepan': 7295, 'spesiaplis': 7296, 'penyesalan': 7297, 'semiga': 7298, 'pejelasan': 7299, 'marcela': 7300, 'ds': 7301, 'tuntuk': 7302, 'langasung': 7303, 'mempengaruh': 7304, 'melewatkanya': 7305, 'aktifitasnya': 7306, 'menyalakan': 7307, 'ngechat': 7308, 'kukira': 7309, 'disuntik': 7310, 'tetaplah': 7311, 'terapkan': 7312, 'kepleset': 7313, 'ouas': 7314, 'tangsel': 7315, 'ambilnya': 7316, 'lngsg': 7317, 'seringnya': 7318, 'poto': 7319, 'memintaknya': 7320, 'embelian': 7321, 'mempertemukan': 7322, 'penelpon': 7323, 'memprivasi': 7324, 'around': 7325, 'alone': 7326, 'downlodt': 7327, 'robotan': 7328, 'terbimbing': 7329, 'recomendet': 7330, 'meragukan': 7331, 'masha': 7332, 'galaxy': 7333, 'dijanjilan': 7334, 'dilanjut': 7335, 'praktisn': 7336, 'pasiaen': 7337, 'manakala': 7338, 'igin': 7339, 'nangepinya': 7340, 'menyambaikan': 7341, 'memuas': 7342, 'sep': 7343, 'juempol': 7344, 'terbentur': 7345, 'be': 7346, 'ge': 7347, 'blsanya': 7348, 'bagaiman': 7349, 'dilokasi': 7350, 'sipembeli': 7351, 'peninjauanya': 7352, 'highlight': 7353, 'penjawab': 7354, 'sambungan': 7355, 'sendirinya': 7356, 'tujuanya': 7357, 'soroti': 7358, 'tercetak': 7359, 'terecord': 7360, 'pambayaran': 7361, 'domper': 7362, 'withdraws': 7363, 'rekeninh': 7364, 'mengunkn': 7365, 'wlpun': 7366, 'wajarlah': 7367, 'pkonya': 7368, 'jangkaunya': 7369, 'teimakasih': 7370, 'ichwan': 7371, 'darting': 7372, 'keprofesinalan': 7373, 'pengaktifan': 7374, 'menyebut': 7375, 'gagalin': 7376, 'ditransfer': 7377, 'akn': 7378, 'kapansja': 7379, 'spesilisnya': 7380, 'slamat': 7381, 'dikemas': 7382, 'bo': 7383, 'apresiasi': 7384, 'batum': 7385, 'stngah': 7386, 'layarnya': 7387, 'terkuras': 7388, 'kece': 7389, 'dibidan': 7390, 'kterangan': 7391, 'dbatalkan': 7392, 'skrangpun': 7393, 'tiada': 7394, 'memberikn': 7395, 'bradapn': 7396, 'buatkan': 7397, 'berpikir': 7398, 'jach': 7399, 'bwat': 7400, 'arti': 7401, 'mengahiri': 7402, 'ngebls': 7403, 'jtg': 7404, 'srg': 7405, 'cucu': 7406, 'pertangunan': 7407, 'deterjen': 7408, 'berairnya': 7409, 'diarankan': 7410, 'tanganya': 7411, 'pantangan': 7412, 'detergen': 7413, 'klwr': 7414, 'tangapany': 7415, 'pahlawan': 7416, 'lantas': 7417, 'halobdoc': 7418, 'ngebalesnyapun': 7419, 'ngedownload': 7420, 'sangangat': 7421, 'yolong': 7422, 'perpsnjang': 7423, 'tnyak': 7424, 'kejawab': 7425, 'pertnyakanya': 7426, 'mencerdaskan': 7427, 'maklumlah': 7428, 'censel': 7429, 'sipahami': 7430, 'stepnya': 7431, 'pelayananaya': 7432, 'mengutamakan': 7433, 'spam': 7434, 'ux': 7435, 'gracias': 7436, 'sengang': 7437, 'apotrk': 7438, 'brag': 7439, 'puasdgn': 7440, 'indra': 7441, 'cahya': 7442, 'dikirimin': 7443, 'sbaiknya': 7444, 'sepwrti': 7445, 'pengantinya': 7446, 'idni': 7447, 'karanganyar': 7448, 'sucralfate': 7449, 'domperidone': 7450, 'kendalanya': 7451, 'keraguan': 7452, 'kirimanpun': 7453, 'ngerusak': 7454, 'perfom': 7455, 'anyep': 7456, 'rm': 7457, 'newbie': 7458, 'done': 7459, 'ktiduran': 7460, 'mengegerkan': 7461, 'blokade': 7462, 'dipke': 7463, 'dipncet': 7464, 'dftr': 7465, 'ampk': 7466, 'tempqt': 7467, 'prefer': 7468, 'parnoan': 7469, 'mjd': 7470, 'a': 7471, 'terterter': 7472, 'tunjukan': 7473, 'kecerdasan': 7474, 'maksih': 7475, 'gece': 7476, 'st': 7477, 'prgi': 7478, 'bayak': 7479, 'marvelous': 7480, 'tapindurasi': 7481, 'pnglman': 7482, 'prtm': 7483, 'knsltsi': 7484, 'pnglmn': 7485, 'berhrga': 7486, 'mngtsi': 7487, 'hdpi': 7488, 'bobrok': 7489, 'mengtasnmakan': 7490, 'tetpi': 7491, 'nelpn': 7492, 'mengatsnamakn': 7493, 'tentng': 7494, 'mengtkn': 7495, 'mendpt': 7496, 'omongin': 7497, 'suarnya': 7498, 'ladenin': 7499, 'hti': 7500, 'downld': 7501, 'beralih': 7502, 'mbayar': 7503, 'bermsalah': 7504, 'sejumlh': 7505, 'tagihn': 7506, 'doble': 7507, 'percya': 7508, 'ajarkan': 7509, 'tata': 7510, 'kerama': 7511, 'memeriksanya': 7512, 'jaih': 7513, 'semitar': 7514, 'jawabny': 7515, 'pngiriman': 7516, 'didiagnosa': 7517, 'mengantikan': 7518, 'peran': 7519, 'berbaring': 7520, 'lebuh': 7521, 'smbuh': 7522, 'restar': 7523, 'sekarsng': 7524, 'khawatiran': 7525, 'hatinya': 7526, 'shearing': 7527, 'past': 7528, 'ajk': 7529, 'makek': 7530, 'kalok': 7531, 'lomboknya': 7532, 'mulen': 7533, 'maik': 7534, 'dihapus': 7535, 'protes': 7536, 'dihari': 7537, 'ontime': 7538, 'ngecrash': 7539, 'tiem': 7540, 'alhamdulila': 7541, 'jabawan': 7542, 'bngat': 7543, 'diajakin': 7544, 'padang': 7545, 'koreng': 7546, 'ti': 7547, 'tangah': 7548, 'kmre': 7549, 'lamun': 7550, 'berair': 7551, 'cacar': 7552, 'cuks': 7553, 'aje': 7554, 'bertransaksi': 7555, 'panedemi': 7556, 'sambungkan': 7557, 'kemarim': 7558, 'mnemukan': 7559, 'cra': 7560, 'prtolongan': 7561, 'checkup': 7562, 'diciptakanya': 7563, 'jalankan': 7564, 'diorderin': 7565, 'ribetnya': 7566, 'mengunakam': 7567, 'batita': 7568, 'amien': 7569, 'kursornya': 7570, 'bagaimama': 7571, 'konsulan': 7572, 'dblokir': 7573, 'mengkoneksikan': 7574, 'pelanganya': 7575, 'cas': 7576, 'dibatlkan': 7577, 'oernah': 7578, 'aflikasi': 7579, 'sekurangnya': 7580, 'terpalar': 7581, 'santunan': 7582, 'bermaksud': 7583, 'refreh': 7584, 'aslkm': 7585, 'kpala': 7586, 'puding': 7587, 'vertigo': 7588, 'cadel': 7589, 'tangapam': 7590, 'dikomunikasikan': 7591, 'screnshotnya': 7592, 'munculin': 7593, 'dbantu': 7594, 'hopeles': 7595, 'memyesal': 7596, 'skdar': 7597, 'kasur': 7598, 'sampein': 7599, 'msmbantu': 7600, 'mimin': 7601, 'kalitake': 7602, 'granul': 7603, 'stadium': 7604, 'cuci': 7605, 'satupun': 7606, 'nihil': 7607, 'erbayar': 7608, 'bedakan': 7609, 'dngnkita': 7610, 'vefirikasi': 7611, 'usulnya': 7612, 'konten': 7613, 'sedot': 7614, 'ngeblokirnya': 7615, 'mengcancelnya': 7616, 'recom': 7617, 'kenyamananya': 7618, 'infprmasi': 7619, 'tepay': 7620, 'fersia': 7621, 'konsultadi': 7622, 'mudahin': 7623, 'keridit': 7624, 'metotde': 7625, 'bayangan': 7626, 'jari': 7627, 'takutan': 7628, 'mengkonsumsi': 7629, 'akibat': 7630, 'durian': 7631, 'biji': 7632, 'tksi': 7633, 'bernilai': 7634, 'alhamdulilqh': 7635, 'pemgirman': 7636, 'merpermudah': 7637, 'rumahbuntuk': 7638, 'bemanfat': 7639, 'iji': 7640, 'tiket': 7641, 'duhduhduh': 7642, 'ditegur': 7643, 'block': 7644, 'terpilih': 7645, 'bitang': 7646, 'kelebihan': 7647, 'tanah': 7648, 'curhatnya': 7649, 'disimak': 7650, 'aju': 7651, 'masage': 7652, 'kenceng': 7653, 'keisengan': 7654, 'mwnjadi': 7655, 'kekaguman': 7656, 'etis': 7657, 'jajan': 7658, 'sisihkan': 7659, 'mencocokan': 7660, 'dirimu': 7661, 'melupakanmu': 7662, 'pngrim': 7663, 'rancabango': 7664, 'leg': 7665, 'gambarnya': 7666, 'sale': 7667, 'mainan': 7668, 'diluncurkan': 7669, 'berulangkali': 7670, 'masyrakat': 7671, 'popok': 7672, 'trnyta': 7673, 'dp': 7674, 'lb': 7675, 'kaha': 7676, 'dirujuk': 7677, 'menjumpai': 7678, 'urgant': 7679, 'pencurian': 7680, 'ditawari': 7681, 'dibanyakin': 7682, 'peresponan': 7683, 'mebgalai': 7684, 'sepecialis': 7685, 'gonta': 7686, 'pulangnya': 7687, 'dikomplen': 7688, 'ahahahaha': 7689, 'mengunkan': 7690, 'pasword': 7691, 'xl': 7692, 'simpati': 7693, 'menajwab': 7694, 'bilng': 7695, 'debest': 7696, 'dbuka': 7697, 'inu': 7698, 'respectly': 7699, 'bertanyak': 7700, 'tambain': 7701, 'obar': 7702, 'smpek': 7703, 'thl': 7704, 'jwa': 7705, 'sangking': 7706, 'seklian': 7707, 'amerika': 7708, 'serikat': 7709, 'sehrusnya': 7710, 'gubris': 7711, 'sadam': 7712, 'haykal': 7713, 'sruh': 7714, 'bnyakin': 7715, 'usg': 7716, 'internetnya': 7717, 'serahkan': 7718, 'barangpun': 7719, 'telemedisin': 7720, 'paka': 7721, 'mob': 7722, 'tgh': 7723, 'verif': 7724, 'ulng': 7725, 'dihubkn': 7726, 'kemanapun': 7727, 'thax': 7728, 'berkeliling': 7729, 'tingkaktan': 7730, 'lagsung': 7731, 'sekaki': 7732, 'pantes': 7733, 'keluatanya': 7734, 'tercata': 7735, 'bugs': 7736, 'undanganya': 7737, 'sawahan': 7738, 'sby': 7739, 'mengisnpirasi': 7740, 'diperlihatkan': 7741, 'disaya': 7742, 'sedetailnya': 7743, 'perusuhan': 7744, 'cakra': 7745, 'diteruskan': 7746, 'pembelianmu': 7747, 'untunglah': 7748, 'buktikan': 7749, 'donlodo': 7750, 'bertolak': 7751, 'terimakash': 7752, 'penjelasna': 7753, 'ditetapkan': 7754, 'dimurahkan': 7755, 'ditingkatin': 7756, 'wasilah': 7757, 'keduanya': 7758, 'khawatirkan': 7759, 'gerd': 7760, 'anxiety': 7761, 'pemyakit': 7762, 'internal': 7763, 'diobati': 7764, 'gagap': 7765, 'busui': 7766, 'asix': 7767, 'suamipun': 7768, 'benerapa': 7769, 'sudha': 7770, 'tercatat': 7771, 'disepelekan': 7772, 'pos': 7773, 'jnt': 7774, 'komplikasi': 7775, 'obh': 7776, 'combi': 7777, 'jahe': 7778, 'madiun': 7779, 'yesika': 7780, 'ewalet': 7781, 'sepadan': 7782, 'khasiatnya': 7783, 'apli': 7784, 'begus': 7785, 'tidal': 7786, 'fikit': 7787, 'modus': 7788, 'penganti': 7789, 'meta': 7790, 'ngurangin': 7791, 'lumayankan': 7792, 'penjabaran': 7793, 'lebaih': 7794, 'kesedian': 7795, 'yanv': 7796, 'janganlah': 7797, 'merdeka': 7798, 'kompeni': 7799, 'quantity': 7800, 'anisa': 7801, 'setia': 7802, 'tadiny': 7803, 'sekarg': 7804, 'pko': 7805, 'print': 7806, 'daptkan': 7807, 'kelu': 7808, 'ar': 7809, 'menyelsai': 7810, 'kasuh': 7811, 'pemanis': 7812, 'antapani': 7813, 'ciwastra': 7814, 'jauhan': 7815, 'perincian': 7816, 'marak': 7817, 'aizawanda': 7818, 'diluarkota': 7819, 'epektif': 7820, 'dibidangny': 7821, 'memibta': 7822, 'merajalela': 7823, 'sanahat': 7824, 'carnya': 7825, 'cot': 7826, 'aplilashinya': 7827, 'palin': 7828, 'konesik': 7829, 'comprehensive': 7830, 'htm': 7831, 'ygbagaimana': 7832, 'bandel': 7833, 'lainlain': 7834, 'sudi': 7835, 'kerunah': 7836, 'terbyata': 7837, 'perawatnya': 7838, 'memainkan': 7839, 'grimis': 7840, 'klupan': 7841, 'pil': 7842, 'kb': 7843, 'solved': 7844, 'ulasanya': 7845, 'malasan': 7846, 'nrima': 7847, 'dqn': 7848, 'tulung': 7849, 'maning': 7850, 'warning': 7851, 'gd': 7852, 'tangunh': 7853, 'jwbanya': 7854, 'terkadamg': 7855, 'yesel': 7856, 'jauhnya': 7857, 'sopir': 7858, 'nyantol': 7859, 'dock': 7860, 'lahirnya': 7861, 'revesi': 7862, 'adac': 7863, 'kuar': 7864, 'disayangkn': 7865, 'withdraw': 7866, 'rembuise': 7867, 'memberanikan': 7868, 'rèspon': 7869, 'selasa': 7870, 'sabtu': 7871, 'sekqli': 7872, 'okè': 7873, 'jogja': 7874, 'lier': 7875, 'mengeri': 7876, 'usai': 7877, 'pakao': 7878, 'qalby': 7879, 'epilepsi': 7880, 'rekomedasikan': 7881, 'halodc': 7882, 'clinik': 7883, 'terinakasih': 7884, 'surga': 7885, 'bintg': 7886, 'ciri': 7887, 'irma': 7888, 'susan': 7889, 'kurnia': 7890, 'deasy': 7891, 'nurisya': 7892, 'pembahasan': 7893, 'jdny': 7894, 'sucses': 7895, 'kitanya': 7896, 'perumahanya': 7897, 'antigatal': 7898, 'nyenyak': 7899, 'setakat': 7900, 'keseriusan': 7901, 'historis': 7902, 'novia': 7903, 'samarinda': 7904, 'dir': 7905, 'dengab': 7906, 'dibilangnya': 7907, 'memabntu': 7908, 'pngirim': 7909, 'otomatiskan': 7910, 'pengantarnya': 7911, 'komikasif': 7912, 'saranx': 7913, 'mugkin': 7914, 'menanti': 7915, 'penanda': 7916, 'kekeranjang': 7917, 'expired': 7918, 'datenya': 7919, 'kegiatan': 7920, 'unit': 7921, 'crepy': 7922, 'pasahal': 7923, 'berhentin': 7924, 'autodebetnya': 7925, 'istiqomah': 7926, 'berdiskusi': 7927, 'khususan': 7928, 'dedy': 7929, 'tasya': 7930, 'farasya': 7931, 'tunda': 7932, 'menghadirkan': 7933, 'resilah': 7934, 'mengejar': 7935, 'kemilau': 7936, 'fatimah': 7937, 'konsistensi': 7938, 'ketas': 7939, 'benefit': 7940, 'mengechat': 7941, 'menangank': 7942, 'sbnernya': 7943, 'wujudkan': 7944, 'membebankan': 7945, 'kejelasanya': 7946, 'tidakanya': 7947, 'mbatu': 7948, 'naya': 7949, 'za': 7950, 'oil': 7951, 'prudential': 7952, 'ut': 7953, 'adukasi': 7954, 'kolsultasi': 7955, 'terdepan': 7956, 'prime': 7957, 'operasikan': 7958, 'risau': 7959, 'ingnkan': 7960, 'brguna': 7961, 'denagan': 7962, 'paketan': 7963, 'bgtz': 7964, 'nian': 7965, 'maskernya': 7966, 'trakingnya': 7967, 'tungkatkan': 7968, 'ditekan': 7969, 'kesehatanmu': 7970, 'terkasih': 7971, 'kembang': 7972, 'regristrasi': 7973, 'benget': 7974, 'verifikasai': 7975, 'trkirim': 7976, 'mencintai': 7977, 'memperhatiakan': 7978, 'mengasihi': 7979, 'memperdulikan': 7980, 'recomd': 7981, 'melauani': 7982, 'bida': 7983, 'kerna': 7984, 'dipelayanan': 7985, 'kualitasmu': 7986, 'binatang': 7987, 'benalu': 7988, 'hapusnya': 7989, 'direpotkanya': 7990, 'buangx': 7991, 'crita': 7992, 'diskusi': 7993, 'smlm': 7994, 'ditlfn': 7995, 'klasik': 7996, 'mungu': 7997, 'sobong': 7998, 'yf': 7999, 'awas': 8000, 'konvensional': 8001, 'antrinya': 8002, 'mastarakat': 8003, 'automatis': 8004, 'progres': 8005, 'adha': 8006, 'berkenan': 8007, 'adeh': 8008, 'berhentinya': 8009, 'androit': 8010, 'suratnya': 8011, 'dikurangkan': 8012, 'quota': 8013, 'bankingny': 8014, 'disubsidi': 8015, 'secukupnya': 8016, 'cemasnya': 8017, 'nico': 8018, 'advisnya': 8019, 'chekout': 8020, 'pujituhan': 8021, 'thnkyou': 8022, 'suksesterus': 8023, 'bekendara': 8024, 'sukurlah': 8025, 'berow': 8026, 'suskes': 8027, 'jwita': 8028, 'ternyatq': 8029, 'kayakmanaya': 8030, 'berpengaman': 8031, 'es': 8032, 'membuktikan': 8033, 'unek': 8034, 'daripda': 8035, 'ntr': 8036, 'gosip': 8037, 'dibatesin': 8038, 'ramqh': 8039, 'langkahnya': 8040, 'ngestuck': 8041, 'diungkapkan': 8042, 'didepan': 8043, 'keluarin': 8044, 'frifikasi': 8045, 'ino': 8046, 'aih': 8047, 'butih': 8048, 'padah': 8049, 'dapt': 8050, 'ruangan': 8051, 'apkny': 8052, 'dibln': 8053, 'naek': 8054, 'untungny': 8055, 'baliknya': 8056, 'mantaps': 8057, 'pamri': 8058, 'didebet': 8059, 'member': 8060, 'telemedecine': 8061, 'dian': 8062, 'biayaya': 8063, 'sedian': 8064, 'konversasi': 8065, 'mengungkap': 8066, 'imbangi': 8067, 'dsarankan': 8068, 'bnykin': 8069, 'alodoct': 8070, 'sepenuh': 8071, 'doktetnya': 8072, 'gizinya': 8073, 'copypaste': 8074, 'diperhitungkan': 8075, 'denganpertanyan': 8076, 'ayangan': 8077, 'direcomendedkan': 8078, 'suskses': 8079, 'pn': 8080, 'alagi': 8081, 'op': 8082, 'antr': 8083, 'berantri': 8084, 'datanya': 8085, 'fikum': 8086, 'mengntri': 8087, 'peluang': 8088, 'mengabdi': 8089, 'pemasukan': 8090, 'pelajaran': 8091, 'tamganin': 8092, 'tingkatkn': 8093, 'diobatin': 8094, 'pnyakitnya': 8095, 'petlu': 8096, 'puny': 8097, 'dtmbh': 8098, 'dicover': 8099, 'thebest': 8100, 'keterdian': 8101, 'alikasi': 8102, 'telek': 8103, 'vaksinya': 8104, 'dokrer': 8105, 'diandalan': 8106, 'angaran': 8107, 'trmks': 8108, 'masuki': 8109, 'mengenakan': 8110, 'wendy': 8111, 'protokol': 8112, 'giovani': 8113, 'cetek': 8114, 'cliant': 8115, 'mrmbantu': 8116, 'kinik': 8117, 'fk': 8118, 'jugaloh': 8119, 'becus': 8120, 'terbalik': 8121, 'memperkenalkan': 8122, 'naldo': 8123, 'sofian': 8124, 'tanoa': 8125, 'ajari': 8126, 'diperbesar': 8127, 'zom': 8128, 'merevisi': 8129, 'mengabarkan': 8130, 'kerap': 8131, 'mencantumkan': 8132, 'bikinorg': 8133, 'sndr': 8134, 'lewar': 8135, 'gqes': 8136, 'sedetil': 8137, 'rekamendid': 8138, 'ngantre': 8139, 'aplilkasi': 8140, 'recomendasikan': 8141, 'omaigod': 8142, 'bene': 8143, 'sepertibsaya': 8144, 'dinfokan': 8145, 'vouchernya': 8146, 'pinta': 8147, 'memeras': 8148, 'pedahal': 8149, 'sumo': 8150, 'tekno': 8151, 'setaun': 8152, 'narik': 8153, 'bertnya': 8154, 'mrk': 8155, 'menjwb': 8156, 'dpn': 8157, 'persesi': 8158, 'trimakash': 8159, 'fash': 8160, 'dakternya': 8161, 'bety': 8162, 'berbaik': 8163, 'smpat': 8164, 'haripun': 8165, 'disambungin': 8166, 'plafond': 8167, 'kbrnya': 8168, 'dojternya': 8169, 'takedown': 8170, 'nasalah': 8171, 'balek': 8172, 'jangkaun': 8173, 'ngeunduh': 8174, 'lahap': 8175, 'nganjurin': 8176, 'sejahtra': 8177, 'mantabz': 8178, 'onlineshop': 8179, 'grecep': 8180, 'perkisa': 8181, 'tinjau': 8182, 'bonus': 8183, 'dimatin': 8184, 'polonia': 8185, 'rekomenya': 8186, 'sekang': 8187, 'makinsukses': 8188, 'gpsnya': 8189, 'isteri': 8190, 'utuh': 8191, 'ngpain': 8192, 'rexomended': 8193, 'mndg': 8194, 'trdkat': 8195, 'kamo': 8196, 'maha': 8197, 'kuasa': 8198, 'custumor': 8199, 'susahnyq': 8200, 'objektif': 8201, 'bajet': 8202, 'perlengkapan': 8203, 'soekamto': 8204, 'lots': 8205, 'kasik': 8206, 'bagis': 8207, 'terasedia': 8208, 'ngeread': 8209, 'col': 8210, 'sebutin': 8211, 'dudukmanis': 8212, 'nyape': 8213, 'berisi': 8214, 'wawan': 8215, 'monitor': 8216, 'abisnya': 8217, 'mengesankan': 8218, 'plester': 8219, 'gaperluh': 8220, 'pointingnya': 8221, 'nyebrang': 8222, 'pikiranku': 8223, 'putra': 8224, 'rizky': 8225, 'kotamadya': 8226, 'bandarlampung': 8227, 'kemiling': 8228, 'deuh': 8229, 'abaikan': 8230, 'dberikn': 8231, 'kdokter': 8232, 'tgal': 8233, 'dahului': 8234, 'deposit': 8235, 'melaporkan': 8236, 'halodocs': 8237, 'berupa': 8238, 'cso': 8239, 'informasikan': 8240, 'pelayananyah': 8241, 'dimintakan': 8242, 'mk': 8243, 'diresipkan': 8244, 'pean': 8245, 'lepas': 8246, 'kepda': 8247, 'amanda': 8248, 'tmp': 8249, 'laman': 8250, 'chatingnya': 8251, 'sample': 8252, 'bon': 8253, 'setyap': 8254, 'tersediah': 8255, 'inforamsi': 8256, 'jugak': 8257, 'menegecewakan': 8258, 'dikapal': 8259, 'ndan': 8260, 'soc': 8261, 'mengharuskn': 8262, 'dicarinya': 8263, 'dengen': 8264, 'menyengsarakan': 8265, 'selalupuas': 8266, 'promafit': 8267, 'etabion': 8268, 'bintaro': 8269, 'tangerangselatan': 8270, 'degn': 8271, 'virtualacoun': 8272, 'bintanglimapus': 8273, 'mrek': 8274, 'hargapun': 8275, 'hawatirkn': 8276, 'mencangkup': 8277, 'realistis': 8278, 'kaih': 8279, 'useles': 8280, 'anterinya': 8281, 'gratisny': 8282, 'gc': 8283, 'menguapload': 8284, 'disisi': 8285, 'totalan': 8286, 'nghapus': 8287, 'dibeikan': 8288, 'calvine': 8289, 'ngabisa': 8290, 'entahlah': 8291, 'voice': 8292, 'menguwatirkan': 8293, 'dkterx': 8294, 'menghantui': 8295, 'peningi': 8296, 'paketanya': 8297, 'fachrul': 8298, 'irsan': 8299, 'pembaharuan': 8300, 'ist': 8301, 'bar': 8302, 'berkarir': 8303, 'dipedalaman': 8304, 'kebangetan': 8305, 'akutat': 8306, 'suspen': 8307, 'pakekx': 8308, 'reschdule': 8309, 'refunded': 8310, 'bojongede': 8311, 'marahin': 8312, 'drivel': 8313, 'kesembilan': 8314, 'menandakan': 8315, 'keridakprofesional': 8316, 'mengelola': 8317, 'kambing': 8318, 'nasional': 8319, 'dimintain': 8320, 'meskinpun': 8321, 'david': 8322, 'luis': 8323, 'gesit': 8324, 'woth': 8325, 'training': 8326, 'ngantarnya': 8327, 'apik': 8328, 'dimuka': 8329, 'menghabis': 8330, 'tetes': 8331, 'hansol': 8332, 'parnter': 8333, 'scheduling': 8334, 'hardcopy': 8335, 'softcopy': 8336, 'sla': 8337, 'brpengalaman': 8338, 'site': 8339, 'agung': 8340, 'dievaluasi': 8341, 'lmbat': 8342, 'gamake': 8343, 'mhal': 8344, 'kelukan': 8345, 'kunsultasinya': 8346, 'manteb': 8347, 'jujurly': 8348, 'prodak': 8349, 'perbulan': 8350, 'halah': 8351, 'dahlah': 8352, 'maximal': 8353, 'bagusaplikasinya': 8354, 'bravodem': 8355, 'ribuat': 8356, 'tamba': 8357, 'dro': 8358, 'cikarang': 8359, 'jongol': 8360, 'bingits': 8361, 'developernya': 8362, 'instant': 8363, 'nempuh': 8364, 'berlimpah': 8365, 'terbit': 8366, 'dishare': 8367, 'folder': 8368, 'laboratorum': 8369, 'kwalitas': 8370, 'kosa': 8371, 'jakut': 8372, 'terdefinisi': 8373, 'disayang': 8374, 'memperburuk': 8375, 'tersbut': 8376, 'kna': 8377, 'berdampak': 8378, 'selanjutny': 8379, 'hand': 8380, 'sanitizer': 8381, 'kalauyg': 8382, 'terpecahkan': 8383, 'berespon': 8384, 'istimewa': 8385, 'dperlukan': 8386, 'holdoc': 8387, 'wabarakatuh': 8388, 'gudang': 8389, 'teknik': 8390, 'menerka': 8391, 'selebaran': 8392, 'bungsu': 8393, 'suakit': 8394, 'kupikir': 8395, 'terikat': 8396, 'tatalaksana': 8397, 'padahalan': 8398, 'disitunya': 8399, 'disibuk': 8400, 'subyektif': 8401, 'dikecewain': 8402, 'pnjelasan': 8403, 'hrpnya': 8404, 'sjauh': 8405, 'jazakalahu': 8406, 'khair': 8407, 'ferforma': 8408, 'aplikasikasi': 8409, 'tumbalkan': 8410, 'discrol': 8411, 'kekemenkes': 8412, 'motoran': 8413, 'perjelasanya': 8414, 'urut': 8415, 'begtu': 8416, 'berganti': 8417, 'ingis': 8418, 'berkumpul': 8419, 'disimpan': 8420, 'komenan': 8421, 'lebib': 8422, 'gambat': 8423, 'beranjak': 8424, 'ucapan': 8425, 'gajadi': 8426, 'dilamain': 8427, 'serving': 8428, 'nunvgi': 8429, 'ajh': 8430, 'vertivikasi': 8431, 'kentunganya': 8432, 'beranak': 8433, 'kmana': 8434, 'kebaikanmu': 8435, 'wina': 8436, 'fibionisa': 8437, 'batasin': 8438, 'kotaku': 8439, 'dikutin': 8440, 'kebangun': 8441, 'ampul': 8442, 'balesin': 8443, 'apotekek': 8444, 'hambatan': 8445, 'gilingan': 8446, 'kucoba': 8447, 'kumengerti': 8448, 'dipandu': 8449, 'perbaharui': 8450, 'aneke': 8451, 'mdhn': 8452, 'bagiku': 8453, 'codiv': 8454, 'gka': 8455, 'dimenit': 8456, 'godjob': 8457, 'octafiad': 8458, 'pg': 8459, 'alu': 8460, 'trimakadih': 8461, 'padien': 8462, 'budayakan': 8463, 'tulus': 8464, 'ngotak': 8465, 'jakbar': 8466, 'jaktim': 8467, 'disekitaran': 8468, 'ngadi': 8469, 'bacain': 8470, 'sugianto': 8471, 'sreg': 8472, 'dihati': 8473, 'mengharuskam': 8474, 'js': 8475, 'ketus': 8476, 'terpantau': 8477, 'ternilai': 8478, 'citra': 8479, 'berdua': 8480, 'aprove': 8481, 'btn': 8482, 'akurasi': 8483, 'ngarahin': 8484, 'tampung': 8485, 'hargain': 8486, 'cempaka': 8487, 'usang': 8488, 'alur': 8489, 'apitiknya': 8490, 'deagnosa': 8491, 'sangaty': 8492, 'bsm': 8493, 'sensitif': 8494, 'tingkatkat': 8495, 'dya': 8496, 'membatuk': 8497, 'ambeien': 8498, 'telnga': 8499, 'tipis': 8500, 'pmberitahuan': 8501, 'pngembalian': 8502, 'rutenya': 8503, 'rute': 8504, 'mentok': 8505, 'tedapat': 8506, 'membagikan': 8507, 'memyembuhkan': 8508, 'sren': 8509, 'mayan': 8510, 'berkerja': 8511, 'minimnya': 8512, 'bentak': 8513, 'okein': 8514, 'somaga': 8515, 'memeberikan': 8516, 'sangatemuaskan': 8517, 'ngikuti': 8518, 'intruksi': 8519, 'trouble': 8520, 'confirm': 8521, 'sebgai': 8522, 'anjlok': 8523, 'disisinya': 8524, 'kedapan': 8525, 'nyah': 8526, 'radius': 8527, 'dicarin': 8528, 'memeriksa': 8529, 'dewi': 8530, 'layanany': 8531, 'tingkt': 8532, 'fepat': 8533, 'gastroenterologi': 8534, 'mnpun': 8535, 'tersangka': 8536, 'facial': 8537, 'apkl': 8538, 'dijakpus': 8539, 'smbong': 8540, 'riquest': 8541, 'ripuest': 8542, 'bentuk': 8543, 'portable': 8544, 'document': 8545, 'then': 8546, 'utak': 8547, 'atik': 8548, 'are': 8549, 'memgunakan': 8550, 'handfone': 8551, 'nerangin': 8552, 'tangaoan': 8553, 'truz': 8554, 'tanyak': 8555, 'dkirim': 8556, 'lmgsung': 8557, 'adek': 8558, 'lifebouy': 8559, 'didalam': 8560, 'apart': 8561, 'khawari': 8562, 'conter': 8563, 'obatvyg': 8564, 'disipkan': 8565, 'diladeni': 8566, 'memgecewakan': 8567, 'revoew': 8568, 'sesering': 8569, 'ambulance': 8570, 'disikon': 8571, 'berangsur': 8572, 'punyaku': 8573, 'imel': 8574, 'bungkusnya': 8575, 'patok': 8576, 'mananya': 8577, 'dikolom': 8578, 'miskomunikasi': 8579, 'kirimanya': 8580, 'amplikasi': 8581, 'insfirasi': 8582, 'mengunalan': 8583, 'pakar': 8584, 'doket': 8585, 'rsa': 8586, 'thankyu': 8587, 'mengunduh': 8588, 'plikasi': 8589, 'terimakan': 8590, 'julia': 8591, 'puspita': 8592, 'klampis': 8593, 'ngasem': 8594, 'dipindah': 8595, 'dimarah': 8596, 'temanya': 8597, 'ganas': 8598, 'dimargin': 8599, 'menerangkan': 8600, 'eyangnya': 8601, 'rekomendkan': 8602, 'milineal': 8603, 'berbasis': 8604, 'vidcal': 8605, 'ganteng': 8606, 'eksis': 8607, 'pertayan': 8608, 'audionya': 8609, 'binrang': 8610, 'muncuk': 8611, 'work': 8612, 'several': 8613, 'city': 8614, 'dasarnya': 8615, 'disatukan': 8616, 'dipisah': 8617, 'dkembalikan': 8618, 'pembungkus': 8619, 'alfabet': 8620, 'karater': 8621, 'bntuan': 8622, 'stopin': 8623, 'autodebit': 8624, 'brengsek': 8625, 'respos': 8626, 'butuhin': 8627, 'medikasi': 8628, 'cesar': 8629, 'oktapianto': 8630, 'karirnya': 8631, 'membutukan': 8632, 'berkonsultan': 8633, 'psanan': 8634, 'ngasuh': 8635, 'bopia': 8636, 'sn': 8637, 'trmkh': 8638, 'ditawarkan': 8639, 'sejujurnya': 8640, 'psikoterapis': 8641, 'lalui': 8642, 'mengaduk': 8643, 'kj': 8644, 'suport': 8645, 'vaksinisasi': 8646, 'sumatera': 8647, 'loginya': 8648, 'create': 8649, 'karawang': 8650, 'terdebest': 8651, 'penghapus': 8652, 'nail': 8653, 'remover': 8654, 'botolnya': 8655, 'rentan': 8656, 'dtangung': 8657, 'friendlu': 8658, 'plr': 8659, 'tindaklanjuti': 8660, 'sialny': 8661, 'seala': 8662, 'kadarnya': 8663, 'tingalkan': 8664, 'oesan': 8665, 'sata': 8666, 'cairakan': 8667, 'kadi': 8668, 'bangkrut': 8669, 'perluaskan': 8670, 'kecamatan': 8671, 'sampang': 8672, 'cilacap': 8673, 'prov': 8674, 'memangil': 8675, 'elah': 8676, 'pertamanya': 8677, 'dihilangkanya': 8678, 'penjelsan': 8679, 'dsana': 8680, 'menyumbangkan': 8681, 'adnya': 8682, 'mkseh': 8683, 'engaknya': 8684, 'dioptimalin': 8685, 'daeah': 8686, 'safety': 8687, 'dicuekin': 8688, 'dipersusah': 8689, 'niatanya': 8690, 'jgsi': 8691, 'tlh': 8692, 'sepeti': 8693, 'nganterinya': 8694, 'sedekahkan': 8695, 'penjuru': 8696, 'jutabintang': 8697, 'bintangbintang': 8698, 'toptopmarkotop': 8699, 'staf': 8700, 'pelayanqnya': 8701, 'meleset': 8702, 'ketengan': 8703, 'melanjutkan': 8704, 'direject': 8705, 'larinya': 8706, 'perama': 8707, 'mbah': 8708, 'agama': 8709, 'badahal': 8710, 'logout': 8711, 'ngdrop': 8712, 'diantara': 8713, 'ngrhubungin': 8714, 'hongkong': 8715, 'tibax': 8716, 'kejam': 8717, 'shoping': 8718, 'diadukan': 8719, 'mengadu': 8720, 'berputarx': 8721, 'aplikadi': 8722, 'dikalah': 8723, 'berpengalam': 8724, 'betele': 8725, 'sulahkan': 8726, 'momy': 8727, 'akhirny': 8728, 'pembantalan': 8729, 'separo': 8730, 'utnuk': 8731, 'ayp': 8732, 'nambahin': 8733, 'senangnya': 8734, 'sayapunya': 8735, 'popup': 8736, 'batang': 8737, 'thru': 8738, 'before': 8739, 'kemas': 8740, 'dilacak': 8741, 'ardhi': 8742, 'rpot': 8743, 'kembar': 8744, 'penghasilan': 8745, 'presiden': 8746, 'otpnya': 8747, 'berberapa': 8748, 'luarkota': 8749, 'gamasuk': 8750, 'teknis': 8751, 'dikoreksi': 8752, 'mengira': 8753, 'ialah': 8754, 'berbuat': 8755, 'mobilitas': 8756, 'analisanya': 8757, 'loding': 8758, 'kekhawatiranku': 8759, 'oxycan': 8760, 'pakeknya': 8761, 'profile': 8762, 'lusa': 8763, 'vendor': 8764, 'doing': 8765, 'dapwt': 8766, 'mnghadapi': 8767, 'trimakasib': 8768, 'dch': 8769, 'pknya': 8770, 'woalah': 8771, 'omni': 8772, 'pekayon': 8773, 'hasilya': 8774, 'dokterdgn': 8775, 'versin': 8776, 'direkom': 8777, 'p': 8778, 'hlo': 8779, 'loved': 8780, 'mngantar': 8781, 'kenerjanya': 8782, 'pengajuan': 8783, 'mendalam': 8784, 'smnjk': 8785, 'ngtri': 8786, 'halaodoc': 8787, 'mengatrkan': 8788, 'sepengalaman': 8789, 'tntg': 8790, 'menjabarkan': 8791, 'terkunci': 8792, 'bisalah': 8793}\n"
     ]
    }
   ],
   "source": [
    "tokenIndexKata=tokenizer.word_index\n",
    "print(tokenIndexKata)"
   ]
  },
  {
   "cell_type": "code",
   "execution_count": null,
   "metadata": {
    "id": "uGWCXGotERkY"
   },
   "outputs": [],
   "source": [
    "# Membuat kelas dan fungsi agar proses training berhenti saat akurasi validasi model telah mencapai 85%\n",
    "import tensorflow as tf\n",
    "\n",
    "class myCallBack(tf.keras.callbacks.Callback):    \n",
    "    def on_epoch_end(self, epoch, logs={}):\n",
    "        if(logs.get('val_accuracy') >= 0.85):\n",
    "            print(\"\\nAkurasi validasi telah mencapai > 85%!\")\n",
    "            self.model.stop_training = True\n",
    "myCallBack = myCallBack()"
   ]
  },
  {
   "cell_type": "code",
   "execution_count": null,
   "metadata": {
    "id": "098iGGKxEScz"
   },
   "outputs": [],
   "source": [
    "import os \n",
    "from tensorflow.keras.callbacks import ModelCheckpoint\n",
    "\n",
    "# Simpan model\n",
    "save_direc = os.path.join(os.getcwd(), 'Dataset\\Cobadoang')\n",
    "model_name = 'model_baru.ckpt'\n",
    "\n",
    "# Membuat directory untuk menyimpan model\n",
    "if not os.path.isdir(save_direc):\n",
    "    os.makedirs(save_direc)\n",
    "\n",
    "# Menggabungkan directory dengan model\n",
    "modelpath = os.path.join(save_direc, model_name)\n",
    "\n",
    "checkpoint = ModelCheckpoint(filepath = modelpath, verbose = 2, monitor='val_accuracy',\n",
    "                             save_best_only = True, save_weights_only = True)#,save_freq=1)"
   ]
  },
  {
   "cell_type": "code",
   "execution_count": null,
   "metadata": {
    "colab": {
     "base_uri": "https://localhost:8080/"
    },
    "id": "OLJF0nALETQL",
    "outputId": "f6aecd40-1741-43bb-d485-ee86e29f4c2a"
   },
   "outputs": [
    {
     "name": "stdout",
     "output_type": "stream",
     "text": [
      "Model: \"sequential_3\"\n",
      "_________________________________________________________________\n",
      " Layer (type)                Output Shape              Param #   \n",
      "=================================================================\n",
      " embedding_3 (Embedding)     (None, None, 32)          208000    \n",
      "                                                                 \n",
      " bidirectional_6 (Bidirectio  (None, None, 128)        49664     \n",
      " nal)                                                            \n",
      "                                                                 \n",
      " bidirectional_7 (Bidirectio  (None, 64)               41216     \n",
      " nal)                                                            \n",
      "                                                                 \n",
      " dropout_4 (Dropout)         (None, 64)                0         \n",
      "                                                                 \n",
      " dense_8 (Dense)             (None, 128)               8320      \n",
      "                                                                 \n",
      " dense_9 (Dense)             (None, 64)                8256      \n",
      "                                                                 \n",
      " dense_10 (Dense)            (None, 512)               33280     \n",
      "                                                                 \n",
      " dropout_5 (Dropout)         (None, 512)               0         \n",
      "                                                                 \n",
      " dense_11 (Dense)            (None, 3)                 1539      \n",
      "                                                                 \n",
      "=================================================================\n",
      "Total params: 350,275\n",
      "Trainable params: 350,275\n",
      "Non-trainable params: 0\n",
      "_________________________________________________________________\n"
     ]
    }
   ],
   "source": [
    "from tensorflow.keras import regularizers # Library untuk mencegah overfitting pada model\n",
    "from tensorflow.keras.optimizers import RMSprop # mengimport optimizer untuk model\n",
    "\n",
    "# Membuat model Sequential dengan Bidirectional LSTM\n",
    "model = tf.keras.Sequential([\n",
    "    tf.keras.layers.Embedding(6500, 32), # 6500 input & 32 layer embedding\n",
    "    tf.keras.layers.Bidirectional(tf.keras.layers.LSTM(64,  return_sequences=True)), # 64 layer LSTM\n",
    "    tf.keras.layers.Bidirectional(tf.keras.layers.LSTM(32)), # 32 layer LSTM\n",
    "    tf.keras.layers.Dropout(0.2), # dropout agar model tidak overfitting\n",
    "    tf.keras.layers.Dense(128, activation='relu'),\n",
    "    tf.keras.layers.Dense(64, activation='relu'), # Menambah layer dan menggunakan relu sebagai fungsi aktivasi\n",
    "    tf.keras.layers.Dense(512, kernel_regularizer=regularizers.l2(0.001), activation='relu'),\n",
    "    tf.keras.layers.Dropout(0.3), # dropout agar model tidak overfitting\n",
    "    tf.keras.layers.Dense(3, activation='softmax') # Outputnya adalah 3 dan karena kategorikal menggunakan aktivasi softmax\n",
    "])\n",
    "\n",
    "model.summary() # Melihat shape dan parameter dari model yang dibuat\n",
    "model.compile(loss='categorical_crossentropy', optimizer=RMSprop(learning_rate=0.0001),metrics=['accuracy']) # Menggunakan optimizer RMSprop dengan learning rate 0.0001"
   ]
  },
  {
   "cell_type": "code",
   "execution_count": null,
   "metadata": {
    "colab": {
     "base_uri": "https://localhost:8080/"
    },
    "id": "SGw_pQxxEVR7",
    "outputId": "597f5dca-3976-4d4d-fff8-76d98d799e84"
   },
   "outputs": [
    {
     "name": "stdout",
     "output_type": "stream",
     "text": [
      "Epoch 1/50\n",
      "\n",
      "Epoch 1: val_accuracy improved from -inf to 0.47053, saving model to /content/Dataset\\Cobadoang/model_baru.ckpt\n",
      "30/30 - 8s - loss: 1.2030 - accuracy: 0.4350 - val_loss: 1.1940 - val_accuracy: 0.4705 - 8s/epoch - 274ms/step\n",
      "Epoch 2/50\n",
      "\n",
      "Epoch 2: val_accuracy did not improve from 0.47053\n",
      "30/30 - 1s - loss: 1.1819 - accuracy: 0.4868 - val_loss: 1.1644 - val_accuracy: 0.4615 - 899ms/epoch - 30ms/step\n",
      "Epoch 3/50\n",
      "\n",
      "Epoch 3: val_accuracy improved from 0.47053 to 0.48252, saving model to /content/Dataset\\Cobadoang/model_baru.ckpt\n",
      "30/30 - 1s - loss: 1.1353 - accuracy: 0.4833 - val_loss: 1.1043 - val_accuracy: 0.4825 - 939ms/epoch - 31ms/step\n",
      "Epoch 4/50\n",
      "\n",
      "Epoch 4: val_accuracy improved from 0.48252 to 0.50649, saving model to /content/Dataset\\Cobadoang/model_baru.ckpt\n",
      "30/30 - 1s - loss: 1.0696 - accuracy: 0.5087 - val_loss: 1.0462 - val_accuracy: 0.5065 - 982ms/epoch - 33ms/step\n",
      "Epoch 5/50\n",
      "\n",
      "Epoch 5: val_accuracy improved from 0.50649 to 0.55045, saving model to /content/Dataset\\Cobadoang/model_baru.ckpt\n",
      "30/30 - 1s - loss: 1.0135 - accuracy: 0.5352 - val_loss: 0.9826 - val_accuracy: 0.5504 - 970ms/epoch - 32ms/step\n",
      "Epoch 6/50\n",
      "\n",
      "Epoch 6: val_accuracy improved from 0.55045 to 0.61039, saving model to /content/Dataset\\Cobadoang/model_baru.ckpt\n",
      "30/30 - 1s - loss: 0.9424 - accuracy: 0.5792 - val_loss: 0.9003 - val_accuracy: 0.6104 - 944ms/epoch - 31ms/step\n",
      "Epoch 7/50\n",
      "\n",
      "Epoch 7: val_accuracy improved from 0.61039 to 0.66933, saving model to /content/Dataset\\Cobadoang/model_baru.ckpt\n",
      "30/30 - 1s - loss: 0.8505 - accuracy: 0.6414 - val_loss: 0.7950 - val_accuracy: 0.6693 - 950ms/epoch - 32ms/step\n",
      "Epoch 8/50\n",
      "\n",
      "Epoch 8: val_accuracy improved from 0.66933 to 0.70030, saving model to /content/Dataset\\Cobadoang/model_baru.ckpt\n",
      "30/30 - 1s - loss: 0.7700 - accuracy: 0.6821 - val_loss: 0.7406 - val_accuracy: 0.7003 - 927ms/epoch - 31ms/step\n",
      "Epoch 9/50\n",
      "\n",
      "Epoch 9: val_accuracy improved from 0.70030 to 0.70929, saving model to /content/Dataset\\Cobadoang/model_baru.ckpt\n",
      "30/30 - 1s - loss: 0.7139 - accuracy: 0.7138 - val_loss: 0.7114 - val_accuracy: 0.7093 - 945ms/epoch - 31ms/step\n",
      "Epoch 10/50\n",
      "\n",
      "Epoch 10: val_accuracy improved from 0.70929 to 0.72827, saving model to /content/Dataset\\Cobadoang/model_baru.ckpt\n",
      "30/30 - 1s - loss: 0.6692 - accuracy: 0.7341 - val_loss: 0.6788 - val_accuracy: 0.7283 - 924ms/epoch - 31ms/step\n",
      "Epoch 11/50\n",
      "\n",
      "Epoch 11: val_accuracy improved from 0.72827 to 0.74925, saving model to /content/Dataset\\Cobadoang/model_baru.ckpt\n",
      "30/30 - 1s - loss: 0.6252 - accuracy: 0.7586 - val_loss: 0.6586 - val_accuracy: 0.7493 - 932ms/epoch - 31ms/step\n",
      "Epoch 12/50\n",
      "\n",
      "Epoch 12: val_accuracy improved from 0.74925 to 0.77323, saving model to /content/Dataset\\Cobadoang/model_baru.ckpt\n",
      "30/30 - 1s - loss: 0.5872 - accuracy: 0.7751 - val_loss: 0.6117 - val_accuracy: 0.7732 - 934ms/epoch - 31ms/step\n",
      "Epoch 13/50\n",
      "\n",
      "Epoch 13: val_accuracy did not improve from 0.77323\n",
      "30/30 - 1s - loss: 0.5446 - accuracy: 0.7952 - val_loss: 0.6328 - val_accuracy: 0.7502 - 919ms/epoch - 31ms/step\n",
      "Epoch 14/50\n",
      "\n",
      "Epoch 14: val_accuracy improved from 0.77323 to 0.78621, saving model to /content/Dataset\\Cobadoang/model_baru.ckpt\n",
      "30/30 - 1s - loss: 0.5165 - accuracy: 0.8041 - val_loss: 0.5675 - val_accuracy: 0.7862 - 923ms/epoch - 31ms/step\n",
      "Epoch 15/50\n",
      "\n",
      "Epoch 15: val_accuracy improved from 0.78621 to 0.79221, saving model to /content/Dataset\\Cobadoang/model_baru.ckpt\n",
      "30/30 - 1s - loss: 0.4764 - accuracy: 0.8291 - val_loss: 0.5696 - val_accuracy: 0.7922 - 969ms/epoch - 32ms/step\n",
      "Epoch 16/50\n",
      "\n",
      "Epoch 16: val_accuracy did not improve from 0.79221\n",
      "30/30 - 1s - loss: 0.4530 - accuracy: 0.8409 - val_loss: 0.6218 - val_accuracy: 0.7542 - 901ms/epoch - 30ms/step\n",
      "Epoch 17/50\n",
      "\n",
      "Epoch 17: val_accuracy improved from 0.79221 to 0.81618, saving model to /content/Dataset\\Cobadoang/model_baru.ckpt\n",
      "30/30 - 1s - loss: 0.4269 - accuracy: 0.8532 - val_loss: 0.5245 - val_accuracy: 0.8162 - 984ms/epoch - 33ms/step\n",
      "Epoch 18/50\n",
      "\n",
      "Epoch 18: val_accuracy did not improve from 0.81618\n",
      "30/30 - 1s - loss: 0.3972 - accuracy: 0.8633 - val_loss: 0.6393 - val_accuracy: 0.7662 - 900ms/epoch - 30ms/step\n",
      "Epoch 19/50\n",
      "\n",
      "Epoch 19: val_accuracy improved from 0.81618 to 0.83317, saving model to /content/Dataset\\Cobadoang/model_baru.ckpt\n",
      "30/30 - 1s - loss: 0.3726 - accuracy: 0.8732 - val_loss: 0.4942 - val_accuracy: 0.8332 - 946ms/epoch - 32ms/step\n",
      "Epoch 20/50\n",
      "\n",
      "Epoch 20: val_accuracy improved from 0.83317 to 0.84316, saving model to /content/Dataset\\Cobadoang/model_baru.ckpt\n",
      "30/30 - 1s - loss: 0.3635 - accuracy: 0.8783 - val_loss: 0.4876 - val_accuracy: 0.8432 - 949ms/epoch - 32ms/step\n",
      "Epoch 21/50\n",
      "\n",
      "Epoch 21: val_accuracy did not improve from 0.84316\n",
      "30/30 - 1s - loss: 0.3370 - accuracy: 0.8886 - val_loss: 0.5256 - val_accuracy: 0.8222 - 934ms/epoch - 31ms/step\n",
      "Epoch 22/50\n",
      "\n",
      "Epoch 22: val_accuracy did not improve from 0.84316\n",
      "30/30 - 1s - loss: 0.3277 - accuracy: 0.8901 - val_loss: 0.4978 - val_accuracy: 0.8392 - 876ms/epoch - 29ms/step\n",
      "Epoch 23/50\n",
      "\n",
      "Akurasi validasi telah mencapai > 85%!\n",
      "\n",
      "Epoch 23: val_accuracy improved from 0.84316 to 0.85315, saving model to /content/Dataset\\Cobadoang/model_baru.ckpt\n",
      "30/30 - 1s - loss: 0.2920 - accuracy: 0.9083 - val_loss: 0.4764 - val_accuracy: 0.8531 - 969ms/epoch - 32ms/step\n"
     ]
    }
   ],
   "source": [
    "#batch_size = 16\n",
    "history = model.fit(padded_latih, y_train, validation_data=(padded_test, y_test), epochs=100,#batch_size=batch_size,\n",
    "                    steps_per_epoch= 30, callbacks=[myCallBack, checkpoint], verbose=2)"
   ]
  },
  {
   "cell_type": "code",
   "execution_count": null,
   "metadata": {
    "colab": {
     "base_uri": "https://localhost:8080/",
     "height": 295
    },
    "id": "dUmDqjwKEZ8V",
    "outputId": "fe99a801-39bd-44fe-9393-3e2d1d7c6775"
   },
   "outputs": [
    {
     "data": {
      "image/png": "[encoded data removed]",
      "text/plain": [
       "<Figure size 432x288 with 1 Axes>"
      ]
     },
     "metadata": {
      "needs_background": "light"
     },
     "output_type": "display_data"
    }
   ],
   "source": [
    "# Menampilkan plot loss dari model\n",
    "\n",
    "import matplotlib.pyplot as plt\n",
    "plt.plot(history.history['loss'])\n",
    "plt.plot(history.history['val_loss'])\n",
    "plt.title('Model Loss')\n",
    "plt.ylabel('Loss')\n",
    "plt.xlabel('Epochs')\n",
    "plt.legend(['train', 'val'])\n",
    "plt.show()"
   ]
  },
  {
   "cell_type": "code",
   "execution_count": null,
   "metadata": {
    "colab": {
     "base_uri": "https://localhost:8080/",
     "height": 295
    },
    "id": "z-uPQoz4EbZK",
    "outputId": "4701454c-a5b3-4212-f7a1-f261c0406263"
   },
   "outputs": [
    {
     "data": {
      "image/png": "[encoded data removed]",
      "text/plain": [
       "<Figure size 432x288 with 1 Axes>"
      ]
     },
     "metadata": {
      "needs_background": "light"
     },
     "output_type": "display_data"
    }
   ],
   "source": [
    "# Menampilkan plot akurasi dari model\n",
    "plt.plot(history.history['accuracy'])\n",
    "plt.plot(history.history['val_accuracy'])\n",
    "plt.title('Model Accuracy')\n",
    "plt.ylabel('Accuracy')\n",
    "plt.xlabel('Epochs')\n",
    "plt.legend(['train', 'validation'])\n",
    "plt.show()"
   ]
  },
  {
   "cell_type": "code",
   "execution_count": null,
   "metadata": {
    "colab": {
     "base_uri": "https://localhost:8080/"
    },
    "id": "pTDwXmFfEcUt",
    "outputId": "90c42911-0c72-463d-9dda-1d4811152d4b"
   },
   "outputs": [
    {
     "name": "stdout",
     "output_type": "stream",
     "text": [
      "32/32 [==============================] - 0s 9ms/step - loss: 0.4764 - accuracy: 0.8531\n",
      "loss: 0.47641539573669434\n",
      "Validation accuracy: 0.8531468510627747\n"
     ]
    }
   ],
   "source": [
    "loss, acc = model.evaluate(padded_test, y_test, verbose=1)\n",
    "                            #batch_size=batch_size)\n",
    "print(\"loss:\", loss)\n",
    "print(\"Validation accuracy:\", acc)"
   ]
  },
  {
   "cell_type": "code",
   "execution_count": null,
   "metadata": {
    "id": "Ew_iQl3gEdN1"
   },
   "outputs": [],
   "source": [
    "from sklearn.metrics import accuracy_score,confusion_matrix,classification_report,precision_score, f1_score, recall_score\n",
    "import numpy as np\n",
    "\n",
    "def model_evaluate(): \n",
    "    # predict class with test set\n",
    "    predict_x=model.predict(padded_test, verbose=0)\n",
    "    classes_x=np.argmax(predict_x,axis=1)\n",
    "    y_pred_test =  classes_x\n",
    "    print('Accuracy:\\t{:0.1f}%'.format(accuracy_score(np.argmax(y_test,axis=1),y_pred_test)*100))\n",
    "    \n",
    "    #classification report\n",
    "    print('\\n')\n",
    "    print(classification_report(np.argmax(y_test,axis=1), y_pred_test))\n",
    "\n",
    "    #confusion matrix\n",
    "    confmat = confusion_matrix(np.argmax(y_test,axis=1), y_pred_test)\n",
    "\n",
    "    fig, ax = plt.subplots(figsize=(4, 4))\n",
    "    ax.matshow(confmat, cmap=plt.cm.Blues, alpha=0.3)\n",
    "    for i in range(confmat.shape[0]):\n",
    "        for j in range(confmat.shape[1]):\n",
    "            ax.text(x=j, y=i, s=confmat[i, j], va='center', ha='center')\n",
    "    plt.xlabel('Predicted label')\n",
    "    plt.ylabel('True label')\n",
    "    plt.tight_layout()"
   ]
  },
  {
   "cell_type": "code",
   "execution_count": null,
   "metadata": {
    "colab": {
     "base_uri": "https://localhost:8080/",
     "height": 529
    },
    "id": "sg-U3IA-EeHN",
    "outputId": "ee70ad10-09dc-494f-8b3b-544ead11fdfa"
   },
   "outputs": [
    {
     "name": "stdout",
     "output_type": "stream",
     "text": [
      "Accuracy:\t85.3%\n",
      "\n",
      "\n",
      "              precision    recall  f1-score   support\n",
      "\n",
      "           0       0.84      0.88      0.86       335\n",
      "           1       0.80      0.78      0.79       344\n",
      "           2       0.92      0.91      0.91       322\n",
      "\n",
      "    accuracy                           0.85      1001\n",
      "   macro avg       0.85      0.85      0.85      1001\n",
      "weighted avg       0.85      0.85      0.85      1001\n",
      "\n"
     ]
    },
    {
     "data": {
      "image/png": "[encoded data removed]",
      "text/plain": [
       "<Figure size 288x288 with 1 Axes>"
      ]
     },
     "metadata": {
      "needs_background": "light"
     },
     "output_type": "display_data"
    }
   ],
   "source": [
    "model_evaluate()"
   ]
  },
  {
   "cell_type": "code",
   "execution_count": null,
   "metadata": {
    "colab": {
     "base_uri": "https://localhost:8080/"
    },
    "id": "KO6yxJUJEfBF",
    "outputId": "04f41f22-ee85-45d9-e360-1988cee5d603"
   },
   "outputs": [
    {
     "name": "stdout",
     "output_type": "stream",
     "text": [
      "['suka bangettt sama halodoc dokternya ramah ramah']\n",
      "Sentimen: Positif\n",
      "[9.4361540e-06 6.5466268e-03 9.9344397e-01]\n"
     ]
    }
   ],
   "source": [
    "import numpy as np\n",
    "\n",
    "twt = ['suka bangettt sama halodoc dokternya ramah ramah']\n",
    "print(twt)\n",
    "#vectorizing the tweet by the pre-fitted tokenizer instance\n",
    "twt = tokenizer.texts_to_sequences(twt)\n",
    "#padding the tweet to have exactly the same shape as `embedding_2` input\n",
    "twt = pad_sequences(twt, maxlen=29, dtype='int32', value=0)\n",
    "sentiment = model.predict(twt)[0]\n",
    "if(np.argmax(sentiment) == 0):\n",
    "    print('Sentimen: Negatif')\n",
    "elif (np.argmax(sentiment) == 1):\n",
    "    print('Sentimen: Netral')\n",
    "else :\n",
    "    print('Sentimen: Positif')\n",
    "print(sentiment)"
   ]
  },
  {
   "cell_type": "code",
   "execution_count": null,
   "metadata": {
    "colab": {
     "base_uri": "https://localhost:8080/"
    },
    "id": "9gWRPv0pEgCf",
    "outputId": "eeb24c4b-6359-4696-a078-f591b29cadec"
   },
   "outputs": [
    {
     "name": "stdout",
     "output_type": "stream",
     "text": [
      "['saya baru saja mencoba untuk berkonsultasi dengan dokter saya juga sudah menyelesaikan pembayaran tapi ketika dihubungkan dengan dokter yang bersangkutan tidak juga kunjung tersambung sampai saya mencoba berkali² uang saya hangus percuma']\n",
      "[9.8253125e-01 1.6500643e-02 9.6822553e-04]\n",
      "Sentimen: Negatif\n"
     ]
    }
   ],
   "source": [
    "twt = ['saya baru saja mencoba untuk berkonsultasi dengan dokter saya juga sudah menyelesaikan pembayaran tapi ketika dihubungkan dengan dokter yang bersangkutan tidak juga kunjung tersambung sampai saya mencoba berkali² uang saya hangus percuma']\n",
    "print(twt)\n",
    "#vectorizing the tweet by the pre-fitted tokenizer instance\n",
    "twt = tokenizer.texts_to_sequences(twt)\n",
    "#padding the tweet to have exactly the same shape as `embedding_2` input\n",
    "twt = pad_sequences(twt, maxlen=29, dtype='int32', value=0)\n",
    "sentiment = model.predict(twt)[0]\n",
    "print(sentiment)\n",
    "if(np.argmax(sentiment) == 0):\n",
    "    print('Sentimen: Negatif')\n",
    "elif (np.argmax(sentiment) == 1):\n",
    "    print('Sentimen: Netral')\n",
    "else :\n",
    "    print('Sentimen: Positif')"
   ]
  },
  {
   "cell_type": "code",
   "execution_count": null,
   "metadata": {
    "id": "XECL1lFMEg1p"
   },
   "outputs": [],
   "source": [
    "import pickle\n",
    "\n",
    "# saving\n",
    "with open('tokenizer_data.pickle', 'wb') as handle:\n",
    "    pickle.dump(tokenizer, handle, protocol=pickle.HIGHEST_PROTOCOL)"
   ]
  },
  {
   "cell_type": "code",
   "execution_count": null,
   "metadata": {
    "id": "J3eYHDKPEj1Z"
   },
   "outputs": [],
   "source": [
    "model.save('ModelP3D02.h5')"
   ]
  },
  {
   "cell_type": "code",
   "execution_count": null,
   "metadata": {
    "colab": {
     "base_uri": "https://localhost:8080/"
    },
    "id": "uohLZhu0GGG9",
    "outputId": "11ca5fd3-6183-494d-bed7-e0d603cddf1f"
   },
   "outputs": [
    {
     "name": "stdout",
     "output_type": "stream",
     "text": [
      "['baik dan ramah dokternya juga dijelaskan secara rincih']\n",
      "[1.3754555e-04 3.8400818e-02 9.6146166e-01]\n",
      "Sentimen: Positif\n"
     ]
    }
   ],
   "source": [
    "twt = ['baik dan ramah dokternya juga dijelaskan secara rincih']\n",
    "print(twt)\n",
    "#vectorizing the tweet by the pre-fitted tokenizer instance\n",
    "twt = tokenizer.texts_to_sequences(twt)\n",
    "#padding the tweet to have exactly the same shape as `embedding_2` input\n",
    "twt = pad_sequences(twt, maxlen=29, dtype='int32', value=0)\n",
    "sentiment = model.predict(twt)[0]\n",
    "print(sentiment)\n",
    "if(np.argmax(sentiment) == 0):\n",
    "    print('Sentimen: Negatif')\n",
    "elif (np.argmax(sentiment) == 1):\n",
    "    print('Sentimen: Netral')\n",
    "else :\n",
    "    print('Sentimen: Positif')"
   ]
  },
  {
   "cell_type": "code",
   "execution_count": null,
   "metadata": {
    "id": "d-5KulhqGluq"
   },
   "outputs": [],
   "source": [
    "df_baru.to_csv('DataUndersampling.csv', encoding='utf8', index=False)"
   ]
  },
  {
   "cell_type": "code",
   "execution_count": null,
   "metadata": {
    "id": "iX0OTrcIL8kf"
   },
   "outputs": [],
   "source": []
  }
 ],
 "metadata": {
  "accelerator": "GPU",
  "colab": {
   "name": "Model Halodoc pake yang ini.ipynb",
   "provenance": []
  },
  "gpuClass": "standard",
  "kernelspec": {
   "display_name": "Python 3",
   "language": "python",
   "name": "python3"
  },
  "language_info": {
   "codemirror_mode": {
    "name": "ipython",
    "version": 3
   },
   "file_extension": ".py",
   "mimetype": "text/x-python",
   "name": "python",
   "nbconvert_exporter": "python",
   "pygments_lexer": "ipython3",
   "version": "3.8.8"
  }
 },
 "nbformat": 4,
 "nbformat_minor": 1
}
