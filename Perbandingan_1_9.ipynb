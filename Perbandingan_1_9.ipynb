{
  "cells": [
    {
      "cell_type": "code",
      "execution_count": null,
      "metadata": {
        "colab": {
          "base_uri": "https://localhost:8080/"
        },
        "id": "MnZxdn2yDJxK",
        "outputId": "8408bb87-717c-41ce-da58-fe5249d40719"
      },
      "outputs": [
        {
          "output_type": "stream",
          "name": "stdout",
          "text": [
            "2.8.2\n"
          ]
        }
      ],
      "source": [
        "import tensorflow\n",
        "print(tensorflow.__version__)"
      ]
    },
    {
      "cell_type": "code",
      "execution_count": null,
      "metadata": {
        "colab": {
          "base_uri": "https://localhost:8080/",
          "height": 1000
        },
        "id": "D81lSutuDKBO",
        "outputId": "8acb5360-30e8-4a50-994e-b5480bf600f2"
      },
      "outputs": [
        {
          "output_type": "stream",
          "name": "stdout",
          "text": [
            "Looking in indexes: https://pypi.org/simple, https://us-python.pkg.dev/colab-wheels/public/simple/\n",
            "Collecting tensorflow==2.8.0\n",
            "  Downloading https://us-python.pkg.dev/colab-wheels/public/tensorflow/tensorflow-2.8.0%2Bzzzcolab20220506162203-cp37-cp37m-linux_x86_64.whl (668.3 MB)\n",
            "\u001b[K     |████████████████████████████████| 668.3 MB 17 kB/s \n",
            "\u001b[?25hRequirement already satisfied: protobuf>=3.9.2 in /usr/local/lib/python3.7/dist-packages (from tensorflow==2.8.0) (3.17.3)\n",
            "Requirement already satisfied: keras<2.9,>=2.8.0rc0 in /usr/local/lib/python3.7/dist-packages (from tensorflow==2.8.0) (2.8.0)\n",
            "Requirement already satisfied: flatbuffers>=1.12 in /usr/local/lib/python3.7/dist-packages (from tensorflow==2.8.0) (2.0.7)\n",
            "Requirement already satisfied: opt-einsum>=2.3.2 in /usr/local/lib/python3.7/dist-packages (from tensorflow==2.8.0) (3.3.0)\n",
            "Requirement already satisfied: tensorflow-io-gcs-filesystem>=0.23.1 in /usr/local/lib/python3.7/dist-packages (from tensorflow==2.8.0) (0.26.0)\n",
            "Requirement already satisfied: astunparse>=1.6.0 in /usr/local/lib/python3.7/dist-packages (from tensorflow==2.8.0) (1.6.3)\n",
            "Requirement already satisfied: gast>=0.2.1 in /usr/local/lib/python3.7/dist-packages (from tensorflow==2.8.0) (0.5.3)\n",
            "Requirement already satisfied: tensorboard<2.9,>=2.8 in /usr/local/lib/python3.7/dist-packages (from tensorflow==2.8.0) (2.8.0)\n",
            "Requirement already satisfied: wrapt>=1.11.0 in /usr/local/lib/python3.7/dist-packages (from tensorflow==2.8.0) (1.14.1)\n",
            "Requirement already satisfied: grpcio<2.0,>=1.24.3 in /usr/local/lib/python3.7/dist-packages (from tensorflow==2.8.0) (1.47.0)\n",
            "Requirement already satisfied: keras-preprocessing>=1.1.1 in /usr/local/lib/python3.7/dist-packages (from tensorflow==2.8.0) (1.1.2)\n",
            "Requirement already satisfied: termcolor>=1.1.0 in /usr/local/lib/python3.7/dist-packages (from tensorflow==2.8.0) (1.1.0)\n",
            "Requirement already satisfied: numpy>=1.20 in /usr/local/lib/python3.7/dist-packages (from tensorflow==2.8.0) (1.21.6)\n",
            "Requirement already satisfied: google-pasta>=0.1.1 in /usr/local/lib/python3.7/dist-packages (from tensorflow==2.8.0) (0.2.0)\n",
            "Collecting tf-estimator-nightly==2.8.0.dev2021122109\n",
            "  Downloading tf_estimator_nightly-2.8.0.dev2021122109-py2.py3-none-any.whl (462 kB)\n",
            "\u001b[K     |████████████████████████████████| 462 kB 22.4 MB/s \n",
            "\u001b[?25hRequirement already satisfied: six>=1.12.0 in /usr/local/lib/python3.7/dist-packages (from tensorflow==2.8.0) (1.15.0)\n",
            "Requirement already satisfied: typing-extensions>=3.6.6 in /usr/local/lib/python3.7/dist-packages (from tensorflow==2.8.0) (4.1.1)\n",
            "Requirement already satisfied: h5py>=2.9.0 in /usr/local/lib/python3.7/dist-packages (from tensorflow==2.8.0) (3.1.0)\n",
            "Requirement already satisfied: setuptools in /usr/local/lib/python3.7/dist-packages (from tensorflow==2.8.0) (57.4.0)\n",
            "Requirement already satisfied: libclang>=9.0.1 in /usr/local/lib/python3.7/dist-packages (from tensorflow==2.8.0) (14.0.6)\n",
            "Requirement already satisfied: absl-py>=0.4.0 in /usr/local/lib/python3.7/dist-packages (from tensorflow==2.8.0) (1.2.0)\n",
            "Requirement already satisfied: wheel<1.0,>=0.23.0 in /usr/local/lib/python3.7/dist-packages (from astunparse>=1.6.0->tensorflow==2.8.0) (0.37.1)\n",
            "Requirement already satisfied: cached-property in /usr/local/lib/python3.7/dist-packages (from h5py>=2.9.0->tensorflow==2.8.0) (1.5.2)\n",
            "Requirement already satisfied: tensorboard-plugin-wit>=1.6.0 in /usr/local/lib/python3.7/dist-packages (from tensorboard<2.9,>=2.8->tensorflow==2.8.0) (1.8.1)\n",
            "Requirement already satisfied: google-auth<3,>=1.6.3 in /usr/local/lib/python3.7/dist-packages (from tensorboard<2.9,>=2.8->tensorflow==2.8.0) (1.35.0)\n",
            "Requirement already satisfied: google-auth-oauthlib<0.5,>=0.4.1 in /usr/local/lib/python3.7/dist-packages (from tensorboard<2.9,>=2.8->tensorflow==2.8.0) (0.4.6)\n",
            "Requirement already satisfied: tensorboard-data-server<0.7.0,>=0.6.0 in /usr/local/lib/python3.7/dist-packages (from tensorboard<2.9,>=2.8->tensorflow==2.8.0) (0.6.1)\n",
            "Requirement already satisfied: werkzeug>=0.11.15 in /usr/local/lib/python3.7/dist-packages (from tensorboard<2.9,>=2.8->tensorflow==2.8.0) (1.0.1)\n",
            "Requirement already satisfied: requests<3,>=2.21.0 in /usr/local/lib/python3.7/dist-packages (from tensorboard<2.9,>=2.8->tensorflow==2.8.0) (2.23.0)\n",
            "Requirement already satisfied: markdown>=2.6.8 in /usr/local/lib/python3.7/dist-packages (from tensorboard<2.9,>=2.8->tensorflow==2.8.0) (3.4.1)\n",
            "Requirement already satisfied: pyasn1-modules>=0.2.1 in /usr/local/lib/python3.7/dist-packages (from google-auth<3,>=1.6.3->tensorboard<2.9,>=2.8->tensorflow==2.8.0) (0.2.8)\n",
            "Requirement already satisfied: cachetools<5.0,>=2.0.0 in /usr/local/lib/python3.7/dist-packages (from google-auth<3,>=1.6.3->tensorboard<2.9,>=2.8->tensorflow==2.8.0) (4.2.4)\n",
            "Requirement already satisfied: rsa<5,>=3.1.4 in /usr/local/lib/python3.7/dist-packages (from google-auth<3,>=1.6.3->tensorboard<2.9,>=2.8->tensorflow==2.8.0) (4.9)\n",
            "Requirement already satisfied: requests-oauthlib>=0.7.0 in /usr/local/lib/python3.7/dist-packages (from google-auth-oauthlib<0.5,>=0.4.1->tensorboard<2.9,>=2.8->tensorflow==2.8.0) (1.3.1)\n",
            "Requirement already satisfied: importlib-metadata>=4.4 in /usr/local/lib/python3.7/dist-packages (from markdown>=2.6.8->tensorboard<2.9,>=2.8->tensorflow==2.8.0) (4.12.0)\n",
            "Requirement already satisfied: zipp>=0.5 in /usr/local/lib/python3.7/dist-packages (from importlib-metadata>=4.4->markdown>=2.6.8->tensorboard<2.9,>=2.8->tensorflow==2.8.0) (3.8.1)\n",
            "Requirement already satisfied: pyasn1<0.5.0,>=0.4.6 in /usr/local/lib/python3.7/dist-packages (from pyasn1-modules>=0.2.1->google-auth<3,>=1.6.3->tensorboard<2.9,>=2.8->tensorflow==2.8.0) (0.4.8)\n",
            "Requirement already satisfied: idna<3,>=2.5 in /usr/local/lib/python3.7/dist-packages (from requests<3,>=2.21.0->tensorboard<2.9,>=2.8->tensorflow==2.8.0) (2.10)\n",
            "Requirement already satisfied: chardet<4,>=3.0.2 in /usr/local/lib/python3.7/dist-packages (from requests<3,>=2.21.0->tensorboard<2.9,>=2.8->tensorflow==2.8.0) (3.0.4)\n",
            "Requirement already satisfied: urllib3!=1.25.0,!=1.25.1,<1.26,>=1.21.1 in /usr/local/lib/python3.7/dist-packages (from requests<3,>=2.21.0->tensorboard<2.9,>=2.8->tensorflow==2.8.0) (1.24.3)\n",
            "Requirement already satisfied: certifi>=2017.4.17 in /usr/local/lib/python3.7/dist-packages (from requests<3,>=2.21.0->tensorboard<2.9,>=2.8->tensorflow==2.8.0) (2022.6.15)\n",
            "Requirement already satisfied: oauthlib>=3.0.0 in /usr/local/lib/python3.7/dist-packages (from requests-oauthlib>=0.7.0->google-auth-oauthlib<0.5,>=0.4.1->tensorboard<2.9,>=2.8->tensorflow==2.8.0) (3.2.0)\n",
            "Installing collected packages: tf-estimator-nightly, tensorflow\n",
            "  Attempting uninstall: tensorflow\n",
            "    Found existing installation: tensorflow 2.8.2+zzzcolab20220719082949\n",
            "    Uninstalling tensorflow-2.8.2+zzzcolab20220719082949:\n",
            "      Successfully uninstalled tensorflow-2.8.2+zzzcolab20220719082949\n",
            "Successfully installed tensorflow-2.8.0+zzzcolab20220506162203 tf-estimator-nightly-2.8.0.dev2021122109\n"
          ]
        },
        {
          "output_type": "display_data",
          "data": {
            "application/vnd.colab-display-data+json": {
              "pip_warning": {
                "packages": [
                  "tensorflow"
                ]
              }
            }
          },
          "metadata": {}
        }
      ],
      "source": [
        "!pip install tensorflow==2.8.0"
      ]
    },
    {
      "cell_type": "code",
      "execution_count": null,
      "metadata": {
        "colab": {
          "base_uri": "https://localhost:8080/"
        },
        "id": "HHLvCmCZDRs1",
        "outputId": "e735665d-8d07-40a3-a298-5daab284517c"
      },
      "outputs": [
        {
          "output_type": "stream",
          "name": "stdout",
          "text": [
            "2.8.0\n"
          ]
        }
      ],
      "source": [
        "import tensorflow\n",
        "print(tensorflow.__version__)"
      ]
    },
    {
      "cell_type": "code",
      "execution_count": null,
      "metadata": {
        "colab": {
          "base_uri": "https://localhost:8080/",
          "height": 206
        },
        "id": "QJo4MCu3DVwU",
        "outputId": "1c3f473b-1d96-40db-821b-30e93d594180"
      },
      "outputs": [
        {
          "output_type": "execute_result",
          "data": {
            "text/plain": [
              "                                        Remove_noise sentimen  \\\n",
              "0                 jadi gampang konsultasi dari rumah  positif   \n",
              "1  aplikasi cacat download kartu kendali tidak bi...  negatif   \n",
              "2  salut dengan tetap menjaga kualitas pelayanann...   netral   \n",
              "3                               mudah dan terpercaya  positif   \n",
              "4              mudah dan sangat membantu terimakasih  positif   \n",
              "\n",
              "   sentimen_negatif  sentimen_netral  sentimen_positif  \n",
              "0                 0                0                 1  \n",
              "1                 1                0                 0  \n",
              "2                 0                1                 0  \n",
              "3                 0                0                 1  \n",
              "4                 0                0                 1  "
            ],
            "text/html": [
              "\n",
              "  <div id=\"df-1d1b1617-950d-4ff7-b907-a0babc918ea7\">\n",
              "    <div class=\"colab-df-container\">\n",
              "      <div>\n",
              "<style scoped>\n",
              "    .dataframe tbody tr th:only-of-type {\n",
              "        vertical-align: middle;\n",
              "    }\n",
              "\n",
              "    .dataframe tbody tr th {\n",
              "        vertical-align: top;\n",
              "    }\n",
              "\n",
              "    .dataframe thead th {\n",
              "        text-align: right;\n",
              "    }\n",
              "</style>\n",
              "<table border=\"1\" class=\"dataframe\">\n",
              "  <thead>\n",
              "    <tr style=\"text-align: right;\">\n",
              "      <th></th>\n",
              "      <th>Remove_noise</th>\n",
              "      <th>sentimen</th>\n",
              "      <th>sentimen_negatif</th>\n",
              "      <th>sentimen_netral</th>\n",
              "      <th>sentimen_positif</th>\n",
              "    </tr>\n",
              "  </thead>\n",
              "  <tbody>\n",
              "    <tr>\n",
              "      <th>0</th>\n",
              "      <td>jadi gampang konsultasi dari rumah</td>\n",
              "      <td>positif</td>\n",
              "      <td>0</td>\n",
              "      <td>0</td>\n",
              "      <td>1</td>\n",
              "    </tr>\n",
              "    <tr>\n",
              "      <th>1</th>\n",
              "      <td>aplikasi cacat download kartu kendali tidak bi...</td>\n",
              "      <td>negatif</td>\n",
              "      <td>1</td>\n",
              "      <td>0</td>\n",
              "      <td>0</td>\n",
              "    </tr>\n",
              "    <tr>\n",
              "      <th>2</th>\n",
              "      <td>salut dengan tetap menjaga kualitas pelayanann...</td>\n",
              "      <td>netral</td>\n",
              "      <td>0</td>\n",
              "      <td>1</td>\n",
              "      <td>0</td>\n",
              "    </tr>\n",
              "    <tr>\n",
              "      <th>3</th>\n",
              "      <td>mudah dan terpercaya</td>\n",
              "      <td>positif</td>\n",
              "      <td>0</td>\n",
              "      <td>0</td>\n",
              "      <td>1</td>\n",
              "    </tr>\n",
              "    <tr>\n",
              "      <th>4</th>\n",
              "      <td>mudah dan sangat membantu terimakasih</td>\n",
              "      <td>positif</td>\n",
              "      <td>0</td>\n",
              "      <td>0</td>\n",
              "      <td>1</td>\n",
              "    </tr>\n",
              "  </tbody>\n",
              "</table>\n",
              "</div>\n",
              "      <button class=\"colab-df-convert\" onclick=\"convertToInteractive('df-1d1b1617-950d-4ff7-b907-a0babc918ea7')\"\n",
              "              title=\"Convert this dataframe to an interactive table.\"\n",
              "              style=\"display:none;\">\n",
              "        \n",
              "  <svg xmlns=\"http://www.w3.org/2000/svg\" height=\"24px\"viewBox=\"0 0 24 24\"\n",
              "       width=\"24px\">\n",
              "    <path d=\"M0 0h24v24H0V0z\" fill=\"none\"/>\n",
              "    <path d=\"M18.56 5.44l.94 2.06.94-2.06 2.06-.94-2.06-.94-.94-2.06-.94 2.06-2.06.94zm-11 1L8.5 8.5l.94-2.06 2.06-.94-2.06-.94L8.5 2.5l-.94 2.06-2.06.94zm10 10l.94 2.06.94-2.06 2.06-.94-2.06-.94-.94-2.06-.94 2.06-2.06.94z\"/><path d=\"M17.41 7.96l-1.37-1.37c-.4-.4-.92-.59-1.43-.59-.52 0-1.04.2-1.43.59L10.3 9.45l-7.72 7.72c-.78.78-.78 2.05 0 2.83L4 21.41c.39.39.9.59 1.41.59.51 0 1.02-.2 1.41-.59l7.78-7.78 2.81-2.81c.8-.78.8-2.07 0-2.86zM5.41 20L4 18.59l7.72-7.72 1.47 1.35L5.41 20z\"/>\n",
              "  </svg>\n",
              "      </button>\n",
              "      \n",
              "  <style>\n",
              "    .colab-df-container {\n",
              "      display:flex;\n",
              "      flex-wrap:wrap;\n",
              "      gap: 12px;\n",
              "    }\n",
              "\n",
              "    .colab-df-convert {\n",
              "      background-color: #E8F0FE;\n",
              "      border: none;\n",
              "      border-radius: 50%;\n",
              "      cursor: pointer;\n",
              "      display: none;\n",
              "      fill: #1967D2;\n",
              "      height: 32px;\n",
              "      padding: 0 0 0 0;\n",
              "      width: 32px;\n",
              "    }\n",
              "\n",
              "    .colab-df-convert:hover {\n",
              "      background-color: #E2EBFA;\n",
              "      box-shadow: 0px 1px 2px rgba(60, 64, 67, 0.3), 0px 1px 3px 1px rgba(60, 64, 67, 0.15);\n",
              "      fill: #174EA6;\n",
              "    }\n",
              "\n",
              "    [theme=dark] .colab-df-convert {\n",
              "      background-color: #3B4455;\n",
              "      fill: #D2E3FC;\n",
              "    }\n",
              "\n",
              "    [theme=dark] .colab-df-convert:hover {\n",
              "      background-color: #434B5C;\n",
              "      box-shadow: 0px 1px 3px 1px rgba(0, 0, 0, 0.15);\n",
              "      filter: drop-shadow(0px 1px 2px rgba(0, 0, 0, 0.3));\n",
              "      fill: #FFFFFF;\n",
              "    }\n",
              "  </style>\n",
              "\n",
              "      <script>\n",
              "        const buttonEl =\n",
              "          document.querySelector('#df-1d1b1617-950d-4ff7-b907-a0babc918ea7 button.colab-df-convert');\n",
              "        buttonEl.style.display =\n",
              "          google.colab.kernel.accessAllowed ? 'block' : 'none';\n",
              "\n",
              "        async function convertToInteractive(key) {\n",
              "          const element = document.querySelector('#df-1d1b1617-950d-4ff7-b907-a0babc918ea7');\n",
              "          const dataTable =\n",
              "            await google.colab.kernel.invokeFunction('convertToInteractive',\n",
              "                                                     [key], {});\n",
              "          if (!dataTable) return;\n",
              "\n",
              "          const docLinkHtml = 'Like what you see? Visit the ' +\n",
              "            '<a target=\"_blank\" href=https://colab.research.google.com/notebooks/data_table.ipynb>data table notebook</a>'\n",
              "            + ' to learn more about interactive tables.';\n",
              "          element.innerHTML = '';\n",
              "          dataTable['output_type'] = 'display_data';\n",
              "          await google.colab.output.renderOutput(dataTable, element);\n",
              "          const docLink = document.createElement('div');\n",
              "          docLink.innerHTML = docLinkHtml;\n",
              "          element.appendChild(docLink);\n",
              "        }\n",
              "      </script>\n",
              "    </div>\n",
              "  </div>\n",
              "  "
            ]
          },
          "metadata": {},
          "execution_count": 106
        }
      ],
      "source": [
        "import pandas as pd\n",
        "\n",
        "df1 = pd.read_csv('TinggalTrain2.csv')\n",
        "df1.head()"
      ]
    },
    {
      "cell_type": "code",
      "execution_count": null,
      "metadata": {
        "id": "Dd4Z4gNyDbh_"
      },
      "outputs": [],
      "source": [
        "count_class_0, count_class_1, count_class_2 = df1.sentimen.value_counts()\n",
        "\n",
        "df_class_0 = df1[df1['sentimen'] == 'positif']\n",
        "df_class_1 = df1[df1['sentimen'] == 'negatif']\n",
        "df_class_2 = df1[df1['sentimen'] == 'netral']"
      ]
    },
    {
      "cell_type": "code",
      "execution_count": null,
      "metadata": {
        "colab": {
          "base_uri": "https://localhost:8080/"
        },
        "id": "fefEotSyDieT",
        "outputId": "ea6ea0af-f45d-4314-932f-a0b868300d3a"
      },
      "outputs": [
        {
          "output_type": "execute_result",
          "data": {
            "text/plain": [
              "(11698, 4338, 3192)"
            ]
          },
          "metadata": {},
          "execution_count": 108
        }
      ],
      "source": [
        "count_class_0, count_class_1, count_class_2"
      ]
    },
    {
      "cell_type": "code",
      "execution_count": null,
      "metadata": {
        "colab": {
          "base_uri": "https://localhost:8080/"
        },
        "id": "TXHEUbMZEBnw",
        "outputId": "89a018d3-543b-4afe-fdf8-ce4fb6e8efeb"
      },
      "outputs": [
        {
          "output_type": "execute_result",
          "data": {
            "text/plain": [
              "(11698, 5)"
            ]
          },
          "metadata": {},
          "execution_count": 109
        }
      ],
      "source": [
        "df_class_0.shape"
      ]
    },
    {
      "cell_type": "code",
      "execution_count": null,
      "metadata": {
        "colab": {
          "base_uri": "https://localhost:8080/"
        },
        "id": "G58ATIjlEEb6",
        "outputId": "6b66c930-6df0-4db8-8171-40fb66bc82ca"
      },
      "outputs": [
        {
          "output_type": "execute_result",
          "data": {
            "text/plain": [
              "(4338, 5)"
            ]
          },
          "metadata": {},
          "execution_count": 110
        }
      ],
      "source": [
        "df_class_1.shape"
      ]
    },
    {
      "cell_type": "code",
      "execution_count": null,
      "metadata": {
        "colab": {
          "base_uri": "https://localhost:8080/"
        },
        "id": "ZSfcmZqbEFZA",
        "outputId": "3d83517d-ed9e-49b5-853c-8d3524fdf35f"
      },
      "outputs": [
        {
          "output_type": "execute_result",
          "data": {
            "text/plain": [
              "(3192, 5)"
            ]
          },
          "metadata": {},
          "execution_count": 111
        }
      ],
      "source": [
        "df_class_2.shape"
      ]
    },
    {
      "cell_type": "code",
      "execution_count": null,
      "metadata": {
        "id": "UjnH5kxqEGQ0"
      },
      "outputs": [],
      "source": [
        "df_class0_under = df_class_0.sample(count_class_2)\n",
        "df_class1_under = df_class_1.sample(count_class_2)"
      ]
    },
    {
      "cell_type": "code",
      "execution_count": null,
      "metadata": {
        "colab": {
          "base_uri": "https://localhost:8080/"
        },
        "id": "oMH5WwB2EHSt",
        "outputId": "6afdfcf5-0e13-4b6b-ccdc-a54352b928d4"
      },
      "outputs": [
        {
          "output_type": "execute_result",
          "data": {
            "text/plain": [
              "(3192, 5)"
            ]
          },
          "metadata": {},
          "execution_count": 113
        }
      ],
      "source": [
        "df_class1_under.shape"
      ]
    },
    {
      "cell_type": "code",
      "execution_count": null,
      "metadata": {
        "colab": {
          "base_uri": "https://localhost:8080/"
        },
        "id": "xHbq2KyqEIW_",
        "outputId": "e09f1d25-55e5-4201-9f20-c6e8802b8e31"
      },
      "outputs": [
        {
          "output_type": "stream",
          "name": "stdout",
          "text": [
            "Random under-sampling\n",
            "positif    3192\n",
            "negatif    3192\n",
            "netral     3192\n",
            "Name: sentimen, dtype: int64\n"
          ]
        }
      ],
      "source": [
        "df_baru = pd.concat([df_class0_under,df_class1_under,df_class_2], axis = 0)\n",
        "print('Random under-sampling')\n",
        "print(df_baru.sentimen.value_counts())"
      ]
    },
    {
      "cell_type": "code",
      "execution_count": null,
      "metadata": {
        "colab": {
          "base_uri": "https://localhost:8080/"
        },
        "id": "YOdtouX8EJOV",
        "outputId": "d3dd8e5a-c47d-40cd-9aa9-2e826dd66c7e"
      },
      "outputs": [
        {
          "output_type": "execute_result",
          "data": {
            "text/plain": [
              "(9576, 5)"
            ]
          },
          "metadata": {},
          "execution_count": 115
        }
      ],
      "source": [
        "df_baru.shape"
      ]
    },
    {
      "cell_type": "code",
      "execution_count": null,
      "metadata": {
        "colab": {
          "base_uri": "https://localhost:8080/",
          "height": 206
        },
        "id": "wd3P41BMEKhn",
        "outputId": "13457a3f-4333-4052-c533-cc8969c55c58"
      },
      "outputs": [
        {
          "output_type": "execute_result",
          "data": {
            "text/plain": [
              "                                            Remove_noise sentimen  \\\n",
              "4399   respon cepat dan tersambung dengan pembelian o...  positif   \n",
              "1562                       sehat selalu dokter indonesia  positif   \n",
              "6520            layanan dokternya baik dan ramah bangeet  positif   \n",
              "14634  alhamdulillah ada halodoc membantu bngt jadi h...  positif   \n",
              "9463   aplikasi terbaik apalagi jika ingin konsultasi...  positif   \n",
              "\n",
              "       sentimen_negatif  sentimen_netral  sentimen_positif  \n",
              "4399                  0                0                 1  \n",
              "1562                  0                0                 1  \n",
              "6520                  0                0                 1  \n",
              "14634                 0                0                 1  \n",
              "9463                  0                0                 1  "
            ],
            "text/html": [
              "\n",
              "  <div id=\"df-1e4ce186-b6a4-49ed-a986-80cc0b7ad831\">\n",
              "    <div class=\"colab-df-container\">\n",
              "      <div>\n",
              "<style scoped>\n",
              "    .dataframe tbody tr th:only-of-type {\n",
              "        vertical-align: middle;\n",
              "    }\n",
              "\n",
              "    .dataframe tbody tr th {\n",
              "        vertical-align: top;\n",
              "    }\n",
              "\n",
              "    .dataframe thead th {\n",
              "        text-align: right;\n",
              "    }\n",
              "</style>\n",
              "<table border=\"1\" class=\"dataframe\">\n",
              "  <thead>\n",
              "    <tr style=\"text-align: right;\">\n",
              "      <th></th>\n",
              "      <th>Remove_noise</th>\n",
              "      <th>sentimen</th>\n",
              "      <th>sentimen_negatif</th>\n",
              "      <th>sentimen_netral</th>\n",
              "      <th>sentimen_positif</th>\n",
              "    </tr>\n",
              "  </thead>\n",
              "  <tbody>\n",
              "    <tr>\n",
              "      <th>4399</th>\n",
              "      <td>respon cepat dan tersambung dengan pembelian o...</td>\n",
              "      <td>positif</td>\n",
              "      <td>0</td>\n",
              "      <td>0</td>\n",
              "      <td>1</td>\n",
              "    </tr>\n",
              "    <tr>\n",
              "      <th>1562</th>\n",
              "      <td>sehat selalu dokter indonesia</td>\n",
              "      <td>positif</td>\n",
              "      <td>0</td>\n",
              "      <td>0</td>\n",
              "      <td>1</td>\n",
              "    </tr>\n",
              "    <tr>\n",
              "      <th>6520</th>\n",
              "      <td>layanan dokternya baik dan ramah bangeet</td>\n",
              "      <td>positif</td>\n",
              "      <td>0</td>\n",
              "      <td>0</td>\n",
              "      <td>1</td>\n",
              "    </tr>\n",
              "    <tr>\n",
              "      <th>14634</th>\n",
              "      <td>alhamdulillah ada halodoc membantu bngt jadi h...</td>\n",
              "      <td>positif</td>\n",
              "      <td>0</td>\n",
              "      <td>0</td>\n",
              "      <td>1</td>\n",
              "    </tr>\n",
              "    <tr>\n",
              "      <th>9463</th>\n",
              "      <td>aplikasi terbaik apalagi jika ingin konsultasi...</td>\n",
              "      <td>positif</td>\n",
              "      <td>0</td>\n",
              "      <td>0</td>\n",
              "      <td>1</td>\n",
              "    </tr>\n",
              "  </tbody>\n",
              "</table>\n",
              "</div>\n",
              "      <button class=\"colab-df-convert\" onclick=\"convertToInteractive('df-1e4ce186-b6a4-49ed-a986-80cc0b7ad831')\"\n",
              "              title=\"Convert this dataframe to an interactive table.\"\n",
              "              style=\"display:none;\">\n",
              "        \n",
              "  <svg xmlns=\"http://www.w3.org/2000/svg\" height=\"24px\"viewBox=\"0 0 24 24\"\n",
              "       width=\"24px\">\n",
              "    <path d=\"M0 0h24v24H0V0z\" fill=\"none\"/>\n",
              "    <path d=\"M18.56 5.44l.94 2.06.94-2.06 2.06-.94-2.06-.94-.94-2.06-.94 2.06-2.06.94zm-11 1L8.5 8.5l.94-2.06 2.06-.94-2.06-.94L8.5 2.5l-.94 2.06-2.06.94zm10 10l.94 2.06.94-2.06 2.06-.94-2.06-.94-.94-2.06-.94 2.06-2.06.94z\"/><path d=\"M17.41 7.96l-1.37-1.37c-.4-.4-.92-.59-1.43-.59-.52 0-1.04.2-1.43.59L10.3 9.45l-7.72 7.72c-.78.78-.78 2.05 0 2.83L4 21.41c.39.39.9.59 1.41.59.51 0 1.02-.2 1.41-.59l7.78-7.78 2.81-2.81c.8-.78.8-2.07 0-2.86zM5.41 20L4 18.59l7.72-7.72 1.47 1.35L5.41 20z\"/>\n",
              "  </svg>\n",
              "      </button>\n",
              "      \n",
              "  <style>\n",
              "    .colab-df-container {\n",
              "      display:flex;\n",
              "      flex-wrap:wrap;\n",
              "      gap: 12px;\n",
              "    }\n",
              "\n",
              "    .colab-df-convert {\n",
              "      background-color: #E8F0FE;\n",
              "      border: none;\n",
              "      border-radius: 50%;\n",
              "      cursor: pointer;\n",
              "      display: none;\n",
              "      fill: #1967D2;\n",
              "      height: 32px;\n",
              "      padding: 0 0 0 0;\n",
              "      width: 32px;\n",
              "    }\n",
              "\n",
              "    .colab-df-convert:hover {\n",
              "      background-color: #E2EBFA;\n",
              "      box-shadow: 0px 1px 2px rgba(60, 64, 67, 0.3), 0px 1px 3px 1px rgba(60, 64, 67, 0.15);\n",
              "      fill: #174EA6;\n",
              "    }\n",
              "\n",
              "    [theme=dark] .colab-df-convert {\n",
              "      background-color: #3B4455;\n",
              "      fill: #D2E3FC;\n",
              "    }\n",
              "\n",
              "    [theme=dark] .colab-df-convert:hover {\n",
              "      background-color: #434B5C;\n",
              "      box-shadow: 0px 1px 3px 1px rgba(0, 0, 0, 0.15);\n",
              "      filter: drop-shadow(0px 1px 2px rgba(0, 0, 0, 0.3));\n",
              "      fill: #FFFFFF;\n",
              "    }\n",
              "  </style>\n",
              "\n",
              "      <script>\n",
              "        const buttonEl =\n",
              "          document.querySelector('#df-1e4ce186-b6a4-49ed-a986-80cc0b7ad831 button.colab-df-convert');\n",
              "        buttonEl.style.display =\n",
              "          google.colab.kernel.accessAllowed ? 'block' : 'none';\n",
              "\n",
              "        async function convertToInteractive(key) {\n",
              "          const element = document.querySelector('#df-1e4ce186-b6a4-49ed-a986-80cc0b7ad831');\n",
              "          const dataTable =\n",
              "            await google.colab.kernel.invokeFunction('convertToInteractive',\n",
              "                                                     [key], {});\n",
              "          if (!dataTable) return;\n",
              "\n",
              "          const docLinkHtml = 'Like what you see? Visit the ' +\n",
              "            '<a target=\"_blank\" href=https://colab.research.google.com/notebooks/data_table.ipynb>data table notebook</a>'\n",
              "            + ' to learn more about interactive tables.';\n",
              "          element.innerHTML = '';\n",
              "          dataTable['output_type'] = 'display_data';\n",
              "          await google.colab.output.renderOutput(dataTable, element);\n",
              "          const docLink = document.createElement('div');\n",
              "          docLink.innerHTML = docLinkHtml;\n",
              "          element.appendChild(docLink);\n",
              "        }\n",
              "      </script>\n",
              "    </div>\n",
              "  </div>\n",
              "  "
            ]
          },
          "metadata": {},
          "execution_count": 116
        }
      ],
      "source": [
        "df_baru.head()"
      ]
    },
    {
      "cell_type": "code",
      "execution_count": null,
      "metadata": {
        "id": "a-KDRhLtELUB"
      },
      "outputs": [],
      "source": [
        "sentimen = df_baru['Remove_noise'].values\n",
        "label = df_baru[['sentimen_negatif', 'sentimen_netral',\n",
        "       'sentimen_positif']].values"
      ]
    },
    {
      "cell_type": "code",
      "execution_count": null,
      "metadata": {
        "id": "XfBvi490EMdl"
      },
      "outputs": [],
      "source": [
        "# Membagi data menjadi 90% data train dan 10% data test\n",
        "from sklearn.model_selection import train_test_split\n",
        "x_train, x_test, y_train, y_test = train_test_split(sentimen, label, test_size=0.1)"
      ]
    },
    {
      "cell_type": "code",
      "execution_count": null,
      "metadata": {
        "id": "b6YkocwDENdM"
      },
      "outputs": [],
      "source": [
        "from tensorflow.keras.preprocessing.text import Tokenizer # Mengimport tokenizer untuk preprocessing kata-kata\n",
        "from tensorflow.keras.preprocessing.sequence import pad_sequences # Mengimport pad_sequences untuk preprocessing kata\n",
        "\n",
        "# Memasukkan fungsi tokenizer yang didalamnya terdapat parameter untuk menyimpan 6500 kata yang sering muncul\n",
        "tokenizer = Tokenizer(num_words=6500, oov_token='<OOV>')\n",
        "tokenizer.fit_on_texts(x_train) \n",
        "tokenizer.fit_on_texts(x_test)\n",
        "\n",
        "# Mengubah token jadi sequence \n",
        "sekuens_latih = tokenizer.texts_to_sequences(x_train)\n",
        "sekuens_test = tokenizer.texts_to_sequences(x_test)\n",
        "\n",
        "# Menggunakan padding agar sequence menjadi sama panjang\n",
        "padded_latih = pad_sequences(sekuens_latih) \n",
        "padded_test = pad_sequences(sekuens_test)"
      ]
    },
    {
      "cell_type": "code",
      "execution_count": null,
      "metadata": {
        "colab": {
          "base_uri": "https://localhost:8080/"
        },
        "id": "JkqKtC7dEQKE",
        "outputId": "985e9b9e-621d-4244-a8f0-19c2053fa81d"
      },
      "outputs": [
        {
          "output_type": "stream",
          "name": "stdout",
          "text": [
            "{'<OOV>': 1, 'sangat': 2, 'dan': 3, 'yang': 4, 'tidak': 5, 'saya': 6, 'membantu': 7, 'aplikasi': 8, 'dokter': 9, 'ini': 10, 'di': 11, 'bisa': 12, 'halodoc': 13, 'dengan': 14, 'untuk': 15, 'obat': 16, 'cepat': 17, 'kasih': 18, 'sekali': 19, 'dokternya': 20, 'ada': 21, 'tapi': 22, 'bagus': 23, 'sudah': 24, 'konsultasi': 25, 'terima': 26, 'ke': 27, 'juga': 28, 'dari': 29, 'ramah': 30, 'banget': 31, 'lagi': 32, 'sakit': 33, 'baik': 34, 'rumah': 35, 'karena': 36, 'terimakasih': 37, 'harus': 38, 'kalau': 39, 'jadi': 40, 'saja': 41, 'langsung': 42, 'respon': 43, 'kita': 44, 'saat': 45, 'lebih': 46, 'buat': 47, 'chat': 48, 'sama': 49, 'perlu': 50, 'pakai': 51, 'mudah': 52, 'banyak': 53, 'seperti': 54, 'terus': 55, 'semoga': 56, 'kesehatan': 57, 'lama': 58, 'pelayanan': 59, 'beli': 60, 'selalu': 61, 'apa': 62, 'semua': 63, 'sampai': 64, 'dalam': 65, 'waktu': 66, 'resep': 67, 'cukup': 68, 'belum': 69, 'dapat': 70, 'bayar': 71, 'aplikasinya': 72, 'orang': 73, 'konsul': 74, 'pandemi': 75, 'bermanfaat': 76, 'tanpa': 77, 'puas': 78, 'hanya': 79, 'baru': 80, 'keluar': 81, 'atau': 82, 'suka': 83, 'itu': 84, 'app': 85, 'tolong': 86, 'terbantu': 87, 'padahal': 88, 'sekarang': 89, 'jauh': 90, 'kali': 91, 'cuma': 92, 'apalagi': 93, 'keluhan': 94, 'bahkan': 95, 'apotik': 96, 'pembayaran': 97, 'obatnya': 98, 'pertama': 99, 'menunggu': 100, 'jelas': 101, 'gratis': 102, 'masih': 103, 'disaat': 104, 'memberikan': 105, 'uang': 106, 'lain': 107, 'kenapa': 108, 'pengiriman': 109, 'hari': 110, 'alhamdulillah': 111, 'memuaskan': 112, 'anak': 113, 'ketika': 114, 'butuh': 115, 'pasien': 116, 'sukses': 117, 'apotek': 118, 'pesan': 119, 'dulu': 120, 'benar': 121, 'saran': 122, 'masalah': 123, 'sedang': 124, 'gopay': 125, 'apk': 126, 'penyakit': 127, 'saldo': 128, 'adanya': 129, 'antri': 130, 'tahu': 131, 'solusi': 132, 'pada': 133, 'coba': 134, 'kurang': 135, 'driver': 136, 'penjelasan': 137, 'sesuai': 138, 'ribet': 139, 'pelayanannya': 140, 'bagi': 141, 'mantap': 142, 'fast': 143, 'kondisi': 144, 'menggunakan': 145, 'datang': 146, 'susah': 147, 'harga': 148, 'nomor': 149, 'bintang': 150, 'download': 151, 'masuk': 152, 'layanan': 153, 'responnya': 154, 'spesialis': 155, 'jangan': 156, 'punya': 157, 'keren': 158, 'bertanya': 159, 'jika': 160, 'memudahkan': 161, 'tanya': 162, 'bagaimana': 163, 'malam': 164, 'setelah': 165, 'berkonsultasi': 166, 'mohon': 167, 'masa': 168, 'mencari': 169, 'kirim': 170, 'ingin': 171, 'kecewa': 172, 'tepat': 173, 'mempermudah': 174, 'begini': 175, 'pertanyaan': 176, 'tinggal': 177, 'halo': 178, 'covid': 179, 'secara': 180, 'pesanan': 181, 'detail': 182, 'repot': 183, 'doc': 184, 'akan': 185, 'biaya': 186, 'tempat': 187, 'cari': 188, 'jawaban': 189, 'mungkin': 190, 'begitu': 191, 'para': 192, 'online': 193, 'informasi': 194, 'atas': 195, 'ternyata': 196, 'berobat': 197, 'aku': 198, 'tentang': 199, 'tetap': 200, 'tiba': 201, 'kami': 202, 'pergi': 203, 'klinik': 204, 'gojek': 205, 'lewat': 206, 'praktis': 207, 'tingkatkan': 208, 'bingung': 209, 'mahal': 210, 'tersedia': 211, 'agak': 212, 'agar': 213, 'memang': 214, 'trimakasih': 215, 'terlalu': 216, 'sendiri': 217, 'oleh': 218, 'merasa': 219, 'luar': 220, 'pokoknya': 221, 'menit': 222, 'tanggap': 223, 'sehat': 224, 'diberikan': 225, 'sedikit': 226, 'berguna': 227, 'minta': 228, 'biasa': 229, 'setiap': 230, 'terutama': 231, 'namun': 232, 'telepon': 233, 'free': 234, 'order': 235, 'lumayan': 236, 'dong': 237, 'cara': 238, 'cocok': 239, 'mana': 240, 'bukan': 241, 'barang': 242, 'beberapa': 243, 'keadaan': 244, 'sya': 245, 'melalui': 246, 'senang': 247, 'terbaik': 248, 'dana': 249, 'sibuk': 250, 'menjawab': 251, 'semakin': 252, 'habis': 253, 'jawab': 254, 'refund': 255, 'sistem': 256, 'lengkap': 257, 'proses': 258, 'sesi': 259, 'ongkos': 260, 'terdekat': 261, 'takut': 262, 'sehingga': 263, 'makin': 264, 'metode': 265, 'mendapatkan': 266, 'balas': 267, 'fitur': 268, 'sering': 269, 'kembali': 270, 'sayang': 271, 'murah': 272, 'pihak': 273, 'kadang': 274, 'memberi': 275, 'walaupun': 276, 'pembelian': 277, 'pesen': 278, 'darurat': 279, 'hal': 280, 'awal': 281, 'urgent': 282, 'dikirim': 283, 'buka': 284, 'tengah': 285, 'pernah': 286, 'tanggal': 287, 'serta': 288, 'lokasi': 289, 'kalian': 290, 'mengantri': 291, 'tetapi': 292, 'ibu': 293, 'membeli': 294, 'gagal': 295, 'penjelasannya': 296, 'umum': 297, 'dimana': 298, 'ok': 299, 'maaf': 300, 'kerja': 301, 'daftar': 302, 'alamat': 303, 'klik': 304, 'disini': 305, 'membuat': 306, 'biar': 307, 'email': 308, 'selesai': 309, 'mengecewakan': 310, 'antar': 311, 'nyaman': 312, 'membutuhkan': 313, 'kota': 314, 'kode': 315, 'diantar': 316, 'kapan': 317, 'responsif': 318, 'gampang': 319, 'digunakan': 320, 'segera': 321, 'cancel': 322, 'katanya': 323, 'satu': 324, 'dirumah': 325, 'enak': 326, 'salah': 327, 'periksa': 328, 'rekomendasi': 329, 'diperbaiki': 330, 'lambat': 331, 'kedepannya': 332, 'oke': 333, 'hp': 334, 'hasil': 335, 'instal': 336, 'konsultasinya': 337, 'pula': 338, 'kaya': 339, 'kerumah': 340, 'indonesia': 341, 'pilihan': 342, 'keluarga': 343, 'asuransi': 344, 'tambah': 345, 'terjangkau': 346, 'sembuh': 347, 'sempat': 348, 'masyarakat': 349, 'bikin': 350, 'parah': 351, 'tadi': 352, 'berbayar': 353, 'update': 354, 'waktunya': 355, 'lbh': 356, 'pemesanan': 357, 'kartu': 358, 'suruh': 359, 'akhirnya': 360, 'simple': 361, 'sabar': 362, 'pengalaman': 363, 'pilih': 364, 'selama': 365, 'cek': 366, 'dikasih': 367, 'kosong': 368, 'tersebut': 369, 'kepada': 370, 'maju': 371, 'ulang': 372, 'best': 373, 'dikala': 374, 'aman': 375, 'kamu': 376, 'muncul': 377, 'singkat': 378, 'dibatalkan': 379, 'tunggu': 380, 'hati': 381, 'balik': 382, 'menjelaskan': 383, 'membatu': 384, 'konfirmasi': 385, 'lalu': 386, 'soalnya': 387, 'pembayarannya': 388, 'customer': 389, 'sebelum': 390, 'paling': 391, 'harganya': 392, 'teman': 393, 'the': 394, 'hilang': 395, 'melakukan': 396, 'dia': 397, 'janji': 398, 'harusnya': 399, 'sms': 400, 'profesional': 401, 'apapun': 402, 'bantuan': 403, 'pasti': 404, 'transaksi': 405, 'masukan': 406, 'error': 407, 'ditambah': 408, 'sulit': 409, 'isi': 410, 'daerah': 411, 'dimengerti': 412, 'menurut': 413, 'bilang': 414, 'berkali': 415, 'apps': 416, 'ditingkatkan': 417, 'vaksin': 418, 'menjadi': 419, 'diberi': 420, 'top': 421, 'verifikasi': 422, 'gunakan': 423, 'akurat': 424, 'hallodoc': 425, 'nanti': 426, 'pribadi': 427, 'berpengalaman': 428, 'drivernya': 429, 'jalan': 430, 'melayani': 431, 'walau': 432, 'praktek': 433, 'jawabannya': 434, 'alami': 435, 'ngebantu': 436, 'mengerti': 437, 'buruk': 438, 'lihat': 439, 'kemana': 440, 'recommended': 441, 'rekening': 442, 'lancar': 443, 'stok': 444, 'data': 445, 'semuanya': 446, 'sebelah': 447, 'orderan': 448, 'sebagai': 449, 'yah': 450, 'pengguna': 451, 'telpon': 452, 'komunikatif': 453, 'bulan': 454, 'tutup': 455, 'lainnya': 456, 'nyesel': 457, 'sngat': 458, 'kasian': 459, 'sini': 460, 'merespon': 461, 'amat': 462, 'maupun': 463, 'otomatis': 464, 'apakah': 465, 'awalnya': 466, 'panik': 467, 'telah': 468, 'ketemu': 469, 'situasi': 470, 'selain': 471, 'masukkan': 472, 'bank': 473, 'bantu': 474, 'dimasa': 475, 'tes': 476, 'apl': 477, 'mengenai': 478, 'solusinya': 479, 'nama': 480, 'nyoba': 481, 'penanganan': 482, 'pengantaran': 483, 'medis': 484, 'segala': 485, 'berikan': 486, 'berhasil': 487, 'kayak': 488, 'keterangan': 489, 'ambil': 490, 'berkembang': 491, 'mengetahui': 492, 'disuruh': 493, 'sementara': 494, 'berbeda': 495, 'thank': 496, 'anda': 497, 'kluar': 498, 'menanyakan': 499, 'smoga': 500, 'terkadang': 501, 'super': 502, 'jadwal': 503, 'ganti': 504, 'sebelumnya': 505, 'tanggapan': 506, 'tunai': 507, 'dikembalikan': 508, 'hemat': 509, 'supaya': 510, 'cash': 511, 'perbaiki': 512, 'meskipun': 513, 'rapid': 514, 'dijawab': 515, 'you': 516, 'ragu': 517, 'muka': 518, 'beri': 519, 'beda': 520, 'mencoba': 521, 'pagi': 522, 'untung': 523, 'toko': 524, 'sedangkan': 525, 'krna': 526, 'dibutuhkan': 527, 'terhubung': 528, 'install': 529, 'payah': 530, 'buru': 531, 'gejala': 532, 'fasilitas': 533, 'kasihan': 534, 'login': 535, 'antrian': 536, 'sungguh': 537, 'pokonya': 538, 'tenang': 539, 'hasilnya': 540, 'kendala': 541, 'seharusnya': 542, 'recomended': 543, 'kapanpun': 544, 'ditengah': 545, 'resepnya': 546, 'tetep': 547, 'kemarin': 548, 'pengembalian': 549, 'tua': 550, 'awam': 551, 'alasan': 552, 'test': 553, 'memakai': 554, 'siap': 555, 'kebutuhan': 556, 'efisien': 557, 'dilakukan': 558, 'menu': 559, 'terbatas': 560, 'sayangnya': 561, 'boleh': 562, 'posisi': 563, 'akun': 564, 'direspon': 565, 'hubungi': 566, 'butuhkan': 567, 'pengambilan': 568, 'macam': 569, 'pertahankan': 570, 'debit': 571, 'komplain': 572, 'obatan': 573, 'kurir': 574, 'go': 575, 'males': 576, 'chatnya': 577, 'rasa': 578, 'halodok': 579, 'jelek': 580, 'puskesmas': 581, 'terkirim': 582, 'pembatalan': 583, 'terimaksih': 584, 'dekat': 585, 'minum': 586, 'informatif': 587, 'so': 588, 'jasa': 589, 'batalkan': 590, 'up': 591, 'mendapat': 592, 'applikasi': 593, 'malas': 594, 'transfer': 595, 'kedokter': 596, 'status': 597, 'kecil': 598, 'kredit': 599, 'mengatasi': 600, 'ahli': 601, 'kira': 602, 'slow': 603, 'service': 604, 'hampir': 605, 'sejauh': 606, 'opsi': 607, 'swab': 608, 'riwayat': 609, 'salam': 610, 'rugi': 611, 'promo': 612, 'penting': 613, 'adalah': 614, 'biasanya': 615, 'layanannya': 616, 'memungkinkan': 617, 'daripada': 618, 'membalas': 619, 'mesti': 620, 'berbagai': 621, 'pulsa': 622, 'bngt': 623, 'sebenarnya': 624, 'apotiknya': 625, 'bila': 626, 'panjang': 627, 'lanjut': 628, 'dipahami': 629, 'memilih': 630, 'digital': 631, 'belanja': 632, 'rasakan': 633, 'dua': 634, 'kembalikan': 635, 'tiap': 636, 'kena': 637, 'simpel': 638, 'terlanjur': 639, 'mengalami': 640, 'diresepkan': 641, 'tujuan': 642, 'kedua': 643, 'sumpah': 644, 'terlebih': 645, 'dihubungi': 646, 'bantuannya': 647, 'tim': 648, 'paham': 649, 'foto': 650, 'iklan': 651, 'ringan': 652, 'seputar': 653, 'nomer': 654, 'khususnya': 655, 'diskon': 656, 'nyampe': 657, 'terpotong': 658, 'mampu': 659, 'kesulitan': 660, 'kepotong': 661, 'jaringan': 662, 'balasan': 663, 'jarak': 664, 'melulu': 665, 'ditempat': 666, 'masing': 667, 'google': 668, 'loading': 669, 'minggu': 670, 'berkat': 671, 'berkurang': 672, 'mereka': 673, 'vitamin': 674, 'mager': 675, 'lngsung': 676, 'memiliki': 677, 'tatap': 678, 'khawatir': 679, 'hallo': 680, 'gojeknya': 681, 'aneh': 682, 'terkait': 683, 'tenaga': 684, 'to': 685, 'tertera': 686, 'aktif': 687, 'uninstall': 688, 'direkomendasikan': 689, 'produk': 690, 'seneng': 691, 'pengirimannya': 692, 'bahasa': 693, 'pcr': 694, 'bekerja': 695, 'mulai': 696, 'sopan': 697, 'thankyou': 698, 'besar': 699, 'muda': 700, 'dimanapun': 701, 'bertemu': 702, 'bawa': 703, 'dibeli': 704, 'buang': 705, 'call': 706, 'menghemat': 707, 'bakal': 708, 'bicara': 709, 'harap': 710, 'tahun': 711, 'it': 712, 'muter': 713, 'hebat': 714, 'kualitas': 715, 'bayi': 716, 'menangani': 717, 'pertolongan': 718, 'wilayah': 719, 'alhamdulilah': 720, 'ataupun': 721, 'rekanan': 722, 'menghubungi': 723, 'hapus': 724, 'ribu': 725, 'soal': 726, 'sperti': 727, 'hewan': 728, 'memesan': 729, 'diterima': 730, 'dibantu': 731, 'paket': 732, 'rating': 733, 'sarannya': 734, 'wajib': 735, 'terpercaya': 736, 'isoman': 737, 'allah': 738, 'wabah': 739, 'diri': 740, 'meski': 741, 'sakitnya': 742, 'tulisan': 743, 'pengobatan': 744, 'makasi': 745, 'menanggapi': 746, 'tentu': 747, 'psikolog': 748, 'mmbantu': 749, 'artikel': 750, 'baguss': 751, 'upload': 752, 'akhir': 753, 'stock': 754, 'wallet': 755, 'tertulis': 756, 'kedepan': 757, 'aamiin': 758, 'mendesak': 759, 'genting': 760, 'permasalahan': 761, 'link': 762, 'dilayani': 763, 'kasi': 764, 'kata': 765, 'tanyakan': 766, 'otp': 767, 'efektif': 768, 'bertele': 769, 'akses': 770, 'mandiri': 771, 'guna': 772, 'pemeriksaan': 773, 'berulang': 774, 'arahan': 775, 'pay': 776, 'berubah': 777, 'jadinya': 778, 'ahlinya': 779, 'menyenangkan': 780, 'koneksi': 781, 'terjadi': 782, 'mudahan': 783, 'apoteknya': 784, 'jarang': 785, 'admin': 786, 'dngan': 787, 'diagnosa': 788, 'mengisi': 789, 'kesini': 790, 'mengambil': 791, 'kala': 792, 'demam': 793, 'dunia': 794, 'teratasi': 795, 'mitra': 796, 'user': 797, 'estimasi': 798, 'rinci': 799, 'hitam': 800, 'beliau': 801, 'menambah': 802, 'docter': 803, 'hamil': 804, 'berkomunikasi': 805, 'namanya': 806, 'sambil': 807, 'tambahin': 808, 'dibuka': 809, 'pahami': 810, 'komunikasi': 811, 'uninstal': 812, 'percakapan': 813, 'terhadap': 814, 'far': 815, 'corona': 816, 'response': 817, 'membayar': 818, 'bnyak': 819, 'bagian': 820, 'diperlukan': 821, 'uangnya': 822, 'respond': 823, 'notifikasi': 824, 'tertentu': 825, 'diluar': 826, 'respons': 827, 'by': 828, 'berapa': 829, 'perbanyak': 830, 'amin': 831, 'percuma': 832, 'dialami': 833, 'apabila': 834, 'ngobrol': 835, 'rekomended': 836, 'internet': 837, 'mantul': 838, 'prosesnya': 839, 'menyediakan': 840, 'berada': 841, 'ovo': 842, 'lab': 843, 'mengurangi': 844, 'mengakhiri': 845, 'informasinya': 846, 'tindakan': 847, 'dibuat': 848, 'sebaiknya': 849, 'kebetulan': 850, 'asli': 851, 'entah': 852, 'perbaikan': 853, 'rama': 854, 'tubuh': 855, 'libur': 856, 'atm': 857, 'pokok': 858, 'seorang': 859, 'dokterny': 860, 'jenis': 861, 'kak': 862, 'baiknya': 863, 'berakhir': 864, 'bukannya': 865, 'map': 866, 'semangat': 867, 'badan': 868, 'menolong': 869, 'juli': 870, 'dicancel': 871, 'virus': 872, 'setidaknya': 873, 'main': 874, 'makan': 875, 'bidangnya': 876, 'berharap': 877, 'sinyal': 878, 'gigi': 879, 'sekedar': 880, 'derita': 881, 'diminta': 882, 'maksimal': 883, 'jawabnya': 884, 'menemukan': 885, 'seluruh': 886, 'diaplikasi': 887, 'terasa': 888, 'dicari': 889, 'on': 890, 'sebentar': 891, 'all': 892, 'menerima': 893, 'rekomendasikan': 894, 'berjalan': 895, 'gambar': 896, 'mendadak': 897, 'durasi': 898, 'suami': 899, 'antigen': 900, 'ojol': 901, 'serasa': 902, 'sejak': 903, 'kerjasama': 904, 'jujur': 905, 'virtual': 906, 'biayanya': 907, 'dipesan': 908, 'pandemic': 909, 'mati': 910, 'pikir': 911, 'untk': 912, 'hidup': 913, 'tele': 914, 'gila': 915, 'lelah': 916, 'lakukan': 917, 'disarankan': 918, 'ditambahkan': 919, 'appnya': 920, 'dompet': 921, 'hub': 922, 'khusus': 923, 'donk': 924, 'berjam': 925, 'terburu': 926, 'kirain': 927, 'program': 928, 'penipuan': 929, 'notif': 930, 'bapak': 931, 'vaksinasi': 932, 'detik': 933, 'betul': 934, 'berat': 935, 'gangguan': 936, 'caranya': 937, 'barangnya': 938, 'penipu': 939, 'pengetahuan': 940, 'sekian': 941, 'antara': 942, 'maka': 943, 'love': 944, 'sllu': 945, 'musim': 946, 'kulit': 947, 'mendownload': 948, 'sia': 949, 'bgus': 950, 'sharing': 951, 'percaya': 952, 'pencarian': 953, 'melihat': 954, 'teliti': 955, 'kejelasan': 956, 'dicoba': 957, 'tindak': 958, 'tebus': 959, 'tanggapannya': 960, 'terimakasi': 961, 'penggunaan': 962, 'sana': 963, 'baca': 964, 'tinggi': 965, 'ulasan': 966, 'dibanding': 967, 'perihal': 968, 'konsumen': 969, 'barusan': 970, 'batuk': 971, 'sepihak': 972, 'specialis': 973, 'berbicara': 974, 'bidang': 975, 'sigap': 976, 'bebas': 977, 'doktr': 978, 'bukti': 979, 'hangus': 980, 'padat': 981, 'sekitar': 982, 'tarik': 983, 'saldonya': 984, 'tidur': 985, 'ketersediaan': 986, 'very': 987, 'bertatap': 988, 'meminta': 989, 'spesialisnya': 990, 'kalinya': 991, 'termasuk': 992, 'tuhan': 993, 'dahulu': 994, 'kalangan': 995, 'eror': 996, 'bu': 997, 'kemudian': 998, 'jaya': 999, 'selebihnya': 1000, 'kurirnya': 1001, 'diapotik': 1002, 'lega': 1003, 'kekurangan': 1004, 'manjur': 1005, 'sendirian': 1006, 'rekomen': 1007, 'sangt': 1008, 'bintangnya': 1009, 'alangkah': 1010, 'holodoc': 1011, 'pandemik': 1012, 'membntu': 1013, 'full': 1014, 'mengobati': 1015, 'ksih': 1016, 'dibayar': 1017, 'selamat': 1018, 'merugikan': 1019, 'inginkan': 1020, 'malu': 1021, 'now': 1022, 'bca': 1023, 'kuota': 1024, 'this': 1025, 'dipakai': 1026, 'penuh': 1027, 'balikin': 1028, 'sehari': 1029, 'pemberitahuan': 1030, 'jakarta': 1031, 'intinya': 1032, 'siapa': 1033, 'gercep': 1034, 'pusing': 1035, 'tangan': 1036, 'diandalkan': 1037, 'overall': 1038, 'ongkirnya': 1039, 'konsultan': 1040, 'tracking': 1041, 'hehehe': 1042, 'batal': 1043, 'isolasi': 1044, 'akal': 1045, 'ditanya': 1046, 'rasanya': 1047, 'depan': 1048, 'terjawab': 1049, 'kandungan': 1050, 'bahwa': 1051, 'bangett': 1052, 'friendly': 1053, 'helpful': 1054, 'laporan': 1055, 'trimaksih': 1056, 'sistemnya': 1057, 'tersambung': 1058, 'booking': 1059, 'mata': 1060, 'apalgi': 1061, 'is': 1062, 'auto': 1063, 'sukaa': 1064, 'sangatt': 1065, 'canggih': 1066, 'tentunya': 1067, 'kesalahan': 1068, 'kambuh': 1069, 'emergency': 1070, 'penjelasanya': 1071, 'kemudahan': 1072, 'ditanyakan': 1073, 'terpaksa': 1074, 'kontrol': 1075, 'faskes': 1076, 'cemas': 1077, 'time': 1078, 'berarti': 1079, 'dicarikan': 1080, 'kemasan': 1081, 'diperhatikan': 1082, 'mengatas': 1083, 'and': 1084, 'was': 1085, 'ktp': 1086, 'bnget': 1087, 'laki': 1088, 'input': 1089, 'tertolong': 1090, 'jangkauan': 1091, 'kantor': 1092, 'blom': 1093, 'mental': 1094, 'cc': 1095, 'era': 1096, 'keluhannya': 1097, 'batalin': 1098, 'duduk': 1099, 'ilmu': 1100, 'sepertinya': 1101, 'gosend': 1102, 'gara': 1103, 'bayarnya': 1104, 'ditanggapi': 1105, 'tambahkan': 1106, 'video': 1107, 'misal': 1108, 'offline': 1109, 'tolak': 1110, 'pemilihan': 1111, 'face': 1112, 'menjaga': 1113, 'review': 1114, 'abang': 1115, 'request': 1116, 'voucher': 1117, 'petunjuk': 1118, 'lgsung': 1119, 'surat': 1120, 'acuh': 1121, 'konsulnya': 1122, 'nyambung': 1123, 'recommend': 1124, 'dikit': 1125, 'alternatif': 1126, 'gratisnya': 1127, 'manfaat': 1128, 'dikembangkan': 1129, 'area': 1130, 'tarif': 1131, 'bermasalah': 1132, 'account': 1133, 'mendukung': 1134, 'pemerintah': 1135, 'pencerahan': 1136, 'desa': 1137, 'sekalian': 1138, 'alergi': 1139, 'bawah': 1140, 'catatan': 1141, 'infonya': 1142, 'keluhkan': 1143, 'jaman': 1144, 'pak': 1145, 'diderita': 1146, 'seminggu': 1147, 'suatu': 1148, 'watching': 1149, 'rapih': 1150, 'pasiennya': 1151, 'merasakan': 1152, 'kebantu': 1153, 'lahir': 1154, 'diperbanyak': 1155, 'ujung': 1156, 'ujungnya': 1157, 'pemesan': 1158, 'bersama': 1159, 'bagusss': 1160, 'sejam': 1161, 'profil': 1162, 'menyelesaikan': 1163, 'plus': 1164, 'statusnya': 1165, 'pelanggan': 1166, 'bersangkutan': 1167, 'dipermudah': 1168, 'beneran': 1169, 'responya': 1170, 'jelasin': 1171, 'anaknya': 1172, 'konsult': 1173, 'kakak': 1174, 'pencet': 1175, 'dipake': 1176, 'fisik': 1177, 'mempunyai': 1178, 'giliran': 1179, 'alias': 1180, 'bolak': 1181, 'titik': 1182, 'alfamart': 1183, 'permudah': 1184, 'milih': 1185, 'bpjs': 1186, 'recomend': 1187, 'card': 1188, 'kuat': 1189, 'check': 1190, 'apknya': 1191, 'gada': 1192, 'topup': 1193, 'kebanyakan': 1194, 'setengah': 1195, 'helodoc': 1196, 'hujan': 1197, 'hingga': 1198, 'terimah': 1199, 'semenjak': 1200, 'menyesal': 1201, 'pelayananya': 1202, 'resepkan': 1203, 'niat': 1204, 'kos': 1205, 'tetangga': 1206, 'juni': 1207, 'asal': 1208, 'terputus': 1209, 'sore': 1210, 'kesana': 1211, 'mengantar': 1212, 'zaman': 1213, 'live': 1214, 'balesnya': 1215, 'chatt': 1216, 'kemenkes': 1217, 'sebagian': 1218, 'farmasi': 1219, 'membantuu': 1220, 'kehamilan': 1221, 'sampaikan': 1222, 'mengingat': 1223, 'berasa': 1224, 'curahan': 1225, 'mendaftar': 1226, 'manual': 1227, 'rutin': 1228, 'end': 1229, 'unt': 1230, 'telfon': 1231, 'diproses': 1232, 'bekerjasama': 1233, 'berbelit': 1234, 'kontak': 1235, 'darah': 1236, 'kembangkan': 1237, 'rapi': 1238, 'bbrp': 1239, 'teknologi': 1240, 'terkesan': 1241, 'penyakitnya': 1242, 'dikarenakan': 1243, 'rata': 1244, 'mengganggu': 1245, 'server': 1246, 'namakan': 1247, 'serba': 1248, 'terakhir': 1249, 'tertawa': 1250, 'batas': 1251, 'drg': 1252, 'smpai': 1253, 'petugas': 1254, 'potong': 1255, 'dini': 1256, 'alasannya': 1257, 'ngirim': 1258, 'urusan': 1259, 'orng': 1260, 'naik': 1261, 'memerlukan': 1262, 'ayo': 1263, 'gausah': 1264, 'pengirim': 1265, 'gtu': 1266, 'dibatalin': 1267, 'ampun': 1268, 'detil': 1269, 'kaget': 1270, 'sampah': 1271, 'mobile': 1272, 'pukul': 1273, 'csnya': 1274, 'banking': 1275, 'ckup': 1276, 'dokterx': 1277, 'selanjutnya': 1278, 'diagnosis': 1279, 'log': 1280, 'tingkat': 1281, 'berterima': 1282, 'kejauhan': 1283, 'tnya': 1284, 'ikut': 1285, 'emak': 1286, 'tanggapi': 1287, 'lokasinya': 1288, 'maps': 1289, 'sprt': 1290, 'istirahat': 1291, 'kebingungan': 1292, 'robot': 1293, 'buruan': 1294, 'besok': 1295, 'sasaran': 1296, 'tulisannya': 1297, 'seterusnya': 1298, 'menghubungkan': 1299, 'mlm': 1300, 'mendengarkan': 1301, 'utama': 1302, 'didaerah': 1303, 'ditangani': 1304, 'dibaca': 1305, 'kosan': 1306, 'lupa': 1307, 'masalahnya': 1308, 'silahkan': 1309, 'sdah': 1310, 'kekhawatiran': 1311, 'system': 1312, 'center': 1313, 'nemu': 1314, 'diminum': 1315, 'mengirim': 1316, 'doa': 1317, 'duluan': 1318, 'team': 1319, 'makanya': 1320, 'solutif': 1321, 'keterbatasan': 1322, 'galak': 1323, 'perjalanan': 1324, 'membatalkan': 1325, 'docternya': 1326, 'berterimakasih': 1327, 'nambah': 1328, 'jempol': 1329, 'nah': 1330, 'fiturnya': 1331, 'payment': 1332, 'siaga': 1333, 'bandung': 1334, 'sarankan': 1335, 'total': 1336, 'sekaliii': 1337, 'bodoh': 1338, 'obatny': 1339, 'chatting': 1340, 'terkonfirmasi': 1341, 'berlaku': 1342, 'langkah': 1343, 'over': 1344, 'bersyukur': 1345, 'iseng': 1346, 'keterangannya': 1347, 'sekaligus': 1348, 'pulang': 1349, 'bot': 1350, 'berkualitas': 1351, 'keseluruhan': 1352, 'siapapun': 1353, 'knapa': 1354, 'menawarkan': 1355, 'tambahan': 1356, 'disampaikan': 1357, 'menarik': 1358, 'out': 1359, 'kah': 1360, 'kesel': 1361, 'kecepatan': 1362, 'tips': 1363, 'sedih': 1364, 'sesuatu': 1365, 'dipertahankan': 1366, 'dipilih': 1367, 'terpencil': 1368, 'sekalipun': 1369, 'jt': 1370, 'ngk': 1371, 'ajak': 1372, 'strip': 1373, 'edit': 1374, 'bertugas': 1375, 'tombol': 1376, 'kunjung': 1377, 'haldoc': 1378, 'per': 1379, 'saudara': 1380, 'dianjurkan': 1381, 'kodenya': 1382, 'menbantu': 1383, 'lbih': 1384, 'terdaftar': 1385, 'balasnya': 1386, 'pengantarannya': 1387, 'menengah': 1388, 'make': 1389, 'tampilan': 1390, 'rezeki': 1391, 'bner': 1392, 'temu': 1393, 'meningkatkan': 1394, 'salut': 1395, 'yakin': 1396, 'usia': 1397, 'search': 1398, 'demi': 1399, 'macet': 1400, 'mempersulit': 1401, 'kapok': 1402, 'sebuah': 1403, 'jaraknya': 1404, 'kompeten': 1405, 'hadapi': 1406, 'diupdate': 1407, 'siang': 1408, 'ditemukan': 1409, 'membaik': 1410, 'tf': 1411, 'kanan': 1412, 'beres': 1413, 'bertanggung': 1414, 'dibatasi': 1415, 'juta': 1416, 'terkena': 1417, 'segi': 1418, 'ngerasa': 1419, 'pemakaian': 1420, 'gunain': 1421, 'bogor': 1422, 'sesinya': 1423, 'berkunjung': 1424, 'rek': 1425, 'panas': 1426, 'dibikin': 1427, 'message': 1428, 'sangatlah': 1429, 'cantik': 1430, 'th': 1431, 'ditelpon': 1432, 'poli': 1433, 'dosis': 1434, 'tipu': 1435, 'sukaaa': 1436, 'kaki': 1437, 'baby': 1438, 'masukannya': 1439, 'anggota': 1440, 'merepotkan': 1441, 'hai': 1442, 'praktik': 1443, 'rp': 1444, 'dananya': 1445, 'kesembuhan': 1446, 'secepatnya': 1447, 'indomaret': 1448, 'meringankan': 1449, 'pekerja': 1450, 'keperluan': 1451, 'ngetik': 1452, 'mendetail': 1453, 'positif': 1454, 'capek': 1455, 'bekasi': 1456, 'refresh': 1457, 'gratisan': 1458, 'memakan': 1459, 'mmg': 1460, 'dapatkan': 1461, 'helpfull': 1462, 'jelaskan': 1463, 'kabar': 1464, 'sempurna': 1465, 'menyampaikan': 1466, 'tanggung': 1467, 'delivery': 1468, 'angkat': 1469, 'perluas': 1470, 'jiwa': 1471, 'kualitasnya': 1472, 'bad': 1473, 'ngomong': 1474, 'terdapat': 1475, 'umur': 1476, 'servicenya': 1477, 'berani': 1478, 'amanah': 1479, 'racikan': 1480, 'minim': 1481, 'kereeen': 1482, 'aplikasih': 1483, 'akhiri': 1484, 'kebaikan': 1485, 'lekas': 1486, 'dibalas': 1487, 'pendaftaran': 1488, 'minimal': 1489, 'menentukan': 1490, 'grab': 1491, 'keranjang': 1492, 'jawa': 1493, 'sebagainya': 1494, 'paru': 1495, 'sebulan': 1496, 'ayah': 1497, 'lapor': 1498, 'kelamaan': 1499, 'sebesar': 1500, 'diklik': 1501, 'or': 1502, 'disayangkan': 1503, 'berhenti': 1504, 'negara': 1505, 'sangan': 1506, 'kalender': 1507, 'kosultasi': 1508, 'sebenernya': 1509, 'ditampilkan': 1510, 'membingungkan': 1511, 'hrga': 1512, 'stabil': 1513, 'trimakasi': 1514, 'ber': 1515, 'ketik': 1516, 'sedia': 1517, 'kiriman': 1518, 'mesen': 1519, 'kecemasan': 1520, 'appsnya': 1521, 'klu': 1522, 'menenangkan': 1523, 'alfa': 1524, 'bilangnya': 1525, 'pembeli': 1526, 'diambil': 1527, 'alhasil': 1528, 'histori': 1529, 'kasus': 1530, 'fleksibel': 1531, 'asuransinya': 1532, 'terselesaikan': 1533, 'berhubungan': 1534, 'terbuka': 1535, 'mengunjungi': 1536, 'og': 1537, 'jek': 1538, 'contoh': 1539, 'terdesak': 1540, 'masak': 1541, 'but': 1542, 'nilai': 1543, 'leluasa': 1544, 'budget': 1545, 'kolom': 1546, 'lima': 1547, 'seseorang': 1548, 'terlibat': 1549, 'available': 1550, 'serius': 1551, 'pelit': 1552, 'developer': 1553, 'nebus': 1554, 'jwbn': 1555, 'tempatnya': 1556, 'manusia': 1557, 'lngsng': 1558, 'rusak': 1559, 'menyusahkan': 1560, 'moga': 1561, 'surabaya': 1562, 'sudh': 1563, 'perkembangan': 1564, 'potongan': 1565, 'tampa': 1566, 'beban': 1567, 'ditutup': 1568, 'luang': 1569, 'nyaa': 1570, 'justru': 1571, 'tablet': 1572, 'dikenakan': 1573, 'tekan': 1574, 'donwload': 1575, 'subuh': 1576, 'dibalikin': 1577, 'juara': 1578, 'nelpon': 1579, 'chet': 1580, 'konsumsi': 1581, 'kadaluarsa': 1582, 'like': 1583, 'dikasi': 1584, 'real': 1585, 'telemedicine': 1586, 'fungsi': 1587, 'sampek': 1588, 'hadir': 1589, 'cpet': 1590, 'berkah': 1591, 'dianter': 1592, 'mentang': 1593, 'mantappp': 1594, 'berkompeten': 1595, 'keliling': 1596, 'kedokteran': 1597, 'dengn': 1598, 'harapan': 1599, 'pdahal': 1600, 'dipencet': 1601, 'dowload': 1602, 'alat': 1603, 'ditebus': 1604, 'sangaat': 1605, 'dibandingkan': 1606, 'diperpanjang': 1607, 'diakhiri': 1608, 'diperluas': 1609, 'bangettt': 1610, 'packing': 1611, 'banyakin': 1612, 'malahan': 1613, 'membuka': 1614, 'cht': 1615, 'psbb': 1616, 'cerita': 1617, 'ditunggu': 1618, 'lgs': 1619, 'for': 1620, 'pelosok': 1621, 'halodokter': 1622, 'gunanya': 1623, 'kesibukan': 1624, 'mengantarkan': 1625, 'normal': 1626, 'ketempat': 1627, 'trnyata': 1628, 'luas': 1629, 'perhatian': 1630, 'dikenal': 1631, 'relatif': 1632, 'alamatnya': 1633, 'gatal': 1634, 'gomed': 1635, 'didownload': 1636, 'mens': 1637, 'servernya': 1638, 'terimkasih': 1639, 'ojek': 1640, 'perut': 1641, 'markotop': 1642, 'negeri': 1643, 'assalamualaikum': 1644, 'mebantu': 1645, 'urgen': 1646, 'menyesuaikan': 1647, 'bangat': 1648, 'anjuran': 1649, 'mmbntu': 1650, 'first': 1651, 'mencegah': 1652, 'qta': 1653, 'bri': 1654, 'ojolnya': 1655, 'perpanjang': 1656, 'ajukan': 1657, 'bergerak': 1658, 'exp': 1659, 'dikonsumsi': 1660, 'disekitar': 1661, 'antre': 1662, 'hadeh': 1663, 'ready': 1664, 'tanda': 1665, 'salep': 1666, 'menyarankan': 1667, 'menghadapi': 1668, 'tipe': 1669, 'percobaan': 1670, 'dtng': 1671, 'kmi': 1672, 'balita': 1673, 'copy': 1674, 'cover': 1675, 'pendemi': 1676, 'rumit': 1677, 'kayaknya': 1678, 'ditolak': 1679, 'jawabanya': 1680, 'sengaja': 1681, 'selesaikan': 1682, 'pelayan': 1683, 'izin': 1684, 'my': 1685, 'clear': 1686, 'obatpun': 1687, 'diinginkan': 1688, 'psikiater': 1689, 'kepanikan': 1690, 'turun': 1691, 'wajar': 1692, 'gud': 1693, 'diwaktu': 1694, 'bug': 1695, 'invoice': 1696, 'kurangnya': 1697, 'memahami': 1698, 'efisiensi': 1699, 'sanggat': 1700, 'filter': 1701, 'accord': 1702, 'ngeselin': 1703, 'andalkan': 1704, 'bgtt': 1705, 'lari': 1706, 'nyeri': 1707, 'apoteker': 1708, 'aga': 1709, 'form': 1710, 'se': 1711, 'dijangkau': 1712, 'duitnya': 1713, 'nyata': 1714, 'pin': 1715, 'mengatasnamakan': 1716, 'costumer': 1717, 'menghargai': 1718, 'mksih': 1719, 'tangga': 1720, 'mengeluarkan': 1721, 'alloh': 1722, 'jaga': 1723, 'ucapkan': 1724, 'layar': 1725, 'lebar': 1726, 'kantong': 1727, 'bedanya': 1728, 'untungnya': 1729, 'penolong': 1730, 'lgsng': 1731, 'tdak': 1732, 'kebawah': 1733, 'trimksh': 1734, 'sewaktu': 1735, 'smp': 1736, 'gx': 1737, 'aduh': 1738, 'orangnya': 1739, 'mendengar': 1740, 'doktrnya': 1741, 'sja': 1742, 'appointment': 1743, 'tb': 1744, 'maksa': 1745, 'tulis': 1746, 'rekan': 1747, 'taunya': 1748, 'disediakan': 1749, 'canggung': 1750, 'hak': 1751, 'dadakan': 1752, 'disituasi': 1753, 'sesak': 1754, 'konsuktasi': 1755, 'penyedia': 1756, 'inovatif': 1757, 'kedepanya': 1758, 'tuntas': 1759, 'dbd': 1760, 'bertambah': 1761, 'seberapa': 1762, 'sediakan': 1763, 'partner': 1764, 'tahan': 1765, 'dihalodoc': 1766, 'satunya': 1767, 'penanganannya': 1768, 'diganti': 1769, 'please': 1770, 'berlangganan': 1771, 'ide': 1772, 'god': 1773, 'bless': 1774, 'emosi': 1775, 'belit': 1776, 'dicek': 1777, 'menggunakannya': 1778, 'layani': 1779, 'kawan': 1780, 'mengatakan': 1781, 'terlambat': 1782, 'indomart': 1783, 'terlihat': 1784, 'menghindari': 1785, 'bahagia': 1786, 'unduh': 1787, 'edukasi': 1788, 'memasukan': 1789, 'depannya': 1790, 'pemberian': 1791, 'nyatanya': 1792, 'sangattt': 1793, 'of': 1794, 'membaca': 1795, 'lanjuti': 1796, 'sertifikat': 1797, 'flu': 1798, 'swt': 1799, 'poko': 1800, 'verivikasi': 1801, 'trimkasih': 1802, 'rizki': 1803, 'balesan': 1804, 'beragam': 1805, 'merekomendasikan': 1806, 'rada': 1807, 'diakses': 1808, 'layanin': 1809, 'jabodetabek': 1810, 'sederhana': 1811, 'april': 1812, 'complain': 1813, 'dikonfirmasi': 1814, 'charge': 1815, 'yaaaa': 1816, 'disitu': 1817, 'jerawat': 1818, 'sebab': 1819, 'wifi': 1820, 'berfaedah': 1821, 'kost': 1822, 'bersahabat': 1823, 'bye': 1824, 'mengunakan': 1825, 'lugas': 1826, 'debet': 1827, 'amazing': 1828, 'didalamnya': 1829, 'dirumahaja': 1830, 'gajelas': 1831, 'point': 1832, 'antibiotik': 1833, 'kejadian': 1834, 'ngabisin': 1835, 'manfaatnya': 1836, 'penilaian': 1837, 'mengirimkan': 1838, 'kacau': 1839, 'wawasan': 1840, 'jugaa': 1841, 'msih': 1842, 'kepala': 1843, 'sayangkan': 1844, 'dengam': 1845, 'ditentukan': 1846, 'diawal': 1847, 'adain': 1848, 'okelah': 1849, 'ruang': 1850, 'gerak': 1851, 'aplikasiny': 1852, 'beruntung': 1853, 'khalid': 1854, 'specialist': 1855, 'dibilang': 1856, 'cuaca': 1857, 'enaknya': 1858, 'terintegrasi': 1859, 'smakin': 1860, 'warga': 1861, 'merk': 1862, 'bagusnya': 1863, 'bbrpa': 1864, 'bnr': 1865, 'dipercepat': 1866, 'dsa': 1867, 'sekarat': 1868, 'tht': 1869, 'direfund': 1870, 'serupa': 1871, 'meluangkan': 1872, 'konsultasikan': 1873, 'komplen': 1874, 'layak': 1875, 'mengatasinya': 1876, 'melainkan': 1877, 'kereen': 1878, 'gede': 1879, 'anjurkan': 1880, 'dibidangnya': 1881, 'kesannya': 1882, 'didapat': 1883, 'reaksi': 1884, 'dijelaskan': 1885, 'gizi': 1886, 'menyembuhkan': 1887, 'gaperlu': 1888, 'pesannya': 1889, 'drop': 1890, 'lainya': 1891, 'dilengkapi': 1892, 'handphone': 1893, 'dirasakan': 1894, 'kertas': 1895, 'drmh': 1896, 'nyangka': 1897, 'memecahkan': 1898, 'location': 1899, 'berniat': 1900, 'luarbiasa': 1901, 'konseling': 1902, 'trimksih': 1903, 'dikonsultasikan': 1904, 'interface': 1905, 'penggunanya': 1906, 'psikologi': 1907, 'nyawa': 1908, 'much': 1909, 'bocor': 1910, 'kesehatannya': 1911, 'mengulang': 1912, 'diajak': 1913, 'handal': 1914, 'fokus': 1915, 'registrasi': 1916, 'abal': 1917, 'ketiga': 1918, 'perbaikin': 1919, 'easy': 1920, 'dibidang': 1921, 'masuknya': 1922, 'dlam': 1923, 'menghabiskan': 1924, 'skit': 1925, 'jatuh': 1926, 'bengkak': 1927, 'bangsa': 1928, 'terapi': 1929, 'anterin': 1930, 'rebahan': 1931, 'segitu': 1932, 'bohong': 1933, 'nawarin': 1934, 'kehabisan': 1935, 'great': 1936, 'rakyat': 1937, 'diare': 1938, 'inovasi': 1939, 'va': 1940, 'kerennn': 1941, 'modern': 1942, 'oh': 1943, 'dichat': 1944, 'promonya': 1945, 'humble': 1946, 'berhari': 1947, 'manapun': 1948, 'kelamin': 1949, 'bangun': 1950, 'setidak': 1951, 'standar': 1952, 'skg': 1953, 'tertangani': 1954, 'umumnya': 1955, 'perlukan': 1956, 'ayu': 1957, 'mama': 1958, 'dalamnya': 1959, 'kucing': 1960, 'mkasih': 1961, 'selisih': 1962, 'meresepkan': 1963, 'deskripsi': 1964, 'tadinya': 1965, 'temukan': 1966, 'rate': 1967, 'sombong': 1968, 'semudah': 1969, 'transaksinya': 1970, 'mngkin': 1971, 'peduli': 1972, 'tiga': 1973, 'pda': 1974, 'sisi': 1975, 'mengapa': 1976, 'kemari': 1977, 'lamaaaa': 1978, 'upgrade': 1979, 'thnks': 1980, 'sah': 1981, 'dijamin': 1982, 'selaku': 1983, 'note': 1984, 'aplilasi': 1985, 'efek': 1986, 'doker': 1987, 'halodock': 1988, 'andalan': 1989, 'radang': 1990, 'refundnya': 1991, 'hitungan': 1992, 'ditarik': 1993, 'versi': 1994, 'dsni': 1995, 'konsiltasi': 1996, 'diberitahu': 1997, 'diapotek': 1998, 'apalg': 1999, 'misalnya': 2000, 'berangkat': 2001, 'perkotaan': 2002, 'masi': 2003, 'referensi': 2004, 'ma': 2005, 'kyak': 2006, 'bulanan': 2007, 'diarahkan': 2008, 'penderita': 2009, 'mnjawab': 2010, 'tercover': 2011, 'kesah': 2012, 'busy': 2013, 'kta': 2014, 'pademi': 2015, 'ubah': 2016, 'kirimnya': 2017, 'membantuuu': 2018, 'anjing': 2019, 'msalah': 2020, 'banding': 2021, 'berdasarkan': 2022, 'disertai': 2023, 'privasi': 2024, 'puji': 2025, 'kerjanya': 2026, 'menyukai': 2027, 'jk': 2028, 'mengikuti': 2029, 'autodebet': 2030, 'sekalii': 2031, 'failed': 2032, 'apliaksi': 2033, 'pkoknya': 2034, 'lansung': 2035, 'pcs': 2036, 'pulau': 2037, 'butuhnya': 2038, 'dikira': 2039, 'notifnya': 2040, 'fastrespon': 2041, 'batasi': 2042, 'ktnya': 2043, 'sisa': 2044, 'care': 2045, 'menghilangkan': 2046, 'ditulis': 2047, 'bangt': 2048, 'tangani': 2049, 'perhatikan': 2050, 'santai': 2051, 'penyelesaian': 2052, 'mahasiswa': 2053, 'kesempatan': 2054, 'perubahan': 2055, 'sampainya': 2056, 'dituju': 2057, 'nungguin': 2058, 'pastikan': 2059, 'jangka': 2060, 'second': 2061, 'sejenis': 2062, 'adakan': 2063, 'rendah': 2064, 'kepepet': 2065, 'seram': 2066, 'lipat': 2067, 'semalam': 2068, 'insyaallah': 2069, 'med': 2070, 'pastinya': 2071, 'alhamdullilah': 2072, 'seenaknya': 2073, 'diharapkan': 2074, 'interaksi': 2075, 'berinteraksi': 2076, 'halodocnya': 2077, 'penasaran': 2078, 'memudah': 2079, 'marah': 2080, 'alesan': 2081, 'receipt': 2082, 'istri': 2083, 'putri': 2084, 'terpakai': 2085, 'apalah': 2086, 'minimarket': 2087, 'kabupaten': 2088, 'dak': 2089, 'parkir': 2090, 'pekerjaan': 2091, 'saling': 2092, 'pusat': 2093, 'depok': 2094, 'larut': 2095, 'pemesanannya': 2096, 'nyangkut': 2097, 'feedback': 2098, 'nyampenya': 2099, 'lenyap': 2100, 'tahap': 2101, 'pintar': 2102, 'asalan': 2103, 'pedesaan': 2104, 'langsng': 2105, 'diresepin': 2106, 'ux': 2107, 'lengkapi': 2108, 'nurul': 2109, 'komplit': 2110, 'tertunda': 2111, 'mengganti': 2112, 'disana': 2113, 'cba': 2114, 'krtu': 2115, 'rumh': 2116, 'memutuskan': 2117, 'experience': 2118, 'spog': 2119, 'bang': 2120, 'reminder': 2121, 'dipotong': 2122, 'alodokter': 2123, 'sela': 2124, 'berhubung': 2125, 'parahnya': 2126, 'pergunakan': 2127, 'dktr': 2128, 'mendiagnosa': 2129, 'skrang': 2130, 'rmah': 2131, 'galau': 2132, 'rubah': 2133, 'perdana': 2134, 'dipertimbangkan': 2135, 'dikirimkan': 2136, 'nanyain': 2137, 'dikondisi': 2138, 'rawan': 2139, 'ampe': 2140, 'ordernya': 2141, 'iklannya': 2142, 'kecuali': 2143, 'sbnrnya': 2144, 'pertamakali': 2145, 'spesial': 2146, 'sosmed': 2147, 'sblmnya': 2148, 'hilangkan': 2149, 'langganan': 2150, 'sekolah': 2151, 'restart': 2152, 'apain': 2153, 'pilihannya': 2154, 'pokokny': 2155, 'dear': 2156, 'luck': 2157, 'unggah': 2158, 'youtube': 2159, 'donlod': 2160, 'ketepatan': 2161, 'krg': 2162, 'onlinenya': 2163, 'rupiah': 2164, 'menipu': 2165, 'history': 2166, 'minusnya': 2167, 'follow': 2168, 'mas': 2169, 'terperinci': 2170, 'meyakinkan': 2171, 'telinga': 2172, 'ngeluh': 2173, 'tv': 2174, 'sembarangan': 2175, 'mikir': 2176, 'diangkat': 2177, 'adik': 2178, 'nunjukin': 2179, 'its': 2180, 'cimahi': 2181, 'ajah': 2182, 'jng': 2183, 'respone': 2184, 'unistal': 2185, 'maag': 2186, 'nik': 2187, 'gimna': 2188, 'hallodok': 2189, 'kampung': 2190, 'with': 2191, 'motivasi': 2192, 'dgan': 2193, 'prima': 2194, 'sarana': 2195, 'haruskan': 2196, 'mu': 2197, 'penyebab': 2198, 'dijual': 2199, 'dibales': 2200, 'rekomend': 2201, 'dokterpun': 2202, 'dihari': 2203, 'belikan': 2204, 'bagussss': 2205, 'kegelisahan': 2206, 'genggaman': 2207, 'itupun': 2208, 'sukak': 2209, 'ketarik': 2210, 'memastikan': 2211, 'banya': 2212, 'nyusahin': 2213, 'tokonya': 2214, 'kerjaan': 2215, 'rewel': 2216, 'parahh': 2217, 'pola': 2218, 'menguntungkan': 2219, 'segalanya': 2220, 'disambungkan': 2221, 'jadwalnya': 2222, 'diubah': 2223, 'kelar': 2224, 'menginstal': 2225, 'way': 2226, 'samping': 2227, 'rawat': 2228, 'save': 2229, 'makanan': 2230, 'pantau': 2231, 'daftarnya': 2232, 'aplk': 2233, 'kesehat': 2234, 'beserta': 2235, 'terkendala': 2236, 'kimia': 2237, 'demikian': 2238, 'keberkahan': 2239, 'farma': 2240, 'dibenerin': 2241, 'komputer': 2242, 'feedbacknya': 2243, 'banged': 2244, 'datangnya': 2245, 'lumayanlah': 2246, 'pendidikan': 2247, 'administrasi': 2248, 'tuju': 2249, 'atur': 2250, 'diselesaikan': 2251, 'dilihat': 2252, 'ditinggal': 2253, 'kupon': 2254, 'maunya': 2255, 'daya': 2256, 'bgitu': 2257, 'brilian': 2258, 'suara': 2259, 'servis': 2260, 'verifikasinya': 2261, 'kecelakaan': 2262, 'puass': 2263, 'menurun': 2264, 'berapapun': 2265, 'pencegahan': 2266, 'tenggorokan': 2267, 'tegas': 2268, 'seandainya': 2269, 'diulang': 2270, 'perantauan': 2271, 'sepenuhnya': 2272, 'menuju': 2273, 'penggunaannya': 2274, 'kgk': 2275, 'lag': 2276, 'rujukan': 2277, 'pengemasan': 2278, 'keuntungan': 2279, 'klaim': 2280, 'promosi': 2281, 'advice': 2282, 'standby': 2283, 'hri': 2284, 'aktifkan': 2285, 'professional': 2286, 'temanhidupsehat': 2287, 'dokt': 2288, 'jantung': 2289, 'terbilang': 2290, 'brapa': 2291, 'enjoy': 2292, 'mempercepat': 2293, 'permintaan': 2294, 'lombok': 2295, 'najwa': 2296, 'disesuaikan': 2297, 'komen': 2298, 'keluh': 2299, 'nulis': 2300, 'jumlah': 2301, 'kesan': 2302, 'consultasi': 2303, 'irt': 2304, 'baikk': 2305, 'dkter': 2306, 'close': 2307, 'te': 2308, 'pertanyaannya': 2309, 'penyampaian': 2310, 'ijin': 2311, 'back': 2312, 'non': 2313, 'pengisian': 2314, 'sidoarjo': 2315, 'nongol': 2316, 'mantan': 2317, 'putuskan': 2318, 'kenyataannya': 2319, 'connect': 2320, 'berjuang': 2321, 'menjalani': 2322, 'melacak': 2323, 'meng': 2324, 'terpecaya': 2325, 'seringkali': 2326, 'saranin': 2327, 'mini': 2328, 'pnya': 2329, 'merawat': 2330, 'delay': 2331, 'mengetik': 2332, 'halodic': 2333, 'kunjungan': 2334, 'hello': 2335, 'terjaga': 2336, 'remaja': 2337, 'lampung': 2338, 'kemungkinan': 2339, 'alhmdulillah': 2340, 'degan': 2341, 'dangat': 2342, 'anehnya': 2343, 'playstore': 2344, 'percepat': 2345, 'kelihatan': 2346, 'huhu': 2347, 'tinggalnya': 2348, 'investigasi': 2349, 'tolol': 2350, 'haladoc': 2351, 'ternama': 2352, 'meningkat': 2353, 'really': 2354, 'durasinya': 2355, 'mumpuni': 2356, 'dehh': 2357, 'waduh': 2358, 'mintai': 2359, 'dsaat': 2360, 'kegalauan': 2361, 'berikutnya': 2362, 'amiin': 2363, 'takutnya': 2364, 'ekspedisi': 2365, 'masker': 2366, 'biarpun': 2367, 'keberadaan': 2368, 'jual': 2369, 'wktunya': 2370, 'kenal': 2371, 'puassss': 2372, 'lapangan': 2373, 'perasaan': 2374, 'opinion': 2375, 'pickup': 2376, 'kini': 2377, 'kelanjutan': 2378, 'banyaknya': 2379, 'buktinya': 2380, 'tanks': 2381, 'scroll': 2382, 'ditipu': 2383, 'santun': 2384, 'mudahn': 2385, 'baguus': 2386, 'pelayananny': 2387, 'skr': 2388, 'tersesat': 2389, 'melayang': 2390, 'ketakutan': 2391, 'mode': 2392, 'tbtb': 2393, 'kpan': 2394, 'rujuk': 2395, 'menceritakan': 2396, 'memperoleh': 2397, 'desember': 2398, 'menurutku': 2399, 'nerima': 2400, 'memulai': 2401, 'mengaku': 2402, 'seharga': 2403, 'plastik': 2404, 'seakan': 2405, 'ngomel': 2406, 'bangeet': 2407, 'judes': 2408, 'menyebalkan': 2409, 'kooperatif': 2410, 'amal': 2411, 'timur': 2412, 'tamah': 2413, 'dapetnya': 2414, 'alodoc': 2415, 'perbedaan': 2416, 'pikiran': 2417, 'ganggu': 2418, 'dibawa': 2419, 'kelancaran': 2420, 'doktet': 2421, 'balasannya': 2422, 'ktika': 2423, 'gofood': 2424, 'box': 2425, 'bangetttt': 2426, 'sebagus': 2427, 'masyaallah': 2428, 'php': 2429, 'kotak': 2430, 'dengarkan': 2431, 'persediaan': 2432, 'diagnosanya': 2433, 'artinya': 2434, 'penambahan': 2435, 'botol': 2436, 'mbanking': 2437, 'tag': 2438, 'da': 2439, 'list': 2440, 'heheh': 2441, 'goodjob': 2442, 'belakang': 2443, 'bwat': 2444, 'selang': 2445, 'perintah': 2446, 'kegunaannya': 2447, 'ruam': 2448, 'tergolong': 2449, 'ehh': 2450, 'memikirkan': 2451, 'smkin': 2452, 'diketik': 2453, 'ngelayani': 2454, 'gni': 2455, 'chatingan': 2456, 'alamt': 2457, 'karenakan': 2458, 'asing': 2459, 'menjangkau': 2460, 'didesa': 2461, 'sambung': 2462, 'sisanya': 2463, 'pengembangan': 2464, 'niatnya': 2465, 'ternyta': 2466, 'karyawan': 2467, 'dimudahkan': 2468, 'berpergian': 2469, 'kerenn': 2470, 'bis': 2471, 'apalikasi': 2472, 'ratusan': 2473, 'media': 2474, 'diantarkan': 2475, 'memantau': 2476, 'dapetin': 2477, 'mnggunakan': 2478, 'oia': 2479, 'ekonomi': 2480, 'seharus': 2481, 'prakteknya': 2482, 'menyehatkan': 2483, 'peliharaan': 2484, 'perlindungan': 2485, 'mengharuskan': 2486, 'kalaupun': 2487, 'pemakaiannya': 2488, 'dihilangkan': 2489, 'serangan': 2490, 'xl': 2491, 'operasi': 2492, 'kerabat': 2493, 'unik': 2494, 'nominal': 2495, 'share': 2496, 'barunya': 2497, 'personal': 2498, 'prakter': 2499, 'dituliskan': 2500, 'ttng': 2501, 'pnjelasan': 2502, 'conect': 2503, 'diterukan': 2504, 'bbrapa': 2505, 'oktober': 2506, 'tkt': 2507, 'dilokasi': 2508, 'cantumkan': 2509, 'terusan': 2510, 'urusannya': 2511, 'ditindaklanjuti': 2512, 'tertutup': 2513, 'pelayannya': 2514, 'ketemuan': 2515, 'minus': 2516, 'berbatas': 2517, 'membuang': 2518, 'kemajuan': 2519, 'komentar': 2520, 'berkomentar': 2521, 'halodox': 2522, 'send': 2523, 'akut': 2524, 'gratiskan': 2525, 'terproses': 2526, 'diam': 2527, 'yaitu': 2528, 'terlayani': 2529, 'disertakan': 2530, 'milik': 2531, 'menakut': 2532, 'nakuti': 2533, 'dikota': 2534, 'shop': 2535, 'jenisnya': 2536, 'sekeluarga': 2537, 'telapak': 2538, 'tlong': 2539, 'mmpermudah': 2540, 'reapon': 2541, 'tulang': 2542, 'kiri': 2543, 'tampil': 2544, 'pemahaman': 2545, 'domisili': 2546, 'down': 2547, 'rantau': 2548, 'penurun': 2549, 'nolak': 2550, 'melelahkan': 2551, 'menyambungkan': 2552, 'menelepon': 2553, 'putus': 2554, 'dikejar': 2555, 'tertahankan': 2556, 'kritis': 2557, 'bangus': 2558, 'us': 2559, 'memperluas': 2560, 'krena': 2561, 'haldok': 2562, 'lanjutkan': 2563, 'hadirnya': 2564, 'menahan': 2565, 'sejumlah': 2566, 'terbntu': 2567, 'membanti': 2568, 'bni': 2569, 'barakallah': 2570, 'susahnya': 2571, 'nyarinya': 2572, 'doktenya': 2573, 'terlampir': 2574, 'sepenuh': 2575, 'cinta': 2576, 'dihadapi': 2577, 'perkenalkan': 2578, 'mantapppp': 2579, 'diperbarui': 2580, 'berlebihan': 2581, 'kesusahan': 2582, 'pakainya': 2583, 'kumat': 2584, 'dipesen': 2585, 'perawatan': 2586, 'motor': 2587, 'nich': 2588, 'ntah': 2589, 'siip': 2590, 'penjahat': 2591, 'memangnya': 2592, 'shopee': 2593, 'penangan': 2594, 'kiranya': 2595, 'mesin': 2596, 'hotel': 2597, 'meminum': 2598, 'responsive': 2599, 'pesankan': 2600, 'semisal': 2601, 'googling': 2602, 'diorder': 2603, 'kelihatannya': 2604, 'mengembalikan': 2605, 'berhalangan': 2606, 'pelacakan': 2607, 'kebuka': 2608, 'bali': 2609, 'inii': 2610, 'cantumin': 2611, 'naikin': 2612, 'penawaran': 2613, 'gbu': 2614, 'dokterya': 2615, 'mantaap': 2616, 'ter': 2617, 'integrasi': 2618, 'segel': 2619, 'mbantu': 2620, 'sblum': 2621, 'detai': 2622, 'at': 2623, 'arah': 2624, 'sesuka': 2625, 'maksudnya': 2626, 'basa': 2627, 'langka': 2628, 'snagat': 2629, 'secepat': 2630, 'stress': 2631, 'berlalu': 2632, 'arahin': 2633, 'het': 2634, 'sii': 2635, 'digratiskan': 2636, 'nyesal': 2637, 'perbarui': 2638, 'dipaksa': 2639, 'credit': 2640, 'belajar': 2641, 'inget': 2642, 'pengingat': 2643, 'lulusan': 2644, 'ditindak': 2645, 'produknya': 2646, 'wahhh': 2647, 'mengucapkan': 2648, 'sekalinya': 2649, 'temui': 2650, 'telaten': 2651, 'pertamanya': 2652, 'merek': 2653, 'rugikan': 2654, 'terang': 2655, 'pengemudi': 2656, 'terpisah': 2657, 'bantuanya': 2658, 'dasar': 2659, 'pingin': 2660, 'bangettttt': 2661, 'berbagi': 2662, 'ketagihan': 2663, 'blokir': 2664, 'maksimum': 2665, 'nonton': 2666, 'panggilan': 2667, 'otak': 2668, 'trauma': 2669, 'berbenah': 2670, 'terekam': 2671, 'optimal': 2672, 'pertanggung': 2673, 'pdf': 2674, 'cekatan': 2675, 'bermacam': 2676, 'berkaitan': 2677, 'sampenya': 2678, 'doktornya': 2679, 'dimusim': 2680, 'anti': 2681, 'drnya': 2682, 'joob': 2683, 'bergabung': 2684, 'faktor': 2685, 'chating': 2686, 'crash': 2687, 'downlod': 2688, 'donload': 2689, 'ramahh': 2690, 'instansi': 2691, 'commerce': 2692, 'namum': 2693, 'meriah': 2694, 'wlpn': 2695, 'web': 2696, 'dsini': 2697, 'usul': 2698, 'mencobanya': 2699, 'hehehehe': 2700, 'help': 2701, 'didukung': 2702, 'ditunjuk': 2703, 'rentan': 2704, 'mesan': 2705, 'menangis': 2706, 'suru': 2707, 'hrg': 2708, 'hana': 2709, 'bawel': 2710, 'menyusui': 2711, 'dijaman': 2712, 'memperhatikan': 2713, 'instan': 2714, 'diperjelas': 2715, 'semarang': 2716, 'merespons': 2717, 'kya': 2718, 'tungu': 2719, 'msuk': 2720, 'kwalitas': 2721, 'hadi': 2722, 'pengertian': 2723, 'berfungsi': 2724, 'thanx': 2725, 'besoknya': 2726, 'hhe': 2727, 'bgtu': 2728, 'doter': 2729, 'arum': 2730, 'jangkauannya': 2731, 'utara': 2732, 'aplkasi': 2733, 'kesal': 2734, 'alaikum': 2735, 'ngehubungin': 2736, 'kelas': 2737, 'kirimkan': 2738, 'aktifitas': 2739, 'generik': 2740, 'diisi': 2741, 'peringatan': 2742, 'aminn': 2743, 'segini': 2744, 'puasss': 2745, 'mengecek': 2746, 'lemes': 2747, 'perjanjian': 2748, 'tiduran': 2749, 'kritik': 2750, 'lacak': 2751, 'klok': 2752, 'pe': 2753, 'bangsat': 2754, 'terbaru': 2755, 'dokumen': 2756, 'pembuatan': 2757, 'dikirm': 2758, 'kinerja': 2759, 'pemula': 2760, 'henti': 2761, 'harapannya': 2762, 'krja': 2763, 'kmna': 2764, 'dtang': 2765, 'krmh': 2766, 'menyangkut': 2767, 'reservasi': 2768, 'menciptakan': 2769, 'rina': 2770, 'furi': 2771, 'belasan': 2772, 'gambaran': 2773, 'obrolan': 2774, 'market': 2775, 'pop': 2776, 'aplikasix': 2777, 'detailnya': 2778, 'cepattt': 2779, 'persib': 2780, 'malah': 2781, 'hadiah': 2782, 'anakku': 2783, 'sukaaaa': 2784, 'introvert': 2785, 'lanjutan': 2786, 'bosan': 2787, 'spesialist': 2788, 'bermaanfaat': 2789, 'tksh': 2790, 'pengembaliannya': 2791, 'pilek': 2792, 'menyikapi': 2793, 'diceritain': 2794, 'ttep': 2795, 'bertumpuk': 2796, 'kelompok': 2797, 'dasarnya': 2798, 'telefon': 2799, 'tidk': 2800, 'btuh': 2801, 'halodc': 2802, 'seterus': 2803, 'book': 2804, 'analisanya': 2805, 'realtime': 2806, 'barokah': 2807, 'thankss': 2808, 'heran': 2809, 'suplemen': 2810, 'stoknya': 2811, 'mengkonsultasikan': 2812, 'hy': 2813, 'siapin': 2814, 'visa': 2815, 'teramat': 2816, 'terbukti': 2817, 'tepatnya': 2818, 'lebaran': 2819, 'setuju': 2820, 'flek': 2821, 'bismillah': 2822, 'sanagt': 2823, 'rumahnya': 2824, 'utarakan': 2825, 'gg': 2826, 'membelikan': 2827, 'kenyamanan': 2828, 'erorr': 2829, 'kerjasamanya': 2830, 'terjamin': 2831, 'pengantar': 2832, 'busuk': 2833, 'merantau': 2834, 'ampuh': 2835, 'mengesankan': 2836, 'lsng': 2837, 'menganalisa': 2838, 'cuti': 2839, 'gps': 2840, 'asik': 2841, 'reschedule': 2842, 'interaktif': 2843, 'walopun': 2844, 'miskin': 2845, 'ingat': 2846, 'kendaraan': 2847, 'reguler': 2848, 'terbang': 2849, 'pria': 2850, 'berlama': 2851, 'double': 2852, 'pkok': 2853, 'melanda': 2854, 'feature': 2855, 'me': 2856, 'feb': 2857, 'kluhan': 2858, 'tergantung': 2859, 'ukuran': 2860, 'diresep': 2861, 'ia': 2862, 'whatsapp': 2863, 'plis': 2864, 'tkut': 2865, 'oppo': 2866, 'respin': 2867, 'cerdas': 2868, 'udahan': 2869, 'poin': 2870, 'adany': 2871, 'drive': 2872, 'mengeluh': 2873, 'set': 2874, 'jaksel': 2875, 'smart': 2876, 'taiwan': 2877, 'teruntuk': 2878, 'document': 2879, 'format': 2880, 'ngelag': 2881, 'nga': 2882, 'resmi': 2883, 'huhuhu': 2884, 'kebuang': 2885, 'kaum': 2886, 'belitung': 2887, 'complaint': 2888, 'gegara': 2889, 'kelengkapan': 2890, 'semestinya': 2891, 'mudahnya': 2892, 'trimah': 2893, 'telvon': 2894, 'modal': 2895, 'buntu': 2896, 'memasukkan': 2897, 'diatas': 2898, 'new': 2899, 'lagii': 2900, 'kebaca': 2901, 'perawat': 2902, 'inovan': 2903, 'apkikasi': 2904, 'penerbangan': 2905, 'nganter': 2906, 'fu': 2907, 'memuat': 2908, 'korban': 2909, 'kategori': 2910, 'acetone': 2911, 'century': 2912, 'beranda': 2913, 'didapatkan': 2914, 'pertma': 2915, 'bkin': 2916, 'sibukk': 2917, 'hehee': 2918, 'pahala': 2919, 'halidoc': 2920, 'pencerahannya': 2921, 'ngerespon': 2922, 'ditlp': 2923, 'lucu': 2924, 'dirasa': 2925, 'bulannya': 2926, 'pungut': 2927, 'performanya': 2928, 'dokternyapun': 2929, 'dibayarkan': 2930, 'kehidupan': 2931, 'revisi': 2932, 'sebel': 2933, 'sadar': 2934, 'fit': 2935, 'profile': 2936, 'padhal': 2937, 'konsltasi': 2938, 'melaksanakan': 2939, 'tertarik': 2940, 'gerai': 2941, 'bersifat': 2942, 'trim': 2943, 'warung': 2944, 'bisanya': 2945, 'peningkatan': 2946, 'travelling': 2947, 'meninggalkan': 2948, 'tergabung': 2949, 'doctor': 2950, 'atasi': 2951, 'psikolognya': 2952, 'tny': 2953, 'hrsnya': 2954, 'kenakan': 2955, 'shopeepay': 2956, 'menunjukkan': 2957, 'mereda': 2958, 'slot': 2959, 'ratting': 2960, 'pindah': 2961, 'bahaya': 2962, 'dokternyaa': 2963, 'bosen': 2964, 'drumah': 2965, 'mapsnya': 2966, 'rekom': 2967, 'mengajukan': 2968, 'penyebabnya': 2969, 'nunggunya': 2970, 'report': 2971, 'contohnya': 2972, 'doktwr': 2973, 'pembaruan': 2974, 'pelayann': 2975, 'kenyataan': 2976, 'keamanan': 2977, 'diajukan': 2978, 'diadakan': 2979, 'mencarikan': 2980, 'menunya': 2981, 'senilai': 2982, 'biru': 2983, 'tgg': 2984, 'dm': 2985, 'kekurangannya': 2986, 'cencel': 2987, 'bijak': 2988, 'januari': 2989, 'anggap': 2990, 'mantaplah': 2991, 'sesuaikan': 2992, 'merubah': 2993, 'kelebihan': 2994, 'mnggnakan': 2995, 'maklum': 2996, 'dijanjikan': 2997, 'lh': 2998, 'sifatnya': 2999, 'brgnya': 3000, 'hubungin': 3001, 'diet': 3002, 'masya': 3003, 'skip': 3004, 'cuan': 3005, 'hdwatson': 3006, 'terkontrol': 3007, 'not': 3008, 'qw': 3009, 'om': 3010, 'arahkan': 3011, 'ketahuan': 3012, 'romi': 3013, 'mengarahkan': 3014, 'display': 3015, 'puasa': 3016, 'menyayangkan': 3017, 'tangkap': 3018, 'riwayatnya': 3019, 'slowres': 3020, 'penjelesannya': 3021, 'prabayar': 3022, 'thru': 3023, 'lwat': 3024, 'duitan': 3025, 'duper': 3026, 'terpikirkan': 3027, 'disempurnakan': 3028, 'popok': 3029, 'sekitaran': 3030, 'kaku': 3031, 'katakan': 3032, 'benahi': 3033, 'sue': 3034, 'pertahan': 3035, 'packingnya': 3036, 'rincian': 3037, 'work': 3038, 'alodok': 3039, 'sepuasnya': 3040, 'ket': 3041, 'qalby': 3042, 'malaysia': 3043, 'gopaynya': 3044, 'terverifikasi': 3045, 'permaslahan': 3046, 'satisfied': 3047, 'arahannya': 3048, 'menuliskan': 3049, 'sayaa': 3050, 'brmanfaat': 3051, 'trdekat': 3052, 'dimurahin': 3053, 'resp': 3054, 'doktee': 3055, 'ikuti': 3056, 'fan': 3057, 'responsible': 3058, 'pertahanin': 3059, 'dkasih': 3060, 'penganteran': 3061, 'screen': 3062, 'kmn': 3063, 'kalok': 3064, 'janjian': 3065, 'melangkah': 3066, 'artikelnya': 3067, 'aplgi': 3068, 'pengeluaran': 3069, 'membawa': 3070, 'konkret': 3071, 'gapernah': 3072, 'marahin': 3073, 'ungkapin': 3074, 'prlu': 3075, 'pdhak': 3076, 'kususnya': 3077, 'hipertensi': 3078, 'seumur': 3079, 'disimpan': 3080, 'indo': 3081, 'janjinya': 3082, 'membantuku': 3083, 'maslah': 3084, 'seolah': 3085, 'praktiknya': 3086, 'instant': 3087, 'carikan': 3088, 'pejuang': 3089, 'berlimpah': 3090, 'direspons': 3091, 'men': 3092, 'pokoke': 3093, 'ngulang': 3094, 'brhasil': 3095, 'netral': 3096, 'ginjal': 3097, 'kebijakan': 3098, 'click': 3099, 'useful': 3100, 'efesien': 3101, 'turunin': 3102, 'padahalkan': 3103, 'hadeuuhh': 3104, 'deman': 3105, 'ideal': 3106, 'membantuuuu': 3107, 'nurhayati': 3108, 'ayolah': 3109, 'mngatasi': 3110, 'pedalaman': 3111, 'inhealth': 3112, 'sippp': 3113, 'pokoknyaa': 3114, 'paste': 3115, 'pengaruh': 3116, 'batu': 3117, 'ngg': 3118, 'diterangkan': 3119, 'gmail': 3120, 'aplikasii': 3121, 'sajaa': 3122, 'jlas': 3123, 'consul': 3124, 'rumahsakit': 3125, 'jumlahnya': 3126, 'memgatasi': 3127, 'yanh': 3128, 'tugas': 3129, 'paraaahhh': 3130, 'konsulatasi': 3131, 'alhamdulillaah': 3132, 'melengkapi': 3133, 'bertahun': 3134, 'nyuruh': 3135, 'padahl': 3136, 'why': 3137, 'stuck': 3138, 'percakapannya': 3139, 'disuka': 3140, 'terhormat': 3141, 'use': 3142, 'kdokter': 3143, 'terhindar': 3144, 'diatasi': 3145, 'memanfaatkan': 3146, 'ongkosnya': 3147, 'tigkatkan': 3148, 'terdepan': 3149, 'ngobrolnya': 3150, 'indikasi': 3151, 'berdarah': 3152, 'bnar': 3153, 'fix': 3154, 'dimenu': 3155, 'mengurus': 3156, 'termksh': 3157, 'berpengaruh': 3158, 'will': 3159, 'usefull': 3160, 'kesempurnaan': 3161, 'seadanya': 3162, 'late': 3163, 'resepin': 3164, 'perbaharui': 3165, 'panic': 3166, 'home': 3167, 'mujarab': 3168, 'skitar': 3169, 'makenya': 3170, 'antivirus': 3171, 'pakarnya': 3172, 'menemui': 3173, 'terikasih': 3174, 'photo': 3175, 'option': 3176, 'aturan': 3177, 'menyapa': 3178, 'kdang': 3179, 'dha': 3180, 'usahanya': 3181, 'berinovasi': 3182, 'nyadar': 3183, 'sich': 3184, 'muhammad': 3185, 'sebaik': 3186, 'terbalas': 3187, 'vitur': 3188, 'istimewa': 3189, 'khusunya': 3190, 'sanngat': 3191, 'suamiku': 3192, 'maksih': 3193, 'stres': 3194, 'terpenuhi': 3195, 'wlpun': 3196, 'koment': 3197, 'merupakan': 3198, 'keponakan': 3199, 'perjuangan': 3200, 'dimasukin': 3201, 'sgat': 3202, 'jaringannya': 3203, 'mnta': 3204, 'kesayangan': 3205, 'timbul': 3206, 'ngakunya': 3207, 'hasan': 3208, 'private': 3209, 'oembayarannya': 3210, 'mail': 3211, 'pengarahan': 3212, 'biarkan': 3213, 'praktiss': 3214, 'hehehee': 3215, 'butuhkn': 3216, 'milenial': 3217, 'terharu': 3218, 'stay': 3219, 'untum': 3220, 'konsultsi': 3221, 'blz': 3222, 'sdngkan': 3223, 'penarikan': 3224, 'baku': 3225, 'komunikasinya': 3226, 'panggil': 3227, 'lohh': 3228, 'suksess': 3229, 'hang': 3230, 'nget': 3231, 'handpone': 3232, 'performa': 3233, 'seumpama': 3234, 'walapun': 3235, 'pembayaranya': 3236, 'ringkas': 3237, 'dikternya': 3238, 'meminimalisir': 3239, 'nyobain': 3240, 'viva': 3241, 'lanjutannya': 3242, 'keep': 3243, 'kejelsan': 3244, 'dikotak': 3245, 'direvisi': 3246, 'packaging': 3247, 'jumpa': 3248, 'laah': 3249, 'useless': 3250, 'olahraga': 3251, 'tumit': 3252, 'tdr': 3253, 'tamba': 3254, 'dipikir': 3255, 'vertigo': 3256, 'mual': 3257, 'keminum': 3258, 'pendek': 3259, 'driverny': 3260, 'mengutamakan': 3261, 'sebetulnya': 3262, 'mk': 3263, 'lanjutnya': 3264, 'itikad': 3265, 'terkini': 3266, 'mdhan': 3267, 'ribett': 3268, 'nasehat': 3269, 'mantaapp': 3270, 'jari': 3271, 'sanga': 3272, 'konek': 3273, 'dagang': 3274, 'brpa': 3275, 'agustus': 3276, 'geratis': 3277, 'tarifnya': 3278, 'sam': 3279, 'undangan': 3280, 'februari': 3281, 'tampilannya': 3282, 'gang': 3283, 'cobak': 3284, 'baguuus': 3285, 'smentara': 3286, 'penggantinya': 3287, 'sorenya': 3288, 'ta': 3289, 'antree': 3290, 'stand': 3291, 'agr': 3292, 'random': 3293, 'karina': 3294, 'komplek': 3295, 'pencairan': 3296, 'menilai': 3297, 'mantulll': 3298, 'pemotongan': 3299, 'nomot': 3300, 'aplikadi': 3301, 'basi': 3302, 'prihal': 3303, 'ketidak': 3304, 'dipilihkan': 3305, 'isinya': 3306, 'fatal': 3307, 'tertukar': 3308, 'bestlah': 3309, 'dikeluarkan': 3310, 'kesekian': 3311, 'ori': 3312, 'mempersiapkan': 3313, 'dikonsultasi': 3314, 'mengobrol': 3315, 'jawabn': 3316, 'mambantu': 3317, 'bunyi': 3318, 'orgtua': 3319, 'materi': 3320, 'nafasnya': 3321, 'gaes': 3322, 'bidan': 3323, 'halamannya': 3324, 'gratisss': 3325, 'dimatikan': 3326, 'dibenahi': 3327, 'kasir': 3328, 'fahami': 3329, 'beberapakali': 3330, 'line': 3331, 'chatroom': 3332, 'ceklis': 3333, 'systemnya': 3334, 'misalkan': 3335, 'mengadu': 3336, 'diterapkan': 3337, 'thnk': 3338, 'andriani': 3339, 'allianz': 3340, 'cancelan': 3341, 'kepercayaan': 3342, 'negri': 3343, 'sekolahnya': 3344, 'yabg': 3345, 'cart': 3346, 'pandang': 3347, 'direstart': 3348, 'redmi': 3349, 'messages': 3350, 'maslaah': 3351, 'ansuransi': 3352, 'imel': 3353, 'berdua': 3354, 'skedar': 3355, 'kabarnya': 3356, 'isa': 3357, 'posisinya': 3358, 'diupgrade': 3359, 'using': 3360, 'hay': 3361, 'berkontribusi': 3362, 'terbaiknya': 3363, 'haid': 3364, 'kredibel': 3365, 'djwb': 3366, 'ngantre': 3367, 'nyampai': 3368, 'telpn': 3369, 'diunggah': 3370, 'file': 3371, 'browsing': 3372, 'yaaaaa': 3373, 'sesimple': 3374, 'doktor': 3375, 'welcome': 3376, 'lambung': 3377, 'cas': 3378, 'develop': 3379, 'lamban': 3380, 'kelanjutannya': 3381, 'pantas': 3382, 'mengasihi': 3383, 'freeze': 3384, 'dirubah': 3385, 'sampel': 3386, 'tanyak': 3387, 'gabung': 3388, 'jawabnnya': 3389, 'terkoneksi': 3390, 'dikeadaan': 3391, 'apklikasi': 3392, 'haloo': 3393, 'kenpa': 3394, 'pengennya': 3395, 'manajemen': 3396, 'projek': 3397, 'kebinggungan': 3398, 'obatannya': 3399, 'jatim': 3400, 'lamanya': 3401, 'terussss': 3402, 'kunjungi': 3403, 'informasih': 3404, 'barat': 3405, 'tinjau': 3406, 'mkanan': 3407, 'teruss': 3408, 'applikasinya': 3409, 'fungsinya': 3410, 'member': 3411, 'kesedot': 3412, 'muntah': 3413, 'layaknya': 3414, 'utuk': 3415, 'mmbuat': 3416, 'setempat': 3417, 'dokteenya': 3418, 'shoot': 3419, 'diunduh': 3420, 'sesudah': 3421, 'petugasnya': 3422, 'baek': 3423, 'terduga': 3424, 'tetima': 3425, 'pembelajaran': 3426, 'yak': 3427, 'allhamdulillah': 3428, 'diperiksa': 3429, 'tercinta': 3430, 'gb': 3431, 'edukatif': 3432, 'internist': 3433, 'ngntri': 3434, 'msti': 3435, 'pling': 3436, 'manulife': 3437, 'mengabdi': 3438, 'trmkah': 3439, 'umat': 3440, 'termurah': 3441, 'diambilkan': 3442, 'taapi': 3443, 'berlangsung': 3444, 'kliniknya': 3445, 'menelpon': 3446, 'untu': 3447, 'nesya': 3448, 'waspada': 3449, 'suda': 3450, 'didaftarkan': 3451, 'adminnya': 3452, 'disentuh': 3453, 'perluasan': 3454, 'dihapus': 3455, 'mark': 3456, 'nha': 3457, 'memaksakan': 3458, 'nganternya': 3459, 'menikmati': 3460, 'aplikask': 3461, 'penyembuhan': 3462, 'proud': 3463, 'sepeti': 3464, 'engak': 3465, 'heheheh': 3466, 'jamnya': 3467, 'aplks': 3468, 'memberitahukan': 3469, 'terjngkau': 3470, 'membalasnya': 3471, 'raya': 3472, 'rezekinya': 3473, 'halodocs': 3474, 'dapatnya': 3475, 'berpikiran': 3476, 'sanagat': 3477, 'facebook': 3478, 'expired': 3479, 'menanti': 3480, 'terhambat': 3481, 'membabtu': 3482, 'mendatangi': 3483, 'yag': 3484, 'gawat': 3485, 'reset': 3486, 'cache': 3487, 'ngelayanin': 3488, 'jagan': 3489, 'tagihan': 3490, 'sihhh': 3491, 'slowrespon': 3492, 'embel': 3493, 'kamera': 3494, 'seluler': 3495, 'terberkati': 3496, 'berbahasa': 3497, 'saranku': 3498, 'mirip': 3499, 'dibahas': 3500, 'antriii': 3501, 'cept': 3502, 'enggk': 3503, 'responsip': 3504, 'rsud': 3505, 'terwujud': 3506, 'respont': 3507, 'bima': 3508, 'siklus': 3509, 'phone': 3510, 'waaahh': 3511, 'nnya': 3512, 'belinya': 3513, 'koneksinya': 3514, 'sinyalnya': 3515, 'menghadirkan': 3516, 'berikut': 3517, 'aplikasikan': 3518, 'identitas': 3519, 'penjelasnnya': 3520, 'menjual': 3521, 'appoinment': 3522, 'deposit': 3523, 'remeh': 3524, 'beritahu': 3525, 'pelyanan': 3526, 'menang': 3527, 'prosedur': 3528, 'radius': 3529, 'nakes': 3530, 'tumbuh': 3531, 'ngerasain': 3532, 'terkenal': 3533, 'darimana': 3534, 'sayng': 3535, 'pelangi': 3536, 'ngantrinya': 3537, 'sedetail': 3538, 'bareng': 3539, 'konsultasipun': 3540, 'pkek': 3541, 'berusaha': 3542, 'benarbenar': 3543, 'dimaklumi': 3544, 'sangaaat': 3545, 'logis': 3546, 'dehhh': 3547, 'max': 3548, 'bintik': 3549, 'basic': 3550, 'jne': 3551, 'batasan': 3552, 'kemahalan': 3553, 'quick': 3554, 'konsutasi': 3555, 'tabu': 3556, 'detal': 3557, 'jls': 3558, 'nmbah': 3559, 'lindungi': 3560, 'medan': 3561, 'tlng': 3562, 'tengkyu': 3563, 'dehhhh': 3564, 'batuknya': 3565, 'didalam': 3566, 'pertnyaan': 3567, 'development': 3568, 'memberitahu': 3569, 'debest': 3570, 'ngecewain': 3571, 'gagap': 3572, 'mitos': 3573, 'bersih': 3574, 'pantangan': 3575, 'smaa': 3576, 'disuru': 3577, 'dptnya': 3578, 'jaktim': 3579, 'disekitaran': 3580, 'tangsel': 3581, 'iming': 3582, 'mastercard': 3583, 'mempernudah': 3584, 'drh': 3585, 'hadehh': 3586, 'tlpon': 3587, 'truss': 3588, 'pengecekan': 3589, 'alhmdulilah': 3590, 'dibuatkan': 3591, 'one': 3592, 'dimiliki': 3593, 'lngsg': 3594, 'dinaikin': 3595, 'jembatan': 3596, 'diriwayat': 3597, 'track': 3598, 'boking': 3599, 'uji': 3600, 'get': 3601, 'sepele': 3602, 'akn': 3603, 'diakhir': 3604, 'dock': 3605, 'persatu': 3606, 'refound': 3607, 'sendirinya': 3608, 'pengobatannya': 3609, 'berkati': 3610, 'tk': 3611, 'heidy': 3612, 'menguasai': 3613, 'lebh': 3614, 'rekanannya': 3615, 'solisi': 3616, 'memangkas': 3617, 'hubungkan': 3618, 'mervi': 3619, 'chandra': 3620, 'pemakai': 3621, 'menghapus': 3622, 'bumi': 3623, 'omeprazole': 3624, 'menanggapinya': 3625, 'sariawan': 3626, 'cust': 3627, 'patner': 3628, 'kang': 3629, 'slowresp': 3630, 'eksis': 3631, 'dokterr': 3632, 'papua': 3633, 'vildi': 3634, 'pengembang': 3635, 'bermutu': 3636, 'rupanya': 3637, 'nyampaikan': 3638, 'bertuliskan': 3639, 'sagat': 3640, 'meriang': 3641, 'sejenisnya': 3642, 'mematikan': 3643, 'berkesan': 3644, 'intuitif': 3645, 'pertemuan': 3646, 'objektif': 3647, 'protokol': 3648, 'berjaya': 3649, 'bangetttttt': 3650, 'tremenza': 3651, 'membangun': 3652, 'bes': 3653, 'vertifikasi': 3654, 'binggung': 3655, 'fenny': 3656, 'intan': 3657, 'semga': 3658, 'jumat': 3659, 'blablabla': 3660, 'sambungan': 3661, 'datangi': 3662, 'membutuh': 3663, 'hancur': 3664, 'perketat': 3665, 'ketimbang': 3666, 'sekrang': 3667, 'terusss': 3668, 'memadai': 3669, 'urat': 3670, 'dpn': 3671, 'prefer': 3672, 'dilanjut': 3673, 'keputusan': 3674, 'dkternya': 3675, 'inu': 3676, 'sdang': 3677, 'dokterku': 3678, 'tlf': 3679, 'kondusif': 3680, 'memberkati': 3681, 'pertanyaanya': 3682, 'terbantukan': 3683, 'keterlaluan': 3684, 'peta': 3685, 'bentuk': 3686, 'formal': 3687, 'ratingnya': 3688, 'alhamdullillah': 3689, 'tangerang': 3690, 'gonta': 3691, 'senin': 3692, 'pramita': 3693, 'ditiadakan': 3694, 'dian': 3695, 'dewasa': 3696, 'bangeeeettt': 3697, 'meragukan': 3698, 'pesennya': 3699, 'obatn': 3700, 'inj': 3701, 'kalimantan': 3702, 'sekalu': 3703, 'syukur': 3704, 'lan': 3705, 'dijadikan': 3706, 'duid': 3707, 'faksin': 3708, 'assalamu': 3709, 'wr': 3710, 'wb': 3711, 'gopey': 3712, 'contact': 3713, 'sungguhan': 3714, 'os': 3715, 'hape': 3716, 'dimn': 3717, 'nampak': 3718, 'tersampaikan': 3719, 'ngegantung': 3720, 'mengeri': 3721, 'ajh': 3722, 'penangananya': 3723, 'mudahkan': 3724, 'gra': 3725, 'bermafaat': 3726, 'dpat': 3727, 'polip': 3728, 'mcm': 3729, 'pembeliaan': 3730, 'kepuasan': 3731, 'persoalan': 3732, 'aplikaai': 3733, 'malampun': 3734, 'pelaporan': 3735, 'menulis': 3736, 'trms': 3737, 'wilayahnya': 3738, 'unk': 3739, 'memberikn': 3740, 'ats': 3741, 'berbuat': 3742, 'dibatas': 3743, 'inti': 3744, 'tri': 3745, 'ngeluarin': 3746, 'mengidap': 3747, 'seenggaknya': 3748, 'ditungguin': 3749, 'christine': 3750, 'ketikan': 3751, 'antrean': 3752, 'negatif': 3753, 'closed': 3754, 'mencantumkan': 3755, 'perusahaan': 3756, 'pnyakit': 3757, 'kolomnya': 3758, 'kli': 3759, 'keadan': 3760, 'menitan': 3761, 'sebanding': 3762, 'trimks': 3763, 'penjelasanny': 3764, 'samsung': 3765, 'menebak': 3766, 'dijalankan': 3767, 'tanjung': 3768, 'pandan': 3769, 'ramai': 3770, 'pernh': 3771, 'respect': 3772, 'hellodoc': 3773, 'trhadap': 3774, 'smntra': 3775, 'cashless': 3776, 'pliss': 3777, 'diaknosa': 3778, 'thks': 3779, 'penerima': 3780, 'dijam': 3781, 'hbs': 3782, 'ahirnya': 3783, 'urus': 3784, 'diberkati': 3785, 'pending': 3786, 'wadah': 3787, 'kepastian': 3788, 'meresponnya': 3789, 'tntg': 3790, 'mencakup': 3791, 'bunda': 3792, 'prtama': 3793, 'menghormati': 3794, 'padalah': 3795, 'gegabah': 3796, 'baget': 3797, 'asu': 3798, 'dompetnya': 3799, 'internal': 3800, 'kouta': 3801, 'mandi': 3802, 'abangnya': 3803, 'bugs': 3804, 'bandar': 3805, 'rancabentang': 3806, 'sensi': 3807, 'responx': 3808, 'dengar': 3809, 'murahkan': 3810, 'keliru': 3811, 'rapidnya': 3812, 'padah': 3813, 'thebest': 3814, 'bertarif': 3815, 'mutasi': 3816, 'memberanikan': 3817, 'gausa': 3818, 'todak': 3819, 'penyelamat': 3820, 'asi': 3821, 'bantuin': 3822, 'better': 3823, 'dengannya': 3824, 'atu': 3825, 'syang': 3826, 'kitanya': 3827, 'diteror': 3828, 'datanya': 3829, 'carla': 3830, 'pecah': 3831, 'ngantar': 3832, 'ppkm': 3833, 'sodara': 3834, 'sinkron': 3835, 'memaksa': 3836, 'menggantung': 3837, 'terhitung': 3838, 'penguna': 3839, 'lewan': 3840, 'vc': 3841, 'dievaluasi': 3842, 'ksian': 3843, 'kawatir': 3844, 'struk': 3845, 'bandingkan': 3846, 'lengkapnya': 3847, 'smuah': 3848, 'ayoo': 3849, 'insya': 3850, 'sgala': 3851, 'menghilang': 3852, 'menentu': 3853, 'mutu': 3854, 'bersaing': 3855, 'gratisin': 3856, 'bepergian': 3857, 'bntuan': 3858, 'medisnya': 3859, 'menerbitkan': 3860, 'konsisten': 3861, 'halodocc': 3862, 'melalu': 3863, 'sial': 3864, 'mengapresiasi': 3865, 'menanganinya': 3866, 'habisin': 3867, 'menyeluruh': 3868, 'bacaan': 3869, 'ig': 3870, 'tinggalin': 3871, 'kebayang': 3872, 'menebus': 3873, 'pelanyanan': 3874, 'mbak': 3875, 'kdg': 3876, 'rekomendid': 3877, 'mengontrol': 3878, 'claim': 3879, 'tepotong': 3880, 'makassar': 3881, 'gusi': 3882, 'diragukan': 3883, 'sebanyak': 3884, 'isu': 3885, 'tampilkan': 3886, 'menyedihkan': 3887, 'bacanya': 3888, 'dojter': 3889, 'star': 3890, 'giovanni': 3891, 'dimintai': 3892, 'looh': 3893, 'trlebih': 3894, 'puaslah': 3895, 'gaya': 3896, 'nyesell': 3897, 'accept': 3898, 'batalain': 3899, 'cashback': 3900, 'astaga': 3901, 'menggunakn': 3902, 'dikatakan': 3903, 'pantang': 3904, 'halodocter': 3905, 'perantau': 3906, 'suasana': 3907, 'diperbaharui': 3908, 'dam': 3909, 'manteb': 3910, 'dilanjutkan': 3911, 'ganteng': 3912, 'shingga': 3913, 'selektif': 3914, 'dinaikan': 3915, 'vaksinya': 3916, 'bayarkan': 3917, 'pinggir': 3918, 'promil': 3919, 'hold': 3920, 'pengaduan': 3921, 'sign': 3922, 'ketersedian': 3923, 'dibohongi': 3924, 'tolonglah': 3925, 'ditelp': 3926, 'sanggup': 3927, 'kesuksesan': 3928, 'seharian': 3929, 'sepengalaman': 3930, 'bahan': 3931, 'evaluasi': 3932, 'sangatttt': 3933, 'dipalak': 3934, 'nominalnya': 3935, 'intuk': 3936, 'sukai': 3937, 'ditambahin': 3938, 'smogaa': 3939, 'pelayanannyaa': 3940, 'adaan': 3941, 'nanggung': 3942, 'motong': 3943, 'hebatnya': 3944, 'modus': 3945, 'diperbaikin': 3946, 'simpang': 3947, 'terbungkus': 3948, 'cetak': 3949, 'even': 3950, 'tergesa': 3951, 'gesa': 3952, 'deras': 3953, 'dicantumkan': 3954, 'nantinya': 3955, 'bestt': 3956, 'kerumahsakit': 3957, 'sangaaaat': 3958, 'stlah': 3959, 'dojternya': 3960, 'weekend': 3961, 'money': 3962, 'survey': 3963, 'ktanya': 3964, 'hangat': 3965, 'jugaaa': 3966, 'diabetes': 3967, 'trmakasih': 3968, 'dowlod': 3969, 'menyimpulkan': 3970, 'perkiraan': 3971, 'diinfokan': 3972, 'irna': 3973, 'alhadulillah': 3974, 'perfoma': 3975, 'samanya': 3976, 'keraguan': 3977, 'sekli': 3978, 'kalkulator': 3979, 'jengkel': 3980, 'nyampek': 3981, 'resikonya': 3982, 'beanfaat': 3983, 'pemalu': 3984, 'sales': 3985, 'pengalamannya': 3986, 'ngejelasin': 3987, 'obatnyaa': 3988, 'melewati': 3989, 'bayaran': 3990, 'customernya': 3991, 'ngebalin': 3992, 'sepi': 3993, 'laen': 3994, 'unlimited': 3995, 'mengaktifkan': 3996, 'bagiku': 3997, 'jarum': 3998, 'reply': 3999, 'puskeswan': 4000, 'instalasi': 4001, 'pencipta': 4002, 'masyrakat': 4003, 'disetujui': 4004, 'sok': 4005, 'lepas': 4006, 'infokan': 4007, 'agus': 4008, 'asam': 4009, 'burukkkk': 4010, 'ida': 4011, 'luka': 4012, 'membantuuuuu': 4013, 'laporkan': 4014, 'terimakasiih': 4015, 'gratiss': 4016, 'menjalankan': 4017, 'ulasannya': 4018, 'semahal': 4019, 'diskusi': 4020, 'belakangan': 4021, 'jalur': 4022, 'freze': 4023, 'panadol': 4024, 'procold': 4025, 'insto': 4026, 'nyaaa': 4027, 'dampak': 4028, 'memberika': 4029, 'kilat': 4030, 'dptkan': 4031, 'tipis': 4032, 'pemilik': 4033, 'drefund': 4034, 'tiada': 4035, 'jan': 4036, 'rezpon': 4037, 'menerus': 4038, 'penularan': 4039, 'keuangan': 4040, 'tanggerang': 4041, 'keramahan': 4042, 'kediri': 4043, 'brang': 4044, 'toleransi': 4045, 'melindungi': 4046, 'solo': 4047, 'ush': 4048, 'pesanannya': 4049, 'sulawesi': 4050, 'koyo': 4051, 'gadget': 4052, 'toh': 4053, 'nadya': 4054, 'mendarat': 4055, 'gais': 4056, 'smntara': 4057, 'kegunaan': 4058, 'sepadan': 4059, 'nmn': 4060, 'menagih': 4061, 'bukanya': 4062, 'situ': 4063, 'menuggu': 4064, 'safety': 4065, 'mmbutuhkan': 4066, 'samgat': 4067, 'many': 4068, 'juragan': 4069, 'yt': 4070, 'sayaaa': 4071, 'brawijaya': 4072, 'your': 4073, 'store': 4074, 'dimalam': 4075, 'ditelepon': 4076, 'bangking': 4077, 'diketahui': 4078, 'terbaca': 4079, 'dahh': 4080, 'dibls': 4081, 'gbsa': 4082, 'disamping': 4083, 'pipis': 4084, 'mutar': 4085, 'sedekah': 4086, 'android': 4087, 'penyembuhannya': 4088, 'mudh': 4089, 'tntang': 4090, 'bodong': 4091, 'penyampaiannya': 4092, 'berkenan': 4093, 'meninggal': 4094, 'fungsional': 4095, 'brunei': 4096, 'digitalisasi': 4097, 'disc': 4098, 'berhati': 4099, 'aksesnya': 4100, 'ladang': 4101, 'bercerita': 4102, 'sndri': 4103, 'slain': 4104, 'kerepotan': 4105, 'buta': 4106, 'ituu': 4107, 'sgot': 4108, 'sgpt': 4109, 'pasif': 4110, 'mengcancel': 4111, 'susu': 4112, 'pasaran': 4113, 'tercancel': 4114, 'kebagian': 4115, 'miss': 4116, 'gresik': 4117, 'resah': 4118, 'penentuan': 4119, 'dpet': 4120, 'geser': 4121, 'menyerang': 4122, 'digit': 4123, 'daftarin': 4124, 'mendaftarkan': 4125, 'kdepannya': 4126, 'teratur': 4127, 'tambahi': 4128, 'menunjukan': 4129, 'pembayarn': 4130, 'bangettttttt': 4131, 'koordinasi': 4132, 'giginya': 4133, 'dipersulit': 4134, 'halangan': 4135, 'mengakses': 4136, 'dimintanya': 4137, 'berfikir': 4138, 'terbuang': 4139, 'watson': 4140, 'hargai': 4141, 'mamih': 4142, 'curvit': 4143, 'janjikan': 4144, 'rutinitas': 4145, 'dioperasikan': 4146, 'daptar': 4147, 'mrmbantu': 4148, 'dipercaya': 4149, 'date': 4150, 'kebenarannya': 4151, 'karana': 4152, 'marketingnya': 4153, 'diberhentikan': 4154, 'diracik': 4155, 'fasien': 4156, 'papa': 4157, 'ceklist': 4158, 'lope': 4159, 'menannyakan': 4160, 'agama': 4161, 'tingkatan': 4162, 'pgnnya': 4163, 'wasalamm': 4164, 'mengedit': 4165, 'emailsaya': 4166, 'ngeread': 4167, 'mulainya': 4168, 'marcella': 4169, 'ds': 4170, 'andai': 4171, 'gppa': 4172, 'engine': 4173, 'bayak': 4174, 'improvement': 4175, 'sdm': 4176, 'mna': 4177, 'sokter': 4178, 'rumkit': 4179, 'madodep': 4180, 'koperatif': 4181, 'keķurangan': 4182, 'berteleh': 4183, 'teleh': 4184, 'alhamdulilla': 4185, 'scra': 4186, 'fepat': 4187, 'menjelasakan': 4188, 'kong': 4189, 'spam': 4190, 'menggangu': 4191, 'goodapp': 4192, 'janganlah': 4193, 'merdeka': 4194, 'kompeni': 4195, 'kesni': 4196, 'dbilang': 4197, 'fine': 4198, 'ngutang': 4199, 'gopaylater': 4200, 'ditekan': 4201, 'cepatdan': 4202, 'pokonamah': 4203, 'ohya': 4204, 'ajasih': 4205, 'tingal': 4206, 'nasihat': 4207, 'nmun': 4208, 'kompetitor': 4209, 'kealamat': 4210, 'dikirin': 4211, 'terarah': 4212, 'himbauan': 4213, 'dsn': 4214, 'mengkomsumsi': 4215, 'setara': 4216, 'kesalah': 4217, 'dipesankan': 4218, 'always': 4219, 'prktis': 4220, 'mewabah': 4221, 'maklumi': 4222, 'warahmatullahi': 4223, 'wabarakatu': 4224, 'nyusain': 4225, 'seharunya': 4226, 'klr': 4227, 'loveddd': 4228, 'mnjamin': 4229, 'bdw': 4230, 'katalog': 4231, 'obtnya': 4232, 'klangan': 4233, 'masuki': 4234, 'maaaf': 4235, 'dripd': 4236, 'diikutin': 4237, 'teope': 4238, 'mnjelaskan': 4239, 'kluaraga': 4240, 'attach': 4241, 'semuanyaaaaa': 4242, 'pembayatan': 4243, 'menghantui': 4244, 'gadungan': 4245, 'foldernya': 4246, 'kalla': 4247, 'peraktis': 4248, 'obtan': 4249, 'cth': 4250, 'terjadwal': 4251, 'kesibukannya': 4252, 'cuzz': 4253, 'nambahin': 4254, 'senangnya': 4255, 'sayapunya': 4256, 'menaggapi': 4257, 'kekesalan': 4258, 'traveling': 4259, 'drivel': 4260, 'kesembilan': 4261, 'menandakan': 4262, 'keridakprofesional': 4263, 'mengelola': 4264, 'kambing': 4265, 'nasional': 4266, 'tapiiiii': 4267, 'dipersusah': 4268, 'niatanya': 4269, 'disalah': 4270, 'jgsi': 4271, 'penyakitmu': 4272, 'blak': 4273, 'risau': 4274, 'ingnkan': 4275, 'brguna': 4276, 'amlodipine': 4277, 'candesartan': 4278, 'edisi': 4279, 'thebst': 4280, 'kemas': 4281, 'menggunkan': 4282, 'pasword': 4283, 'simpati': 4284, 'ataa': 4285, 'cukuk': 4286, 'didiagnosa': 4287, 'menggantikan': 4288, 'peran': 4289, 'berbaring': 4290, 'kehadiran': 4291, 'terpecah': 4292, 'az': 4293, 'kebagi': 4294, 'profesionalnya': 4295, 'developernya': 4296, 'nempuh': 4297, 'diatur': 4298, 'enteng': 4299, 'berkas': 4300, 'alhmdlillh': 4301, 'kshtan': 4302, 'kereeenn': 4303, 'pmbayaran': 4304, 'memeberikan': 4305, 'asumsi': 4306, 'logika': 4307, 'psikisnya': 4308, 'mimin': 4309, 'kalitake': 4310, 'granul': 4311, 'stadium': 4312, 'cuci': 4313, 'menjelaskannya': 4314, 'denga': 4315, 'unch': 4316, 'stanby': 4317, 'bait': 4318, 'prgi': 4319, 'dikulit': 4320, 'timbuk': 4321, 'bercak': 4322, 'coklat': 4323, 'perantara': 4324, 'nganterinnya': 4325, 'hitung': 4326, 'sedekahkan': 4327, 'susunya': 4328, 'beraktivitas': 4329, 'popup': 4330, 'batang': 4331, 'dya': 4332, 'bb': 4333, 'dikabarkan': 4334, 'dwngan': 4335, 'minmin': 4336, 'menempuh': 4337, 'dcari': 4338, 'konsultasiku': 4339, 'maluin': 4340, 'kekawatiran': 4341, 'opsion': 4342, 'opsionnya': 4343, 'allhamdulilah': 4344, 'pakekx': 4345, 'hrpnnya': 4346, 'sjauh': 4347, 'jazakallahu': 4348, 'khair': 4349, 'uneg': 4350, 'crome': 4351, 'xixi': 4352, 'fertigo': 4353, 'kafang': 4354, 'yuhuu': 4355, 'sslalu': 4356, 'diinfo': 4357, 'menjebak': 4358, 'nyrocos': 4359, 'negaranya': 4360, 'sepuh': 4361, 'sebenrnyaa': 4362, 'skalii': 4363, 'hanyaa': 4364, 'agaa': 4365, 'digitall': 4366, 'bisaa': 4367, 'sbelumnyaa': 4368, 'dihilangkannya': 4369, 'seauai': 4370, 'fotokan': 4371, 'kuar': 4372, 'mantuuulllll': 4373, 'refunded': 4374, 'pakar': 4375, 'doket': 4376, 'regristrasi': 4377, 'benget': 4378, 'verifikasai': 4379, 'trkirim': 4380, 'eko': 4381, 'santoso': 4382, 'kram': 4383, 'ppenjelasan': 4384, 'memyesal': 4385, 'awalny': 4386, 'na': 4387, 'adnya': 4388, 'mengubah': 4389, 'mengulangi': 4390, 'ketinggalan': 4391, 'pelajaran': 4392, 'ferifikasinya': 4393, 'betuk': 4394, 'diulangi': 4395, 'rumahbuntuk': 4396, 'santay': 4397, 'ngejer': 4398, 'setoran': 4399, 'ngespam': 4400, 'such': 4401, 'trash': 4402, 'didn': 4403, 'show': 4404, 'result': 4405, 'near': 4406, 'gl': 4407, 'jasanya': 4408, 'redah': 4409, 'aktivasi': 4410, 'dikeahliannya': 4411, 'pegawai': 4412, 'inactive': 4413, 'diinact': 4414, 'ferriyanto': 4415, 'sutiono': 4416, 'kagok': 4417, 'expectasi': 4418, 'kurier': 4419, 'lengkpi': 4420, 'mlengkpi': 4421, 'aap': 4422, 'bernaing': 4423, 'alhmdlilahh': 4424, 'meluncur': 4425, 'ngambilnya': 4426, 'outlet': 4427, 'bedrest': 4428, 'trimaksi': 4429, 'rifund': 4430, 'kuwatir': 4431, 'ketuntasan': 4432, 'diruamah': 4433, 'mbener': 4434, 'terim': 4435, 'nonstop': 4436, 'makinnsukses': 4437, 'mona': 4438, 'baghs': 4439, 'bgitulun': 4440, 'game': 4441, 'ml': 4442, 'pubg': 4443, 'punten': 4444, 'disebut': 4445, 'sodakoh': 4446, 'ribetttttttttttt': 4447, 'block': 4448, 'estimasinya': 4449, 'sepertibsaya': 4450, 'terganggu': 4451, 'obgyn': 4452, 'oxycan': 4453, 'sepertiini': 4454, 'xjp': 4455, 'sayaaaaaaaaaaaaaa': 4456, 'penipuannnnnn': 4457, 'sayaaaaaaaa': 4458, 'terhapus': 4459, 'designer': 4460, 'harua': 4461, 'sakiy': 4462, 'kepoli': 4463, 'meredakan': 4464, 'bermanfaatnya': 4465, 'menjadwalkan': 4466, 'penerbitan': 4467, 'sesolutiffff': 4468, 'legit': 4469, 'sikolog': 4470, 'nikmat': 4471, 'dustakan': 4472, 'actively': 4473, 'friends': 4474, 'ludesss': 4475, 'dompen': 4476, 'kas': 4477, 'nyaris': 4478, 'seperri': 4479, 'digoogle': 4480, 'menjumpai': 4481, 'trik': 4482, 'siapkan': 4483, 'nanggepinnya': 4484, 'gracias': 4485, 'sesaui': 4486, 'ngasuh': 4487, 'halaman': 4488, 'cliant': 4489, 'antarpun': 4490, 'bermanfat': 4491, 'yesel': 4492, 'penimbunan': 4493, 'ilegal': 4494, 'oknum': 4495, 'curang': 4496, 'dipecat': 4497, 'kick': 4498, 'jogja': 4499, 'lier': 4500, 'keahlian': 4501, 'diksh': 4502, 'juan': 4503, 'terimankasih': 4504, 'suksez': 4505, 'truuus': 4506, 'haduhhhhh': 4507, 'trprcaya': 4508, 'memuaskn': 4509, 'kdpnny': 4510, 'mncari': 4511, 'tuangkan': 4512, 'mem': 4513, 'catat': 4514, 'repon': 4515, 'keluhanya': 4516, 'mkash': 4517, 'menjwab': 4518, 'pertnyaanku': 4519, 'marak': 4520, 'aizawanda': 4521, 'berjangka': 4522, 'beberap': 4523, 'cairan': 4524, 'bau': 4525, 'memukul': 4526, 'telingan': 4527, 'prsdiaan': 4528, 'bgaimana': 4529, 'yank': 4530, 'diprlukan': 4531, 'blinya': 4532, 'prsdiaannya': 4533, 'diberkahi': 4534, 'andri': 4535, 'beroperasional': 4536, 'temenya': 4537, 'berhadapan': 4538, 'puny': 4539, 'dtmbh': 4540, 'dites': 4541, 'tulisannyaa': 4542, 'diuninstal': 4543, 'keseeeeeeeelll': 4544, 'apanya': 4545, 'ngasal': 4546, 'tuh': 4547, 'air': 4548, 'yoga': 4549, 'whidianto': 4550, 'assalmualaikum': 4551, 'says': 4552, 'prang': 4553, 'terlentang': 4554, 'll': 4555, 'punggung': 4556, 'dironsen': 4557, 'may': 4558, 'mining': 4559, 'bergerac': 4560, 'leher': 4561, 'napsu': 4562, 'humana': 4563, 'ramaaah': 4564, 'dianterinnya': 4565, 'eheheh': 4566, 'dinkes': 4567, 'setor': 4568, 'iji': 4569, 'lansopadol': 4570, 'ngpain': 4571, 'rexomended': 4572, 'mndg': 4573, 'trdkat': 4574, 'bangeeeeettt': 4575, 'apalgu': 4576, 'njawabnya': 4577, 'mnemukan': 4578, 'cra': 4579, 'prtolongan': 4580, 'jatihandap': 4581, 'cicaheum': 4582, 'anternya': 4583, 'nyaranin': 4584, 'takedown': 4585, 'nasalah': 4586, 'balek': 4587, 'take': 4588, 'mostly': 4589, 'ditawarkan': 4590, 'nysel': 4591, 'berpuluh': 4592, 'sesingkat': 4593, 'aeperti': 4594, 'karya': 4595, 'pkir': 4596, 'tryta': 4597, 'berulangkali': 4598, 'messenge': 4599, 'cheat': 4600, 'noted': 4601, 'pebayaran': 4602, 'aktual': 4603, 'honestreview': 4604, 'kekemenkes': 4605, 'shanty': 4606, 'tansit': 4607, 'asa': 4608, 'kelakuan': 4609, 'sybyakin': 4610, 'julukan': 4611, 'modul': 4612, 'mon': 4613, 'bagat': 4614, 'keluahan': 4615, 'pasienya': 4616, 'naluri': 4617, 'fitriyasa': 4618, 'berharga': 4619, 'mantaaapp': 4620, 'kasihhalodoc': 4621, 'julita': 4622, 'komunitas': 4623, 'kesabaran': 4624, 'selau': 4625, 'fastvrespon': 4626, 'diskonnya': 4627, 'ega': 4628, 'astari': 4629, 'amazed': 4630, 'satified': 4631, 'kerennnn': 4632, 'huh': 4633, 'unek': 4634, 'daripda': 4635, 'ntr': 4636, 'gosip': 4637, 'dibatesin': 4638, 'tumpang': 4639, 'tindih': 4640, 'ngehang': 4641, 'menyelamatkan': 4642, 'sepanjang': 4643, 'antarnya': 4644, 'okein': 4645, 'flecksibilitas': 4646, 'apllause': 4647, 'leren': 4648, 'lebutuhan': 4649, 'progtam': 4650, 'takjub': 4651, 'perkembangannya': 4652, 'kualitasmu': 4653, 'dseluruh': 4654, 'langkahnya': 4655, 'dirantau': 4656, 'roni': 4657, 'aldiano': 4658, 'lahhh': 4659, 'disuntik': 4660, 'sakses': 4661, 'dipedalaman': 4662, 'setannn': 4663, 'lamaa': 4664, 'birokrasi': 4665, 'riweh': 4666, 'fotokopi': 4667, 'wanita': 4668, 'pantesan': 4669, 'kalu': 4670, 'trgantung': 4671, 'jualnya': 4672, 'pasiaen': 4673, 'msukkan': 4674, 'mobilisasinya': 4675, 'nyampee': 4676, 'usus': 4677, 'menjalanakan': 4678, 'rutinitasnya': 4679, 'redownload': 4680, 'nyalakan': 4681, 'nyalain': 4682, 'st': 4683, 'ayooo': 4684, 'cepetan': 4685, 'rahmi': 4686, 'aplilkasi': 4687, 'sesuau': 4688, 'aplikasinyapun': 4689, 'semula': 4690, 'kutambahi': 4691, 'dtr': 4692, 'pemaparan': 4693, 'mengupload': 4694, 'insfirasi': 4695, 'mirah': 4696, 'sangaaaaatt': 4697, 'seoerti': 4698, 'ucaokn': 4699, 'wooow': 4700, 'babyku': 4701, 'komplin': 4702, 'udahlah': 4703, 'doing': 4704, 'well': 4705, 'tah': 4706, 'tifak': 4707, 'jlasan': 4708, 'berberapa': 4709, 'keatas': 4710, 'keanak': 4711, 'waaaaahhhh': 4712, 'caca': 4713, 'trnyta': 4714, 'dp': 4715, 'lb': 4716, 'manula': 4717, 'berkeliling': 4718, 'komenan': 4719, 'borisnya': 4720, 'sams': 4721, 'ramaah': 4722, 'sruh': 4723, 'bnyakin': 4724, 'nyut': 4725, 'bravodem': 4726, 'ribuan': 4727, 'ribuat': 4728, 'dro': 4729, 'membagi': 4730, 'dipasang': 4731, 'memperlama': 4732, 'tipes': 4733, 'pemulihan': 4734, 'mudahin': 4735, 'asslkm': 4736, 'kpala': 4737, 'puding': 4738, 'cadel': 4739, 'baikbaik': 4740, 'aplukasi': 4741, 'lainkali': 4742, 'energi': 4743, 'ninggal': 4744, 'bals': 4745, 'aporik': 4746, 'gigit': 4747, 'apload': 4748, 'fotoin': 4749, 'paketnya': 4750, 'berkerjasama': 4751, 'alhmdulillahh': 4752, 'pertamaku': 4753, 'apitiknya': 4754, 'pemecahan': 4755, 'asuh': 4756, 'menyambaikan': 4757, 'berpatisipasi': 4758, 'direfresh': 4759, 'praktissss': 4760, 'jwita': 4761, 'ternyatq': 4762, 'kayakmanaya': 4763, 'ternya': 4764, 'efektip': 4765, 'hanna': 4766, 'margareth': 4767, 'custumor': 4768, 'susahnyq': 4769, 'konfirm': 4770, 'gaperluh': 4771, 'beneerrr': 4772, 'enk': 4773, 'dokrer': 4774, 'gratisannya': 4775, 'pendapatnya': 4776, 'nasehatnya': 4777, 'semwnjak': 4778, 'mengena': 4779, 'terhebat': 4780, 'ngemil': 4781, 'buanget': 4782, 'topppp': 4783, 'rezki': 4784, 'rekoment': 4785, 'alkes': 4786, 'vaksim': 4787, 'diperkebunan': 4788, 'tanggl': 4789, 'meprmdah': 4790, 'merka': 4791, 'ketmpt': 4792, 'sbnarnya': 4793, 'mmprsulit': 4794, 'krumah': 4795, 'nyuekin': 4796, 'baiq': 4797, 'sangngat': 4798, 'menjawabnya': 4799, 'diskonsp': 4800, 'curhatku': 4801, 'dicuekin': 4802, 'peraturan': 4803, 'perundang': 4804, 'sukaaaaa': 4805, 'luvvv': 4806, 'kebangetan': 4807, 'goooood': 4808, 'mintain': 4809, 'bayaaaar': 4810, 'mengecewakaaaan': 4811, 'menark': 4812, 'bungkusnya': 4813, 'patok': 4814, 'mananya': 4815, 'tapinya': 4816, 'persopan': 4817, 'antrenya': 4818, 'puanjang': 4819, 'konsultasiya': 4820, 'permpuanya': 4821, 'canti': 4822, 'mubgkin': 4823, 'ditelfon': 4824, 'laaah': 4825, 'bahkn': 4826, 'samakan': 4827, 'ditujuan': 4828, 'develpoer': 4829, 'menginginkan': 4830, 'anggita': 4831, 'ceoat': 4832, 'deehh': 4833, 'responnyaboun': 4834, 'dokerny': 4835, 'heleh': 4836, 'mmgingtkan': 4837, 'deteksi': 4838, 'sjk': 4839, 'kasihnya': 4840, 'optimalkan': 4841, 'mengekspektasikan': 4842, 'bermanfa': 4843, 'urologi': 4844, 'jalanan': 4845, 'khasiatny': 4846, 'ripang': 4847, 'subur': 4848, 'rimpang': 4849, 'afrika': 4850, 'menjg': 4851, 'akeses': 4852, 'diriku': 4853, 'langanan': 4854, 'droop': 4855, 'massa': 4856, 'menguwatirkan': 4857, 'hunting': 4858, 'danmembantu': 4859, 'covis': 4860, 'sediaan': 4861, 'ikhtiyar': 4862, 'reaksinya': 4863, 'anggrek': 4864, 'malang': 4865, 'china': 4866, 'rongsokan': 4867, 'nganterin': 4868, 'hargany': 4869, 'sobat': 4870, 'misqueen': 4871, 'daaaan': 4872, 'sayanngya': 4873, 'rekapan': 4874, 'padahan': 4875, 'bgi': 4876, 'syaaa': 4877, 'pengirimanpun': 4878, 'peresponan': 4879, 'realistis': 4880, 'grrar': 4881, 'taiii': 4882, 'blsan': 4883, 'mengajak': 4884, 'mena': 4885, 'nyakan': 4886, 'djawab': 4887, 'mengawatirkan': 4888, 'handle': 4889, 'alarm': 4890, 'pemberitahuannya': 4891, 'herannya': 4892, 'ditmpat': 4893, 'cuks': 4894, 'aje': 4895, 'benerbener': 4896, 'pelajar': 4897, 'kocek': 4898, 'lainyaeh': 4899, 'sherly': 4900, 'thendian': 4901, 'elisabet': 4902, 'masukugd': 4903, 'uap': 4904, 'mentingin': 4905, 'loding': 4906, 'nte': 4907, 'yf': 4908, 'antriannya': 4909, 'wasting': 4910, 'pandemu': 4911, 'putar': 4912, 'liburpun': 4913, 'pendaftarannya': 4914, 'wahyu': 4915, 'hasni': 4916, 'ilmi': 4917, 'bagua': 4918, 'vindy': 4919, 'cesariana': 4920, 'kerna': 4921, 'verifykasi': 4922, 'veryfikasi': 4923, 'blsnya': 4924, 'dipasaran': 4925, 'pencari': 4926, 'keberadaannya': 4927, 'kembangin': 4928, 'greget': 4929, 'bersyukurr': 4930, 'harii': 4931, 'apli': 4932, 'yahh': 4933, 'begus': 4934, 'pengganti': 4935, 'disemua': 4936, 'mski': 4937, 'halodoctemanpasienyangbaik': 4938, 'dicap': 4939, 'beekendara': 4940, 'persalinan': 4941, 'hafi': 4942, 'rekomendasikannya': 4943, 'disalahgunain': 4944, 'kronologi': 4945, 'tibax': 4946, 'kejam': 4947, 'shoping': 4948, 'diadukan': 4949, 'berputarx': 4950, 'ditangkap': 4951, 'dipertimbabgkan': 4952, 'okee': 4953, 'diana': 4954, 'vocer': 4955, 'undub': 4956, 'fk': 4957, 'jugaloh': 4958, 'anplikasinya': 4959, 'goods': 4960, 'luki': 4961, 'indrawan': 4962, 'memotivasi': 4963, 'ditidak': 4964, 'disaatcovid': 4965, 'wakili': 4966, 'bungkusannya': 4967, 'ngerusak': 4968, 'perfom': 4969, 'anyep': 4970, 'terpenting': 4971, 'nb': 4972, 'nyinyir': 4973, 'dipikrnya': 4974, 'daun': 4975, 'hadeeehhh': 4976, 'sangattttttt': 4977, 'dikasii': 4978, 'makasiii': 4979, 'tx': 4980, 'vera': 4981, 'yidak': 4982, 'heeerm': 4983, 'penat': 4984, 'mks': 4985, 'hours': 4986, 'pnyakitnya': 4987, 'langsg': 4988, 'kendalanya': 4989, 'provider': 4990, 'streaming': 4991, 'apaann': 4992, 'jelasss': 4993, 'hlooo': 4994, 'responnnya': 4995, 'nomber': 4996, 'berti': 4997, 'pripasi': 4998, 'ciamik': 4999, 'brmanfaaat': 5000, 'menumpuk': 5001, 'nahan': 5002, 'kalopun': 5003, 'dimaklum': 5004, 'wlau': 5005, 'dwnload': 5006, 'only': 5007, 'application': 5008, 'resppnd': 5009, 'beemanfaat': 5010, 'keluarin': 5011, 'kesambung': 5012, 'obatvyg': 5013, 'nafsu': 5014, 'founder': 5015, 'penjabaran': 5016, 'lebaih': 5017, 'membanntu': 5018, 'basii': 5019, 'sharingg': 5020, 'ribeeuut': 5021, 'kinerjanya': 5022, 'wal': 5023, 'launch': 5024, 'duluuuu': 5025, 'repottt': 5026, 'tertransaksikan': 5027, 'cashbck': 5028, 'ampuuunnn': 5029, 'inventori': 5030, 'sekelas': 5031, 'berkendara': 5032, 'pelayanannyah': 5033, 'komperatif': 5034, 'ituuu': 5035, 'pasahal': 5036, 'skarang': 5037, 'hrpn': 5038, 'targetnya': 5039, 'franginitis': 5040, 'tukak': 5041, 'ngebalesnyapun': 5042, 'ngedownload': 5043, 'nyesaal': 5044, 'mash': 5045, 'oder': 5046, 'gabalik': 5047, 'bingang': 5048, 'seperrlti': 5049, 'pnasaran': 5050, 'prostat': 5051, 'sebenar': 5052, 'mencintai': 5053, 'memperhatiakan': 5054, 'memperdulikan': 5055, 'recommd': 5056, 'bayr': 5057, 'persulit': 5058, 'mdptkan': 5059, 'hslnya': 5060, 'mantapppppp': 5061, 'makadari': 5062, 'truz': 5063, 'hubungan': 5064, 'prudentialnya': 5065, 'ambilny': 5066, 'dropny': 5067, 'imbangi': 5068, 'prudential': 5069, 'ngechat': 5070, 'vertivikasi': 5071, 'sekatang': 5072, 'donwlod': 5073, 'impression': 5074, 'alumni': 5075, 'berpnglmn': 5076, 'kurangin': 5077, 'nutup': 5078, 'ngata': 5079, 'ngatain': 5080, 'pecat': 5081, 'mslah': 5082, 'jwab': 5083, 'memjawab': 5084, 'carnya': 5085, 'coot': 5086, 'aplilashinya': 5087, 'tguin': 5088, 'rekomondasikan': 5089, 'penyelenggara': 5090, 'dibiarkan': 5091, 'lurus': 5092, 'memesannya': 5093, 'memesankn': 5094, 'jabar': 5095, 'thnkyu': 5096, 'cacat': 5097, 'kendali': 5098, 'ajar': 5099, 'paseinnya': 5100, 'pecinta': 5101, 'vet': 5102, 'permainkan': 5103, 'lagu': 5104, 'antr': 5105, 'msyrkt': 5106, 'dikomunikasikan': 5107, 'screenshotnya': 5108, 'munculin': 5109, 'kelu': 5110, 'ar': 5111, 'berurusan': 5112, 'profesioanal': 5113, 'britahukan': 5114, 'lebuh': 5115, 'joshua': 5116, 'christian': 5117, 'terimakaasi': 5118, 'pengirimanya': 5119, 'sameday': 5120, 'didebet': 5121, 'telemedecine': 5122, 'mendwonload': 5123, 'aplicable': 5124, 'mnerima': 5125, 'tersisa': 5126, 'sangad': 5127, 'ttap': 5128, 'perih': 5129, 'risa': 5130, 'rispandi': 5131, 'cacing': 5132, 'yesika': 5133, 'menggegerkan': 5134, 'paje': 5135, 'berkonsultas': 5136, 'worth': 5137, 'dinegri': 5138, 'minimnya': 5139, 'daru': 5140, 'enneke': 5141, 'melisa': 5142, 'mencekam': 5143, 'untuung': 5144, 'penempatan': 5145, 'pengaturan': 5146, 'screan': 5147, 'aungguh': 5148, 'ornag': 5149, 'halodo': 5150, 'apikasi': 5151, 'rasional': 5152, 'memuasjan': 5153, 'ahir': 5154, 'dukses': 5155, 'pemgirman': 5156, 'digitalnya': 5157, 'dipegang': 5158, 'agent': 5159, 'merekomendasi': 5160, 'felice': 5161, 'tnggap': 5162, 'berikutya': 5163, 'diiklan': 5164, 'jalanin': 5165, 'dinas': 5166, 'bat': 5167, 'kecilnya': 5168, 'blakang': 5169, 'prcma': 5170, 'kebru': 5171, 'prh': 5172, 'utamakan': 5173, 'mkr': 5174, 'bhong': 5175, 'berbaik': 5176, 'smpat': 5177, 'ditelponin': 5178, 'visinya': 5179, 'brtanya': 5180, 'didlm': 5181, 'sgla': 5182, 'ahh': 5183, 'biasaaaa': 5184, 'waah': 5185, 'duanya': 5186, 'firmansyah': 5187, 'baiikkk': 5188, 'akutat': 5189, 'haolodoc': 5190, 'depannnya': 5191, 'create': 5192, 'ibadah': 5193, 'difahami': 5194, 'dijadwalkan': 5195, 'smuanya': 5196, 'spesilis': 5197, 'sejelasnya': 5198, 'tetiba': 5199, 'jadilah': 5200, 'termometer': 5201, 'juaaauhh': 5202, 'diem': 5203, 'sring': 5204, 'mmah': 5205, 'rutinan': 5206, 'dijakarta': 5207, 'diklaten': 5208, 'kons': 5209, 'menajwab': 5210, 'keterangane': 5211, 'seblm': 5212, 'monitor': 5213, 'sepuas': 5214, 'gamasalah': 5215, 'terimaksh': 5216, 'mengisnpirasii': 5217, 'operasial': 5218, 'kordinasi': 5219, 'pengakuan': 5220, 'semi': 5221, 'momen': 5222, 'penipunya': 5223, 'bernomor': 5224, 'xxxxx': 5225, 'leleeettt': 5226, 'paraaahh': 5227, 'jwbannya': 5228, 'terkadamg': 5229, 'dtmbah': 5230, 'alfamidi': 5231, 'kdepan': 5232, 'okè': 5233, 'sekràng': 5234, 'ntb': 5235, 'elemen': 5236, 'dikeluhkan': 5237, 'txkan': 5238, 'dlunya': 5239, 'njirrr': 5240, 'malasan': 5241, 'klien': 5242, 'khatrina': 5243, 'beristirahat': 5244, 'berhubunham': 5245, 'demgam': 5246, 'imi': 5247, 'mndwlod': 5248, 'kdokteran': 5249, 'benefit': 5250, 'mendiagnosanya': 5251, 'letak': 5252, 'tempatku': 5253, 'bene': 5254, 'hoaxs': 5255, 'kabur': 5256, 'berinisiatif': 5257, 'disekeliling': 5258, 'wassalamu': 5259, 'nyampein': 5260, 'accon': 5261, 'transfernya': 5262, 'perlengkap': 5263, 'bia': 5264, 'perbnyak': 5265, 'freenya': 5266, 'panikan': 5267, 'konesik': 5268, 'paten': 5269, 'bersedia': 5270, 'sicepat': 5271, 'ketentuan': 5272, 'tubuhnya': 5273, 'dikrnakan': 5274, 'terlbih': 5275, 'diutarakn': 5276, 'oada': 5277, 'semuahnya': 5278, 'semuah': 5279, 'kesehtn': 5280, 'meluas': 5281, 'silakan': 5282, 'kaha': 5283, 'dirujuk': 5284, 'teejangkau': 5285, 'tidal': 5286, 'audionya': 5287, 'kosumsi': 5288, 'mengenal': 5289, 'tersegel': 5290, 'psanan': 5291, 'kilo': 5292, 'mantappppp': 5293, 'spesilisnya': 5294, 'ng': 5295, 'djp': 5296, 'gemes': 5297, 'finish': 5298, 'terbest': 5299, 'pkkny': 5300, 'mdh': 5301, 'apotrk': 5302, 'brag': 5303, 'parahhhhh': 5304, 'koplak': 5305, 'sampahhhh': 5306, 'tinggkatkan': 5307, 'titiknya': 5308, 'msen': 5309, 'faedah': 5310, 'memyembuhkan': 5311, 'syukron': 5312, 'joint': 5313, 'dtanggung': 5314, 'istal': 5315, 'siasia': 5316, 'dbuka': 5317, 'variasinya': 5318, 'diikuti': 5319, 'doternya': 5320, 'button': 5321, 'dihotel': 5322, 'jy': 5323, 'semu': 5324, 'ngiklanin': 5325, 'malesin': 5326, 'nginstall': 5327, 'shearing': 5328, 'pngaturan': 5329, 'inggrisnya': 5330, 'trackingnya': 5331, 'peserta': 5332, 'kemampuanlah': 5333, 'vaskin': 5334, 'terurus': 5335, 'kuhub': 5336, 'ngemis': 5337, 'skalibuntuk': 5338, 'tercanggih': 5339, 'tanganin': 5340, 'bermanfata': 5341, 'faizal': 5342, 'bawanong': 5343, 'tya': 5344, 'persis': 5345, 'specialized': 5346, 'bersangkutn': 5347, 'onlineshop': 5348, 'dikasir': 5349, 'mengandalkan': 5350, 'kontrakan': 5351, 'chatannya': 5352, 'freeong': 5353, 'momongan': 5354, 'terkusus': 5355, 'ananta': 5356, 'sabarnya': 5357, 'ramahhh': 5358, 'bmenjawab': 5359, 'mengkhawatirkan': 5360, 'penjelasana': 5361, 'sipahami': 5362, 'stepnya': 5363, 'sekrg': 5364, 'formulir': 5365, 'force': 5366, 'tab': 5367, 'stopper': 5368, 'apkikasinya': 5369, 'diaantar': 5370, 'benerapa': 5371, 'gojekya': 5372, 'hpnya': 5373, 'pemberitauan': 5374, 'sangsut': 5375, 'ketmu': 5376, 'helpdesk': 5377, 'dokternta': 5378, 'konsulrasi': 5379, 'downloadnya': 5380, 'kagum': 5381, 'dikalangan': 5382, 'sedit': 5383, 'melayanu': 5384, 'ditalangin': 5385, 'pengirimnya': 5386, 'minùm': 5387, 'lunas': 5388, 'woalah': 5389, 'playanannya': 5390, 'disinkronkan': 5391, 'bhkn': 5392, 'jaih': 5393, 'semitar': 5394, 'loveeeeee': 5395, 'tebantu': 5396, 'zila': 5397, 'pembesaran': 5398, 'triamakasih': 5399, 'petanyaannya': 5400, 'kebebasan': 5401, 'sangata': 5402, 'excellence': 5403, 'mndptkan': 5404, 'paksakan': 5405, 'kansultasi': 5406, 'kerugian': 5407, 'dituker': 5408, 'leeat': 5409, 'dahului': 5410, 'melaporkan': 5411, 'konsolatasi': 5412, 'angep': 5413, 'makn': 5414, 'sbrpa': 5415, 'konsoltasinya': 5416, 'anjim': 5417, 'friendlu': 5418, 'bertuliaskan': 5419, 'baguslah': 5420, 'ngikutin': 5421, 'sehatkan': 5422, 'indonesiaku': 5423, 'bersemangat': 5424, 'hariku': 5425, 'jalani': 5426, 'pembatasan': 5427, 'mengambilnya': 5428, 'rutenya': 5429, 'rute': 5430, 'mentok': 5431, 'stelahnya': 5432, 'sebabnya': 5433, 'tapindurasi': 5434, 'effesien': 5435, 'tokcer': 5436, 'kembang': 5437, 'perkbang': 5438, 'konsultasinyaa': 5439, 'buktikan': 5440, 'donlodo': 5441, 'chatan': 5442, 'ditetapkan': 5443, 'dimurahkan': 5444, 'marketplace': 5445, 'spti': 5446, 'sh': 5447, 'pee': 5448, 'tokop': 5449, 'laris': 5450, 'notification': 5451, 'base': 5452, 'pnh': 5453, 'langgeng': 5454, 'apliksai': 5455, 'manis': 5456, 'joss': 5457, 'kembangi': 5458, 'adac': 5459, 'lumyn': 5460, 'tokopun': 5461, 'kesepakatan': 5462, 'satyadi': 5463, 'arinda': 5464, 'bayangin': 5465, 'anytime': 5466, 'nyesuain': 5467, 'capk': 5468, 'ongks': 5469, 'transport': 5470, 'jeda': 5471, 'beruntun': 5472, 'gratissss': 5473, 'lumayann': 5474, 'leni': 5475, 'approve': 5476, 'yaaah': 5477, 'sponsori': 5478, 'feed': 5479, 'rizonax': 5480, 'septa': 5481, 'meliya': 5482, 'oas': 5483, 'dengat': 5484, 'chechout': 5485, 'ngeloading': 5486, 'chart': 5487, 'diperbaikiiiiiiiii': 5488, 'bangeettt': 5489, 'gerceepp': 5490, 'balesnyaa': 5491, 'hallofit': 5492, 'menyenang': 5493, 'bertindak': 5494, 'privacy': 5495, 'berpindah': 5496, 'jangkaun': 5497, 'reschdule': 5498, 'rawanny': 5499, 'menggerus': 5500, 'limit': 5501, 'najiiss': 5502, 'merekomendasika': 5503, 'kerbat': 5504, 'koreng': 5505, 'ti': 5506, 'tangah': 5507, 'kmre': 5508, 'kering': 5509, 'lamun': 5510, 'berair': 5511, 'cacar': 5512, 'diabet': 5513, 'sehatdirumah': 5514, 'berlanggansn': 5515, 'sehatdi': 5516, 'ponselnya': 5517, 'teleponnya': 5518, 'digunain': 5519, 'mauk': 5520, 'membatuk': 5521, 'rspon': 5522, 'membantunsekali': 5523, 'mksdnya': 5524, 'skrmg': 5525, 'agk': 5526, 'akhirnyaa': 5527, 'ribettttt': 5528, 'mjd': 5529, 'terpapar': 5530, 'membalasa': 5531, 'memeriksanya': 5532, 'ngebingungin': 5533, 'diconfirm': 5534, 'bengong': 5535, 'ngapa': 5536, 'paketan': 5537, 'wise': 5538, 'selesaiunduh': 5539, 'dokterbudah': 5540, 'digenggaman': 5541, 'least': 5542, 'bablaaaassssss': 5543, 'seriusan': 5544, 'seya': 5545, 'blanja': 5546, 'indomilk': 5547, 'berapanya': 5548, 'hight': 5549, 'class': 5550, 'siiih': 5551, 'menariknya': 5552, 'kalang': 5553, 'connecting': 5554, 'baliknya': 5555, 'uki': 5556, 'silusi': 5557, 'mengha': 5558, 'rapkan': 5559, 'ae': 5560, 'iki': 5561, 'herbal': 5562, 'seling': 5563, 'sangant': 5564, 'pelayaanannya': 5565, 'penjelesan': 5566, 'dipahamu': 5567, 'trimkasihh': 5568, 'nagari': 5569, 'ketenangan': 5570, 'sukamto': 5571, 'signal': 5572, 'consultasinya': 5573, 'syuuuukkaaa': 5574, 'bgeet': 5575, 'pngiriman': 5576, 'pngemasannya': 5577, 'keterengan': 5578, 'sajaaaaaaa': 5579, 'rutinnya': 5580, 'sample': 5581, 'kejelasaan': 5582, 'spya': 5583, 'pengecualian': 5584, 'creating': 5585, 'separah': 5586, 'itukah': 5587, 'arau': 5588, 'iini': 5589, 'terys': 5590, 'bya': 5591, 'seditel': 5592, 'daerahku': 5593, 'akui': 5594, 'vikol': 5595, 'fisiknya': 5596, 'kasusku': 5597, 'rekeman': 5598, 'vidionya': 5599, 'dikondiai': 5600, 'klink': 5601, 'dilaporin': 5602, 'operasionalnya': 5603, 'tuning': 5604, 'ping': 5605, 'network': 5606, 'amoun': 5607, 'everything': 5608, 'mantaaabbbb': 5609, 'dch': 5610, 'pkknya': 5611, 'nguras': 5612, 'suit': 5613, 'recommen': 5614, 'dtingkatkan': 5615, 'sekang': 5616, 'mantunya': 5617, 'kedokternya': 5618, 'menepiskan': 5619, 'berbot': 5620, 'jangkaunya': 5621, 'deterjen': 5622, 'berairnya': 5623, 'diaarankan': 5624, 'tangannya': 5625, 'detergen': 5626, 'multivitamin': 5627, 'wassalam': 5628, 'mf': 5629, 'ditlpn': 5630, 'berunding': 5631, 'kartun': 5632, 'membatalkannya': 5633, 'jug': 5634, 'meresponya': 5635, 'kdpny': 5636, 'batasin': 5637, 'mertua': 5638, 'kombinasi': 5639, 'cengkareng': 5640, 'khi': 5641, 'undur': 5642, 'ngotak': 5643, 'jakbar': 5644, 'ngadi': 5645, 'lunayan': 5646, 'pasar': 5647, 'rebo': 5648, 'bintaro': 5649, 'seprti': 5650, 'terbiasa': 5651, 'details': 5652, 'awawlnya': 5653, 'pcya': 5654, 'maill': 5655, 'jdnya': 5656, 'keluaran': 5657, 'prasangka': 5658, 'penggunaanya': 5659, 'jadikan': 5660, 'woth': 5661, 'haram': 5662, 'lemas': 5663, 'ditambahkn': 5664, 'nengenai': 5665, 'halkdoc': 5666, 'blang': 5667, 'benr': 5668, 'seala': 5669, 'kadarnya': 5670, 'kesigapan': 5671, 'lwar': 5672, 'satuan': 5673, 'terdwkat': 5674, 'kasihh': 5675, 'konsuktasinya': 5676, 'seringnya': 5677, 'duhh': 5678, 'chekout': 5679, 'introvet': 5680, 'terdefinisi': 5681, 'diwajah': 5682, 'bersabar': 5683, 'xepat': 5684, 'penitikan': 5685, 'hanphone': 5686, 'dijaga': 5687, 'automatis': 5688, 'direct': 5689, 'progress': 5690, 'tipsnya': 5691, 'halofoc': 5692, 'bikinkan': 5693, 'mnggunakn': 5694, 'mngenai': 5695, 'permasalahn': 5696, 'makashhh': 5697, 'alamin': 5698, 'diverifikasi': 5699, 'bergetar': 5700, 'berjaga': 5701, 'nombok': 5702, 'creator': 5703, 'medicine': 5704, 'bawaan': 5705, 'pencemas': 5706, 'sejawat': 5707, 'kepentingan': 5708, 'buah': 5709, 'sdb': 5710, 'chatingannya': 5711, 'lahirnya': 5712, 'revesi': 5713, 'balesin': 5714, 'sangkut': 5715, 'udaj': 5716, 'otpnya': 5717, 'pakenya': 5718, 'dobel': 5719, 'kelengkapannya': 5720, 'selbhnya': 5721, 'pembyran': 5722, 'diperbyk': 5723, 'paylater': 5724, 'frindly': 5725, 'dikecewain': 5726, 'dipke': 5727, 'dipncet': 5728, 'dftr': 5729, 'ampk': 5730, 'keduanya': 5731, 'khawatirkan': 5732, 'tertahan': 5733, 'mang': 5734, 'siihh': 5735, 'alllianz': 5736, 'gka': 5737, 'massage': 5738, 'kenceng': 5739, 'transportasi': 5740, 'badahal': 5741, 'aditya': 5742, 'rahman': 5743, 'lang': 5744, 'sung': 5745, 'okk': 5746, 'gunawan': 5747, 'sangag': 5748, 'ovvo': 5749, 'bayangkan': 5750, 'terkomunikasi': 5751, 'mengerikan': 5752, 'membantj': 5753, 'jelasannya': 5754, 'berbintang': 5755, 'simvatatin': 5756, 'ursodeoxycholic': 5757, 'acid': 5758, 'dikasihnya': 5759, 'remajakan': 5760, 'sakiiiitt': 5761, 'syariah': 5762, 'bsm': 5763, 'tip': 5764, 'memegang': 5765, 'kereeeen': 5766, 'kenalan': 5767, 'sangar': 5768, 'rekomendet': 5769, 'pasty': 5770, 'peninjauannya': 5771, 'hatur': 5772, 'aamin': 5773, 'masyaallh': 5774, 'tabarakalloh': 5775, 'kannn': 5776, 'beramnafaat': 5777, 'membnatuu': 5778, 'sangta': 5779, 'vhalo': 5780, 'gatis': 5781, 'ditubuh': 5782, 'krmah': 5783, 'terjawap': 5784, 'berafiliasi': 5785, 'ri': 5786, 'lebihhh': 5787, 'memudahkn': 5788, 'peetolongan': 5789, 'tetsedia': 5790, 'ratna': 5791, 'mariana': 5792, 'menggunkn': 5793, 'wajarlah': 5794, 'topp': 5795, 'pkonya': 5796, 'ditanggung': 5797, 'bberapa': 5798, 'pambayaran': 5799, 'domper': 5800, 'withdraws': 5801, 'rekeninh': 5802, 'keluan': 5803, 'elektronik': 5804, 'anjurannya': 5805, 'onlne': 5806, 'lewate': 5807, 'pad': 5808, 'semt': 5809, 'telatten': 5810, 'dihallodoc': 5811, 'memperjelas': 5812, 'cristin': 5813, 'menegecewakan': 5814, 'binatang': 5815, 'benalu': 5816, 'tersentuh': 5817, 'loo': 5818, 'buangettttttttt': 5819, 'pg': 5820, 'alu': 5821, 'dipriksa': 5822, 'boo': 5823, 'contek': 5824, 'terhubungkan': 5825, 'lagin': 5826, 'bisul': 5827, 'kempes': 5828, 'ngedapet': 5829, 'membigunkan': 5830, 'pagilan': 5831, 'sekalin': 5832, 'tolonnn': 5833, 'peninggi': 5834, 'aksih': 5835, 'berfaat': 5836, 'jempolan': 5837, 'beress': 5838, 'detel': 5839, 'ccok': 5840, 'quota': 5841, 'downloas': 5842, 'hpus': 5843, 'awesome': 5844, 'jagoan': 5845, 'tercantum': 5846, 'ditugaskan': 5847, 'imbanglah': 5848, 'ndk': 5849, 'kh': 5850, 'apresiasi': 5851, 'srti': 5852, 'diacc': 5853, 'terangkat': 5854, 'fasilitasnya': 5855, 'banger': 5856, 'neh': 5857, 'teeus': 5858, 'slamanya': 5859, 'diandelin': 5860, 'berdasar': 5861, 'pantauan': 5862, 'payanan': 5863, 'mematuhi': 5864, 'hem': 5865, 'somaga': 5866, 'tersimpan': 5867, 'menertawakan': 5868, 'tersinggung': 5869, 'tertop': 5870, 'nembus': 5871, 'logout': 5872, 'dbeli': 5873, 'rhinos': 5874, 'memperbaharui': 5875, 'alhamdullih': 5876, 'terkiirim': 5877, 'bravoooo': 5878, 'richard': 5879, 'samsudin': 5880, 'comprehensive': 5881, 'melayni': 5882, 'prodia': 5883, 'trkait': 5884, 'shng': 5885, 'dhlu': 5886, 'diinformasikan': 5887, 'pemghasilan': 5888, 'pelacak': 5889, 'hectic': 5890, 'melany': 5891, 'mpun': 5892, 'rèspon': 5893, 'lma': 5894, 'recomen': 5895, 'lumited': 5896, 'wortedd': 5897, 'nganjurin': 5898, 'ikhlasin': 5899, 'pengoperasiannya': 5900, 'tuntuk': 5901, 'langasung': 5902, 'mempengaruh': 5903, 'sangaaaaat': 5904, 'penjawab': 5905, 'gooddddd': 5906, 'ribeettt': 5907, 'tengkyuuu': 5908, 'bhasa': 5909, 'fakir': 5910, 'betulkan': 5911, 'camkan': 5912, 'mberi': 5913, 'jaauh': 5914, 'selega': 5915, 'vocher': 5916, 'bapa': 5917, 'matikan': 5918, 'keamannya': 5919, 'pengetikan': 5920, 'berlubang': 5921, 'fotonya': 5922, 'statis': 5923, 'wibawa': 5924, 'narik': 5925, 'bertnya': 5926, 'mrk': 5927, 'menjwb': 5928, 'akhh': 5929, 'bedain': 5930, 'pertimbangan': 5931, 'sesama': 5932, 'nd': 5933, 'dimohon': 5934, 'nyerah': 5935, 'tanyakam': 5936, 'sngan': 5937, 'mmpunyai': 5938, 'mengatsi': 5939, 'copas': 5940, 'salahkan': 5941, 'pandainya': 5942, 'konfir': 5943, 'susahh': 5944, 'kecewaaa': 5945, 'mengantuk': 5946, 'cumn': 5947, 'yolong': 5948, 'perpsnjang': 5949, 'tnyak': 5950, 'kejawab': 5951, 'pertnyakannya': 5952, 'sebar': 5953, 'luaskan': 5954, 'jawabkan': 5955, 'penyampain': 5956, 'sekai': 5957, 'andwi': 5958, 'direcomend': 5959, 'bulak': 5960, 'tn': 5961, 'achmad': 5962, 'tlfn': 5963, 'diutamakan': 5964, 'terburuk': 5965, 'idenya': 5966, 'eksekusi': 5967, 'kereeeeennnn': 5968, 'kemanusiaan': 5969, 'medikasi': 5970, 'kertersediaan': 5971, 'dibicarakan': 5972, 'perbesar': 5973, 'jaringga': 5974, 'dey': 5975, 'apapa': 5976, 'perlunya': 5977, 'dsbg': 5978, 'melakukannya': 5979, 'hawatirkn': 5980, 'mencangkup': 5981, 'sekirannya': 5982, 'apresiatif': 5983, 'doķternya': 5984, 'perum': 5985, 'ciputat': 5986, 'kasiam': 5987, 'depanya': 5988, 'pulangnya': 5989, 'dikomplen': 5990, 'puasdgn': 5991, 'hm': 5992, 'yamin': 5993, 'sesampainya': 5994, 'labih': 5995, 'sekaki': 5996, 'disat': 5997, 'acoount': 5998, 'kbnykn': 5999, 'pampera': 6000, 'oto': 6001, 'celana': 6002, 'pampers': 6003, 'muat': 6004, 'usg': 6005, 'mkn': 6006, 'internetnya': 6007, 'ut': 6008, 'baguuuss': 6009, 'brmnfaat': 6010, 'bhan': 6011, 'pertimbgan': 6012, 'konektivitas': 6013, 'hatus': 6014, 'terbalik': 6015, 'dehhhhh': 6016, 'tetimakasih': 6017, 'perrama': 6018, 'berjadual': 6019, 'mancung': 6020, 'keaadaan': 6021, 'jadual': 6022, 'frifikasi': 6023, 'ino': 6024, 'aih': 6025, 'butih': 6026, 'bagu': 6027, 'diperibet': 6028, 'bisnis': 6029, 'pulih': 6030, 'ramahramah': 6031, 'skaiy': 6032, 'ucapan': 6033, 'gajadi': 6034, 'dilamain': 6035, 'serving': 6036, 'dikenbalikan': 6037, 'mengadakan': 6038, 'ngejawab': 6039, 'sertivikatny': 6040, 'latihan': 6041, 'bernafas': 6042, 'bertahan': 6043, 'benerr': 6044, 'kejadinnya': 6045, 'adikku': 6046, 'norek': 6047, 'database': 6048, 'kapal': 6049, 'dikapal': 6050, 'ndan': 6051, 'dipelosok': 6052, 'ai': 6053, 'human': 6054, 'seumpamanya': 6055, 'beriboenjelasan': 6056, 'donlowd': 6057, 'msukan': 6058, 'frezee': 6059, 'updte': 6060, 'slanjut': 6061, 'sehatan': 6062, 'tempuh': 6063, 'regestrasi': 6064, 'tampilnya': 6065, 'tentukan': 6066, 'juaraaa': 6067, 'keahliannya': 6068, 'membatasi': 6069, 'kegiatan': 6070, 'unit': 6071, 'creepy': 6072, 'kbanyakan': 6073, 'respontif': 6074, 'chsting': 6075, 'hanifah': 6076, 'kronologis': 6077, 'diselesain': 6078, 'berbobot': 6079, 'fat': 6080, 'slah': 6081, 'yuven': 6082, 'bergkat': 6083, 'wlw': 6084, 'ganas': 6085, 'dimargin': 6086, 'ekspektasi': 6087, 'pengarahannya': 6088, 'dibalikinnya': 6089, 'mnrut': 6090, 'mantengin': 6091, 'followup': 6092, 'bapuk': 6093, 'resign': 6094, 'aeee': 6095, 'trimakasib': 6096, 'dirver': 6097, 'ater': 6098, 'gamaasuk': 6099, 'sbuk': 6100, 'sesali': 6101, 'spesiali': 6102, 'dsmping': 6103, 'istrhat': 6104, 'bagai': 6105, 'berhemat': 6106, 'permbayaran': 6107, 'suamipun': 6108, 'mengatur': 6109, 'mencerdaskan': 6110, 'kupang': 6111, 'ntt': 6112, 'minimum': 6113, 'seadnya': 6114, 'aplikais': 6115, 'burikkk': 6116, 'hollodoc': 6117, 'percakapn': 6118, 'lampiran': 6119, 'maksimalkan': 6120, 'dgr': 6121, 'suport': 6122, 'vaksinisasi': 6123, 'sumatera': 6124, 'mbanti': 6125, 'imitasi': 6126, 'mengkorupsi': 6127, 'dengann': 6128, 'pasienn': 6129, 'dimaksimalkan': 6130, 'langsunh': 6131, 'diberikam': 6132, 'ppuas': 6133, 'aplikasinyaa': 6134, 'finansial': 6135, 'trselesaikan': 6136, 'dokyernya': 6137, 'mh': 6138, 'haloc': 6139, 'ardhi': 6140, 'syukaaa': 6141, 'berkolsultasi': 6142, 'dod': 6143, 'trimahkasi': 6144, 'terkunci': 6145, 'bisalah': 6146, 'sejalan': 6147, 'searching': 6148, 'datail': 6149, 'panedemi': 6150, 'psoriasis': 6151, 'naikkan': 6152, 'before': 6153, 'bangts': 6154, 'menilainya': 6155, 'pengantara': 6156, 'ampul': 6157, 'ribek': 6158, 'hpkj': 6159, 'dipanggi': 6160, 'akting': 6161, 'ambilnya': 6162, 'lister': 6163, 'musibah': 6164, 'bertolak': 6165, 'doketrnya': 6166, 'delete': 6167, 'ngescroll': 6168, 'terpampang': 6169, 'tersolusikan': 6170, 'eits': 6171, 'berketerbatasan': 6172, 'mou': 6173, 'persetujuan': 6174, 'tangapannya': 6175, 'twmpat': 6176, 'apppointment': 6177, 'trimaksh': 6178, 'membedakan': 6179, 'karakteristik': 6180, 'kejelasannya': 6181, 'mambatu': 6182, 'corry': 6183, 'khathreen': 6184, 'portable': 6185, 'mengefaluasi': 6186, 'sulahkan': 6187, 'lompat': 6188, 'mkin': 6189, 'keahlinya': 6190, 'unsur': 6191, 'nn': 6192, 'dikolom': 6193, 'miskomunikasi': 6194, 'sedetik': 6195, 'filed': 6196, 'segitunya': 6197, 'ampuun': 6198, 'indomaretnya': 6199, 'pt': 6200, 'berharganya': 6201, 'prngambilan': 6202, 'sebatas': 6203, 'kalimat': 6204, 'teks': 6205, 'ngekorup': 6206, 'jijik': 6207, 'suksesterus': 6208, 'cumaa': 6209, 'didatangi': 6210, 'articlenya': 6211, 'article': 6212, 'scrolll': 6213, 'ditangganinnya': 6214, 'keputus': 6215, 'anyway': 6216, 'gawatdarurat': 6217, 'ehehehe': 6218, 'haripun': 6219, 'kelukan': 6220, 'kunsultasinya': 6221, 'kuliahnya': 6222, 'oemasukan': 6223, 'mreka': 6224, 'galaxy': 6225, 'smbong': 6226, 'kasihhh': 6227, 'ditf': 6228, 'tingaktin': 6229, 'dmalam': 6230, 'mengahiri': 6231, 'opini': 6232, 'keinginan': 6233, 'seru': 6234, 'tanggepin': 6235, 'nyelesain': 6236, 'resource': 6237, 'alodoct': 6238, 'negatip': 6239, 'suwaami': 6240, 'nyolot': 6241, 'ngajak': 6242, 'berantem': 6243, 'innya': 6244, 'denganpertanyaan': 6245, 'semejak': 6246, 'mintanya': 6247, 'terimasih': 6248, 'duk': 6249, 'memperpanjang': 6250, 'krusial': 6251, 'tehnologi': 6252, 'nunaknunuk': 6253, 'knfo': 6254, 'ramh': 6255, 'blgnya': 6256, 'kcuali': 6257, 'hadech': 6258, 'trrbaru': 6259, 'munculnya': 6260, 'telemedisin': 6261, 'bimbingan': 6262, 'dannnnn': 6263, 'knowledge': 6264, 'diputuskan': 6265, 'chattnya': 6266, 'indra': 6267, 'cahya': 6268, 'paracetamol': 6269, 'dikirimin': 6270, 'dilancarkan': 6271, 'tidakannya': 6272, 'shope': 6273, 'pengantr': 6274, 'waktuny': 6275, 'klanjutannya': 6276, 'tabyakan': 6277, 'soalmy': 6278, 'dimunculkan': 6279, 'frans': 6280, 'jeremy': 6281, 'dibawakan': 6282, 'bgg': 6283, 'mnm': 6284, 'bobo': 6285, 'begadang': 6286, 'skitnya': 6287, 'watu': 6288, 'peralatan': 6289, 'membelinya': 6290, 'jenuh': 6291, 'anterian': 6292, 'mengetiknya': 6293, 'hijaunya': 6294, 'kyknya': 6295, 'pembeyarannya': 6296, 'datengnya': 6297, 'too': 6298, 'gregetttt': 6299, 'ana': 6300, 'suukaa': 6301, 'brppun': 6302, 'menjeleskan': 6303, 'dimanfaatkan': 6304, 'kesehatn': 6305, 'menjadikan': 6306, 'kpnsultasi': 6307, 'sblumnya': 6308, 'mjleskan': 6309, 'mmberikn': 6310, 'mtikan': 6311, 'brterima': 6312, 'kegagalan': 6313, 'kmren': 6314, 'sekiranya': 6315, 'melayaninya': 6316, 'pelayannan': 6317, 'doktt': 6318, 'maasyaallah': 6319, 'trimakaih': 6320, 'dirs': 6321, 'puskes': 6322, 'bhkan': 6323, 'keluyuran': 6324, 'mematok': 6325, 'tunjukin': 6326, 'verifikasikasinya': 6327, 'gomednya': 6328, 'gosent': 6329, 'terkuras': 6330, 'maha': 6331, 'kuasa': 6332, 'pertnyan': 6333, 'oprasional': 6334, 'menselesaikan': 6335, 'taadi': 6336, 'sangaatttt': 6337, 'psi': 6338, 'stuasi': 6339, 'sekarng': 6340, 'terbaikkkkkk': 6341, 'subhanaallah': 6342, 'langsing': 6343, 'mempertinggi': 6344, 'taraf': 6345, 'keselamatan': 6346, 'apus': 6347, 'abisin': 6348, 'kebih': 6349, 'ceritakan': 6350, 'sedetil': 6351, 'meghindari': 6352, 'self': 6353, 'diagnosed': 6354, 'mempan': 6355, 'youu': 6356, 'rapat': 6357, 'menggali': 6358, 'kelupaan': 6359, 'wadidaw': 6360, 'wadiwaw': 6361, 'diobati': 6362, 'klwr': 6363, 'membantuk': 6364, 'cocokan': 6365, 'ferdinandus': 6366, 'same': 6367, 'day': 6368, 'dimintakan': 6369, 'noww': 6370, 'kedapan': 6371, 'nyah': 6372, 'trussss': 6373, 'tercata': 6374, 'cakupan': 6375, 'stars': 6376, 'gerd': 6377, 'anxiety': 6378, 'berlebih': 6379, 'pemyakit': 6380, 'bijikin': 6381, 'sepsialis': 6382, 'ojeknya': 6383, 'pngrim': 6384, 'rancabango': 6385, 'mumer': 6386, 'ditanganin': 6387, 'catatannya': 6388, 'pantes': 6389, 'keluatannya': 6390, 'dengen': 6391, 'menyengsarakan': 6392, 'sekaranh': 6393, 'totalnyatidak': 6394, 'doktery': 6395, 'maf': 6396, 'hbngi': 6397, 'awalx': 6398, 'keluhakan': 6399, 'rsepkan': 6400, 'umumx': 6401, 'halodoctor': 6402, 'indryan': 6403, 'baguusssssssss': 6404, 'dnnjuga': 6405, 'diladeni': 6406, 'booster': 6407, 'menguraikan': 6408, 'sbenernya': 6409, 'sukur': 6410, 'bekal': 6411, 'periksakan': 6412, 'mempermudahkan': 6413, 'tengtang': 6414, 'rasakn': 6415, 'afanya': 6416, 'menakutkan': 6417, 'dibebaskan': 6418, 'telusuri': 6419, 'ditingkat': 6420, 'penjlsn': 6421, 'terimksh': 6422, 'mwnunggu': 6423, 'suratnya': 6424, 'kekhawatiranku': 6425, 'tmp': 6426, 'sure': 6427, 'bintg': 6428, 'menggunanakan': 6429, 'range': 6430, 'hihi': 6431, 'baaaaaaaanyak': 6432, 'keterdiaan': 6433, 'membimbing': 6434, 'pangkal': 6435, 'hidung': 6436, 'dirimu': 6437, 'melupakanmu': 6438, 'mkseh': 6439, 'sangka': 6440, 'douwnload': 6441, 'tasa': 6442, 'gomart': 6443, 'tersertifikasi': 6444, 'pemerataan': 6445, 'berkarir': 6446, 'rahasia': 6447, 'perlakuannya': 6448, 'perfesional': 6449, 'isnya': 6450, 'simbiosismutualisme': 6451, 'deliveri': 6452, 'trjadi': 6453, 'mmberi': 6454, 'terrus': 6455, 'prkatis': 6456, 'touch': 6457, 'harusss': 6458, 'gimanaa': 6459, 'donkkk': 6460, 'rkening': 6461, 'dperbanyak': 6462, 'dowloand': 6463, 'perutnya': 6464, 'menguras': 6465, 'ygmau': 6466, 'aplokasi': 6467, 'perumahannya': 6468, 'antigatal': 6469, 'nyenyak': 6470, 'cerewet': 6471, 'tanua': 6472, 'parnter': 6473, 'diorderin': 6474, 'dibentak': 6475, 'bentak': 6476, 'teror': 6477, 'menampilkan': 6478, 'penghapus': 6479, 'cat': 6480, 'kuku': 6481, 'nail': 6482, 'remover': 6483, 'botolnya': 6484, 'setok': 6485, 'permasalahanku': 6486, 'pertanyaanku': 6487, 'dipahmi': 6488, 'ajahh': 6489, 'baguuuusss': 6490, 'nanyak': 6491, 'dikurangi': 6492, 'errornya': 6493, 'bermaslaah': 6494, 'kaaih': 6495, 'transparan': 6496, 'viyamin': 6497, 'sungkan': 6498, 'melanjutkan': 6499, 'bguss': 6500, 'grtisan': 6501, 'pemanis': 6502, 'sangangat': 6503, 'loadingnya': 6504, 'muternya': 6505, 'rumus': 6506, 'matimatika': 6507, 'memperibut': 6508, 'perduli': 6509, 'kejar': 6510, 'usai': 6511, 'adriansyah': 6512, 'defeloper': 6513, 'dihindarkan': 6514, 'senuawa': 6515, 'rekomendasiin': 6516, 'nyebelin': 6517, 'bekeerja': 6518, 'diusahakan': 6519, 'dikembaliin': 6520, 'paketannya': 6521, 'terintegras': 6522, 'upayakan': 6523, 'expetasi': 6524, 'boh': 6525, 'fair': 6526, 'slogan': 6527, 'menitt': 6528, 'pembahasan': 6529, 'jdny': 6530, 'sponsor': 6531, 'cesar': 6532, 'oktapianto': 6533, 'karirnya': 6534, 'membutukan': 6535, 'ttpi': 6536, 'kerumh': 6537, 'keteran': 6538, 'palsu': 6539, 'print': 6540, 'duwit': 6541, 'randome': 6542, 'room': 6543, 'sommsedd': 6544, 'konssultasi': 6545, 'pemerikasaan': 6546, 'mempermainkan': 6547, 'cibis': 6548, 'keberangkatan': 6549, 'lambarnya': 6550, 'overated': 6551, 'suntuk': 6552, 'respos': 6553, 'curhatnya': 6554, 'disimak': 6555, 'ngecrash': 6556, 'huftt': 6557, 'gataukan': 6558, 'flexible': 6559, 'gmh': 6560, 'jl': 6561, 'serdang': 6562, 'jemput': 6563, 'sift': 6564, 'smuahh': 6565, 'tunda': 6566, 'memaksimalkan': 6567, 'berapaoun': 6568, 'tembus': 6569, 'informativ': 6570, 'jtg': 6571, 'srg': 6572, 'cucu': 6573, 'pelayanannaya': 6574, 'habisss': 6575, 'mndengarkan': 6576, 'pokokmen': 6577, 'siiip': 6578, 'let': 6579, 'see': 6580, 'halifoc': 6581, 'ceger': 6582, 'tmii': 6583, 'jatibening': 6584, 'banjir': 6585, 'tpln': 6586, 'perhari': 6587, 'buku': 6588, 'tabungan': 6589, 'dberikn': 6590, 'tggal': 6591, 'entahlah': 6592, 'voice': 6593, 'dibalasnya': 6594, 'hya': 6595, 'kecawa': 6596, 'pengajuan': 6597, 'tenanga': 6598, 'nggunain': 6599, 'kalut': 6600, 'vidcall': 6601, 'reimbursement': 6602, 'boss': 6603, 'riwiew': 6604, 'secinta': 6605, 'hidupku': 6606, 'menderita': 6607, 'menyimpan': 6608, 'menstruasinya': 6609, 'sertakan': 6610, 'otot': 6611, 'draftnya': 6612, 'bngat': 6613, 'number': 6614, 'betele': 6615, 'ketahui': 6616, 'sale': 6617, 'flores': 6618, 'puskesmaspun': 6619, 'sipp': 6620, 'makasihh': 6621, 'aspar': 6622, 'rafiq': 6623, 'responship': 6624, 'text': 6625, 'mengejar': 6626, 'uk': 6627, 'paraaaaahhhhh': 6628, 'mmkai': 6629, 'kdpan': 6630, 'pengepakan': 6631, 'menunngu': 6632, 'riquest': 6633, 'ripuest': 6634, 'diurus': 6635, 'boro': 6636, 'bergunaa': 6637, 'hatinya': 6638, 'nawar': 6639, 'sajalah': 6640, 'kerjain': 6641, 'fikir': 6642, 'followers': 6643, 'mengubungi': 6644, 'kebanyak': 6645, 'jod': 6646, 'perincian': 6647, 'kentungannya': 6648, 'tingkatin': 6649, 'dicatat': 6650, 'akhrny': 6651, 'intens': 6652, 'menghidupi': 6653, 'dinikmati': 6654, 'tersebar': 6655, 'daftarr': 6656, 'ngatri': 6657, 'menghentikan': 6658, 'kamo': 6659, 'wni': 6660, 'faham': 6661, 'support': 6662, 'penyuluhan': 6663, 'confirm': 6664, 'okey': 6665, 'feli': 6666, 'bias': 6667, 'gamblang': 6668, 'apabilakita': 6669, 'terharuuuu': 6670, 'bangrt': 6671, 'sbgai': 6672, 'ngurangin': 6673, 'konsultasinyaaa': 6674, 'lumayankan': 6675, 'estemasi': 6676, 'terimakan': 6677, 'julia': 6678, 'puspita': 6679, 'kondisinya': 6680, 'fina': 6681, 'reponnya': 6682, 'pengaktifan': 6683, 'menyebut': 6684, 'tunjuk': 6685, 'memasang': 6686, 'usianya': 6687, 'kondiai': 6688, 'aplik': 6689, 'bggt': 6690, 'clinic': 6691, 'yasinta': 6692, 'astria': 6693, 'njir': 6694, 'dimuka': 6695, 'menghabis': 6696, 'otto': 6697, 'tanujaya': 6698, 'bayarin': 6699, 'deliverynya': 6700, 'berjumpa': 6701, 'apaagi': 6702, 'sertai': 6703, 'mengkomersilkan': 6704, 'dimataku': 6705, 'tbt': 6706, 'dikarnakan': 6707, 'berkarya': 6708, 'plz': 6709, 'terimakasib': 6710, 'terasedia': 6711, 'masukkannya': 6712, 'menginstallnya': 6713, 'apliaksinya': 6714, 'bagimana': 6715, 'diatar': 6716, 'yuanita': 6717, 'iskandar': 6718, 'dev': 6719, 'refun': 6720, 'maling': 6721, 'dikurangin': 6722, 'openminded': 6723, 'ist': 6724, 'btn': 6725, 'komplikasi': 6726, 'kenapaa': 6727, 'alfabet': 6728, 'karater': 6729, 'resoon': 6730, 'invoasinya': 6731, 'ogahan': 6732, 'fee': 6733, 'doktermya': 6734, 'rsa': 6735, 'selesaiin': 6736, 'siiippppp': 6737, 'uwu': 6738, 'gans': 6739, 'donlodddd': 6740, 'mukti': 6741, 'mulianto': 6742, 'pembicaraannya': 6743, 'gagalin': 6744, 'ditransfer': 6745, 'jozzz': 6746, 'perusuhaan': 6747, 'cakra': 6748, 'mndiri': 6749, 'gaul': 6750, 'pendidikannya': 6751, 'berusia': 6752, 'rongsen': 6753, 'prepesi': 6754, 'kelewat': 6755, 'buset': 6756, 'layarnya': 6757, 'be': 6758, 'ge': 6759, 'anterinnya': 6760, 'permslhn': 6761, 'sepwrti': 6762, 'pengalamn': 6763, 'pertm': 6764, 'tnggl': 6765, 'mmnta': 6766, 'applksi': 6767, 'diir': 6768, 'trimakasihh': 6769, 'empati': 6770, 'denger': 6771, 'nyesek': 6772, 'trtutup': 6773, 'gugel': 6774, 'launching': 6775, 'yampun': 6776, 'mahar': 6777, 'cintya': 6778, 'kalah': 6779, 'menuya': 6780, 'selamanya': 6781, 'goojek': 6782, 'bertanyak': 6783, 'tambain': 6784, 'ngkk': 6785, 'ram': 6786, 'telkomsel': 6787, 'disayangkn': 6788, 'memungkin': 6789, 'keluat': 6790, 'buluh': 6791, 'pelayanaan': 6792, 'gugup': 6793, 'konsep': 6794, 'paratusin': 6795, 'margin': 6796, 'hadeehhhhhh': 6797, 'kulsultasi': 6798, 'membandingkan': 6799, 'disegala': 6800, 'mika': 6801, 'dalm': 6802, 'langsubg': 6803, 'taanggapan': 6804, 'terunduh': 6805, 'salahnya': 6806, 'dicantumin': 6807, 'pembohongan': 6808, 'publik': 6809, 'sukes': 6810, 'jauhnya': 6811, 'sopir': 6812, 'nyantol': 6813, 'nyedot': 6814, 'dpkternya': 6815, 'gemana': 6816, 'seleluasa': 6817, 'angat': 6818, 'hafidh': 6819, 'terimahkasih': 6820, 'sharelok': 6821, 'terditeksi': 6822, 'biysanya': 6823, 'shiping': 6824, 'dijalan': 6825, 'haduhh': 6826, 'mendapt': 6827, 'blasan': 6828, 'brlallu': 6829, 'nota': 6830, 'sentra': 6831, 'pingiriman': 6832, 'memggunakan': 6833, 'memaklumi': 6834, 'pedagang': 6835, 'penjelasn': 6836, 'net': 6837, 'laku': 6838, 'insha': 6839, 'alamatku': 6840, 'tatalaksana': 6841, 'tertama': 6842, 'parnoan': 6843, 'malemnya': 6844, 'enam': 6845, 'dikomplain': 6846, 'sertaaa': 6847, 'positifnya': 6848, 'kemamana': 6849, 'penangana': 6850, 'gece': 6851, 'obag': 6852, 'pulihkan': 6853, 'exsisting': 6854, 'cut': 6855, 'pengirman': 6856, 'postingan': 6857, 'langkanya': 6858, 'terkaitlah': 6859, 'kasij': 6860, 'menberikan': 6861, 'blon': 6862, 'cool': 6863, 'sebutin': 6864, 'dudukmanis': 6865, 'nyape': 6866, 'kebanggaan': 6867, 'panduan': 6868, 'diciptakannya': 6869, 'jalankan': 6870, 'zalim': 6871, 'dblokir': 6872, 'mengkoneksikan': 6873, 'pelanggannya': 6874, 'bikinnorg': 6875, 'sndr': 6876, 'lewar': 6877, 'gqes': 6878, 'pembyaran': 6879, 'donwloand': 6880, 'askamex': 6881, 'triomin': 6882, 'minisnya': 6883, 'standbay': 6884, 'menjelskan': 6885, 'pertanaan': 6886, 'penjuru': 6887, 'inginnya': 6888, 'mala': 6889, 'jawabin': 6890, 'dicerna': 6891, 'symptoms': 6892, 'antisipasi': 6893, 'menjabarkan': 6894, 'disajikan': 6895, 'berdedikasi': 6896, 'dimasukkan': 6897, 'berpengaman': 6898, 'tebusnya': 6899, 'nmerku': 6900, 'jadiny': 6901, 'setau': 6902, 'prioritas': 6903, 'oertanyaan': 6904, 'kamis': 6905, 'aplikatif': 6906, 'henri': 6907, 'cekup': 6908, 'aaminn': 6909, 'ngubungin': 6910, 'anggaran': 6911, 'madalah': 6912, 'trimmsh': 6913, 'bantuanny': 6914, 'hadehhhhhhhh': 6915, 'awall': 6916, 'totalan': 6917, 'nghapus': 6918, 'poto': 6919, 'memintaknya': 6920, 'motoran': 6921, 'apkny': 6922, 'dibln': 6923, 'naek': 6924, 'untungny': 6925, 'dimanapu': 6926, 'rasax': 6927, 'manaa': 6928, 'berkerjakeras': 6929, 'dibarisan': 6930, 'melawan': 6931, 'bumiku': 6932, 'terupdate': 6933, 'tertular': 6934, 'khususnnya': 6935, 'sellu': 6936, 'mendedikasikan': 6937, 'ngebantuu': 6938, 'bestie': 6939, 'nasabah': 6940, 'berkedok': 6941, 'ati': 6942, 'aroma': 6943, 'coi': 6944, 'heiii': 6945, 'debitcard': 6946, 'dibelakang': 6947, 'hack': 6948, 'disadap': 6949, 'jahat': 6950, 'seketika': 6951, 'diantet': 6952, 'lumayaan': 6953, 'ekspetasi': 6954, 'transofix': 6955, 'november': 6956, 'gabsa': 6957, 'mngantar': 6958, 'ahkiri': 6959, 'apaansi': 6960, 'jitu': 6961, 'kacauuuu': 6962, 'diemail': 6963, 'skeluarga': 6964, 'carinya': 6965, 'menitnya': 6966, 'mmbatu': 6967, 'mbah': 6968, 'kebenaranya': 6969, 'tuhh': 6970, 'duka': 6971, 'keping': 6972, 'ctm': 6973, 'ditunjukan': 6974, 'ketunda': 6975, 'ntk': 6976, 'raga': 6977, 'adaa': 6978, 'adahalo': 6979, 'bisabayar': 6980, 'mahalllllll': 6981, 'pamdemi': 6982, 'alternative': 6983, 'difarmasi': 6984, 'anisa': 6985, 'spesialiasi': 6986, 'sunguh': 6987, 'seinget': 6988, 'iklankan': 6989, 'mistake': 6990, 'feny': 6991, 'curhatan': 6992, 'pencegahannya': 6993, 'pembyarannya': 6994, 'ata': 6995, 'rembuise': 6996, 'salahn': 6997, 'amalia': 6998, 'dinsaat': 6999, 'penanda': 7000, 'kekeranjang': 7001, 'tidaknya': 7002, 'datenya': 7003, 'mantaaappp': 7004, 'masukim': 7005, 'lamalama': 7006, 'dikembangin': 7007, 'hidupsehatbersama': 7008, 'rekomendsi': 7009, 'mengendap': 7010, 'menghindar': 7011, 'comfort': 7012, 'suskes': 7013, 'pengantian': 7014, 'almarhum': 7015, 'kesampaian': 7016, 'rekomendkan': 7017, 'maasyaaallah': 7018, 'pmbyaran': 7019, 'un': 7020, 'orangg': 7021, 'haduhhhh': 7022, 'tercepat': 7023, 'betapa': 7024, 'akurasi': 7025, 'ngarahin': 7026, 'serahkan': 7027, 'barangpun': 7028, 'korbannya': 7029, 'lahhhh': 7030, 'mempersulittttt': 7031, 'rban': 7032, 'terdiri': 7033, 'tiidak': 7034, 'kardus': 7035, 'terimakasoh': 7036, 'operator': 7037, 'ibat': 7038, 'memilikinya': 7039, 'aparat': 7040, 'terserah': 7041, 'monggo': 7042, 'bari': 7043, 'panti': 7044, 'penuhi': 7045, 'wadaw': 7046, 'msa': 7047, 'meleset': 7048, 'sinkronkan': 7049, 'nomornya': 7050, 'akunnya': 7051, 'merebak': 7052, 'perjelas': 7053, 'teimakasih': 7054, 'nginstal': 7055, 'bayarannya': 7056, 'menhgunakan': 7057, 'masihhh': 7058, 'grogiii': 7059, 'berkonsultasiii': 7060, 'terbantuuu': 7061, 'karir': 7062, 'kenyang': 7063, 'jawwabnya': 7064, 'pembelianmu': 7065, 'onlen': 7066, 'cocoknya': 7067, 'konsultasinyadan': 7068, 'mom': 7069, 'serinya': 7070, 'resi': 7071, 'ketergantungan': 7072, 'lnngsng': 7073, 'sedihh': 7074, 'uwe': 7075, 'kga': 7076, 'terkapar': 7077, 'persesi': 7078, 'ribeet': 7079, 'kenyamanannya': 7080, 'eehh': 7081, 'dokte': 7082, 'selvim': 7083, 'kolesterol': 7084, 'mahh': 7085, 'ghoib': 7086, 'tramsaksi': 7087, 'angin': 7088, 'ujan': 7089, 'weh': 7090, 'brbayar': 7091, 'gadak': 7092, 'dimbah': 7093, 'ntinya': 7094, 'brbyar': 7095, 'dihimbau': 7096, 'left': 7097, 'ngucapin': 7098, 'apapunn': 7099, 'vs': 7100, 'zp': 7101, 'velutin': 7102, 'inhealer': 7103, 'terkreditkan': 7104, 'melapor': 7105, 'kurangi': 7106, 'sehebat': 7107, 'sarang': 7108, 'sekaali': 7109, 'puasssss': 7110, 'marsella': 7111, 'tlfon': 7112, 'curiga': 7113, 'bermampaat': 7114, 'wooww': 7115, 'tekhnology': 7116, 'panasan': 7117, 'luaar': 7118, 'bensin': 7119, 'ekonomis': 7120, 'androit': 7121, 'judulnya': 7122, 'empat': 7123, 'gituuu': 7124, 'mantaps': 7125, 'heheheheheh': 7126, 'cus': 7127, 'yeaay': 7128, 'saraan': 7129, 'dokterrr': 7130, 'dikantor': 7131, 'diantarin': 7132, 'life': 7133, 'easier': 7134, 'sayya': 7135, 'detaill': 7136, 'mengklik': 7137, 'udahh': 7138, 'zamann': 7139, 'milineal': 7140, 'berbasis': 7141, 'yakk': 7142, 'dipraktekan': 7143, 'untunglah': 7144, 'menggunakam': 7145, 'vit': 7146, 'antapani': 7147, 'ciwastra': 7148, 'jauhan': 7149, 'gaksiasia': 7150, 'keamananya': 7151, 'superb': 7152, 'mood': 7153, 'dukungan': 7154, 'seorg': 7155, 'halodol': 7156, 'ugd': 7157, 'saluut': 7158, 'terkobeksi': 7159, 'brpnya': 7160, 'dibeeitahu': 7161, 'ty': 7162, 'matiin': 7163, 'teryata': 7164, 'mempertemukan': 7165, 'turuti': 7166, 'keringanan': 7167, 'boring': 7168, 'masanger': 7169, 'gojok': 7170, 'kosang': 7171, 'porforma': 7172, 'toron': 7173, 'merugi': 7174, 'ngimong': 7175, 'eek': 7176, 'mnebus': 7177, 'sreen': 7178, 'mayan': 7179, 'sebgai': 7180, 'anjlok': 7181, 'menyulitkan': 7182, 'roully': 7183, 'azhars': 7184, 'persyaratan': 7185, 'menerangkan': 7186, 'ngejelasinya': 7187, 'sinta': 7188, 'menocba': 7189, 'pelayananmya': 7190, 'binrang': 7191, 'pssca': 7192, 'bmi': 7193, 'miniml': 7194, 'bdan': 7195, 'surga': 7196, 'thaxs': 7197, 'gojeka': 7198, 'resept': 7199, 'calcel': 7200, 'adax': 7201, 'klrg': 7202, 'tebak': 7203, 'nymbung': 7204, 'recomendasi': 7205, 'id': 7206, 'blng': 7207, 'kotoran': 7208, 'disebabkan': 7209, 'tiris': 7210, 'keuangannya': 7211, 'pendapatan': 7212, 'penjaminan': 7213, 'biang': 7214, 'memarahi': 7215, 'nabung': 7216, 'nada': 7217, 'terobosan': 7218, 'moderen': 7219, 'alfiana': 7220, 'baruu': 7221, 'nyobaa': 7222, 'bersamaan': 7223, 'tertinggi': 7224, 'dijanjilan': 7225, 'intisari': 7226, 'skoter': 7227, 'keliatannya': 7228, 'materialistis': 7229, 'yar': 7230, 'secra': 7231, 'obh': 7232, 'combi': 7233, 'jahe': 7234, 'madiun': 7235, 'epilepsi': 7236, 'millenial': 7237, 'fixss': 7238, 'cariin': 7239, 'syuukaa': 7240, 'okeh': 7241, 'aplksnya': 7242, 'nelen': 7243, 'disembuh': 7244, 'adehhh': 7245, 'berhentinya': 7246, 'sharingnya': 7247, 'dlh': 7248, 'dukung': 7249, 'mmberikan': 7250, 'fahmi': 7251, 'bahar': 7252, 'pukesmas': 7253, 'mengenakan': 7254, 'wendy': 7255, 'trimakash': 7256, 'bekerjanya': 7257, 'mersa': 7258, 'goodd': 7259, 'telekonsultasi': 7260, 'mslkan': 7261, 'soalny': 7262, 'sksess': 7263, 'yach': 7264, 'alikasi': 7265, 'telek': 7266, 'tmpat': 7267, 'kecewaaaaa': 7268, 'poollll': 7269, 'disrh': 7270, 'penyakitnyaa': 7271, 'cap': 7272, 'ostiocom': 7273, 'kerennnnn': 7274, 'maximal': 7275, 'cuiii': 7276, 'halal': 7277, 'merata': 7278, 'mnding': 7279, 'dapwt': 7280, 'mnghadapi': 7281, 'masaalh': 7282, 'mobilitas': 7283, 'diperoleh': 7284, 'penyakitan': 7285, 'zania': 7286, 'dianggap': 7287, 'drever': 7288, 'orderannya': 7289, 'keberatan': 7290, 'withdraw': 7291, 'smlm': 7292, 'ditlfn': 7293, 'mengaktif': 7294, 'tanggapam': 7295, 'silanhkan': 7296, 'meriksa': 7297, 'ribetnya': 7298, 'hayang': 7299, 'bermangfaat': 7300, 'battery': 7301, 'cobain': 7302, 'kudapat': 7303, 'dikrim': 7304, 'messenger': 7305, 'duty': 7306, 'mincraft': 7307, 'repson': 7308, 'plihan': 7309, 'spg': 7310, 'food': 7311, 'junction': 7312, 'patut': 7313, 'tiru': 7314, 'bekas': 7315, 'pisah': 7316, 'kebersihan': 7317, 'tertusuk': 7318, 'berisiko': 7319, 'conform': 7320, 'loyal': 7321, 'diungkapkan': 7322, 'didepan': 7323, 'maapnya': 7324, 'resppon': 7325, 'terbimbing': 7326, 'sakitku': 7327, 'beranti': 7328, 'perkembanganny': 7329, 'biasany': 7330, 'pet': 7331, 'ditawari': 7332, 'adadapun': 7333, 'kolsutasi': 7334, 'berserta': 7335, 'mnjwb': 7336, 'penolongan': 7337, 'keresahan': 7338, 'semiga': 7339, 'sekurangnya': 7340, 'submit': 7341, 'capeeekkk': 7342, 'menggembangkan': 7343, 'sejahtra': 7344, 'bohongi': 7345, 'tidam': 7346, 'masukinnya': 7347, 'ngeyel': 7348, 'angka': 7349, 'direkomendasi': 7350, 'iklhasan': 7351, 'yahhhhh': 7352, 'menggabungkan': 7353, 'urgenst': 7354, 'singkt': 7355, 'sucses': 7356, 'rela': 7357, 'keluasan': 7358, 'emailnya': 7359, 'smnjk': 7360, 'ngtri': 7361, 'halaodoc': 7362, 'mengatrkan': 7363, 'ngobatin': 7364, 'denagan': 7365, 'urgant': 7366, 'pencurian': 7367, 'kesehatanya': 7368, 'kooperative': 7369, 'kekecewaan': 7370, 'terobati': 7371, 'khususan': 7372, 'dedy': 7373, 'perlengkapan': 7374, 'kecantikan': 7375, 'mengalah': 7376, 'doakan': 7377, 'aya': 7378, 'plr': 7379, 'tindaklanjuti': 7380, 'ludes': 7381, 'cekout': 7382, 'sialny': 7383, 'bon': 7384, 'terkirimnya': 7385, 'ocd': 7386, 'dripada': 7387, 'direkomend': 7388, 'ditindaklanjutin': 7389, 'social': 7390, 'distancing': 7391, 'memudahlan': 7392, 'membuktikan': 7393, 'drivenya': 7394, 'letakan': 7395, 'tramsfer': 7396, 'daan': 7397, 'bojonggede': 7398, 'terua': 7399, 'baiki': 7400, 'kasihani': 7401, 'pakao': 7402, 'hmmmmmm': 7403, 'komfirmasinya': 7404, 'pertayaan': 7405, 'telemed': 7406, 'browser': 7407, 'berdiri': 7408, 'alfamaret': 7409, 'abaikan': 7410, 'berkonsultasinya': 7411, 'galeri': 7412, 'restrart': 7413, 'sebutkan': 7414, 'langusng': 7415, 'two': 7416, 'thumbs': 7417, 'penelpon': 7418, 'memprivasi': 7419, 'layanannnya': 7420, 'krj': 7421, 'suksma': 7422, 'saranx': 7423, 'mugkin': 7424, 'sldo': 7425, 'trmks': 7426, 'sayank': 7427, 'kereenn': 7428, 'cakep': 7429, 'chattingan': 7430, 'repotll': 7431, 'dokkter': 7432, 'punmemuaskan': 7433, 'penyiapan': 7434, 'bntuk': 7435, 'blznya': 7436, 'amirul': 7437, 'man': 7438, 'senoari': 7439, 'agatha': 7440, 'massayaaallooh': 7441, 'konsultasii': 7442, 'dberi': 7443, 'tugass': 7444, 'ikhlass': 7445, 'diarea': 7446, 'mndiagnosa': 7447, 'yola': 7448, 'inforamsi': 7449, 'trakingnya': 7450, 'tungkatkan': 7451, 'menggurangi': 7452, 'bego': 7453, 'protes': 7454, 'berbicar': 7455, 'memudahkann': 7456, 'tgh': 7457, 'tegal': 7458, 'trsedia': 7459, 'rw': 7460, 'cermat': 7461, 'prediksi': 7462, 'nakutin': 7463, 'ari': 7464, 'pikirkan': 7465, 'kepda': 7466, 'amanda': 7467, 'aspirasi': 7468, 'istrahatnya': 7469, 'jatah': 7470, 'sepelekan': 7471, 'scheduling': 7472, 'hardcopy': 7473, 'softcopy': 7474, 'sla': 7475, 'terluka': 7476, 'acara': 7477, 'ceo': 7478, 'asurasi': 7479, 'kenyataanya': 7480, 'settinganya': 7481, 'keinget': 7482, 'sesuatunya': 7483, 'banyakan': 7484, 'swasta': 7485, 'resfon': 7486, 'dkterx': 7487, 'terpecahkan': 7488, 'berespon': 7489, 'mendptkan': 7490, 'pengirimanx': 7491, 'enggaknya': 7492, 'dioptimalin': 7493, 'menambahkan': 7494, 'cao': 7495, 'seni': 7496, 'meningg': 7497, 'pass': 7498, 'menteng': 7499, 'disamperin': 7500, 'mar': 7501, 'kotoppp': 7502, 'mempelajari': 7503, 'lack': 7504, 'prodak': 7505, 'perbulan': 7506, 'vouchernya': 7507, 'ketujuan': 7508, 'menerka': 7509, 'nerka': 7510, 'halodocccc': 7511, 'clinik': 7512, 'terinakasih': 7513, 'sinii': 7514, 'lock': 7515, 'sinkronisasi': 7516, 'ditanggapin': 7517, 'twitter': 7518, 'hrh': 7519, 'tgngg': 7520, 'raib': 7521, 'updatean': 7522, 'padahalan': 7523, 'disitunya': 7524, 'disibuk': 7525, 'okkk': 7526, 'tetntang': 7527, 'masalahh': 7528, 'ketolong': 7529, 'reaponse': 7530, 'sekota': 7531, 'menanggani': 7532, 'beranak': 7533, 'kmana': 7534, 'kebaikanmu': 7535, 'ketengan': 7536, 'memotong': 7537, 'olah': 7538, 'brradapn': 7539, 'dugaan': 7540, 'hilangin': 7541, 'chatanbya': 7542, 'menjelekkan': 7543, 'sendi': 7544, 'istilah': 7545, 'saaya': 7546, 'knpaa': 7547, 'ketuka': 7548, 'merpermudah': 7549, 'ikhlas': 7550, 'jariah': 7551, 'jugak': 7552, 'cepaattttt': 7553, 'waaahhhhhhb': 7554, 'woooooowwww': 7555, 'khawari': 7556, 'gc': 7557, 'menguapload': 7558, 'disisi': 7559, 'muculkan': 7560, 'kterangan': 7561, 'dbatalkan': 7562, 'skrangpun': 7563, 'doong': 7564, 'hasilnyaaa': 7565, 'sianjing': 7566, 'rsnya': 7567, 'prantara': 7568, 'iniitu': 7569, 'preetttttttttt': 7570, 'tnyata': 7571, 'nglebihin': 7572, 'permulaan': 7573, 'nggu': 7574, 'keluarnya': 7575, 'mksi': 7576, 'kirimanpun': 7577, 'saviour': 7578, 'astaqfirullah': 7579, 'inilah': 7580, 'layan': 7581, 'kesediaan': 7582, 'ingis': 7583, 'menutup': 7584, 'roat': 7585, 'yeti': 7586, 'putra': 7587, 'njing': 7588, 'terapan': 7589, 'masayarakat': 7590, 'sudirman': 7591, 'direkom': 7592, 'luarkota': 7593, 'responmya': 7594, 'buatlah': 7595, 'fachrul': 7596, 'irsan': 7597, 'pembaharuan': 7598, 'endorse': 7599, 'dikeranjang': 7600, 'tnx': 7601, 'penjelasaannya': 7602, 'menyuruh': 7603, 'bntang': 7604, 'gaess': 7605, 'undian': 7606, 'kebangun': 7607, 'konkrit': 7608, 'teruskan': 7609, 'gapake': 7610, 'gapuna': 7611, 'dikurangkan': 7612, 'menunghu': 7613, 'mastarakat': 7614, 'pengaruhnya': 7615, 'coverage': 7616, 'trimakadih': 7617, 'berlanjut': 7618, 'padien': 7619, 'when': 7620, 'arround': 7621, 'alone': 7622, 'omongaann': 7623, 'mekasih': 7624, 'paginya': 7625, 'krng': 7626, 'ampyun': 7627, 'daaahh': 7628, 'pengangkatan': 7629, 'tumornya': 7630, 'kencing': 7631, 'gumpalan': 7632, 'tngah': 7633, 'mwnghubungi': 7634, 'sumenep': 7635, 'postif': 7636, 'peluang': 7637, 'kehilangan': 7638, 'pemasukan': 7639, 'alagi': 7640, 'nulisnya': 7641, 'keterlambatan': 7642, 'mengeles': 7643, 'jargon': 7644, 'membodohi': 7645, 'riskan': 7646, 'kedukun': 7647, 'pengorbanannya': 7648, 'bakar': 7649, 'konsulnnya': 7650, 'mantapss': 7651, 'melegakan': 7652, 'pharmacynya': 7653, 'heiiiii': 7654, 'berpikir': 7655, 'banyakk': 7656, 'hendak': 7657, 'masyyarakat': 7658, 'dihati': 7659, 'menyimak': 7660, 'gelisah': 7661, 'setahun': 7662, 'semingguan': 7663, 'memutus': 7664, 'rantai': 7665, 'kerumun': 7666, 'cobid': 7667, 'datangpun': 7668, 'alikasinya': 7669, 'spesialisasinya': 7670, 'mendekatkan': 7671, 'sisttem': 7672, 'setatus': 7673, 'mempemudah': 7674, 'bukak': 7675, 'teratas': 7676, 'aceh': 7677, 'ndess': 7678, 'mndpt': 7679, 'replay': 7680, 'penyelesain': 7681, 'pesaing': 7682, 'lahap': 7683, 'relate': 7684, 'diulik': 7685, 'tdinya': 7686, 'bingun': 7687, 'terpalar': 7688, 'ruangan': 7689, 'tanyanya': 7690, 'sesatai': 7691, 'des': 7692, 'maks': 7693, 'cancelled': 7694, 'rapit': 7695, 'kantornya': 7696, 'idul': 7697, 'fitri': 7698, 'terdebit': 7699, 'menggenai': 7700, 'menggenangi': 7701, 'percayaain': 7702, 'pendapat': 7703, 'mmanfaatkan': 7704, 'dikabupaten': 7705, 'agvita': 7706, 'mundhisari': 7707, 'sopam': 7708, 'terkawabkan': 7709, 'pelalanannya': 7710, 'kemasannya': 7711, 'mantapplah': 7712, 'mempasilitasi': 7713, 'mendapatkannya': 7714, 'berpotensi': 7715, 'disalahngunakan': 7716, 'gitunya': 7717, 'tadinyaa': 7718, 'persentase': 7719, 'keunggulannya': 7720, 'orangyang': 7721, 'gpnya': 7722, 'spesialistnya': 7723, 'cairkan': 7724, 'abissss': 7725, 'cemasnya': 7726, 'cespleng': 7727, 'likeee': 7728, 'retur': 7729, 'tmks': 7730, 'wakty': 7731, 'layann': 7732, 'pasca': 7733, 'blasannya': 7734, 'memyampaikan': 7735, 'berthn': 7736, 'tahn': 7737, 'mencr': 7738, 'berdahak': 7739, 'cck': 7740, 'membantubsekali': 7741, 'psikologis': 7742, 'pinter': 7743, 'konversasi': 7744, 'mengungkap': 7745, 'variasi': 7746, 'standard': 7747, 'undang': 7748, 'pemikiran': 7749, 'klip': 7750, 'excellent': 7751, 'bagaiman': 7752, 'sipembeli': 7753, 'qlo': 7754, 'aju': 7755, 'belerja': 7756, 'jayapura': 7757, 'masalh': 7758, 'beralih': 7759, 'mbayar': 7760, 'bermsalah': 7761, 'sejumlh': 7762, 'tagihn': 7763, 'doble': 7764, 'percya': 7765, 'kereeennn': 7766, 'mendowlod': 7767, 'pembayar': 7768, 'sangaattt': 7769, 'ktiduran': 7770, 'donlowad': 7771, 'katnya': 7772, 'apah': 7773, 'tersediah': 7774, 'suksesss': 7775, 'belanjanya': 7776, 'powered': 7777, 'dipermainkan': 7778, 'sibuknya': 7779, 'pasal': 7780, 'trek': 7781, 'sesuia': 7782, 'pengirimanny': 7783, 'olh': 7784, 'klienny': 7785, 'sesui': 7786, 'epektasi': 7787, 'andromeda': 7788, 'hidayah': 7789, 'terimakakaih': 7790, 'masukn': 7791, 'sanahat': 7792, 'dilakuin': 7793, 'technologi': 7794, 'cenderung': 7795, 'rekomendddddd': 7796, 'adaknyg': 7797, 'ramahj': 7798, 'responsnya': 7799, 'nol': 7800, 'disarakan': 7801, 'merta': 7802, 'senior': 7803, 'memberdayakan': 7804, 'lokal': 7805, 'kontribusi': 7806, 'plat': 7807, 'nopolnya': 7808, 'setalah': 7809, 'frendi': 7810, 'terimakasihhh': 7811, 'asyik': 7812, 'diajakin': 7813, 'arauna': 7814, 'cataĺia': 7815, 'subhanallah': 7816, 'puaas': 7817, 'terdeteksi': 7818, 'notenya': 7819, 'jobs': 7820, 'pelancong': 7821, 'retno': 7822, 'antibodi': 7823, 'recomnded': 7824, 'trjangkau': 7825, 'trmaksh': 7826, 'nyobak': 7827, 'dirim': 7828, 'sindikat': 7829, 'sumpahhhh': 7830, 'harti': 7831, 'sumpahhhhh': 7832, 'tingkaktan': 7833, 'mesis': 7834, 'kaluar': 7835, 'pilihanya': 7836, 'master': 7837, 'diulas': 7838, 'igd': 7839, 'seperlunya': 7840, 'diaa': 7841, 'itubeneran': 7842, 'sayaaaaa': 7843, 'una': 7844, 'stidaknya': 7845, 'tidakan': 7846, 'imformasi': 7847, 'kunsultasi': 7848, 'pengeriman': 7849, 'memuncak': 7850, 'kesimpulan': 7851, 'tawar': 7852, 'cair': 7853, 'hard': 7854, 'uh': 7855, 'jelass': 7856, 'dimengertii': 7857, 'cepett': 7858, 'responnyaa': 7859, 'cancelnya': 7860, 'bermslh': 7861, 'hmpr': 7862, 'batalinnya': 7863, 'btl': 7864, 'rum': 7865, 'ditoko': 7866, 'orenz': 7867, 'dus': 7868, 'duss': 7869, 'jualan': 7870, 'rentenir': 7871, 'menginput': 7872, 'mengusulkan': 7873, 'diberitahukan': 7874, 'tinggalku': 7875, 'batam': 7876, 'gaji': 7877, 'apliikasi': 7878, 'instagram': 7879, 'seindah': 7880, 'kuotamu': 7881, 'perekenomian': 7882, 'resiko': 7883, 'artis': 7884, 'play': 7885, 'subyektif': 7886, 'highlight': 7887, 'penunjang': 7888, 'lampirkan': 7889, 'meresponi': 7890, 'tingakatkan': 7891, 'grimis': 7892, 'klupaan': 7893, 'pil': 7894, 'kb': 7895, 'solved': 7896, 'deeeecchh': 7897, 'pentingnya': 7898, 'teknis': 7899, 'psikis': 7900, 'pisik': 7901, 'isg': 7902, 'treadmil': 7903, 'laboraturium': 7904, 'respecnya': 7905, 'pertimbangkan': 7906, 'drugstore': 7907, 'sdgkan': 7908, 'succes': 7909, 'consumen': 7910, 'berbahaya': 7911, 'ngejelasinnya': 7912, 'kers': 7913, 'aamiinn': 7914, 'drurat': 7915, 'kabari': 7916, 'tutur': 7917, 'hawatir': 7918, 'responny': 7919, 'lorenza': 7920, 'budayakan': 7921, 'ditingktkan': 7922, 'kadungannya': 7923, 'kesalahn': 7924, 'lutanyl': 7925, 'ngasihnya': 7926, 'bisolvon': 7927, 'mencoreng': 7928, 'trmksihh': 7929, 'limpahkan': 7930, 'dibeei': 7931, 'berkerja': 7932, 'gasia': 7933, 'kegundahan': 7934, 'assalamuaikum': 7935, 'wiwi': 7936, 'saputri': 7937, 'sehigga': 7938, 'jrn': 7939, 'bayarr': 7940, 'alhamdulillh': 7941, 'pokokya': 7942, 'komsultasi': 7943, 'ditunda': 7944, 'sedetailnya': 7945, 'masyaa': 7946, 'memabantu': 7947, 'handfone': 7948, 'sanget': 7949, 'sesiii': 7950, 'otentikasi': 7951, 'cemana': 7952, 'pmberitahuan': 7953, 'pngembalian': 7954, 'bida': 7955, 'cuba': 7956, 'kesakitan': 7957, 'tulisanya': 7958, 'compalain': 7959, 'selow': 7960, 'layananya': 7961, 'jgan': 7962, 'hendera': 7963, 'semisalkannya': 7964, 'asalkan': 7965, 'several': 7966, 'city': 7967, 'reaponnya': 7968, 'tengkyuuuu': 7969, 'perpektif': 7970, 'kelauarga': 7971, 'dihubungkan': 7972, 'medicilin': 7973, 'keteranga': 7974, 'tulisny': 7975, 'ikhlaskan': 7976, 'etika': 7977, 'dijakpus': 7978, 'polonia': 7979, 'pananganan': 7980, 'diani': 7981, 'medicillin': 7982, 'pandai': 7983, 'pendemic': 7984, 'memfasilitasi': 7985, 'disikon': 7986, 'yaallah': 7987, 'dijawabnya': 7988, 'kamar': 7989, 'ditahan': 7990, 'terbit': 7991, 'dishare': 7992, 'folder': 7993, 'laboratorum': 7994, 'penjelsan': 7995, 'lia': 7996, 'natalia': 7997, 'praktisn': 7998, 'bykin': 7999, 'grtsnya': 8000, 'teruuuss': 8001, 'yankes': 8002, 'setengh': 8003, 'almat': 8004, 'bawh': 8005, 'terkafang': 8006, 'berkmbang': 8007, 'pencuri': 8008, 'bodo': 8009, 'aplikasai': 8010, 'ngebantuuu': 8011, 'telemarketingnya': 8012, 'rese': 8013, 'halus': 8014, 'dipaksakan': 8015, 'perangkat': 8016, 'advan': 8017, 'pie': 8018, 'diharuskan': 8019, 'dibagian': 8020, 'bles': 8021, 'adminya': 8022, 'biyar': 8023, 'sorong': 8024, 'mempercayai': 8025, 'ngarahinnya': 8026, 'hapusnya': 8027, 'direpotkannya': 8028, 'buangx': 8029, 'crita': 8030, 'hasilny': 8031, 'jwabnya': 8032, 'dsuruh': 8033, 'sx': 8034, 'ortopedi': 8035, 'jelekkkkkkkkkkk': 8036, 'borosin': 8037, 'sadja': 8038, 'nyselllll': 8039, 'gbisa': 8040, 'pemberi': 8041, 'kayanya': 8042, 'diperdulikan': 8043, 'praktekny': 8044, 'melebihi': 8045, 'bajet': 8046, 'menembus': 8047, 'shanti': 8048, 'tandayu': 8049, 'isk': 8050, 'menjelasnya': 8051, 'sbagai': 8052, 'centernya': 8053, 'penipuannya': 8054, 'bermaksud': 8055, 'refreh': 8056, 'buruann': 8057, 'umbar': 8058, 'asma': 8059, '½jam': 8060, 'imlek': 8061, 'mnurut': 8062, 'mmakainy': 8063, 'benerin': 8064, 'kbnyakan': 8065, 'gaees': 8066, 'ulng': 8067, 'gnakan': 8068, 'kuotanx': 8069, 'prbaiki': 8070, 'gnti': 8071, 'ktik': 8072, 'taunx': 8073, 'mncul': 8074, 'daro': 8075, 'habiz': 8076, 'selagi': 8077, 'komplainan': 8078, 'hk': 8079, 'mampir': 8080, 'apple': 8081, 'ajaib': 8082, 'permisi': 8083, 'reqwest': 8084, 'agen': 8085, 'mageran': 8086, 'aulya': 8087, 'adha': 8088, 'bagt': 8089, 'sebuttin': 8090, 'sistimnya': 8091, 'mencukupi': 8092, 'conter': 8093, 'allhamdllh': 8094, 'ayangan': 8095, 'direcomendedkan': 8096, 'suskses': 8097, 'selaluuuu': 8098, 'keulang': 8099, 'disalahkan': 8100, 'ellie': 8101, 'elsa': 8102, 'ngabis': 8103, 'hendro': 8104, 'alif': 8105, 'udan': 8106, 'berupa': 8107, 'cso': 8108, 'informasikan': 8109, 'apotekek': 8110, 'setyap': 8111, 'gagaal': 8112, 'teruuus': 8113, 'ngejawap': 8114, 'kunsul': 8115, 'tasi': 8116, 'serp': 8117, 'alasanya': 8118, 'saldonudh': 8119, 'ngunduh': 8120, 'menyulitakan': 8121, 'sejisnya': 8122, 'memperkirakan': 8123, 'berlokasi': 8124, 'pademik': 8125, 'faren': 8126, 'amit': 8127, 'ikalan': 8128, 'ndonlot': 8129, 'amyar': 8130, 'respom': 8131, 'terbayar': 8132, 'kmbali': 8133, 'dipandemi': 8134, 'dirumahsaja': 8135, 'progam': 8136, 'dibeberapa': 8137, 'downlodt': 8138, 'cost': 8139, 'disebelah': 8140, 'tba': 8141, 'puluhan': 8142, 'bsedang': 8143, 'chyntia': 8144, 'mengembangkan': 8145, 'berbincang': 8146, 'dewa': 8147, 'miliki': 8148, 'manjawab': 8149, 'mengkonsultasi': 8150, 'korona': 8151, 'mintavresep': 8152, 'okay': 8153, 'steffiany': 8154, 'tetang': 8155, 'cuy': 8156, 'obatx': 8157, 'helpfully': 8158, 'rebutan': 8159, 'sentuh': 8160, 'sembarang': 8161, 'senila': 8162, 'terdebet': 8163, 'mengenali': 8164, 'aplg': 8165, 'bget': 8166, 'febrie': 8167, 'vefirikasi': 8168, 'ganguan': 8169, 'berkerumun': 8170, 'kegemukan': 8171, 'gemuk': 8172, 'sosok': 8173, 'sang': 8174, 'mengedukasi': 8175, 'tingalkan': 8176, 'oesan': 8177, 'sata': 8178, 'cairakan': 8179, 'kadi': 8180, 'bangkrut': 8181, 'chintya': 8182, 'monica': 8183, 'kondultasi': 8184, 'onya': 8185, 'pr': 8186, 'ngeblank': 8187, 'butuhin': 8188, 'codiv': 8189, 'terbatu': 8190, 'bntu': 8191, 'dibungkus': 8192, 'penghasilan': 8193, 'presiden': 8194, 'disesuikan': 8195, 'tranfer': 8196, 'hhhhh': 8197, 'kerumunan': 8198, 'disela': 8199, 'saki': 8200, 'redirect': 8201, 'off': 8202, 'berpaling': 8203, 'audit': 8204, 'sssuai': 8205, 'hra': 8206, 'hopay': 8207, 'jersey': 8208, 'memabntu': 8209, 'mengharuskn': 8210, 'semalaman': 8211, 'digunakam': 8212, 'mohin': 8213, 'hambatan': 8214, 'sgitu': 8215, 'omni': 8216, 'pekayon': 8217, 'hasilya': 8218, 'terpesona': 8219, 'sekdar': 8220, 'corina': 8221, 'membuktikannya': 8222, 'pnjlasan': 8223, 'ksluruhan': 8224, 'trimakasiih': 8225, 'bermamfaat': 8226, 'asmawi': 8227, 'kukusan': 8228, 'beji': 8229, 'mempermasalahkan': 8230, 'push': 8231, 'fintecnya': 8232, 'jabawan': 8233, 'doketernya': 8234, 'gudang': 8235, 'teknik': 8236, 'istrht': 8237, 'pintu': 8238, 'dikunci': 8239, 'model': 8240, 'overload': 8241, 'kehandlee': 8242, 'diginiin': 8243, 'adek': 8244, 'lifebouy': 8245, 'menacari': 8246, 'inginkn': 8247, 'sekadar': 8248, 'perluaskan': 8249, 'kecamatan': 8250, 'sampang': 8251, 'cilacap': 8252, 'prov': 8253, 'dipertahan': 8254, 'buwat': 8255, 'kehidup': 8256, 'pan': 8257, 'dibukak': 8258, 'tanggep': 8259, 'akh': 8260, 'ginihh': 8261, 'kkkeeeeerrrreeeennnn': 8262, 'terpecahkanlah': 8263, 'maslahkuuuuuhhh': 8264, 'baguslach': 8265, 'excited': 8266, 'lamaaaaaaaaaa': 8267, 'quantity': 8268, 'kolsultasi': 8269, 'spesifik': 8270, 'uhhhh': 8271, 'gapunya': 8272, 'et': 8273, 'cetera': 8274, 'statement': 8275, 'temulawak': 8276, 'semacam': 8277, 'memeriksa': 8278, 'seperi': 8279, 'domba': 8280, 'menuduh': 8281, 'mewajibkan': 8282, 'melampirkan': 8283, 'memperbaiki': 8284, 'lidya': 8285, 'daei': 8286, 'puguh': 8287, 'berita': 8288, 'hbungi': 8289, 'mngalami': 8290, 'hsilnya': 8291, 'hrganya': 8292, 'blsx': 8293, 'sanak': 8294, 'intim': 8295, 'mis': 8296, 'gejalanya': 8297, 'disebutkan': 8298, 'relevan': 8299, 'digagalkan': 8300, 'kls': 8301, 'mengkoreksi': 8302, 'dikemudian': 8303, 'ynag': 8304, 'hadika': 8305, 'dowlowd': 8306, 'rekam': 8307, 'pujituhan': 8308, 'thnkyou': 8309, 'tettap': 8310, 'mantapa': 8311, 'matur': 8312, 'sembah': 8313, 'nuwun': 8314, 'konsulatsi': 8315, 'kedpn': 8316, 'isnaini': 8317, 'syaraf': 8318, 'berkomusikasi': 8319, 'meembantu': 8320, 'informatiiff': 8321, 'tetaplah': 8322, 'diseluruh': 8323, 'rasain': 8324, 'onli': 8325, 'ngilangin': 8326, 'iritasi': 8327, 'minyak': 8328, 'kelapa': 8329, 'terimaksi': 8330, 'jelasan': 8331, 'conclusion': 8332, 'drpada': 8333, 'brpngalaman': 8334, 'mnambah': 8335, 'sputar': 8336, 'ksehatn': 8337, 'jariyah': 8338, 'amiinn': 8339, 'mnyukai': 8340, 'bid': 8341, 'seiring': 8342, 'pertanyakan': 8343, 'lisa': 8344, 'past': 8345, 'padamu': 8346, 'nisa': 8347, 'engk': 8348, 'respony': 8349, 'asalamualaikum': 8350, 'amelia': 8351, 'lusa': 8352, 'vendor': 8353, 'forceclose': 8354, 'chip': 8355, 'exynos': 8356, 'terkai': 8357, 'malalui': 8358, 'kook': 8359, 'nt': 8360, 'nyambungnya': 8361, 'berbau': 8362, 'menanyakannya': 8363, 'dipandang': 8364, 'hmmmmm': 8365, 'manteppp': 8366, 'diklaim': 8367, 'kandunganx': 8368, 'forced': 8369, 'perkampungan': 8370, 'kampungnya': 8371, 'tuliskan': 8372, 'deliver': 8373, 'semagat': 8374, 'semen': 8375, 'diinput': 8376, 'dirugikan': 8377, 'menyita': 8378, 'meremehkan': 8379, 'tanggungjawab': 8380, 'faktanya': 8381, 'tnggjwab': 8382, 'teruslah': 8383, 'viny': 8384, 'octofiad': 8385, 'positive': 8386, 'batch': 8387, 'dipertengahan': 8388, 'lemah': 8389, 'telemedice': 8390, 'berebut': 8391, 'menyelematkan': 8392, 'pelopor': 8393, 'sekrng': 8394, 'kesaldo': 8395, 'korupsi': 8396, 'ccookkkk': 8397, 'brubah': 8398, 'sdkit': 8399, 'cilandak': 8400, 'alihkan': 8401, 'sunter': 8402, 'gilaa': 8403, 'kilometer': 8404, 'ceritanya': 8405, 'begooo': 8406, 'munggu': 8407, 'sangaaaaaaaat': 8408, 'withdrawl': 8409, 'ujanan': 8410, 'pejelasan': 8411, 'lagsung': 8412, 'diwaktuin': 8413, 'gakpapa': 8414, 'baguuusss': 8415, 'penjelsann': 8416, 'dsana': 8417, 'buatkan': 8418, 'merespont': 8419, 'kecapekan': 8420, 'siiiip': 8421, 'alhamduliah': 8422, 'okeee': 8423, 'pos': 8424, 'jnt': 8425, 'elah': 8426, 'nggabisa': 8427, 'emossi': 8428, 'diperbharui': 8429, 'biya': 8430, 'jelaskaan': 8431, 'dijawabb': 8432, 'pembeliannya': 8433, 'makai': 8434, 'dimaksud': 8435, 'penyakin': 8436, 'memanpaatkan': 8437, 'menyusul': 8438, 'ikhtiar': 8439, 'sbelumnya': 8440, 'sosialisasi': 8441, 'brng': 8442, 'default': 8443, 'bntk': 8444, 'kepedulian': 8445, 'sikat': 8446, 'melukai': 8447, 'ketulung': 8448, 'rumahpun': 8449, 'kekepala': 8450, 'tanpamu': 8451, 'dayaku': 8452, 'tinggl': 8453, 'tanggalnya': 8454, 'selesainya': 8455, 'stempel': 8456, 'skdar': 8457, 'kasur': 8458, 'sampein': 8459, 'konsutlatis': 8460, 'ilmiah': 8461, 'smartphone': 8462, 'goog': 8463, 'dicover': 8464, 'ekspresi': 8465, 'senaang': 8466, 'terimakasihh': 8467, 'palayanannya': 8468, 'alhmdhulillah': 8469, 'trbuka': 8470, 'masyallah': 8471, 'lmayan': 8472, 'nyamn': 8473, 'barau': 8474, 'menjelekan': 8475, 'narasumber': 8476, 'ulu': 8477, 'berkala': 8478, 'website': 8479, 'doketnya': 8480, 'paka': 8481, 'mob': 8482, 'diperbesar': 8483, 'zoom': 8484, 'merevisi': 8485, 'mengabarkan': 8486, 'kerap': 8487, 'seenak': 8488, 'twrimakasih': 8489, 'abieees': 8490, 'verry': 8491, 'kebutuhab': 8492, 'grtis': 8493, 'ortunya': 8494, 'bagusan': 8495, 'bangeeet': 8496, 'masalahx': 8497, 'kin': 8498, 'gamake': 8499, 'direpon': 8500, 'dikterx': 8501, 'carax': 8502, 'dimintain': 8503, 'urgensi': 8504, 'mdhn': 8505, 'merakyat': 8506, 'berkhasiat': 8507, 'alhamdulillaaah': 8508, 'umtuk': 8509, 'ply': 8510, 'selangit': 8511, 'container': 8512, 'sialan': 8513, 'mening': 8514, 'mnum': 8515, 'gagberguna': 8516, 'nk': 8517, 'mantaaapl': 8518, 'dibalkan': 8519, 'nlpn': 8520, 'mestinya': 8521, 'reccommended': 8522, 'yaww': 8523, 'hutang': 8524, 'megang': 8525, 'kucingkuuu': 8526, 'ines': 8527, 'indirani': 8528, 'kgopay': 8529, 'dijwb': 8530, 'apsnya': 8531, 'donasikan': 8532, 'donasi': 8533, 'dokterdgn': 8534, 'asrama': 8535, 'khawatirin': 8536, 'urungkan': 8537, 'celakanya': 8538, 'kursornya': 8539, 'bagaimama': 8540, 'bangey': 8541, 'inovasinya': 8542, 'baguuss': 8543, 'halosov': 8544, 'disipkan': 8545, 'dwnld': 8546, 'hadeeeuuh': 8547, 'terkirimnyaa': 8548, 'blsannya': 8549, 'dimanjakan': 8550, 'mendigitalisasi': 8551, 'sebisa': 8552, 'dibgratiskan': 8553, 'alhamdulillqh': 8554, 'pko': 8555, 'kontl': 8556, 'faq': 8557, 'asuhh': 8558, 'gaguna': 8559, 'bgts': 8560, 'kegawat': 8561, 'druratan': 8562, 'ngadat': 8563, 'ngu': 8564, 'punyaku': 8565, 'eeek': 8566, 'ninggalin': 8567, 'superrr': 8568, 'sek': 8569, 'laboratorium': 8570, 'meberikan': 8571, 'baiik': 8572, 'lebiih': 8573, 'kembalii': 8574, 'pertanyaaanku': 8575, 'disayang': 8576, 'memperburuk': 8577, 'tersbut': 8578, 'kna': 8579, 'berdampak': 8580, 'selanjutny': 8581, 'kedok': 8582, 'mengatanamakan': 8583, 'mengeklik': 8584, 'tautan': 8585, 'terimakaaih': 8586, 'memkai': 8587, 'disamakan': 8588, 'detiknya': 8589, 'gituaja': 8590, 'disatukan': 8591, 'dipisah': 8592, 'dkembalikan': 8593, 'especially': 8594, 'donny': 8595, 'firdaus': 8596, 'ht': 8597, 'mlahan': 8598, 'malm': 8599, 'sueee': 8600, 'sediankan': 8601, 'haodoc': 8602, 'akbar': 8603, 'novan': 8604, 'serbaguna': 8605, 'inputnya': 8606, 'copot': 8607, 'naikan': 8608, 'mengayomi': 8609, 'nahh': 8610, 'berkuranh': 8611, 'oengembangan': 8612, 'thdp': 8613, 'device': 8614, 'meskinpun': 8615, 'mencabut': 8616, 'dowonlod': 8617, 'sayg': 8618, 'specials': 8619, 'case': 8620, 'skenario': 8621, 'mendiskusikan': 8622, 'sanksi': 8623, 'halodokc': 8624, 'kuatir': 8625, 'kerumitan': 8626, 'iktikad': 8627, 'cepatt': 8628, 'terikat': 8629, 'hadeuhhh': 8630, 'tolonggg': 8631, 'keklinik': 8632, 'liburan': 8633, 'alhamdulillahnya': 8634, 'kirimin': 8635, 'checkup': 8636, 'arianita': 8637, 'pratiwi': 8638, 'parahita': 8639, 'parahitanya': 8640, 'pelayanqnnya': 8641, 'erabung': 8642, 'bebeas': 8643, 'mmerikan': 8644, 'kru': 8645, 'menggunalan': 8646, 'sangay': 8647, 'layananan': 8648, 'fitutnya': 8649, 'discroll': 8650, 'ngelink': 8651, 'arafah': 8652, 'centang': 8653, 'anjur': 8654, 'mnjur': 8655, 'mamah': 8656, 'segampang': 8657, 'seindonesia': 8658, 'amiiin': 8659, 'monas': 8660, 'pdlh': 8661, 'tfl': 8662, 'ubat': 8663, 'kakarta': 8664, 'maumere': 8665, 'health': 8666, 'alhamdllah': 8667, 'mantabbbb': 8668, 'selanat': 8669, 'mlem': 8670, 'uratnya': 8671, 'decopenak': 8672, 'harienjalankan': 8673, 'puada': 8674, 'syawal': 8675, 'dicairkan': 8676, 'viralin': 8677, 'majuan': 8678, 'nomo': 8679, 'regard': 8680, 'alfianto': 8681, 'luarr': 8682, 'syenang': 8683, 'jabah': 8684, 'allh': 8685, 'rob': 8686, 'topppppp': 8687, 'langsunv': 8688, 'bergakap': 8689, 'mekanisme': 8690, 'bagusaplikasinya': 8691, 'geratisnya': 8692, 'trbantu': 8693, 'david': 8694, 'luis': 8695, 'maluku': 8696, 'hilnk': 8697, 'knsul': 8698, 'kerunah': 8699, 'terbyata': 8700, 'perawatnya': 8701, 'memainkan': 8702, 'servies': 8703, 'singkron': 8704, 'kekirim': 8705, 'comment': 8706, 'terhenti': 8707, 'bugnya': 8708, 'bsberhubungn': 8709, 'dgnn': 8710, 'helping': 8711, 'grgr': 8712, 'dpermudah': 8713, 'lagsug': 8714, 'sebaikmya': 8715, 'sedot': 8716, 'ngeblokirnya': 8717, 'mengcancelnya': 8718, 'sedikitnya': 8719, 'mkc': 8720, 'lindungan': 8721, 'omg': 8722, 'tahunnya': 8723, 'ngabantu': 8724, 'inggin': 8725, 'dgunain': 8726, 'cindy': 8727, 'berpegian': 8728, 'setidaknnya': 8729, 'kup': 8730, 'swsuai': 8731, 'djwab': 8732, 'jamin': 8733, 'dooong': 8734, 'alodokt': 8735, 'daptkan': 8736, 'baarakallaah': 8737, 'mengah': 8738, 'kelinik': 8739, 'ewalett': 8740, 'pembungkus': 8741, 'ditingkatin': 8742, 'dilacak': 8743, 'jauhny': 8744, 'thermometer': 8745, 'terrendah': 8746, 'sudahi': 8747, 'unistall': 8748, 'dijogja': 8749, 'aplikasihnya': 8750, 'terpilih': 8751, 'scrool': 8752, 'krisis': 8753, 'dihalo': 8754, 'tidaj': 8755, 'apik': 8756, 'konsultadi': 8757, 'soekamto': 8758, 'recoment': 8759, 'resilah': 8760, 'trrutama': 8761, 'solutip': 8762, 'bagaimna': 8763, 'kelaur': 8764, 'mencaridokter': 8765, 'terlelap': 8766, 'jach': 8767, 'arti': 8768, 'big': 8769, 'kemarenan': 8770, 'seperempat': 8771, 'pekerjaannya': 8772, 'sukarelawan': 8773, 'telemidisin': 8774, 'btul': 8775, 'adukasi': 8776, 'putu': 8777, 'wulansari': 8778, 'thats': 8779, 'ask': 8780, 'ngebahas': 8781, 'akunya': 8782, 'sad': 8783, 'skarng': 8784, 'sikecil': 8785, 'dispensasi': 8786, 'tooopp': 8787, 'terbaiks': 8788, 'marketing': 8789, 'mojokerto': 8790, 'dibelikan': 8791, 'jombang': 8792, 'terimakash': 8793, 'salahsatu': 8794, 'narjas': 8795, 'syam': 8796, 'slolusi': 8797, 'sukaaaaakkk': 8798, 'english': 8799, 'sokternya': 8800, 'suaranya': 8801, 'keridit': 8802, 'metotde': 8803, 'berganti': 8804, 'lucunya': 8805, 'mempermudahkn': 8806, 'pasiennn': 8807, 'pn': 8808, 'berujung': 8809, 'baisa': 8810, 'kebaikannya': 8811, 'peng': 8812, 'sampiakan': 8813, 'membentu': 8814, 'pajangan': 8815, 'pembayara': 8816, 'ngembaliin': 8817, 'heuung': 8818, 'menyampakaikan': 8819, 'adapun': 8820, 'smngat': 8821, 'stimuno': 8822, 'penerimaan': 8823, 'oiya': 8824, 'nico': 8825, 'kwatiran': 8826, 'versin': 8827, 'mendorong': 8828, 'jagalah': 8829, 'pooolll': 8830, 'yuli': 8831, 'stopin': 8832, 'autodebit': 8833, 'brengsekkkk': 8834, 'berpartisipasi': 8835, 'bertugassss': 8836, 'banyaakk': 8837, 'mrek': 8838, 'berasal': 8839, 'mewujudkan': 8840, 'bitang': 8841, 'janin': 8842, 'kelahiran': 8843, 'klhrn': 8844, 'mendoakan': 8845, 'petlu': 8846, 'didoain': 8847, 'dimudahin': 8848, 'dilancarin': 8849, 'recomendid': 8850, 'buatan': 8851, 'hospitalitas': 8852, 'idaman': 8853, 'bertmbh': 8854, 'cynthia': 8855, 'jonachan': 8856, 'mengtasnmakan': 8857, 'tetpi': 8858, 'nelpn': 8859, 'mengatsnamakn': 8860, 'tentng': 8861, 'mengtkn': 8862, 'mendpt': 8863, 'omongin': 8864, 'suarnya': 8865, 'cewek': 8866, 'ladenin': 8867, 'hti': 8868, 'downld': 8869, 'spertini': 8870, 'regards': 8871, 'alham': 8872, 'dulillah': 8873, 'uplikasi': 8874, 'pencerhan': 8875, 'bilng': 8876, 'feri': 8877, 'setiawan': 8878, 'inin': 8879, 'pennyakit': 8880, 'gojeg': 8881, 'seputaran': 8882, 'sybalamai': 8883, 'mebuat': 8884, 'tama': 8885, 'komentari': 8886, 'komentarnya': 8887, 'tuuh': 8888, 'makash': 8889, 'soc': 8890, 'hero': 8891, 'damai': 8892, 'sedunia': 8893, 'pokknya': 8894, 'sinus': 8895, 'gakuat': 8896, 'menyatakan': 8897, 'kcil': 8898, 'dirmh': 8899, 'jawqban': 8900, 'chatx': 8901, 'dicariin': 8902, 'manfaatkan': 8903, 'jangankan': 8904, 'gantung': 8905, 'lainny': 8906, 'melauani': 8907, 'rencana': 8908, 'tensi': 8909, 'waaah': 8910, 'mentah': 8911, 'hei': 8912, 'ampas': 8913, 'mengetahu': 8914, 'pencgobatannya': 8915, 'ditawarin': 8916, 'nikah': 8917, 'bersihnya': 8918, 'brrti': 8919, 'jateng': 8920, 'apkasi': 8921, 'narasumbernya': 8922, 'wsktu': 8923, 'usulan': 8924, 'derah': 8925, 'pegunungan': 8926, 'operasional': 8927, 'kukira': 8928, 'uploud': 8929, 'perempuan': 8930, 'iihhh': 8931, 'kinik': 8932, 'selasa': 8933, 'sabtu': 8934, 'sangattttt': 8935, 'ditindaklanjut': 8936, 'trust': 8937, 'thax': 8938, 'diperjalanan': 8939, 'ddlm': 8940, 'ponemik': 8941, 'aminnn': 8942, 'mendiagnosis': 8943, 'semacamnya': 8944, 'kasihanilah': 8945, 'semia': 8946, 'sejujurnya': 8947, 'psikoterapis': 8948, 'lalui': 8949, 'mengaduk': 8950, 'kj': 8951, 'kosultasinya': 8952, 'jakut': 8953, 'berwarna': 8954, 'menyaran': 8955, 'sefood': 8956, 'mantau': 8957, 'kerjsama': 8958, 'kesehatanmu': 8959, 'terkasih': 8960, 'terukur': 8961, 'satupun': 8962, 'nihil': 8963, 'mereview': 8964, 'staff': 8965, 'security': 8966, 'dapt': 8967, 'hebattt': 8968, 'terhalang': 8969, 'diresepkanpun': 8970, 'sangaaaaattt': 8971, 'apkliasinya': 8972, 'konsultasikn': 8973, 'dandung': 8974, 'bawono': 8975, 'gojekersnya': 8976, 'apkilasi': 8977, 'aammiinnn': 8978, 'akurt': 8979, 'datengin': 8980, 'paksa': 8981, 'cabang': 8982, 'orangtua': 8983, 'kosongkan': 8984, 'belanjaannya': 8985, 'trimss': 8986, 'pemaksaan': 8987, 'pertanggunganjawabnya': 8988, 'kerahasiaan': 8989, 'mendingan': 8990, 'medical': 8991, 'domain': 8992, 'becanda': 8993, 'penggunan': 8994, 'disalahgunakan': 8995, 'trbaik': 8996, 'jaminan': 8997, 'implementasi': 8998, 'blogg': 8999, 'resepi': 9000, 'sipasien': 9001, 'arus': 9002, 'simpell': 9003, 'virasat': 9004, 'putih': 9005, 'glowing': 9006, 'ketipuu': 9007, 'bayarnyaaa': 9008, 'menyumbangkan': 9009, 'komunkkasi': 9010, 'jualannya': 9011, 'dbantu': 9012, 'lamaaaaa': 9013, 'hopeless': 9014, 'bar': 9015, 'sebenrnya': 9016, 'udahku': 9017, 'mhal': 9018, 'nrima': 9019, 'dqn': 9020, 'dihrpkan': 9021, 'taro': 9022, 'otentiknya': 9023, 'padaha': 9024, 'hospital': 9025, 'aaplikasi': 9026, 'dimulai': 9027, 'nyamanan': 9028, 'terdampak': 9029, 'sayah': 9030, 'menggajal': 9031, 'kinsultasi': 9032, 'diharga': 9033, 'khasiatnya': 9034, 'telemarketing': 9035, 'nelp': 9036, 'tersirat': 9037, 'ngedoain': 9038, 'berusan': 9039, 'etikat': 9040, 'ngembalikan': 9041, 'lantas': 9042, 'menyambut': 9043, 'kedatangan': 9044, 'jepang': 9045, 'terjangkaj': 9046, 'berhentiin': 9047, 'autodebetnya': 9048, 'terpercayaa': 9049, 'lengkapp': 9050, 'sabun': 9051, 'dikoreksi': 9052, 'firtual': 9053, 'segan': 9054, 'xxx': 9055, 'konsulan': 9056, 'berdiskusi': 9057, 'terhdap': 9058, 'dipuskesmas': 9059, 'ngestuck': 9060, 'aqya': 9061, 'visi': 9062, 'misinya': 9063, 'terbalaskan': 9064, 'mengupdate': 9065, 'sukabumi': 9066, 'perbaikannya': 9067, 'nii': 9068, 'hemm': 9069, 'mengira': 9070, 'ialah': 9071, 'pembuat': 9072, 'terbantuu': 9073, 'pingsan': 9074, 'samaaa': 9075, 'ditemani': 9076, 'membiimbing': 9077, 'respondnya': 9078, 'jangkau': 9079, 'disiplin': 9080, 'receive': 9081, 'performance': 9082, 'acungi': 9083, 'cibinong': 9084, 'manusiawi': 9085, 'gratir': 9086, 'usha': 9087, 'pwrgi': 9088, 'ehe': 9089, 'trial': 9090, 'wajip': 9091, 'dipelayanan': 9092, 'dintanyakan': 9093, 'kurangkan': 9094, 'facial': 9095, 'berkumpul': 9096, 'sekenanya': 9097, 'keras': 9098, 'discrolling': 9099, 'bergantung': 9100, 'collect': 9101, 'privatenya': 9102, 'bekum': 9103, 'resume': 9104, 'aplikai': 9105, 'tertutama': 9106, 'ldr': 9107, 'dluar': 9108, 'smpaikan': 9109, 'tnggu': 9110, 'sbntr': 9111, 'antarkan': 9112, 'nan': 9113, 'akuratan': 9114, 'tnks': 9115, 'resef': 9116, 'fonis': 9117, 'idap': 9118, 'terdekatnya': 9119, 'lmbat': 9120, 'bahas': 9121, 'ngalor': 9122, 'ngidul': 9123, 'parktis': 9124, 'boong': 9125, 'bngettt': 9126, 'bersma': 9127, 'antrinya': 9128, 'ofline': 9129, 'htm': 9130, 'ygbagaimana': 9131, 'bandel': 9132, 'wowww': 9133, 'andalanku': 9134, 'kex': 9135, 'buibuk': 9136, 'menunggunya': 9137, 'sikap': 9138, 'ratih': 9139, 'pasyen': 9140, 'yuni': 9141, 'sangatbantu': 9142, 'thebets': 9143, 'prepaid': 9144, 'niaga': 9145, 'sbnernya': 9146, 'wujudkan': 9147, 'kotamadya': 9148, 'bandarlampung': 9149, 'kemiling': 9150, 'deuh': 9151, 'terdebest': 9152, 'ketinggian': 9153, 'menyetir': 9154, 'diomelin': 9155, 'sirup': 9156, 'ngebug': 9157, 'ronsen': 9158, 'disembunyikan': 9159, 'diteruskan': 9160, 'etis': 9161, 'jajan': 9162, 'sisihkan': 9163, 'mencocokkan': 9164, 'memerluka': 9165, 'mencerahkan': 9166, 'menganalisis': 9167, 'dokumentasi': 9168, 'ngbrolnya': 9169, 'diburu': 9170, 'refrensi': 9171, 'ngantrii': 9172, 'buasa': 9173, 'hewannya': 9174, 'slamat': 9175, 'dikemas': 9176, 'bo': 9177, 'dipunggut': 9178, 'beranjak': 9179, 'semngat': 9180, 'meiliki': 9181, 'dibilangnya': 9182, 'pertahanan': 9183, 'pembantalan': 9184, 'separo': 9185, 'utnuk': 9186, 'ayp': 9187, 'suguhkan': 9188, 'ngecancel': 9189, 'pertanggungjawaban': 9190, 'bimbingannya': 9191, 'wajah': 9192, 'berbayarpun': 9193, 'mengunggah': 9194, 'tindaklanjutnya': 9195, 'berkeluh': 9196, 'diksi': 9197, 'kadangg': 9198, 'menjawabb': 9199, 'partnernya': 9200, 'ledeng': 9201, 'setiabudi': 9202, 'disambungin': 9203, 'plafond': 9204, 'tgkyu': 9205, 'undangannya': 9206, 'sawahan': 9207, 'sby': 9208, 'karti': 9209, 'termaksih': 9210, 'observatif': 9211, 'madu': 9212, 'mejawab': 9213, 'intal': 9214, 'catel': 9215, 'jwaban': 9216, 'bahasanya': 9217, 'seep': 9218, 'juempol': 9219, 'chattinganya': 9220, 'cov': 9221, 'komsul': 9222, 'updated': 9223, 'wktnya': 9224, 'dnld': 9225, 'mantepp': 9226, 'ambeien': 9227, 'telnga': 9228, 'tipiss': 9229, 'loket': 9230, 'separuh': 9231, 'kpda': 9232, 'sumbernya': 9233, 'ktemu': 9234, 'that': 9235, 'terguncang': 9236, 'urut': 9237, 'bnyaknya': 9238, 'jwabn': 9239, 'dii': 9240, 'karanganyar': 9241, 'uu': 9242, 'sucralfate': 9243, 'domperidone': 9244, 'tempatbpraktik': 9245, 'mendengaran': 9246, 'pengamatan': 9247, 'swabnya': 9248, 'setahu': 9249, 'beresiko': 9250, 'siipp': 9251, 'upnya': 9252, 'senggama': 9253, 'alamatx': 9254, 'kon': 9255, 'konsutaai': 9256, 'mengantre': 9257, 'heheeh': 9258, 'sumber': 9259, 'mantull': 9260, 'ditangan': 9261, 'banyaak': 9262, 'iilfeel': 9263, 'ketar': 9264, 'ketir': 9265, 'ptm': 9266, 'grabpay': 9267, 'mya': 9268, 'kasiih': 9269, 'hadehw': 9270, 'yosa': 9271, 'tamia': 9272, 'marisya': 9273, 'bobrok': 9274, 'kepake': 9275, 'terimakasiihh': 9276}\n"
          ]
        }
      ],
      "source": [
        "tokenIndexKata=tokenizer.word_index\n",
        "print(tokenIndexKata)"
      ]
    },
    {
      "cell_type": "code",
      "execution_count": null,
      "metadata": {
        "id": "uGWCXGotERkY"
      },
      "outputs": [],
      "source": [
        "# Membuat kelas dan fungsi agar proses training berhenti saat akurasi validasi model telah mencapai 85%\n",
        "import tensorflow as tf\n",
        "\n",
        "class myCallBack(tf.keras.callbacks.Callback):    \n",
        "    def on_epoch_end(self, epoch, logs={}):\n",
        "        if(logs.get('val_accuracy') >= 0.85):\n",
        "            print(\"\\nAkurasi validasi telah mencapai > 85%!\")\n",
        "            self.model.stop_training = True\n",
        "myCallBack = myCallBack()"
      ]
    },
    {
      "cell_type": "code",
      "execution_count": null,
      "metadata": {
        "id": "098iGGKxEScz"
      },
      "outputs": [],
      "source": [
        "import os \n",
        "from tensorflow.keras.callbacks import ModelCheckpoint\n",
        "\n",
        "# Simpan model\n",
        "save_direc = os.path.join(os.getcwd(), 'Dataset\\Cobadoang')\n",
        "model_name = 'model_baru.ckpt'\n",
        "\n",
        "# Membuat directory untuk menyimpan model\n",
        "if not os.path.isdir(save_direc):\n",
        "    os.makedirs(save_direc)\n",
        "\n",
        "# Menggabungkan directory dengan model\n",
        "modelpath = os.path.join(save_direc, model_name)\n",
        "\n",
        "checkpoint = ModelCheckpoint(filepath = modelpath, verbose = 2, monitor='val_accuracy',\n",
        "                             save_best_only = True, save_weights_only = True)#,save_freq=1)"
      ]
    },
    {
      "cell_type": "code",
      "execution_count": null,
      "metadata": {
        "colab": {
          "base_uri": "https://localhost:8080/"
        },
        "id": "OLJF0nALETQL",
        "outputId": "e925b8b3-83ef-45dc-f525-3cf0cd673aca"
      },
      "outputs": [
        {
          "output_type": "stream",
          "name": "stdout",
          "text": [
            "Model: \"sequential_3\"\n",
            "_________________________________________________________________\n",
            " Layer (type)                Output Shape              Param #   \n",
            "=================================================================\n",
            " embedding_3 (Embedding)     (None, None, 32)          208000    \n",
            "                                                                 \n",
            " bidirectional_6 (Bidirectio  (None, None, 128)        49664     \n",
            " nal)                                                            \n",
            "                                                                 \n",
            " bidirectional_7 (Bidirectio  (None, 64)               41216     \n",
            " nal)                                                            \n",
            "                                                                 \n",
            " dropout_6 (Dropout)         (None, 64)                0         \n",
            "                                                                 \n",
            " dense_12 (Dense)            (None, 128)               8320      \n",
            "                                                                 \n",
            " dense_13 (Dense)            (None, 64)                8256      \n",
            "                                                                 \n",
            " dense_14 (Dense)            (None, 512)               33280     \n",
            "                                                                 \n",
            " dropout_7 (Dropout)         (None, 512)               0         \n",
            "                                                                 \n",
            " dense_15 (Dense)            (None, 3)                 1539      \n",
            "                                                                 \n",
            "=================================================================\n",
            "Total params: 350,275\n",
            "Trainable params: 350,275\n",
            "Non-trainable params: 0\n",
            "_________________________________________________________________\n"
          ]
        }
      ],
      "source": [
        "from tensorflow.keras import regularizers # Library untuk mencegah overfitting pada model\n",
        "from tensorflow.keras.optimizers import RMSprop # mengimport optimizer untuk model\n",
        "\n",
        "# Membuat model Sequential dengan Bidirectional LSTM\n",
        "model = tf.keras.Sequential([\n",
        "    tf.keras.layers.Embedding(6500, 32), # 6500 input & 32 layer embedding\n",
        "    tf.keras.layers.Bidirectional(tf.keras.layers.LSTM(64,  return_sequences=True)), # 64 layer LSTM\n",
        "    tf.keras.layers.Bidirectional(tf.keras.layers.LSTM(32)), # 32 layer LSTM\n",
        "    tf.keras.layers.Dropout(0.2), # dropout agar model tidak overfitting\n",
        "    tf.keras.layers.Dense(128, activation='relu'),\n",
        "    tf.keras.layers.Dense(64, activation='relu'), # Menambah layer dan menggunakan relu sebagai fungsi aktivasi\n",
        "    tf.keras.layers.Dense(512, kernel_regularizer=regularizers.l2(0.001), activation='relu'),\n",
        "    tf.keras.layers.Dropout(0.3), # dropout agar model tidak overfitting\n",
        "    tf.keras.layers.Dense(3, activation='softmax') # Outputnya adalah 3 dan karena kategorikal menggunakan aktivasi softmax\n",
        "])\n",
        "\n",
        "model.summary() # Melihat shape dan parameter dari model yang dibuat\n",
        "model.compile(loss='categorical_crossentropy', optimizer=RMSprop(learning_rate=0.0001),metrics=['accuracy']) # Menggunakan optimizer RMSprop dengan learning rate 0.0001"
      ]
    },
    {
      "cell_type": "code",
      "execution_count": null,
      "metadata": {
        "colab": {
          "base_uri": "https://localhost:8080/"
        },
        "id": "SGw_pQxxEVR7",
        "outputId": "0b96bb43-58fa-4e1f-f71f-34a4211e8827"
      },
      "outputs": [
        {
          "output_type": "stream",
          "name": "stdout",
          "text": [
            "Epoch 1/100\n",
            "\n",
            "Epoch 1: val_accuracy improved from -inf to 0.49582, saving model to /content/Dataset\\Cobadoang/model_baru.ckpt\n",
            "30/30 - 8s - loss: 1.2040 - accuracy: 0.4125 - val_loss: 1.1951 - val_accuracy: 0.4958 - 8s/epoch - 277ms/step\n",
            "Epoch 2/100\n",
            "\n",
            "Epoch 2: val_accuracy did not improve from 0.49582\n",
            "30/30 - 1s - loss: 1.1835 - accuracy: 0.4896 - val_loss: 1.1676 - val_accuracy: 0.4718 - 1s/epoch - 33ms/step\n",
            "Epoch 3/100\n",
            "\n",
            "Epoch 3: val_accuracy did not improve from 0.49582\n",
            "30/30 - 1s - loss: 1.1410 - accuracy: 0.4897 - val_loss: 1.1158 - val_accuracy: 0.4802 - 972ms/epoch - 32ms/step\n",
            "Epoch 4/100\n",
            "\n",
            "Epoch 4: val_accuracy improved from 0.49582 to 0.51461, saving model to /content/Dataset\\Cobadoang/model_baru.ckpt\n",
            "30/30 - 1s - loss: 1.0770 - accuracy: 0.5140 - val_loss: 1.0509 - val_accuracy: 0.5146 - 1s/epoch - 34ms/step\n",
            "Epoch 5/100\n",
            "\n",
            "Epoch 5: val_accuracy improved from 0.51461 to 0.54384, saving model to /content/Dataset\\Cobadoang/model_baru.ckpt\n",
            "30/30 - 1s - loss: 1.0092 - accuracy: 0.5418 - val_loss: 0.9885 - val_accuracy: 0.5438 - 1s/epoch - 35ms/step\n",
            "Epoch 6/100\n",
            "\n",
            "Epoch 6: val_accuracy improved from 0.54384 to 0.57933, saving model to /content/Dataset\\Cobadoang/model_baru.ckpt\n",
            "30/30 - 1s - loss: 0.9378 - accuracy: 0.5890 - val_loss: 0.9108 - val_accuracy: 0.5793 - 1s/epoch - 34ms/step\n",
            "Epoch 7/100\n",
            "\n",
            "Epoch 7: val_accuracy improved from 0.57933 to 0.62839, saving model to /content/Dataset\\Cobadoang/model_baru.ckpt\n",
            "30/30 - 1s - loss: 0.8589 - accuracy: 0.6370 - val_loss: 0.8314 - val_accuracy: 0.6284 - 1s/epoch - 35ms/step\n",
            "Epoch 8/100\n",
            "\n",
            "Epoch 8: val_accuracy improved from 0.62839 to 0.66180, saving model to /content/Dataset\\Cobadoang/model_baru.ckpt\n",
            "30/30 - 1s - loss: 0.7811 - accuracy: 0.6789 - val_loss: 0.7662 - val_accuracy: 0.6618 - 1s/epoch - 34ms/step\n",
            "Epoch 9/100\n",
            "\n",
            "Epoch 9: val_accuracy improved from 0.66180 to 0.67537, saving model to /content/Dataset\\Cobadoang/model_baru.ckpt\n",
            "30/30 - 1s - loss: 0.7179 - accuracy: 0.7121 - val_loss: 0.7206 - val_accuracy: 0.6754 - 1s/epoch - 35ms/step\n",
            "Epoch 10/100\n",
            "\n",
            "Epoch 10: val_accuracy improved from 0.67537 to 0.70042, saving model to /content/Dataset\\Cobadoang/model_baru.ckpt\n",
            "30/30 - 1s - loss: 0.6624 - accuracy: 0.7415 - val_loss: 0.6798 - val_accuracy: 0.7004 - 1s/epoch - 36ms/step\n",
            "Epoch 11/100\n",
            "\n",
            "Epoch 11: val_accuracy improved from 0.70042 to 0.73173, saving model to /content/Dataset\\Cobadoang/model_baru.ckpt\n",
            "30/30 - 1s - loss: 0.6128 - accuracy: 0.7655 - val_loss: 0.6305 - val_accuracy: 0.7317 - 1s/epoch - 34ms/step\n",
            "Epoch 12/100\n",
            "\n",
            "Epoch 12: val_accuracy improved from 0.73173 to 0.75157, saving model to /content/Dataset\\Cobadoang/model_baru.ckpt\n",
            "30/30 - 1s - loss: 0.5706 - accuracy: 0.7870 - val_loss: 0.5981 - val_accuracy: 0.7516 - 1s/epoch - 35ms/step\n",
            "Epoch 13/100\n",
            "\n",
            "Epoch 13: val_accuracy improved from 0.75157 to 0.75261, saving model to /content/Dataset\\Cobadoang/model_baru.ckpt\n",
            "30/30 - 1s - loss: 0.5316 - accuracy: 0.8020 - val_loss: 0.5978 - val_accuracy: 0.7526 - 1s/epoch - 35ms/step\n",
            "Epoch 14/100\n",
            "\n",
            "Epoch 14: val_accuracy improved from 0.75261 to 0.76409, saving model to /content/Dataset\\Cobadoang/model_baru.ckpt\n",
            "30/30 - 1s - loss: 0.4967 - accuracy: 0.8232 - val_loss: 0.5943 - val_accuracy: 0.7641 - 1s/epoch - 34ms/step\n",
            "Epoch 15/100\n",
            "\n",
            "Epoch 15: val_accuracy improved from 0.76409 to 0.78914, saving model to /content/Dataset\\Cobadoang/model_baru.ckpt\n",
            "30/30 - 1s - loss: 0.4746 - accuracy: 0.8280 - val_loss: 0.5195 - val_accuracy: 0.7891 - 1s/epoch - 34ms/step\n",
            "Epoch 16/100\n",
            "\n",
            "Epoch 16: val_accuracy improved from 0.78914 to 0.79854, saving model to /content/Dataset\\Cobadoang/model_baru.ckpt\n",
            "30/30 - 1s - loss: 0.4378 - accuracy: 0.8485 - val_loss: 0.5088 - val_accuracy: 0.7985 - 1s/epoch - 34ms/step\n",
            "Epoch 17/100\n",
            "\n",
            "Epoch 17: val_accuracy improved from 0.79854 to 0.80793, saving model to /content/Dataset\\Cobadoang/model_baru.ckpt\n",
            "30/30 - 1s - loss: 0.4107 - accuracy: 0.8613 - val_loss: 0.4943 - val_accuracy: 0.8079 - 1s/epoch - 34ms/step\n",
            "Epoch 18/100\n",
            "\n",
            "Epoch 18: val_accuracy did not improve from 0.80793\n",
            "30/30 - 1s - loss: 0.3957 - accuracy: 0.8635 - val_loss: 0.5170 - val_accuracy: 0.7985 - 1s/epoch - 34ms/step\n",
            "Epoch 19/100\n",
            "\n",
            "Epoch 19: val_accuracy did not improve from 0.80793\n",
            "30/30 - 1s - loss: 0.3718 - accuracy: 0.8741 - val_loss: 0.5166 - val_accuracy: 0.8038 - 1s/epoch - 34ms/step\n",
            "Epoch 20/100\n",
            "\n",
            "Epoch 20: val_accuracy did not improve from 0.80793\n",
            "30/30 - 1s - loss: 0.3625 - accuracy: 0.8772 - val_loss: 0.5087 - val_accuracy: 0.8048 - 990ms/epoch - 33ms/step\n",
            "Epoch 21/100\n",
            "\n",
            "Epoch 21: val_accuracy did not improve from 0.80793\n",
            "30/30 - 1s - loss: 0.3422 - accuracy: 0.8883 - val_loss: 0.5256 - val_accuracy: 0.7996 - 993ms/epoch - 33ms/step\n",
            "Epoch 22/100\n",
            "\n",
            "Epoch 22: val_accuracy did not improve from 0.80793\n",
            "30/30 - 1s - loss: 0.3289 - accuracy: 0.8906 - val_loss: 0.5430 - val_accuracy: 0.7975 - 980ms/epoch - 33ms/step\n",
            "Epoch 23/100\n",
            "\n",
            "Epoch 23: val_accuracy improved from 0.80793 to 0.81628, saving model to /content/Dataset\\Cobadoang/model_baru.ckpt\n",
            "30/30 - 1s - loss: 0.3172 - accuracy: 0.8938 - val_loss: 0.4834 - val_accuracy: 0.8163 - 1s/epoch - 34ms/step\n",
            "Epoch 24/100\n",
            "\n",
            "Epoch 24: val_accuracy improved from 0.81628 to 0.84969, saving model to /content/Dataset\\Cobadoang/model_baru.ckpt\n",
            "30/30 - 1s - loss: 0.2944 - accuracy: 0.9066 - val_loss: 0.4344 - val_accuracy: 0.8497 - 1s/epoch - 34ms/step\n",
            "Epoch 25/100\n",
            "\n",
            "Epoch 25: val_accuracy did not improve from 0.84969\n",
            "30/30 - 1s - loss: 0.2944 - accuracy: 0.9078 - val_loss: 0.4552 - val_accuracy: 0.8413 - 1s/epoch - 34ms/step\n",
            "Epoch 26/100\n",
            "\n",
            "Epoch 26: val_accuracy did not improve from 0.84969\n",
            "30/30 - 1s - loss: 0.2687 - accuracy: 0.9149 - val_loss: 0.5530 - val_accuracy: 0.8006 - 1s/epoch - 34ms/step\n",
            "Epoch 27/100\n",
            "\n",
            "Akurasi validasi telah mencapai > 85%!\n",
            "\n",
            "Epoch 27: val_accuracy improved from 0.84969 to 0.85804, saving model to /content/Dataset\\Cobadoang/model_baru.ckpt\n",
            "30/30 - 1s - loss: 0.2673 - accuracy: 0.9145 - val_loss: 0.4336 - val_accuracy: 0.8580 - 1s/epoch - 34ms/step\n"
          ]
        }
      ],
      "source": [
        "#batch_size = 16\n",
        "history = model.fit(padded_latih, y_train, validation_data=(padded_test, y_test), epochs=100,#batch_size=batch_size,\n",
        "                    steps_per_epoch= 30, callbacks=[myCallBack, checkpoint], verbose=2)"
      ]
    },
    {
      "cell_type": "code",
      "execution_count": null,
      "metadata": {
        "colab": {
          "base_uri": "https://localhost:8080/",
          "height": 295
        },
        "id": "dUmDqjwKEZ8V",
        "outputId": "6f0d314a-84e7-4aa6-da05-634fbf69dc78"
      },
      "outputs": [
        {
          "output_type": "display_data",
          "data": {
            "text/plain": [
              "<Figure size 432x288 with 1 Axes>"
            ],
            "image/png": "[encoded data removed]"
          },
          "metadata": {
            "needs_background": "light"
          }
        }
      ],
      "source": [
        "# Menampilkan plot loss dari model\n",
        "\n",
        "import matplotlib.pyplot as plt\n",
        "plt.plot(history.history['loss'])\n",
        "plt.plot(history.history['val_loss'])\n",
        "plt.title('Model Loss')\n",
        "plt.ylabel('Loss')\n",
        "plt.xlabel('Epochs')\n",
        "plt.legend(['train', 'val'])\n",
        "plt.show()"
      ]
    },
    {
      "cell_type": "code",
      "execution_count": null,
      "metadata": {
        "colab": {
          "base_uri": "https://localhost:8080/",
          "height": 295
        },
        "id": "z-uPQoz4EbZK",
        "outputId": "9d4a41a8-27c1-41a3-bad4-58f956c40057"
      },
      "outputs": [
        {
          "output_type": "display_data",
          "data": {
            "text/plain": [
              "<Figure size 432x288 with 1 Axes>"
            ],
            "image/png": "[encoded data removed]"
          },
          "metadata": {
            "needs_background": "light"
          }
        }
      ],
      "source": [
        "# Menampilkan plot akurasi dari model\n",
        "plt.plot(history.history['accuracy'])\n",
        "plt.plot(history.history['val_accuracy'])\n",
        "plt.title('Model Accuracy')\n",
        "plt.ylabel('Accuracy')\n",
        "plt.xlabel('Epochs')\n",
        "plt.legend(['train', 'validation'])\n",
        "plt.show()"
      ]
    },
    {
      "cell_type": "code",
      "execution_count": null,
      "metadata": {
        "colab": {
          "base_uri": "https://localhost:8080/"
        },
        "id": "pTDwXmFfEcUt",
        "outputId": "17fc869a-4dbd-41b1-d8ef-02da75b952ea"
      },
      "outputs": [
        {
          "output_type": "stream",
          "name": "stdout",
          "text": [
            "30/30 [==============================] - 0s 9ms/step - loss: 0.4336 - accuracy: 0.8580\n",
            "loss: 0.4335501492023468\n",
            "Validation accuracy: 0.8580375909805298\n"
          ]
        }
      ],
      "source": [
        "loss, acc = model.evaluate(padded_test, y_test, verbose=1)\n",
        "                            #batch_size=batch_size)\n",
        "print(\"loss:\", loss)\n",
        "print(\"Validation accuracy:\", acc)"
      ]
    },
    {
      "cell_type": "code",
      "execution_count": null,
      "metadata": {
        "id": "Ew_iQl3gEdN1"
      },
      "outputs": [],
      "source": [
        "from sklearn.metrics import accuracy_score,confusion_matrix,classification_report,precision_score, f1_score, recall_score\n",
        "import numpy as np\n",
        "\n",
        "def model_evaluate(): \n",
        "    # predict class with test set\n",
        "    predict_x=model.predict(padded_test, verbose=0)\n",
        "    classes_x=np.argmax(predict_x,axis=1)\n",
        "    y_pred_test =  classes_x\n",
        "    print('Accuracy:\\t{:0.1f}%'.format(accuracy_score(np.argmax(y_test,axis=1),y_pred_test)*100))\n",
        "    \n",
        "    #classification report\n",
        "    print('\\n')\n",
        "    print(classification_report(np.argmax(y_test,axis=1), y_pred_test))\n",
        "\n",
        "    #confusion matrix\n",
        "    confmat = confusion_matrix(np.argmax(y_test,axis=1), y_pred_test)\n",
        "\n",
        "    fig, ax = plt.subplots(figsize=(4, 4))\n",
        "    ax.matshow(confmat, cmap=plt.cm.Blues, alpha=0.3)\n",
        "    for i in range(confmat.shape[0]):\n",
        "        for j in range(confmat.shape[1]):\n",
        "            ax.text(x=j, y=i, s=confmat[i, j], va='center', ha='center')\n",
        "    plt.xlabel('Predicted label')\n",
        "    plt.ylabel('True label')\n",
        "    plt.tight_layout()"
      ]
    },
    {
      "cell_type": "code",
      "execution_count": null,
      "metadata": {
        "colab": {
          "base_uri": "https://localhost:8080/",
          "height": 529
        },
        "id": "sg-U3IA-EeHN",
        "outputId": "ccc1d442-8a0d-4d68-f48f-29d534610915"
      },
      "outputs": [
        {
          "output_type": "stream",
          "name": "stdout",
          "text": [
            "Accuracy:\t85.8%\n",
            "\n",
            "\n",
            "              precision    recall  f1-score   support\n",
            "\n",
            "           0       0.85      0.88      0.87       318\n",
            "           1       0.81      0.78      0.79       328\n",
            "           2       0.92      0.92      0.92       312\n",
            "\n",
            "    accuracy                           0.86       958\n",
            "   macro avg       0.86      0.86      0.86       958\n",
            "weighted avg       0.86      0.86      0.86       958\n",
            "\n"
          ]
        },
        {
          "output_type": "display_data",
          "data": {
            "text/plain": [
              "<Figure size 288x288 with 1 Axes>"
            ],
            "image/png": "[encoded data removed]"
          },
          "metadata": {
            "needs_background": "light"
          }
        }
      ],
      "source": [
        "model_evaluate()"
      ]
    },
    {
      "cell_type": "code",
      "execution_count": null,
      "metadata": {
        "colab": {
          "base_uri": "https://localhost:8080/"
        },
        "id": "KO6yxJUJEfBF",
        "outputId": "c12a9957-6e72-48ef-8570-5c40114a1bb1"
      },
      "outputs": [
        {
          "output_type": "stream",
          "name": "stdout",
          "text": [
            "['suka bangettt sama halodoc dokternya ramah ramah']\n",
            "Sentimen: Positif\n",
            "[7.3666700e-07 6.1674672e-03 9.9383175e-01]\n"
          ]
        }
      ],
      "source": [
        "import numpy as np\n",
        "\n",
        "twt = ['suka bangettt sama halodoc dokternya ramah ramah']\n",
        "print(twt)\n",
        "#vectorizing the tweet by the pre-fitted tokenizer instance\n",
        "twt = tokenizer.texts_to_sequences(twt)\n",
        "#padding the tweet to have exactly the same shape as `embedding_2` input\n",
        "twt = pad_sequences(twt, maxlen=29, dtype='int32', value=0)\n",
        "sentiment = model.predict(twt)[0]\n",
        "if(np.argmax(sentiment) == 0):\n",
        "    print('Sentimen: Negatif')\n",
        "elif (np.argmax(sentiment) == 1):\n",
        "    print('Sentimen: Netral')\n",
        "else :\n",
        "    print('Sentimen: Positif')\n",
        "print(sentiment)"
      ]
    },
    {
      "cell_type": "code",
      "execution_count": null,
      "metadata": {
        "colab": {
          "base_uri": "https://localhost:8080/"
        },
        "id": "9gWRPv0pEgCf",
        "outputId": "e8d5fee5-8800-4168-af39-26637035c2b1"
      },
      "outputs": [
        {
          "output_type": "stream",
          "name": "stdout",
          "text": [
            "['saya baru saja mencoba untuk berkonsultasi dengan dokter saya juga sudah menyelesaikan pembayaran tapi ketika dihubungkan dengan dokter yang bersangkutan tidak juga kunjung tersambung sampai saya mencoba berkali² uang saya hangus percuma']\n",
            "[0.9511658  0.04741127 0.00142295]\n",
            "Sentimen: Negatif\n"
          ]
        }
      ],
      "source": [
        "twt = ['saya baru saja mencoba untuk berkonsultasi dengan dokter saya juga sudah menyelesaikan pembayaran tapi ketika dihubungkan dengan dokter yang bersangkutan tidak juga kunjung tersambung sampai saya mencoba berkali² uang saya hangus percuma']\n",
        "print(twt)\n",
        "#vectorizing the tweet by the pre-fitted tokenizer instance\n",
        "twt = tokenizer.texts_to_sequences(twt)\n",
        "#padding the tweet to have exactly the same shape as `embedding_2` input\n",
        "twt = pad_sequences(twt, maxlen=29, dtype='int32', value=0)\n",
        "sentiment = model.predict(twt)[0]\n",
        "print(sentiment)\n",
        "if(np.argmax(sentiment) == 0):\n",
        "    print('Sentimen: Negatif')\n",
        "elif (np.argmax(sentiment) == 1):\n",
        "    print('Sentimen: Netral')\n",
        "else :\n",
        "    print('Sentimen: Positif')"
      ]
    },
    {
      "cell_type": "code",
      "execution_count": null,
      "metadata": {
        "id": "uohLZhu0GGG9"
      },
      "outputs": [],
      "source": [
        "def cekData(text):\n",
        "  twt = [text]\n",
        "  twt = tokenizer.texts_to_sequences(twt)\n",
        "  twt = pad_sequences(twt, maxlen=29, dtype='int32', value=0)\n",
        "  sentiment = model.predict(twt)[0]\n",
        "  if(np.argmax(sentiment) == 0):\n",
        "      return 'Negatif'\n",
        "  elif (np.argmax(sentiment) == 1):\n",
        "      return 'Netral'\n",
        "  else :\n",
        "      return 'Positif'"
      ]
    },
    {
      "cell_type": "code",
      "source": [
        "df = pd.DataFrame(x_test, columns = ['Sentimen'])\n",
        "df.head()"
      ],
      "metadata": {
        "colab": {
          "base_uri": "https://localhost:8080/",
          "height": 206
        },
        "id": "1MoXxT_PeibB",
        "outputId": "29ef2c06-728c-4ce1-fc94-3e87f9c96679"
      },
      "execution_count": null,
      "outputs": [
        {
          "output_type": "execute_result",
          "data": {
            "text/plain": [
              "                                            Sentimen\n",
              "0  terima kasih halodoc aplikasinya sangat memban...\n",
              "1  pesanan cepat sampai dan terbungkus rapih tank...\n",
              "2  mudah melakukan pemilihan obat tanpa harus rib...\n",
              "3  terimakasih untuk aplikasi halodoc ini membant...\n",
              "4  halo doc tanggal januari kemarin saya pakai ap..."
            ],
            "text/html": [
              "\n",
              "  <div id=\"df-beb6e875-0175-4e42-b764-eae798890647\">\n",
              "    <div class=\"colab-df-container\">\n",
              "      <div>\n",
              "<style scoped>\n",
              "    .dataframe tbody tr th:only-of-type {\n",
              "        vertical-align: middle;\n",
              "    }\n",
              "\n",
              "    .dataframe tbody tr th {\n",
              "        vertical-align: top;\n",
              "    }\n",
              "\n",
              "    .dataframe thead th {\n",
              "        text-align: right;\n",
              "    }\n",
              "</style>\n",
              "<table border=\"1\" class=\"dataframe\">\n",
              "  <thead>\n",
              "    <tr style=\"text-align: right;\">\n",
              "      <th></th>\n",
              "      <th>Sentimen</th>\n",
              "    </tr>\n",
              "  </thead>\n",
              "  <tbody>\n",
              "    <tr>\n",
              "      <th>0</th>\n",
              "      <td>terima kasih halodoc aplikasinya sangat memban...</td>\n",
              "    </tr>\n",
              "    <tr>\n",
              "      <th>1</th>\n",
              "      <td>pesanan cepat sampai dan terbungkus rapih tank...</td>\n",
              "    </tr>\n",
              "    <tr>\n",
              "      <th>2</th>\n",
              "      <td>mudah melakukan pemilihan obat tanpa harus rib...</td>\n",
              "    </tr>\n",
              "    <tr>\n",
              "      <th>3</th>\n",
              "      <td>terimakasih untuk aplikasi halodoc ini membant...</td>\n",
              "    </tr>\n",
              "    <tr>\n",
              "      <th>4</th>\n",
              "      <td>halo doc tanggal januari kemarin saya pakai ap...</td>\n",
              "    </tr>\n",
              "  </tbody>\n",
              "</table>\n",
              "</div>\n",
              "      <button class=\"colab-df-convert\" onclick=\"convertToInteractive('df-beb6e875-0175-4e42-b764-eae798890647')\"\n",
              "              title=\"Convert this dataframe to an interactive table.\"\n",
              "              style=\"display:none;\">\n",
              "        \n",
              "  <svg xmlns=\"http://www.w3.org/2000/svg\" height=\"24px\"viewBox=\"0 0 24 24\"\n",
              "       width=\"24px\">\n",
              "    <path d=\"M0 0h24v24H0V0z\" fill=\"none\"/>\n",
              "    <path d=\"M18.56 5.44l.94 2.06.94-2.06 2.06-.94-2.06-.94-.94-2.06-.94 2.06-2.06.94zm-11 1L8.5 8.5l.94-2.06 2.06-.94-2.06-.94L8.5 2.5l-.94 2.06-2.06.94zm10 10l.94 2.06.94-2.06 2.06-.94-2.06-.94-.94-2.06-.94 2.06-2.06.94z\"/><path d=\"M17.41 7.96l-1.37-1.37c-.4-.4-.92-.59-1.43-.59-.52 0-1.04.2-1.43.59L10.3 9.45l-7.72 7.72c-.78.78-.78 2.05 0 2.83L4 21.41c.39.39.9.59 1.41.59.51 0 1.02-.2 1.41-.59l7.78-7.78 2.81-2.81c.8-.78.8-2.07 0-2.86zM5.41 20L4 18.59l7.72-7.72 1.47 1.35L5.41 20z\"/>\n",
              "  </svg>\n",
              "      </button>\n",
              "      \n",
              "  <style>\n",
              "    .colab-df-container {\n",
              "      display:flex;\n",
              "      flex-wrap:wrap;\n",
              "      gap: 12px;\n",
              "    }\n",
              "\n",
              "    .colab-df-convert {\n",
              "      background-color: #E8F0FE;\n",
              "      border: none;\n",
              "      border-radius: 50%;\n",
              "      cursor: pointer;\n",
              "      display: none;\n",
              "      fill: #1967D2;\n",
              "      height: 32px;\n",
              "      padding: 0 0 0 0;\n",
              "      width: 32px;\n",
              "    }\n",
              "\n",
              "    .colab-df-convert:hover {\n",
              "      background-color: #E2EBFA;\n",
              "      box-shadow: 0px 1px 2px rgba(60, 64, 67, 0.3), 0px 1px 3px 1px rgba(60, 64, 67, 0.15);\n",
              "      fill: #174EA6;\n",
              "    }\n",
              "\n",
              "    [theme=dark] .colab-df-convert {\n",
              "      background-color: #3B4455;\n",
              "      fill: #D2E3FC;\n",
              "    }\n",
              "\n",
              "    [theme=dark] .colab-df-convert:hover {\n",
              "      background-color: #434B5C;\n",
              "      box-shadow: 0px 1px 3px 1px rgba(0, 0, 0, 0.15);\n",
              "      filter: drop-shadow(0px 1px 2px rgba(0, 0, 0, 0.3));\n",
              "      fill: #FFFFFF;\n",
              "    }\n",
              "  </style>\n",
              "\n",
              "      <script>\n",
              "        const buttonEl =\n",
              "          document.querySelector('#df-beb6e875-0175-4e42-b764-eae798890647 button.colab-df-convert');\n",
              "        buttonEl.style.display =\n",
              "          google.colab.kernel.accessAllowed ? 'block' : 'none';\n",
              "\n",
              "        async function convertToInteractive(key) {\n",
              "          const element = document.querySelector('#df-beb6e875-0175-4e42-b764-eae798890647');\n",
              "          const dataTable =\n",
              "            await google.colab.kernel.invokeFunction('convertToInteractive',\n",
              "                                                     [key], {});\n",
              "          if (!dataTable) return;\n",
              "\n",
              "          const docLinkHtml = 'Like what you see? Visit the ' +\n",
              "            '<a target=\"_blank\" href=https://colab.research.google.com/notebooks/data_table.ipynb>data table notebook</a>'\n",
              "            + ' to learn more about interactive tables.';\n",
              "          element.innerHTML = '';\n",
              "          dataTable['output_type'] = 'display_data';\n",
              "          await google.colab.output.renderOutput(dataTable, element);\n",
              "          const docLink = document.createElement('div');\n",
              "          docLink.innerHTML = docLinkHtml;\n",
              "          element.appendChild(docLink);\n",
              "        }\n",
              "      </script>\n",
              "    </div>\n",
              "  </div>\n",
              "  "
            ]
          },
          "metadata": {},
          "execution_count": 134
        }
      ]
    },
    {
      "cell_type": "code",
      "source": [
        "df_test = pd.DataFrame(y_test, columns = ['Negatif','Netral','Positif'])\n",
        "df_test.head()"
      ],
      "metadata": {
        "colab": {
          "base_uri": "https://localhost:8080/",
          "height": 206
        },
        "id": "n61SXgwcjeDE",
        "outputId": "7caeed63-b8d8-4bd5-f5af-94287cbbfd75"
      },
      "execution_count": null,
      "outputs": [
        {
          "output_type": "execute_result",
          "data": {
            "text/plain": [
              "   Negatif  Netral  Positif\n",
              "0        0       1        0\n",
              "1        0       0        1\n",
              "2        1       0        0\n",
              "3        1       0        0\n",
              "4        1       0        0"
            ],
            "text/html": [
              "\n",
              "  <div id=\"df-9982e87d-fdcc-4ce5-ba60-7e8b0eace8cf\">\n",
              "    <div class=\"colab-df-container\">\n",
              "      <div>\n",
              "<style scoped>\n",
              "    .dataframe tbody tr th:only-of-type {\n",
              "        vertical-align: middle;\n",
              "    }\n",
              "\n",
              "    .dataframe tbody tr th {\n",
              "        vertical-align: top;\n",
              "    }\n",
              "\n",
              "    .dataframe thead th {\n",
              "        text-align: right;\n",
              "    }\n",
              "</style>\n",
              "<table border=\"1\" class=\"dataframe\">\n",
              "  <thead>\n",
              "    <tr style=\"text-align: right;\">\n",
              "      <th></th>\n",
              "      <th>Negatif</th>\n",
              "      <th>Netral</th>\n",
              "      <th>Positif</th>\n",
              "    </tr>\n",
              "  </thead>\n",
              "  <tbody>\n",
              "    <tr>\n",
              "      <th>0</th>\n",
              "      <td>0</td>\n",
              "      <td>1</td>\n",
              "      <td>0</td>\n",
              "    </tr>\n",
              "    <tr>\n",
              "      <th>1</th>\n",
              "      <td>0</td>\n",
              "      <td>0</td>\n",
              "      <td>1</td>\n",
              "    </tr>\n",
              "    <tr>\n",
              "      <th>2</th>\n",
              "      <td>1</td>\n",
              "      <td>0</td>\n",
              "      <td>0</td>\n",
              "    </tr>\n",
              "    <tr>\n",
              "      <th>3</th>\n",
              "      <td>1</td>\n",
              "      <td>0</td>\n",
              "      <td>0</td>\n",
              "    </tr>\n",
              "    <tr>\n",
              "      <th>4</th>\n",
              "      <td>1</td>\n",
              "      <td>0</td>\n",
              "      <td>0</td>\n",
              "    </tr>\n",
              "  </tbody>\n",
              "</table>\n",
              "</div>\n",
              "      <button class=\"colab-df-convert\" onclick=\"convertToInteractive('df-9982e87d-fdcc-4ce5-ba60-7e8b0eace8cf')\"\n",
              "              title=\"Convert this dataframe to an interactive table.\"\n",
              "              style=\"display:none;\">\n",
              "        \n",
              "  <svg xmlns=\"http://www.w3.org/2000/svg\" height=\"24px\"viewBox=\"0 0 24 24\"\n",
              "       width=\"24px\">\n",
              "    <path d=\"M0 0h24v24H0V0z\" fill=\"none\"/>\n",
              "    <path d=\"M18.56 5.44l.94 2.06.94-2.06 2.06-.94-2.06-.94-.94-2.06-.94 2.06-2.06.94zm-11 1L8.5 8.5l.94-2.06 2.06-.94-2.06-.94L8.5 2.5l-.94 2.06-2.06.94zm10 10l.94 2.06.94-2.06 2.06-.94-2.06-.94-.94-2.06-.94 2.06-2.06.94z\"/><path d=\"M17.41 7.96l-1.37-1.37c-.4-.4-.92-.59-1.43-.59-.52 0-1.04.2-1.43.59L10.3 9.45l-7.72 7.72c-.78.78-.78 2.05 0 2.83L4 21.41c.39.39.9.59 1.41.59.51 0 1.02-.2 1.41-.59l7.78-7.78 2.81-2.81c.8-.78.8-2.07 0-2.86zM5.41 20L4 18.59l7.72-7.72 1.47 1.35L5.41 20z\"/>\n",
              "  </svg>\n",
              "      </button>\n",
              "      \n",
              "  <style>\n",
              "    .colab-df-container {\n",
              "      display:flex;\n",
              "      flex-wrap:wrap;\n",
              "      gap: 12px;\n",
              "    }\n",
              "\n",
              "    .colab-df-convert {\n",
              "      background-color: #E8F0FE;\n",
              "      border: none;\n",
              "      border-radius: 50%;\n",
              "      cursor: pointer;\n",
              "      display: none;\n",
              "      fill: #1967D2;\n",
              "      height: 32px;\n",
              "      padding: 0 0 0 0;\n",
              "      width: 32px;\n",
              "    }\n",
              "\n",
              "    .colab-df-convert:hover {\n",
              "      background-color: #E2EBFA;\n",
              "      box-shadow: 0px 1px 2px rgba(60, 64, 67, 0.3), 0px 1px 3px 1px rgba(60, 64, 67, 0.15);\n",
              "      fill: #174EA6;\n",
              "    }\n",
              "\n",
              "    [theme=dark] .colab-df-convert {\n",
              "      background-color: #3B4455;\n",
              "      fill: #D2E3FC;\n",
              "    }\n",
              "\n",
              "    [theme=dark] .colab-df-convert:hover {\n",
              "      background-color: #434B5C;\n",
              "      box-shadow: 0px 1px 3px 1px rgba(0, 0, 0, 0.15);\n",
              "      filter: drop-shadow(0px 1px 2px rgba(0, 0, 0, 0.3));\n",
              "      fill: #FFFFFF;\n",
              "    }\n",
              "  </style>\n",
              "\n",
              "      <script>\n",
              "        const buttonEl =\n",
              "          document.querySelector('#df-9982e87d-fdcc-4ce5-ba60-7e8b0eace8cf button.colab-df-convert');\n",
              "        buttonEl.style.display =\n",
              "          google.colab.kernel.accessAllowed ? 'block' : 'none';\n",
              "\n",
              "        async function convertToInteractive(key) {\n",
              "          const element = document.querySelector('#df-9982e87d-fdcc-4ce5-ba60-7e8b0eace8cf');\n",
              "          const dataTable =\n",
              "            await google.colab.kernel.invokeFunction('convertToInteractive',\n",
              "                                                     [key], {});\n",
              "          if (!dataTable) return;\n",
              "\n",
              "          const docLinkHtml = 'Like what you see? Visit the ' +\n",
              "            '<a target=\"_blank\" href=https://colab.research.google.com/notebooks/data_table.ipynb>data table notebook</a>'\n",
              "            + ' to learn more about interactive tables.';\n",
              "          element.innerHTML = '';\n",
              "          dataTable['output_type'] = 'display_data';\n",
              "          await google.colab.output.renderOutput(dataTable, element);\n",
              "          const docLink = document.createElement('div');\n",
              "          docLink.innerHTML = docLinkHtml;\n",
              "          element.appendChild(docLink);\n",
              "        }\n",
              "      </script>\n",
              "    </div>\n",
              "  </div>\n",
              "  "
            ]
          },
          "metadata": {},
          "execution_count": 135
        }
      ]
    },
    {
      "cell_type": "code",
      "source": [
        "df['Negatif'] = df_test['Negatif']\n",
        "df['Netral'] = df_test['Netral']\n",
        "df['Positif'] = df_test['Positif']\n",
        "df.head()"
      ],
      "metadata": {
        "colab": {
          "base_uri": "https://localhost:8080/",
          "height": 206
        },
        "id": "Adpwc4EZj3Pk",
        "outputId": "fdcf69f4-62a2-43e3-d664-eb8d871b78bc"
      },
      "execution_count": null,
      "outputs": [
        {
          "output_type": "execute_result",
          "data": {
            "text/plain": [
              "                                            Sentimen  Negatif  Netral  Positif\n",
              "0  terima kasih halodoc aplikasinya sangat memban...        0       1        0\n",
              "1  pesanan cepat sampai dan terbungkus rapih tank...        0       0        1\n",
              "2  mudah melakukan pemilihan obat tanpa harus rib...        1       0        0\n",
              "3  terimakasih untuk aplikasi halodoc ini membant...        1       0        0\n",
              "4  halo doc tanggal januari kemarin saya pakai ap...        1       0        0"
            ],
            "text/html": [
              "\n",
              "  <div id=\"df-81a5f635-45f8-4768-840c-074ab77b9bfe\">\n",
              "    <div class=\"colab-df-container\">\n",
              "      <div>\n",
              "<style scoped>\n",
              "    .dataframe tbody tr th:only-of-type {\n",
              "        vertical-align: middle;\n",
              "    }\n",
              "\n",
              "    .dataframe tbody tr th {\n",
              "        vertical-align: top;\n",
              "    }\n",
              "\n",
              "    .dataframe thead th {\n",
              "        text-align: right;\n",
              "    }\n",
              "</style>\n",
              "<table border=\"1\" class=\"dataframe\">\n",
              "  <thead>\n",
              "    <tr style=\"text-align: right;\">\n",
              "      <th></th>\n",
              "      <th>Sentimen</th>\n",
              "      <th>Negatif</th>\n",
              "      <th>Netral</th>\n",
              "      <th>Positif</th>\n",
              "    </tr>\n",
              "  </thead>\n",
              "  <tbody>\n",
              "    <tr>\n",
              "      <th>0</th>\n",
              "      <td>terima kasih halodoc aplikasinya sangat memban...</td>\n",
              "      <td>0</td>\n",
              "      <td>1</td>\n",
              "      <td>0</td>\n",
              "    </tr>\n",
              "    <tr>\n",
              "      <th>1</th>\n",
              "      <td>pesanan cepat sampai dan terbungkus rapih tank...</td>\n",
              "      <td>0</td>\n",
              "      <td>0</td>\n",
              "      <td>1</td>\n",
              "    </tr>\n",
              "    <tr>\n",
              "      <th>2</th>\n",
              "      <td>mudah melakukan pemilihan obat tanpa harus rib...</td>\n",
              "      <td>1</td>\n",
              "      <td>0</td>\n",
              "      <td>0</td>\n",
              "    </tr>\n",
              "    <tr>\n",
              "      <th>3</th>\n",
              "      <td>terimakasih untuk aplikasi halodoc ini membant...</td>\n",
              "      <td>1</td>\n",
              "      <td>0</td>\n",
              "      <td>0</td>\n",
              "    </tr>\n",
              "    <tr>\n",
              "      <th>4</th>\n",
              "      <td>halo doc tanggal januari kemarin saya pakai ap...</td>\n",
              "      <td>1</td>\n",
              "      <td>0</td>\n",
              "      <td>0</td>\n",
              "    </tr>\n",
              "  </tbody>\n",
              "</table>\n",
              "</div>\n",
              "      <button class=\"colab-df-convert\" onclick=\"convertToInteractive('df-81a5f635-45f8-4768-840c-074ab77b9bfe')\"\n",
              "              title=\"Convert this dataframe to an interactive table.\"\n",
              "              style=\"display:none;\">\n",
              "        \n",
              "  <svg xmlns=\"http://www.w3.org/2000/svg\" height=\"24px\"viewBox=\"0 0 24 24\"\n",
              "       width=\"24px\">\n",
              "    <path d=\"M0 0h24v24H0V0z\" fill=\"none\"/>\n",
              "    <path d=\"M18.56 5.44l.94 2.06.94-2.06 2.06-.94-2.06-.94-.94-2.06-.94 2.06-2.06.94zm-11 1L8.5 8.5l.94-2.06 2.06-.94-2.06-.94L8.5 2.5l-.94 2.06-2.06.94zm10 10l.94 2.06.94-2.06 2.06-.94-2.06-.94-.94-2.06-.94 2.06-2.06.94z\"/><path d=\"M17.41 7.96l-1.37-1.37c-.4-.4-.92-.59-1.43-.59-.52 0-1.04.2-1.43.59L10.3 9.45l-7.72 7.72c-.78.78-.78 2.05 0 2.83L4 21.41c.39.39.9.59 1.41.59.51 0 1.02-.2 1.41-.59l7.78-7.78 2.81-2.81c.8-.78.8-2.07 0-2.86zM5.41 20L4 18.59l7.72-7.72 1.47 1.35L5.41 20z\"/>\n",
              "  </svg>\n",
              "      </button>\n",
              "      \n",
              "  <style>\n",
              "    .colab-df-container {\n",
              "      display:flex;\n",
              "      flex-wrap:wrap;\n",
              "      gap: 12px;\n",
              "    }\n",
              "\n",
              "    .colab-df-convert {\n",
              "      background-color: #E8F0FE;\n",
              "      border: none;\n",
              "      border-radius: 50%;\n",
              "      cursor: pointer;\n",
              "      display: none;\n",
              "      fill: #1967D2;\n",
              "      height: 32px;\n",
              "      padding: 0 0 0 0;\n",
              "      width: 32px;\n",
              "    }\n",
              "\n",
              "    .colab-df-convert:hover {\n",
              "      background-color: #E2EBFA;\n",
              "      box-shadow: 0px 1px 2px rgba(60, 64, 67, 0.3), 0px 1px 3px 1px rgba(60, 64, 67, 0.15);\n",
              "      fill: #174EA6;\n",
              "    }\n",
              "\n",
              "    [theme=dark] .colab-df-convert {\n",
              "      background-color: #3B4455;\n",
              "      fill: #D2E3FC;\n",
              "    }\n",
              "\n",
              "    [theme=dark] .colab-df-convert:hover {\n",
              "      background-color: #434B5C;\n",
              "      box-shadow: 0px 1px 3px 1px rgba(0, 0, 0, 0.15);\n",
              "      filter: drop-shadow(0px 1px 2px rgba(0, 0, 0, 0.3));\n",
              "      fill: #FFFFFF;\n",
              "    }\n",
              "  </style>\n",
              "\n",
              "      <script>\n",
              "        const buttonEl =\n",
              "          document.querySelector('#df-81a5f635-45f8-4768-840c-074ab77b9bfe button.colab-df-convert');\n",
              "        buttonEl.style.display =\n",
              "          google.colab.kernel.accessAllowed ? 'block' : 'none';\n",
              "\n",
              "        async function convertToInteractive(key) {\n",
              "          const element = document.querySelector('#df-81a5f635-45f8-4768-840c-074ab77b9bfe');\n",
              "          const dataTable =\n",
              "            await google.colab.kernel.invokeFunction('convertToInteractive',\n",
              "                                                     [key], {});\n",
              "          if (!dataTable) return;\n",
              "\n",
              "          const docLinkHtml = 'Like what you see? Visit the ' +\n",
              "            '<a target=\"_blank\" href=https://colab.research.google.com/notebooks/data_table.ipynb>data table notebook</a>'\n",
              "            + ' to learn more about interactive tables.';\n",
              "          element.innerHTML = '';\n",
              "          dataTable['output_type'] = 'display_data';\n",
              "          await google.colab.output.renderOutput(dataTable, element);\n",
              "          const docLink = document.createElement('div');\n",
              "          docLink.innerHTML = docLinkHtml;\n",
              "          element.appendChild(docLink);\n",
              "        }\n",
              "      </script>\n",
              "    </div>\n",
              "  </div>\n",
              "  "
            ]
          },
          "metadata": {},
          "execution_count": 136
        }
      ]
    },
    {
      "cell_type": "code",
      "source": [
        "df['Prediksi_Sentimen'] = df['Sentimen'].apply(lambda x: cekData(x))\n",
        "df.head()"
      ],
      "metadata": {
        "colab": {
          "base_uri": "https://localhost:8080/",
          "height": 206
        },
        "id": "rwha2c2UgdS4",
        "outputId": "b84f9902-5817-4630-8a25-9cd33437b6e9"
      },
      "execution_count": null,
      "outputs": [
        {
          "output_type": "execute_result",
          "data": {
            "text/plain": [
              "                                            Sentimen  Negatif  Netral  \\\n",
              "0  terima kasih halodoc aplikasinya sangat memban...        0       1   \n",
              "1  pesanan cepat sampai dan terbungkus rapih tank...        0       0   \n",
              "2  mudah melakukan pemilihan obat tanpa harus rib...        1       0   \n",
              "3  terimakasih untuk aplikasi halodoc ini membant...        1       0   \n",
              "4  halo doc tanggal januari kemarin saya pakai ap...        1       0   \n",
              "\n",
              "   Positif Prediksi_Sentimen  \n",
              "0        0           Negatif  \n",
              "1        1           Positif  \n",
              "2        0           Negatif  \n",
              "3        0           Negatif  \n",
              "4        0           Negatif  "
            ],
            "text/html": [
              "\n",
              "  <div id=\"df-6835f350-75bf-4b35-b3a0-0f237a7837d5\">\n",
              "    <div class=\"colab-df-container\">\n",
              "      <div>\n",
              "<style scoped>\n",
              "    .dataframe tbody tr th:only-of-type {\n",
              "        vertical-align: middle;\n",
              "    }\n",
              "\n",
              "    .dataframe tbody tr th {\n",
              "        vertical-align: top;\n",
              "    }\n",
              "\n",
              "    .dataframe thead th {\n",
              "        text-align: right;\n",
              "    }\n",
              "</style>\n",
              "<table border=\"1\" class=\"dataframe\">\n",
              "  <thead>\n",
              "    <tr style=\"text-align: right;\">\n",
              "      <th></th>\n",
              "      <th>Sentimen</th>\n",
              "      <th>Negatif</th>\n",
              "      <th>Netral</th>\n",
              "      <th>Positif</th>\n",
              "      <th>Prediksi_Sentimen</th>\n",
              "    </tr>\n",
              "  </thead>\n",
              "  <tbody>\n",
              "    <tr>\n",
              "      <th>0</th>\n",
              "      <td>terima kasih halodoc aplikasinya sangat memban...</td>\n",
              "      <td>0</td>\n",
              "      <td>1</td>\n",
              "      <td>0</td>\n",
              "      <td>Negatif</td>\n",
              "    </tr>\n",
              "    <tr>\n",
              "      <th>1</th>\n",
              "      <td>pesanan cepat sampai dan terbungkus rapih tank...</td>\n",
              "      <td>0</td>\n",
              "      <td>0</td>\n",
              "      <td>1</td>\n",
              "      <td>Positif</td>\n",
              "    </tr>\n",
              "    <tr>\n",
              "      <th>2</th>\n",
              "      <td>mudah melakukan pemilihan obat tanpa harus rib...</td>\n",
              "      <td>1</td>\n",
              "      <td>0</td>\n",
              "      <td>0</td>\n",
              "      <td>Negatif</td>\n",
              "    </tr>\n",
              "    <tr>\n",
              "      <th>3</th>\n",
              "      <td>terimakasih untuk aplikasi halodoc ini membant...</td>\n",
              "      <td>1</td>\n",
              "      <td>0</td>\n",
              "      <td>0</td>\n",
              "      <td>Negatif</td>\n",
              "    </tr>\n",
              "    <tr>\n",
              "      <th>4</th>\n",
              "      <td>halo doc tanggal januari kemarin saya pakai ap...</td>\n",
              "      <td>1</td>\n",
              "      <td>0</td>\n",
              "      <td>0</td>\n",
              "      <td>Negatif</td>\n",
              "    </tr>\n",
              "  </tbody>\n",
              "</table>\n",
              "</div>\n",
              "      <button class=\"colab-df-convert\" onclick=\"convertToInteractive('df-6835f350-75bf-4b35-b3a0-0f237a7837d5')\"\n",
              "              title=\"Convert this dataframe to an interactive table.\"\n",
              "              style=\"display:none;\">\n",
              "        \n",
              "  <svg xmlns=\"http://www.w3.org/2000/svg\" height=\"24px\"viewBox=\"0 0 24 24\"\n",
              "       width=\"24px\">\n",
              "    <path d=\"M0 0h24v24H0V0z\" fill=\"none\"/>\n",
              "    <path d=\"M18.56 5.44l.94 2.06.94-2.06 2.06-.94-2.06-.94-.94-2.06-.94 2.06-2.06.94zm-11 1L8.5 8.5l.94-2.06 2.06-.94-2.06-.94L8.5 2.5l-.94 2.06-2.06.94zm10 10l.94 2.06.94-2.06 2.06-.94-2.06-.94-.94-2.06-.94 2.06-2.06.94z\"/><path d=\"M17.41 7.96l-1.37-1.37c-.4-.4-.92-.59-1.43-.59-.52 0-1.04.2-1.43.59L10.3 9.45l-7.72 7.72c-.78.78-.78 2.05 0 2.83L4 21.41c.39.39.9.59 1.41.59.51 0 1.02-.2 1.41-.59l7.78-7.78 2.81-2.81c.8-.78.8-2.07 0-2.86zM5.41 20L4 18.59l7.72-7.72 1.47 1.35L5.41 20z\"/>\n",
              "  </svg>\n",
              "      </button>\n",
              "      \n",
              "  <style>\n",
              "    .colab-df-container {\n",
              "      display:flex;\n",
              "      flex-wrap:wrap;\n",
              "      gap: 12px;\n",
              "    }\n",
              "\n",
              "    .colab-df-convert {\n",
              "      background-color: #E8F0FE;\n",
              "      border: none;\n",
              "      border-radius: 50%;\n",
              "      cursor: pointer;\n",
              "      display: none;\n",
              "      fill: #1967D2;\n",
              "      height: 32px;\n",
              "      padding: 0 0 0 0;\n",
              "      width: 32px;\n",
              "    }\n",
              "\n",
              "    .colab-df-convert:hover {\n",
              "      background-color: #E2EBFA;\n",
              "      box-shadow: 0px 1px 2px rgba(60, 64, 67, 0.3), 0px 1px 3px 1px rgba(60, 64, 67, 0.15);\n",
              "      fill: #174EA6;\n",
              "    }\n",
              "\n",
              "    [theme=dark] .colab-df-convert {\n",
              "      background-color: #3B4455;\n",
              "      fill: #D2E3FC;\n",
              "    }\n",
              "\n",
              "    [theme=dark] .colab-df-convert:hover {\n",
              "      background-color: #434B5C;\n",
              "      box-shadow: 0px 1px 3px 1px rgba(0, 0, 0, 0.15);\n",
              "      filter: drop-shadow(0px 1px 2px rgba(0, 0, 0, 0.3));\n",
              "      fill: #FFFFFF;\n",
              "    }\n",
              "  </style>\n",
              "\n",
              "      <script>\n",
              "        const buttonEl =\n",
              "          document.querySelector('#df-6835f350-75bf-4b35-b3a0-0f237a7837d5 button.colab-df-convert');\n",
              "        buttonEl.style.display =\n",
              "          google.colab.kernel.accessAllowed ? 'block' : 'none';\n",
              "\n",
              "        async function convertToInteractive(key) {\n",
              "          const element = document.querySelector('#df-6835f350-75bf-4b35-b3a0-0f237a7837d5');\n",
              "          const dataTable =\n",
              "            await google.colab.kernel.invokeFunction('convertToInteractive',\n",
              "                                                     [key], {});\n",
              "          if (!dataTable) return;\n",
              "\n",
              "          const docLinkHtml = 'Like what you see? Visit the ' +\n",
              "            '<a target=\"_blank\" href=https://colab.research.google.com/notebooks/data_table.ipynb>data table notebook</a>'\n",
              "            + ' to learn more about interactive tables.';\n",
              "          element.innerHTML = '';\n",
              "          dataTable['output_type'] = 'display_data';\n",
              "          await google.colab.output.renderOutput(dataTable, element);\n",
              "          const docLink = document.createElement('div');\n",
              "          docLink.innerHTML = docLinkHtml;\n",
              "          element.appendChild(docLink);\n",
              "        }\n",
              "      </script>\n",
              "    </div>\n",
              "  </div>\n",
              "  "
            ]
          },
          "metadata": {},
          "execution_count": 137
        }
      ]
    },
    {
      "cell_type": "code",
      "execution_count": null,
      "metadata": {
        "id": "d-5KulhqGluq"
      },
      "outputs": [],
      "source": [
        "df.to_csv('CekData.csv', encoding='utf8', index=False)"
      ]
    },
    {
      "cell_type": "markdown",
      "source": [
        "## Gak Digunain"
      ],
      "metadata": {
        "id": "z7fWPrMwehRK"
      }
    },
    {
      "cell_type": "code",
      "execution_count": null,
      "metadata": {
        "id": "J3eYHDKPEj1Z"
      },
      "outputs": [],
      "source": [
        "model.save('ModelP3D02.h5')"
      ]
    },
    {
      "cell_type": "code",
      "execution_count": null,
      "metadata": {
        "id": "XECL1lFMEg1p"
      },
      "outputs": [],
      "source": [
        "import pickle\n",
        "\n",
        "# saving\n",
        "with open('tokenizer_data.pickle', 'wb') as handle:\n",
        "    pickle.dump(tokenizer, handle, protocol=pickle.HIGHEST_PROTOCOL)"
      ]
    },
    {
      "cell_type": "code",
      "execution_count": null,
      "metadata": {
        "id": "iX0OTrcIL8kf"
      },
      "outputs": [],
      "source": []
    }
  ],
  "metadata": {
    "accelerator": "GPU",
    "colab": {
      "provenance": [],
      "collapsed_sections": []
    },
    "gpuClass": "standard",
    "kernelspec": {
      "display_name": "Python 3",
      "language": "python",
      "name": "python3"
    },
    "language_info": {
      "codemirror_mode": {
        "name": "ipython",
        "version": 3
      },
      "file_extension": ".py",
      "mimetype": "text/x-python",
      "name": "python",
      "nbconvert_exporter": "python",
      "pygments_lexer": "ipython3",
      "version": "3.8.8"
    }
  },
  "nbformat": 4,
  "nbformat_minor": 0
}